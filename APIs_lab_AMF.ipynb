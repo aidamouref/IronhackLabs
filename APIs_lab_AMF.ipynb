{
 "cells": [
  {
   "cell_type": "markdown",
   "metadata": {},
   "source": [
    "# LAB REST FULL APIs \n",
    "* Aida Moure Fernandez\n",
    "* Abril 2024"
   ]
  },
  {
   "cell_type": "code",
   "execution_count": 1,
   "metadata": {},
   "outputs": [],
   "source": [
    "import pandas as pd\n",
    "from pandas import json_normalize\n",
    "\n",
    "import requests \n",
    "import json\n",
    "import os #operating system\n",
    "from dotenv import load_dotenv #in case we need tokens or passwords"
   ]
  },
  {
   "cell_type": "markdown",
   "metadata": {},
   "source": [
    "### 1. Let's see how many dead human characters we have in Ricky & Morty. What's their name, where do they come from...and how important they are (proxy: in how many episodes they do appear)"
   ]
  },
  {
   "cell_type": "code",
   "execution_count": 2,
   "metadata": {},
   "outputs": [],
   "source": [
    "urls=['https://rickandmortyapi.com/api/character/?species=Human&status=Dead']\n",
    "url='https://rickandmortyapi.com/api/character/'\n",
    "params={\"species\":\"Human\", \"status\":\"Dead\"}"
   ]
  },
  {
   "cell_type": "code",
   "execution_count": 3,
   "metadata": {},
   "outputs": [
    {
     "data": {
      "text/plain": [
       "200"
      ]
     },
     "execution_count": 3,
     "metadata": {},
     "output_type": "execute_result"
    }
   ],
   "source": [
    "response=requests.get(url)\n",
    "response.status_code #ok"
   ]
  },
  {
   "cell_type": "code",
   "execution_count": 4,
   "metadata": {},
   "outputs": [],
   "source": [
    "\n",
    "while True:\n",
    "    try:\n",
    "        response=requests.get(url, params=params)\n",
    "        url=response.json()[\"info\"][\"next\"]\n",
    "        urls.append(url)\n",
    "\n",
    "    except:\n",
    "        break "
   ]
  },
  {
   "cell_type": "code",
   "execution_count": 5,
   "metadata": {},
   "outputs": [
    {
     "data": {
      "text/plain": [
       "['https://rickandmortyapi.com/api/character/?species=Human&status=Dead',\n",
       " 'https://rickandmortyapi.com/api/character/?page=2&species=Human&status=Dead',\n",
       " 'https://rickandmortyapi.com/api/character/?page=3&species=Human&status=Dead',\n",
       " 'https://rickandmortyapi.com/api/character/?page=4&species=Human&status=Dead',\n",
       " 'https://rickandmortyapi.com/api/character/?page=5&species=Human&status=Dead',\n",
       " 'https://rickandmortyapi.com/api/character/?page=6&species=Human&status=Dead',\n",
       " 'https://rickandmortyapi.com/api/character/?page=7&species=Human&status=Dead',\n",
       " None]"
      ]
     },
     "execution_count": 5,
     "metadata": {},
     "output_type": "execute_result"
    }
   ],
   "source": [
    "urls "
   ]
  },
  {
   "cell_type": "code",
   "execution_count": 6,
   "metadata": {},
   "outputs": [],
   "source": [
    "urls.pop() #let's remove the last element (None)"
   ]
  },
  {
   "cell_type": "code",
   "execution_count": 7,
   "metadata": {},
   "outputs": [
    {
     "data": {
      "text/plain": [
       "['https://rickandmortyapi.com/api/character/?species=Human&status=Dead',\n",
       " 'https://rickandmortyapi.com/api/character/?page=2&species=Human&status=Dead',\n",
       " 'https://rickandmortyapi.com/api/character/?page=3&species=Human&status=Dead',\n",
       " 'https://rickandmortyapi.com/api/character/?page=4&species=Human&status=Dead',\n",
       " 'https://rickandmortyapi.com/api/character/?page=5&species=Human&status=Dead',\n",
       " 'https://rickandmortyapi.com/api/character/?page=6&species=Human&status=Dead',\n",
       " 'https://rickandmortyapi.com/api/character/?page=7&species=Human&status=Dead']"
      ]
     },
     "execution_count": 7,
     "metadata": {},
     "output_type": "execute_result"
    }
   ],
   "source": [
    "urls"
   ]
  },
  {
   "cell_type": "code",
   "execution_count": 8,
   "metadata": {},
   "outputs": [],
   "source": [
    "nombre=[]\n",
    "procedencia=[]\n",
    "genero=[]\n",
    "capitulos=[]\n",
    "vivomuerto=[]\n",
    "especie=[]\n",
    "\n",
    "for j in urls:\n",
    "    response=requests.get(j)\n",
    "    muerto=response.json()[\"results\"]\n",
    "    for rip in muerto:\n",
    "        nombre.append((rip[\"name\"]))\n",
    "        procedencia.append(rip[\"origin\"][\"name\"])\n",
    "        genero.append(rip[\"gender\"])\n",
    "        capitulos.append(len(rip[\"episode\"]))\n",
    "        vivomuerto.append((rip[\"status\"]))\n",
    "        especie.append((rip[\"species\"]))\n"
   ]
  },
  {
   "cell_type": "code",
   "execution_count": 9,
   "metadata": {},
   "outputs": [
    {
     "name": "stdout",
     "output_type": "stream",
     "text": [
      "134\n",
      "134\n",
      "134\n",
      "134\n",
      "134\n",
      "134\n"
     ]
    }
   ],
   "source": [
    "print(len(nombre))\n",
    "print(len(procedencia))\n",
    "print(len(genero))\n",
    "print(len(capitulos))\n",
    "print(len(vivomuerto))\n",
    "print(len(especie))"
   ]
  },
  {
   "cell_type": "code",
   "execution_count": 10,
   "metadata": {},
   "outputs": [],
   "source": [
    "human_rip=pd.DataFrame({\"Nombre\":nombre,\n",
    "                            \"Genero\":genero,\n",
    "                            \"Status\": vivomuerto,\n",
    "                            \"Origen\": procedencia,\n",
    "                            \"Capítulos\":capitulos})"
   ]
  },
  {
   "cell_type": "code",
   "execution_count": 11,
   "metadata": {},
   "outputs": [
    {
     "data": {
      "text/html": [
       "<div>\n",
       "<style scoped>\n",
       "    .dataframe tbody tr th:only-of-type {\n",
       "        vertical-align: middle;\n",
       "    }\n",
       "\n",
       "    .dataframe tbody tr th {\n",
       "        vertical-align: top;\n",
       "    }\n",
       "\n",
       "    .dataframe thead th {\n",
       "        text-align: right;\n",
       "    }\n",
       "</style>\n",
       "<table border=\"1\" class=\"dataframe\">\n",
       "  <thead>\n",
       "    <tr style=\"text-align: right;\">\n",
       "      <th></th>\n",
       "      <th>Nombre</th>\n",
       "      <th>Genero</th>\n",
       "      <th>Status</th>\n",
       "      <th>Origen</th>\n",
       "      <th>Capítulos</th>\n",
       "    </tr>\n",
       "  </thead>\n",
       "  <tbody>\n",
       "    <tr>\n",
       "      <th>0</th>\n",
       "      <td>Adjudicator Rick</td>\n",
       "      <td>Male</td>\n",
       "      <td>Dead</td>\n",
       "      <td>unknown</td>\n",
       "      <td>1</td>\n",
       "    </tr>\n",
       "    <tr>\n",
       "      <th>1</th>\n",
       "      <td>Agency Director</td>\n",
       "      <td>Male</td>\n",
       "      <td>Dead</td>\n",
       "      <td>Earth (Replacement Dimension)</td>\n",
       "      <td>1</td>\n",
       "    </tr>\n",
       "    <tr>\n",
       "      <th>2</th>\n",
       "      <td>Alan Rails</td>\n",
       "      <td>Male</td>\n",
       "      <td>Dead</td>\n",
       "      <td>unknown</td>\n",
       "      <td>1</td>\n",
       "    </tr>\n",
       "    <tr>\n",
       "      <th>3</th>\n",
       "      <td>Albert Einstein</td>\n",
       "      <td>Male</td>\n",
       "      <td>Dead</td>\n",
       "      <td>Earth (C-137)</td>\n",
       "      <td>1</td>\n",
       "    </tr>\n",
       "    <tr>\n",
       "      <th>4</th>\n",
       "      <td>Alexander</td>\n",
       "      <td>Male</td>\n",
       "      <td>Dead</td>\n",
       "      <td>Earth (C-137)</td>\n",
       "      <td>1</td>\n",
       "    </tr>\n",
       "    <tr>\n",
       "      <th>...</th>\n",
       "      <td>...</td>\n",
       "      <td>...</td>\n",
       "      <td>...</td>\n",
       "      <td>...</td>\n",
       "      <td>...</td>\n",
       "    </tr>\n",
       "    <tr>\n",
       "      <th>129</th>\n",
       "      <td>Punk Rick</td>\n",
       "      <td>Male</td>\n",
       "      <td>Dead</td>\n",
       "      <td>unknown</td>\n",
       "      <td>1</td>\n",
       "    </tr>\n",
       "    <tr>\n",
       "      <th>130</th>\n",
       "      <td>Party Rick</td>\n",
       "      <td>Male</td>\n",
       "      <td>Dead</td>\n",
       "      <td>unknown</td>\n",
       "      <td>1</td>\n",
       "    </tr>\n",
       "    <tr>\n",
       "      <th>131</th>\n",
       "      <td>Scar Rick</td>\n",
       "      <td>Male</td>\n",
       "      <td>Dead</td>\n",
       "      <td>unknown</td>\n",
       "      <td>1</td>\n",
       "    </tr>\n",
       "    <tr>\n",
       "      <th>132</th>\n",
       "      <td>Redhead Rick</td>\n",
       "      <td>Male</td>\n",
       "      <td>Dead</td>\n",
       "      <td>unknown</td>\n",
       "      <td>1</td>\n",
       "    </tr>\n",
       "    <tr>\n",
       "      <th>133</th>\n",
       "      <td>Redhead Morty</td>\n",
       "      <td>Male</td>\n",
       "      <td>Dead</td>\n",
       "      <td>unknown</td>\n",
       "      <td>1</td>\n",
       "    </tr>\n",
       "  </tbody>\n",
       "</table>\n",
       "<p>134 rows × 5 columns</p>\n",
       "</div>"
      ],
      "text/plain": [
       "               Nombre Genero Status                         Origen  Capítulos\n",
       "0    Adjudicator Rick   Male   Dead                        unknown          1\n",
       "1     Agency Director   Male   Dead  Earth (Replacement Dimension)          1\n",
       "2          Alan Rails   Male   Dead                        unknown          1\n",
       "3     Albert Einstein   Male   Dead                  Earth (C-137)          1\n",
       "4           Alexander   Male   Dead                  Earth (C-137)          1\n",
       "..                ...    ...    ...                            ...        ...\n",
       "129         Punk Rick   Male   Dead                        unknown          1\n",
       "130        Party Rick   Male   Dead                        unknown          1\n",
       "131         Scar Rick   Male   Dead                        unknown          1\n",
       "132      Redhead Rick   Male   Dead                        unknown          1\n",
       "133     Redhead Morty   Male   Dead                        unknown          1\n",
       "\n",
       "[134 rows x 5 columns]"
      ]
     },
     "execution_count": 11,
     "metadata": {},
     "output_type": "execute_result"
    }
   ],
   "source": [
    "human_rip\n",
    "#we can see that these characters are not present in many chapters;maybe that's why they're dead??"
   ]
  },
  {
   "cell_type": "markdown",
   "metadata": {},
   "source": [
    "### 2. Let's see the name, the type of dimension and how many residents have those locations that are Planets"
   ]
  },
  {
   "cell_type": "code",
   "execution_count": 12,
   "metadata": {},
   "outputs": [],
   "source": [
    "urls=['https://rickandmortyapi.com/api/location/?type=Planet']\n",
    "url='https://rickandmortyapi.com/api/location/'\n",
    "params={\"type\":\"Planet\"}"
   ]
  },
  {
   "cell_type": "code",
   "execution_count": 13,
   "metadata": {},
   "outputs": [
    {
     "data": {
      "text/plain": [
       "200"
      ]
     },
     "execution_count": 13,
     "metadata": {},
     "output_type": "execute_result"
    }
   ],
   "source": [
    "response=requests.get(url)\n",
    "response.status_code #ok"
   ]
  },
  {
   "cell_type": "code",
   "execution_count": 14,
   "metadata": {},
   "outputs": [],
   "source": [
    "while True:\n",
    "    try:\n",
    "        response=requests.get(url, params)\n",
    "        url=response.json()[\"info\"][\"next\"]\n",
    "        urls.append(url)\n",
    "\n",
    "    except:\n",
    "        break #pass porque si no sería infinito infinito! si es una función no sería break, sería return"
   ]
  },
  {
   "cell_type": "code",
   "execution_count": 15,
   "metadata": {},
   "outputs": [
    {
     "data": {
      "text/plain": [
       "['https://rickandmortyapi.com/api/location/?type=Planet',\n",
       " 'https://rickandmortyapi.com/api/location/?page=2&type=Planet',\n",
       " 'https://rickandmortyapi.com/api/location/?page=3&type=Planet',\n",
       " 'https://rickandmortyapi.com/api/location/?page=4&type=Planet',\n",
       " None]"
      ]
     },
     "execution_count": 15,
     "metadata": {},
     "output_type": "execute_result"
    }
   ],
   "source": [
    "urls"
   ]
  },
  {
   "cell_type": "code",
   "execution_count": 16,
   "metadata": {},
   "outputs": [],
   "source": [
    "urls.pop()"
   ]
  },
  {
   "cell_type": "code",
   "execution_count": 17,
   "metadata": {},
   "outputs": [
    {
     "data": {
      "text/plain": [
       "['https://rickandmortyapi.com/api/location/?type=Planet',\n",
       " 'https://rickandmortyapi.com/api/location/?page=2&type=Planet',\n",
       " 'https://rickandmortyapi.com/api/location/?page=3&type=Planet',\n",
       " 'https://rickandmortyapi.com/api/location/?page=4&type=Planet']"
      ]
     },
     "execution_count": 17,
     "metadata": {},
     "output_type": "execute_result"
    }
   ],
   "source": [
    "urls"
   ]
  },
  {
   "cell_type": "code",
   "execution_count": 18,
   "metadata": {},
   "outputs": [],
   "source": [
    "nombre=[]\n",
    "tipo=[]\n",
    "dimension=[]\n",
    "habitantes=[]\n",
    "\n",
    "for j in urls:\n",
    "    response=requests.get(j)\n",
    "    lugares=response.json()[\"results\"]\n",
    "    for lugar in lugares:\n",
    "        nombre.append((lugar[\"name\"]))\n",
    "        tipo.append(lugar[\"type\"])\n",
    "        dimension.append(lugar[\"dimension\"])\n",
    "        habitantes.append(len(lugar[\"residents\"]))\n"
   ]
  },
  {
   "cell_type": "code",
   "execution_count": 19,
   "metadata": {},
   "outputs": [
    {
     "name": "stdout",
     "output_type": "stream",
     "text": [
      "63\n",
      "63\n",
      "63\n",
      "63\n"
     ]
    }
   ],
   "source": [
    "print(len(nombre))\n",
    "print(len(tipo))\n",
    "print(len(dimension))\n",
    "print(len(habitantes))"
   ]
  },
  {
   "cell_type": "code",
   "execution_count": 20,
   "metadata": {},
   "outputs": [],
   "source": [
    "type_planet=pd.DataFrame({\"Nombre\":nombre,\n",
    "                            \"Tipo_de_lugar\":tipo,\n",
    "                            \"Dimension\": dimension,\n",
    "                            \"Num_habitantes\": habitantes})"
   ]
  },
  {
   "cell_type": "code",
   "execution_count": 21,
   "metadata": {},
   "outputs": [
    {
     "data": {
      "text/html": [
       "<div>\n",
       "<style scoped>\n",
       "    .dataframe tbody tr th:only-of-type {\n",
       "        vertical-align: middle;\n",
       "    }\n",
       "\n",
       "    .dataframe tbody tr th {\n",
       "        vertical-align: top;\n",
       "    }\n",
       "\n",
       "    .dataframe thead th {\n",
       "        text-align: right;\n",
       "    }\n",
       "</style>\n",
       "<table border=\"1\" class=\"dataframe\">\n",
       "  <thead>\n",
       "    <tr style=\"text-align: right;\">\n",
       "      <th></th>\n",
       "      <th>Nombre</th>\n",
       "      <th>Tipo_de_lugar</th>\n",
       "      <th>Dimension</th>\n",
       "      <th>Num_habitantes</th>\n",
       "    </tr>\n",
       "  </thead>\n",
       "  <tbody>\n",
       "    <tr>\n",
       "      <th>0</th>\n",
       "      <td>Earth (C-137)</td>\n",
       "      <td>Planet</td>\n",
       "      <td>Dimension C-137</td>\n",
       "      <td>27</td>\n",
       "    </tr>\n",
       "    <tr>\n",
       "      <th>1</th>\n",
       "      <td>Worldender's lair</td>\n",
       "      <td>Planet</td>\n",
       "      <td>unknown</td>\n",
       "      <td>9</td>\n",
       "    </tr>\n",
       "    <tr>\n",
       "      <th>2</th>\n",
       "      <td>Post-Apocalyptic Earth</td>\n",
       "      <td>Planet</td>\n",
       "      <td>Post-Apocalyptic Dimension</td>\n",
       "      <td>10</td>\n",
       "    </tr>\n",
       "    <tr>\n",
       "      <th>3</th>\n",
       "      <td>Purge Planet</td>\n",
       "      <td>Planet</td>\n",
       "      <td>Replacement Dimension</td>\n",
       "      <td>4</td>\n",
       "    </tr>\n",
       "    <tr>\n",
       "      <th>4</th>\n",
       "      <td>Venzenulon 7</td>\n",
       "      <td>Planet</td>\n",
       "      <td>unknown</td>\n",
       "      <td>1</td>\n",
       "    </tr>\n",
       "    <tr>\n",
       "      <th>...</th>\n",
       "      <td>...</td>\n",
       "      <td>...</td>\n",
       "      <td>...</td>\n",
       "      <td>...</td>\n",
       "    </tr>\n",
       "    <tr>\n",
       "      <th>58</th>\n",
       "      <td>Morglutz</td>\n",
       "      <td>Planet</td>\n",
       "      <td>Replacement Dimension</td>\n",
       "      <td>1</td>\n",
       "    </tr>\n",
       "    <tr>\n",
       "      <th>59</th>\n",
       "      <td>Ferkus 9</td>\n",
       "      <td>Planet</td>\n",
       "      <td>Replacement Dimension</td>\n",
       "      <td>2</td>\n",
       "    </tr>\n",
       "    <tr>\n",
       "      <th>60</th>\n",
       "      <td>Avian Planet</td>\n",
       "      <td>Planet</td>\n",
       "      <td>Replacement Dimension</td>\n",
       "      <td>2</td>\n",
       "    </tr>\n",
       "    <tr>\n",
       "      <th>61</th>\n",
       "      <td>Slartivart</td>\n",
       "      <td>Planet</td>\n",
       "      <td>Replacement Dimension</td>\n",
       "      <td>1</td>\n",
       "    </tr>\n",
       "    <tr>\n",
       "      <th>62</th>\n",
       "      <td>Rick and Two Crows Planet</td>\n",
       "      <td>Planet</td>\n",
       "      <td>Replacement Dimension</td>\n",
       "      <td>3</td>\n",
       "    </tr>\n",
       "  </tbody>\n",
       "</table>\n",
       "<p>63 rows × 4 columns</p>\n",
       "</div>"
      ],
      "text/plain": [
       "                       Nombre Tipo_de_lugar                   Dimension  \\\n",
       "0               Earth (C-137)        Planet             Dimension C-137   \n",
       "1           Worldender's lair        Planet                     unknown   \n",
       "2      Post-Apocalyptic Earth        Planet  Post-Apocalyptic Dimension   \n",
       "3                Purge Planet        Planet       Replacement Dimension   \n",
       "4                Venzenulon 7        Planet                     unknown   \n",
       "..                        ...           ...                         ...   \n",
       "58                   Morglutz        Planet       Replacement Dimension   \n",
       "59                   Ferkus 9        Planet       Replacement Dimension   \n",
       "60               Avian Planet        Planet       Replacement Dimension   \n",
       "61                 Slartivart        Planet       Replacement Dimension   \n",
       "62  Rick and Two Crows Planet        Planet       Replacement Dimension   \n",
       "\n",
       "    Num_habitantes  \n",
       "0               27  \n",
       "1                9  \n",
       "2               10  \n",
       "3                4  \n",
       "4                1  \n",
       "..             ...  \n",
       "58               1  \n",
       "59               2  \n",
       "60               2  \n",
       "61               1  \n",
       "62               3  \n",
       "\n",
       "[63 rows x 4 columns]"
      ]
     },
     "execution_count": 21,
     "metadata": {},
     "output_type": "execute_result"
    }
   ],
   "source": [
    "type_planet"
   ]
  },
  {
   "cell_type": "markdown",
   "metadata": {},
   "source": [
    "### 3. Let's see the ID and date when the famous chapter 'Pickle Rick' was on air!"
   ]
  },
  {
   "cell_type": "code",
   "execution_count": 22,
   "metadata": {},
   "outputs": [],
   "source": [
    "urls=['https://rickandmortyapi.com/api/episode/?name=Pickle Rick']\n",
    "url='https://rickandmortyapi.com/api/episode/'\n",
    "params={\"name\":\"Pickle Rick\"}"
   ]
  },
  {
   "cell_type": "code",
   "execution_count": 23,
   "metadata": {},
   "outputs": [
    {
     "data": {
      "text/plain": [
       "200"
      ]
     },
     "execution_count": 23,
     "metadata": {},
     "output_type": "execute_result"
    }
   ],
   "source": [
    "response=requests.get(url)\n",
    "response.status_code #ok"
   ]
  },
  {
   "cell_type": "code",
   "execution_count": 24,
   "metadata": {},
   "outputs": [],
   "source": [
    "while True:\n",
    "    try:\n",
    "        response=requests.get(url, params)\n",
    "        url=response.json()[\"info\"][\"next\"]\n",
    "        urls.append(url)\n",
    "\n",
    "    except:\n",
    "        break #pass porque si no sería infinito infinito! si es una función no sería break, sería return"
   ]
  },
  {
   "cell_type": "code",
   "execution_count": 25,
   "metadata": {},
   "outputs": [
    {
     "data": {
      "text/plain": [
       "['https://rickandmortyapi.com/api/episode/?name=Pickle Rick', None]"
      ]
     },
     "execution_count": 25,
     "metadata": {},
     "output_type": "execute_result"
    }
   ],
   "source": [
    "urls"
   ]
  },
  {
   "cell_type": "code",
   "execution_count": 26,
   "metadata": {},
   "outputs": [],
   "source": [
    "urls.pop()"
   ]
  },
  {
   "cell_type": "code",
   "execution_count": 27,
   "metadata": {},
   "outputs": [],
   "source": [
    "nombre=[]\n",
    "id=[]\n",
    "air_date=[]\n",
    "\n",
    "\n",
    "for j in urls:\n",
    "    response=requests.get(j)\n",
    "    epis=response.json()[\"results\"]\n",
    "    for epi in epis:\n",
    "        nombre.append((epi[\"name\"]))\n",
    "        id.append(epi[\"id\"])\n",
    "        air_date.append(epi[\"air_date\"])\n",
    "\n",
    "\n"
   ]
  },
  {
   "cell_type": "code",
   "execution_count": 28,
   "metadata": {},
   "outputs": [
    {
     "name": "stdout",
     "output_type": "stream",
     "text": [
      "1\n",
      "1\n",
      "1\n"
     ]
    }
   ],
   "source": [
    "print(len(nombre))\n",
    "print(len(id))\n",
    "print(len(air_date))\n"
   ]
  },
  {
   "cell_type": "code",
   "execution_count": 29,
   "metadata": {},
   "outputs": [],
   "source": [
    "episod=pd.DataFrame({\"Nombre\":nombre,\n",
    "                     \"Date on Air\":air_date,\n",
    "                     \"ID\":id})"
   ]
  },
  {
   "cell_type": "code",
   "execution_count": 30,
   "metadata": {},
   "outputs": [
    {
     "data": {
      "text/html": [
       "<div>\n",
       "<style scoped>\n",
       "    .dataframe tbody tr th:only-of-type {\n",
       "        vertical-align: middle;\n",
       "    }\n",
       "\n",
       "    .dataframe tbody tr th {\n",
       "        vertical-align: top;\n",
       "    }\n",
       "\n",
       "    .dataframe thead th {\n",
       "        text-align: right;\n",
       "    }\n",
       "</style>\n",
       "<table border=\"1\" class=\"dataframe\">\n",
       "  <thead>\n",
       "    <tr style=\"text-align: right;\">\n",
       "      <th></th>\n",
       "      <th>Nombre</th>\n",
       "      <th>Date on Air</th>\n",
       "      <th>ID</th>\n",
       "    </tr>\n",
       "  </thead>\n",
       "  <tbody>\n",
       "    <tr>\n",
       "      <th>0</th>\n",
       "      <td>Pickle Rick</td>\n",
       "      <td>August 6, 2017</td>\n",
       "      <td>24</td>\n",
       "    </tr>\n",
       "  </tbody>\n",
       "</table>\n",
       "</div>"
      ],
      "text/plain": [
       "        Nombre     Date on Air  ID\n",
       "0  Pickle Rick  August 6, 2017  24"
      ]
     },
     "execution_count": 30,
     "metadata": {},
     "output_type": "execute_result"
    }
   ],
   "source": [
    "episod #it has ID 24, so it is chapter 24. It was on air on August 2017"
   ]
  },
  {
   "cell_type": "code",
   "execution_count": 31,
   "metadata": {},
   "outputs": [
    {
     "data": {
      "text/html": [
       "<div>\n",
       "<style scoped>\n",
       "    .dataframe tbody tr th:only-of-type {\n",
       "        vertical-align: middle;\n",
       "    }\n",
       "\n",
       "    .dataframe tbody tr th {\n",
       "        vertical-align: top;\n",
       "    }\n",
       "\n",
       "    .dataframe thead th {\n",
       "        text-align: right;\n",
       "    }\n",
       "</style>\n",
       "<table border=\"1\" class=\"dataframe\">\n",
       "  <thead>\n",
       "    <tr style=\"text-align: right;\">\n",
       "      <th></th>\n",
       "      <th>Nombre</th>\n",
       "      <th>Genero</th>\n",
       "      <th>Status</th>\n",
       "      <th>Origen</th>\n",
       "      <th>Capítulos</th>\n",
       "    </tr>\n",
       "  </thead>\n",
       "  <tbody>\n",
       "    <tr>\n",
       "      <th>0</th>\n",
       "      <td>Adjudicator Rick</td>\n",
       "      <td>Male</td>\n",
       "      <td>Dead</td>\n",
       "      <td>unknown</td>\n",
       "      <td>1</td>\n",
       "    </tr>\n",
       "    <tr>\n",
       "      <th>1</th>\n",
       "      <td>Agency Director</td>\n",
       "      <td>Male</td>\n",
       "      <td>Dead</td>\n",
       "      <td>Earth (Replacement Dimension)</td>\n",
       "      <td>1</td>\n",
       "    </tr>\n",
       "    <tr>\n",
       "      <th>2</th>\n",
       "      <td>Alan Rails</td>\n",
       "      <td>Male</td>\n",
       "      <td>Dead</td>\n",
       "      <td>unknown</td>\n",
       "      <td>1</td>\n",
       "    </tr>\n",
       "    <tr>\n",
       "      <th>3</th>\n",
       "      <td>Albert Einstein</td>\n",
       "      <td>Male</td>\n",
       "      <td>Dead</td>\n",
       "      <td>Earth (C-137)</td>\n",
       "      <td>1</td>\n",
       "    </tr>\n",
       "    <tr>\n",
       "      <th>4</th>\n",
       "      <td>Alexander</td>\n",
       "      <td>Male</td>\n",
       "      <td>Dead</td>\n",
       "      <td>Earth (C-137)</td>\n",
       "      <td>1</td>\n",
       "    </tr>\n",
       "    <tr>\n",
       "      <th>...</th>\n",
       "      <td>...</td>\n",
       "      <td>...</td>\n",
       "      <td>...</td>\n",
       "      <td>...</td>\n",
       "      <td>...</td>\n",
       "    </tr>\n",
       "    <tr>\n",
       "      <th>129</th>\n",
       "      <td>Punk Rick</td>\n",
       "      <td>Male</td>\n",
       "      <td>Dead</td>\n",
       "      <td>unknown</td>\n",
       "      <td>1</td>\n",
       "    </tr>\n",
       "    <tr>\n",
       "      <th>130</th>\n",
       "      <td>Party Rick</td>\n",
       "      <td>Male</td>\n",
       "      <td>Dead</td>\n",
       "      <td>unknown</td>\n",
       "      <td>1</td>\n",
       "    </tr>\n",
       "    <tr>\n",
       "      <th>131</th>\n",
       "      <td>Scar Rick</td>\n",
       "      <td>Male</td>\n",
       "      <td>Dead</td>\n",
       "      <td>unknown</td>\n",
       "      <td>1</td>\n",
       "    </tr>\n",
       "    <tr>\n",
       "      <th>132</th>\n",
       "      <td>Redhead Rick</td>\n",
       "      <td>Male</td>\n",
       "      <td>Dead</td>\n",
       "      <td>unknown</td>\n",
       "      <td>1</td>\n",
       "    </tr>\n",
       "    <tr>\n",
       "      <th>133</th>\n",
       "      <td>Redhead Morty</td>\n",
       "      <td>Male</td>\n",
       "      <td>Dead</td>\n",
       "      <td>unknown</td>\n",
       "      <td>1</td>\n",
       "    </tr>\n",
       "  </tbody>\n",
       "</table>\n",
       "<p>134 rows × 5 columns</p>\n",
       "</div>"
      ],
      "text/plain": [
       "               Nombre Genero Status                         Origen  Capítulos\n",
       "0    Adjudicator Rick   Male   Dead                        unknown          1\n",
       "1     Agency Director   Male   Dead  Earth (Replacement Dimension)          1\n",
       "2          Alan Rails   Male   Dead                        unknown          1\n",
       "3     Albert Einstein   Male   Dead                  Earth (C-137)          1\n",
       "4           Alexander   Male   Dead                  Earth (C-137)          1\n",
       "..                ...    ...    ...                            ...        ...\n",
       "129         Punk Rick   Male   Dead                        unknown          1\n",
       "130        Party Rick   Male   Dead                        unknown          1\n",
       "131         Scar Rick   Male   Dead                        unknown          1\n",
       "132      Redhead Rick   Male   Dead                        unknown          1\n",
       "133     Redhead Morty   Male   Dead                        unknown          1\n",
       "\n",
       "[134 rows x 5 columns]"
      ]
     },
     "execution_count": 31,
     "metadata": {},
     "output_type": "execute_result"
    }
   ],
   "source": [
    "human_rip"
   ]
  },
  {
   "cell_type": "code",
   "execution_count": 32,
   "metadata": {},
   "outputs": [
    {
     "data": {
      "text/html": [
       "<div>\n",
       "<style scoped>\n",
       "    .dataframe tbody tr th:only-of-type {\n",
       "        vertical-align: middle;\n",
       "    }\n",
       "\n",
       "    .dataframe tbody tr th {\n",
       "        vertical-align: top;\n",
       "    }\n",
       "\n",
       "    .dataframe thead th {\n",
       "        text-align: right;\n",
       "    }\n",
       "</style>\n",
       "<table border=\"1\" class=\"dataframe\">\n",
       "  <thead>\n",
       "    <tr style=\"text-align: right;\">\n",
       "      <th></th>\n",
       "      <th>Nombre</th>\n",
       "      <th>Tipo_de_lugar</th>\n",
       "      <th>Dimension</th>\n",
       "      <th>Num_habitantes</th>\n",
       "    </tr>\n",
       "  </thead>\n",
       "  <tbody>\n",
       "    <tr>\n",
       "      <th>0</th>\n",
       "      <td>Earth (C-137)</td>\n",
       "      <td>Planet</td>\n",
       "      <td>Dimension C-137</td>\n",
       "      <td>27</td>\n",
       "    </tr>\n",
       "    <tr>\n",
       "      <th>1</th>\n",
       "      <td>Worldender's lair</td>\n",
       "      <td>Planet</td>\n",
       "      <td>unknown</td>\n",
       "      <td>9</td>\n",
       "    </tr>\n",
       "    <tr>\n",
       "      <th>2</th>\n",
       "      <td>Post-Apocalyptic Earth</td>\n",
       "      <td>Planet</td>\n",
       "      <td>Post-Apocalyptic Dimension</td>\n",
       "      <td>10</td>\n",
       "    </tr>\n",
       "    <tr>\n",
       "      <th>3</th>\n",
       "      <td>Purge Planet</td>\n",
       "      <td>Planet</td>\n",
       "      <td>Replacement Dimension</td>\n",
       "      <td>4</td>\n",
       "    </tr>\n",
       "    <tr>\n",
       "      <th>4</th>\n",
       "      <td>Venzenulon 7</td>\n",
       "      <td>Planet</td>\n",
       "      <td>unknown</td>\n",
       "      <td>1</td>\n",
       "    </tr>\n",
       "    <tr>\n",
       "      <th>...</th>\n",
       "      <td>...</td>\n",
       "      <td>...</td>\n",
       "      <td>...</td>\n",
       "      <td>...</td>\n",
       "    </tr>\n",
       "    <tr>\n",
       "      <th>58</th>\n",
       "      <td>Morglutz</td>\n",
       "      <td>Planet</td>\n",
       "      <td>Replacement Dimension</td>\n",
       "      <td>1</td>\n",
       "    </tr>\n",
       "    <tr>\n",
       "      <th>59</th>\n",
       "      <td>Ferkus 9</td>\n",
       "      <td>Planet</td>\n",
       "      <td>Replacement Dimension</td>\n",
       "      <td>2</td>\n",
       "    </tr>\n",
       "    <tr>\n",
       "      <th>60</th>\n",
       "      <td>Avian Planet</td>\n",
       "      <td>Planet</td>\n",
       "      <td>Replacement Dimension</td>\n",
       "      <td>2</td>\n",
       "    </tr>\n",
       "    <tr>\n",
       "      <th>61</th>\n",
       "      <td>Slartivart</td>\n",
       "      <td>Planet</td>\n",
       "      <td>Replacement Dimension</td>\n",
       "      <td>1</td>\n",
       "    </tr>\n",
       "    <tr>\n",
       "      <th>62</th>\n",
       "      <td>Rick and Two Crows Planet</td>\n",
       "      <td>Planet</td>\n",
       "      <td>Replacement Dimension</td>\n",
       "      <td>3</td>\n",
       "    </tr>\n",
       "  </tbody>\n",
       "</table>\n",
       "<p>63 rows × 4 columns</p>\n",
       "</div>"
      ],
      "text/plain": [
       "                       Nombre Tipo_de_lugar                   Dimension  \\\n",
       "0               Earth (C-137)        Planet             Dimension C-137   \n",
       "1           Worldender's lair        Planet                     unknown   \n",
       "2      Post-Apocalyptic Earth        Planet  Post-Apocalyptic Dimension   \n",
       "3                Purge Planet        Planet       Replacement Dimension   \n",
       "4                Venzenulon 7        Planet                     unknown   \n",
       "..                        ...           ...                         ...   \n",
       "58                   Morglutz        Planet       Replacement Dimension   \n",
       "59                   Ferkus 9        Planet       Replacement Dimension   \n",
       "60               Avian Planet        Planet       Replacement Dimension   \n",
       "61                 Slartivart        Planet       Replacement Dimension   \n",
       "62  Rick and Two Crows Planet        Planet       Replacement Dimension   \n",
       "\n",
       "    Num_habitantes  \n",
       "0               27  \n",
       "1                9  \n",
       "2               10  \n",
       "3                4  \n",
       "4                1  \n",
       "..             ...  \n",
       "58               1  \n",
       "59               2  \n",
       "60               2  \n",
       "61               1  \n",
       "62               3  \n",
       "\n",
       "[63 rows x 4 columns]"
      ]
     },
     "execution_count": 32,
     "metadata": {},
     "output_type": "execute_result"
    }
   ],
   "source": [
    "type_planet"
   ]
  },
  {
   "cell_type": "code",
   "execution_count": 33,
   "metadata": {},
   "outputs": [
    {
     "data": {
      "text/html": [
       "<div>\n",
       "<style scoped>\n",
       "    .dataframe tbody tr th:only-of-type {\n",
       "        vertical-align: middle;\n",
       "    }\n",
       "\n",
       "    .dataframe tbody tr th {\n",
       "        vertical-align: top;\n",
       "    }\n",
       "\n",
       "    .dataframe thead th {\n",
       "        text-align: right;\n",
       "    }\n",
       "</style>\n",
       "<table border=\"1\" class=\"dataframe\">\n",
       "  <thead>\n",
       "    <tr style=\"text-align: right;\">\n",
       "      <th></th>\n",
       "      <th>Nombre</th>\n",
       "      <th>Date on Air</th>\n",
       "      <th>ID</th>\n",
       "    </tr>\n",
       "  </thead>\n",
       "  <tbody>\n",
       "    <tr>\n",
       "      <th>0</th>\n",
       "      <td>Pickle Rick</td>\n",
       "      <td>August 6, 2017</td>\n",
       "      <td>24</td>\n",
       "    </tr>\n",
       "  </tbody>\n",
       "</table>\n",
       "</div>"
      ],
      "text/plain": [
       "        Nombre     Date on Air  ID\n",
       "0  Pickle Rick  August 6, 2017  24"
      ]
     },
     "execution_count": 33,
     "metadata": {},
     "output_type": "execute_result"
    }
   ],
   "source": [
    "episod"
   ]
  },
  {
   "cell_type": "code",
   "execution_count": null,
   "metadata": {},
   "outputs": [],
   "source": []
  }
 ],
 "metadata": {
  "kernelspec": {
   "display_name": "ironhack",
   "language": "python",
   "name": "python3"
  },
  "language_info": {
   "codemirror_mode": {
    "name": "ipython",
    "version": 3
   },
   "file_extension": ".py",
   "mimetype": "text/x-python",
   "name": "python",
   "nbconvert_exporter": "python",
   "pygments_lexer": "ipython3",
   "version": "3.11.7"
  }
 },
 "nbformat": 4,
 "nbformat_minor": 2
}
