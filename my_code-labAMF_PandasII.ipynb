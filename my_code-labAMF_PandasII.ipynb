{
 "cells": [
  {
   "cell_type": "markdown",
   "metadata": {},
   "source": [
    "# Part 1 - Getting and Knowing your Data"
   ]
  },
  {
   "cell_type": "markdown",
   "metadata": {},
   "source": [
    "This time we are going to pull data directly from the internet.\n",
    "Special thanks to: https://github.com/justmarkham for sharing the dataset and materials.\n",
    "\n",
    "### Step 1. Import the necessary libraries"
   ]
  },
  {
   "cell_type": "code",
   "execution_count": 1,
   "metadata": {
    "collapsed": false,
    "jupyter": {
     "outputs_hidden": false
    }
   },
   "outputs": [],
   "source": [
    "import pandas as pd\n",
    "import numpy as np"
   ]
  },
  {
   "cell_type": "markdown",
   "metadata": {},
   "source": [
    "### Step 2. Import the dataset from this [address](https://raw.githubusercontent.com/justmarkham/DAT8/master/data/chipotle.tsv). "
   ]
  },
  {
   "cell_type": "markdown",
   "metadata": {},
   "source": [
    "### Step 3. Assign it to a variable called chipo."
   ]
  },
  {
   "cell_type": "code",
   "execution_count": 2,
   "metadata": {
    "collapsed": false,
    "jupyter": {
     "outputs_hidden": false
    }
   },
   "outputs": [
    {
     "data": {
      "text/html": [
       "<div>\n",
       "<style scoped>\n",
       "    .dataframe tbody tr th:only-of-type {\n",
       "        vertical-align: middle;\n",
       "    }\n",
       "\n",
       "    .dataframe tbody tr th {\n",
       "        vertical-align: top;\n",
       "    }\n",
       "\n",
       "    .dataframe thead th {\n",
       "        text-align: right;\n",
       "    }\n",
       "</style>\n",
       "<table border=\"1\" class=\"dataframe\">\n",
       "  <thead>\n",
       "    <tr style=\"text-align: right;\">\n",
       "      <th></th>\n",
       "      <th>order_id</th>\n",
       "      <th>quantity</th>\n",
       "      <th>item_name</th>\n",
       "      <th>choice_description</th>\n",
       "      <th>item_price</th>\n",
       "    </tr>\n",
       "  </thead>\n",
       "  <tbody>\n",
       "    <tr>\n",
       "      <th>0</th>\n",
       "      <td>1</td>\n",
       "      <td>1</td>\n",
       "      <td>Chips and Fresh Tomato Salsa</td>\n",
       "      <td>NaN</td>\n",
       "      <td>$2.39</td>\n",
       "    </tr>\n",
       "    <tr>\n",
       "      <th>1</th>\n",
       "      <td>1</td>\n",
       "      <td>1</td>\n",
       "      <td>Izze</td>\n",
       "      <td>[Clementine]</td>\n",
       "      <td>$3.39</td>\n",
       "    </tr>\n",
       "    <tr>\n",
       "      <th>2</th>\n",
       "      <td>1</td>\n",
       "      <td>1</td>\n",
       "      <td>Nantucket Nectar</td>\n",
       "      <td>[Apple]</td>\n",
       "      <td>$3.39</td>\n",
       "    </tr>\n",
       "    <tr>\n",
       "      <th>3</th>\n",
       "      <td>1</td>\n",
       "      <td>1</td>\n",
       "      <td>Chips and Tomatillo-Green Chili Salsa</td>\n",
       "      <td>NaN</td>\n",
       "      <td>$2.39</td>\n",
       "    </tr>\n",
       "    <tr>\n",
       "      <th>4</th>\n",
       "      <td>2</td>\n",
       "      <td>2</td>\n",
       "      <td>Chicken Bowl</td>\n",
       "      <td>[Tomatillo-Red Chili Salsa (Hot), [Black Beans...</td>\n",
       "      <td>$16.98</td>\n",
       "    </tr>\n",
       "    <tr>\n",
       "      <th>...</th>\n",
       "      <td>...</td>\n",
       "      <td>...</td>\n",
       "      <td>...</td>\n",
       "      <td>...</td>\n",
       "      <td>...</td>\n",
       "    </tr>\n",
       "    <tr>\n",
       "      <th>4617</th>\n",
       "      <td>1833</td>\n",
       "      <td>1</td>\n",
       "      <td>Steak Burrito</td>\n",
       "      <td>[Fresh Tomato Salsa, [Rice, Black Beans, Sour ...</td>\n",
       "      <td>$11.75</td>\n",
       "    </tr>\n",
       "    <tr>\n",
       "      <th>4618</th>\n",
       "      <td>1833</td>\n",
       "      <td>1</td>\n",
       "      <td>Steak Burrito</td>\n",
       "      <td>[Fresh Tomato Salsa, [Rice, Sour Cream, Cheese...</td>\n",
       "      <td>$11.75</td>\n",
       "    </tr>\n",
       "    <tr>\n",
       "      <th>4619</th>\n",
       "      <td>1834</td>\n",
       "      <td>1</td>\n",
       "      <td>Chicken Salad Bowl</td>\n",
       "      <td>[Fresh Tomato Salsa, [Fajita Vegetables, Pinto...</td>\n",
       "      <td>$11.25</td>\n",
       "    </tr>\n",
       "    <tr>\n",
       "      <th>4620</th>\n",
       "      <td>1834</td>\n",
       "      <td>1</td>\n",
       "      <td>Chicken Salad Bowl</td>\n",
       "      <td>[Fresh Tomato Salsa, [Fajita Vegetables, Lettu...</td>\n",
       "      <td>$8.75</td>\n",
       "    </tr>\n",
       "    <tr>\n",
       "      <th>4621</th>\n",
       "      <td>1834</td>\n",
       "      <td>1</td>\n",
       "      <td>Chicken Salad Bowl</td>\n",
       "      <td>[Fresh Tomato Salsa, [Fajita Vegetables, Pinto...</td>\n",
       "      <td>$8.75</td>\n",
       "    </tr>\n",
       "  </tbody>\n",
       "</table>\n",
       "<p>4622 rows × 5 columns</p>\n",
       "</div>"
      ],
      "text/plain": [
       "      order_id  quantity                              item_name  \\\n",
       "0            1         1           Chips and Fresh Tomato Salsa   \n",
       "1            1         1                                   Izze   \n",
       "2            1         1                       Nantucket Nectar   \n",
       "3            1         1  Chips and Tomatillo-Green Chili Salsa   \n",
       "4            2         2                           Chicken Bowl   \n",
       "...        ...       ...                                    ...   \n",
       "4617      1833         1                          Steak Burrito   \n",
       "4618      1833         1                          Steak Burrito   \n",
       "4619      1834         1                     Chicken Salad Bowl   \n",
       "4620      1834         1                     Chicken Salad Bowl   \n",
       "4621      1834         1                     Chicken Salad Bowl   \n",
       "\n",
       "                                     choice_description item_price  \n",
       "0                                                   NaN     $2.39   \n",
       "1                                          [Clementine]     $3.39   \n",
       "2                                               [Apple]     $3.39   \n",
       "3                                                   NaN     $2.39   \n",
       "4     [Tomatillo-Red Chili Salsa (Hot), [Black Beans...    $16.98   \n",
       "...                                                 ...        ...  \n",
       "4617  [Fresh Tomato Salsa, [Rice, Black Beans, Sour ...    $11.75   \n",
       "4618  [Fresh Tomato Salsa, [Rice, Sour Cream, Cheese...    $11.75   \n",
       "4619  [Fresh Tomato Salsa, [Fajita Vegetables, Pinto...    $11.25   \n",
       "4620  [Fresh Tomato Salsa, [Fajita Vegetables, Lettu...     $8.75   \n",
       "4621  [Fresh Tomato Salsa, [Fajita Vegetables, Pinto...     $8.75   \n",
       "\n",
       "[4622 rows x 5 columns]"
      ]
     },
     "metadata": {},
     "output_type": "display_data"
    }
   ],
   "source": [
    "url=\"https://raw.githubusercontent.com/justmarkham/DAT8/master/data/chipotle.tsv\"\n",
    "\n",
    "chipo= pd.read_table(url) #as it is a .tsv file we cannot use the read_csv table\n",
    "display(chipo)"
   ]
  },
  {
   "cell_type": "code",
   "execution_count": 3,
   "metadata": {
    "tags": []
   },
   "outputs": [
    {
     "data": {
      "text/html": [
       "<div>\n",
       "<style scoped>\n",
       "    .dataframe tbody tr th:only-of-type {\n",
       "        vertical-align: middle;\n",
       "    }\n",
       "\n",
       "    .dataframe tbody tr th {\n",
       "        vertical-align: top;\n",
       "    }\n",
       "\n",
       "    .dataframe thead th {\n",
       "        text-align: right;\n",
       "    }\n",
       "</style>\n",
       "<table border=\"1\" class=\"dataframe\">\n",
       "  <thead>\n",
       "    <tr style=\"text-align: right;\">\n",
       "      <th></th>\n",
       "      <th>order_id</th>\n",
       "      <th>quantity</th>\n",
       "      <th>item_name</th>\n",
       "      <th>choice_description</th>\n",
       "      <th>item_price</th>\n",
       "    </tr>\n",
       "  </thead>\n",
       "  <tbody>\n",
       "    <tr>\n",
       "      <th>0</th>\n",
       "      <td>1</td>\n",
       "      <td>1</td>\n",
       "      <td>Chips and Fresh Tomato Salsa</td>\n",
       "      <td>NaN</td>\n",
       "      <td>$2.39</td>\n",
       "    </tr>\n",
       "    <tr>\n",
       "      <th>1</th>\n",
       "      <td>1</td>\n",
       "      <td>1</td>\n",
       "      <td>Izze</td>\n",
       "      <td>[Clementine]</td>\n",
       "      <td>$3.39</td>\n",
       "    </tr>\n",
       "    <tr>\n",
       "      <th>2</th>\n",
       "      <td>1</td>\n",
       "      <td>1</td>\n",
       "      <td>Nantucket Nectar</td>\n",
       "      <td>[Apple]</td>\n",
       "      <td>$3.39</td>\n",
       "    </tr>\n",
       "    <tr>\n",
       "      <th>3</th>\n",
       "      <td>1</td>\n",
       "      <td>1</td>\n",
       "      <td>Chips and Tomatillo-Green Chili Salsa</td>\n",
       "      <td>NaN</td>\n",
       "      <td>$2.39</td>\n",
       "    </tr>\n",
       "    <tr>\n",
       "      <th>4</th>\n",
       "      <td>2</td>\n",
       "      <td>2</td>\n",
       "      <td>Chicken Bowl</td>\n",
       "      <td>[Tomatillo-Red Chili Salsa (Hot), [Black Beans...</td>\n",
       "      <td>$16.98</td>\n",
       "    </tr>\n",
       "    <tr>\n",
       "      <th>...</th>\n",
       "      <td>...</td>\n",
       "      <td>...</td>\n",
       "      <td>...</td>\n",
       "      <td>...</td>\n",
       "      <td>...</td>\n",
       "    </tr>\n",
       "    <tr>\n",
       "      <th>4617</th>\n",
       "      <td>1833</td>\n",
       "      <td>1</td>\n",
       "      <td>Steak Burrito</td>\n",
       "      <td>[Fresh Tomato Salsa, [Rice, Black Beans, Sour ...</td>\n",
       "      <td>$11.75</td>\n",
       "    </tr>\n",
       "    <tr>\n",
       "      <th>4618</th>\n",
       "      <td>1833</td>\n",
       "      <td>1</td>\n",
       "      <td>Steak Burrito</td>\n",
       "      <td>[Fresh Tomato Salsa, [Rice, Sour Cream, Cheese...</td>\n",
       "      <td>$11.75</td>\n",
       "    </tr>\n",
       "    <tr>\n",
       "      <th>4619</th>\n",
       "      <td>1834</td>\n",
       "      <td>1</td>\n",
       "      <td>Chicken Salad Bowl</td>\n",
       "      <td>[Fresh Tomato Salsa, [Fajita Vegetables, Pinto...</td>\n",
       "      <td>$11.25</td>\n",
       "    </tr>\n",
       "    <tr>\n",
       "      <th>4620</th>\n",
       "      <td>1834</td>\n",
       "      <td>1</td>\n",
       "      <td>Chicken Salad Bowl</td>\n",
       "      <td>[Fresh Tomato Salsa, [Fajita Vegetables, Lettu...</td>\n",
       "      <td>$8.75</td>\n",
       "    </tr>\n",
       "    <tr>\n",
       "      <th>4621</th>\n",
       "      <td>1834</td>\n",
       "      <td>1</td>\n",
       "      <td>Chicken Salad Bowl</td>\n",
       "      <td>[Fresh Tomato Salsa, [Fajita Vegetables, Pinto...</td>\n",
       "      <td>$8.75</td>\n",
       "    </tr>\n",
       "  </tbody>\n",
       "</table>\n",
       "<p>4622 rows × 5 columns</p>\n",
       "</div>"
      ],
      "text/plain": [
       "      order_id  quantity                              item_name  \\\n",
       "0            1         1           Chips and Fresh Tomato Salsa   \n",
       "1            1         1                                   Izze   \n",
       "2            1         1                       Nantucket Nectar   \n",
       "3            1         1  Chips and Tomatillo-Green Chili Salsa   \n",
       "4            2         2                           Chicken Bowl   \n",
       "...        ...       ...                                    ...   \n",
       "4617      1833         1                          Steak Burrito   \n",
       "4618      1833         1                          Steak Burrito   \n",
       "4619      1834         1                     Chicken Salad Bowl   \n",
       "4620      1834         1                     Chicken Salad Bowl   \n",
       "4621      1834         1                     Chicken Salad Bowl   \n",
       "\n",
       "                                     choice_description item_price  \n",
       "0                                                   NaN     $2.39   \n",
       "1                                          [Clementine]     $3.39   \n",
       "2                                               [Apple]     $3.39   \n",
       "3                                                   NaN     $2.39   \n",
       "4     [Tomatillo-Red Chili Salsa (Hot), [Black Beans...    $16.98   \n",
       "...                                                 ...        ...  \n",
       "4617  [Fresh Tomato Salsa, [Rice, Black Beans, Sour ...    $11.75   \n",
       "4618  [Fresh Tomato Salsa, [Rice, Sour Cream, Cheese...    $11.75   \n",
       "4619  [Fresh Tomato Salsa, [Fajita Vegetables, Pinto...    $11.25   \n",
       "4620  [Fresh Tomato Salsa, [Fajita Vegetables, Lettu...     $8.75   \n",
       "4621  [Fresh Tomato Salsa, [Fajita Vegetables, Pinto...     $8.75   \n",
       "\n",
       "[4622 rows x 5 columns]"
      ]
     },
     "execution_count": 3,
     "metadata": {},
     "output_type": "execute_result"
    }
   ],
   "source": [
    "#another option to read the file:\n",
    "chipo = pd.read_csv(url, sep = '\\t') #to get a csv\n",
    "chipo"
   ]
  },
  {
   "cell_type": "code",
   "execution_count": 4,
   "metadata": {
    "tags": []
   },
   "outputs": [],
   "source": [
    "chipo.to_csv(\"chipo.csv\", index=False)  #lo guardo en csv para poder visualizarlo mejor"
   ]
  },
  {
   "cell_type": "markdown",
   "metadata": {},
   "source": [
    "### Step 4. See the first 10 entries"
   ]
  },
  {
   "cell_type": "code",
   "execution_count": 5,
   "metadata": {
    "collapsed": false,
    "jupyter": {
     "outputs_hidden": false
    }
   },
   "outputs": [
    {
     "data": {
      "text/html": [
       "<div>\n",
       "<style scoped>\n",
       "    .dataframe tbody tr th:only-of-type {\n",
       "        vertical-align: middle;\n",
       "    }\n",
       "\n",
       "    .dataframe tbody tr th {\n",
       "        vertical-align: top;\n",
       "    }\n",
       "\n",
       "    .dataframe thead th {\n",
       "        text-align: right;\n",
       "    }\n",
       "</style>\n",
       "<table border=\"1\" class=\"dataframe\">\n",
       "  <thead>\n",
       "    <tr style=\"text-align: right;\">\n",
       "      <th></th>\n",
       "      <th>order_id</th>\n",
       "      <th>quantity</th>\n",
       "      <th>item_name</th>\n",
       "      <th>choice_description</th>\n",
       "      <th>item_price</th>\n",
       "    </tr>\n",
       "  </thead>\n",
       "  <tbody>\n",
       "    <tr>\n",
       "      <th>0</th>\n",
       "      <td>1</td>\n",
       "      <td>1</td>\n",
       "      <td>Chips and Fresh Tomato Salsa</td>\n",
       "      <td>NaN</td>\n",
       "      <td>$2.39</td>\n",
       "    </tr>\n",
       "    <tr>\n",
       "      <th>1</th>\n",
       "      <td>1</td>\n",
       "      <td>1</td>\n",
       "      <td>Izze</td>\n",
       "      <td>[Clementine]</td>\n",
       "      <td>$3.39</td>\n",
       "    </tr>\n",
       "    <tr>\n",
       "      <th>2</th>\n",
       "      <td>1</td>\n",
       "      <td>1</td>\n",
       "      <td>Nantucket Nectar</td>\n",
       "      <td>[Apple]</td>\n",
       "      <td>$3.39</td>\n",
       "    </tr>\n",
       "    <tr>\n",
       "      <th>3</th>\n",
       "      <td>1</td>\n",
       "      <td>1</td>\n",
       "      <td>Chips and Tomatillo-Green Chili Salsa</td>\n",
       "      <td>NaN</td>\n",
       "      <td>$2.39</td>\n",
       "    </tr>\n",
       "    <tr>\n",
       "      <th>4</th>\n",
       "      <td>2</td>\n",
       "      <td>2</td>\n",
       "      <td>Chicken Bowl</td>\n",
       "      <td>[Tomatillo-Red Chili Salsa (Hot), [Black Beans...</td>\n",
       "      <td>$16.98</td>\n",
       "    </tr>\n",
       "    <tr>\n",
       "      <th>5</th>\n",
       "      <td>3</td>\n",
       "      <td>1</td>\n",
       "      <td>Chicken Bowl</td>\n",
       "      <td>[Fresh Tomato Salsa (Mild), [Rice, Cheese, Sou...</td>\n",
       "      <td>$10.98</td>\n",
       "    </tr>\n",
       "    <tr>\n",
       "      <th>6</th>\n",
       "      <td>3</td>\n",
       "      <td>1</td>\n",
       "      <td>Side of Chips</td>\n",
       "      <td>NaN</td>\n",
       "      <td>$1.69</td>\n",
       "    </tr>\n",
       "    <tr>\n",
       "      <th>7</th>\n",
       "      <td>4</td>\n",
       "      <td>1</td>\n",
       "      <td>Steak Burrito</td>\n",
       "      <td>[Tomatillo Red Chili Salsa, [Fajita Vegetables...</td>\n",
       "      <td>$11.75</td>\n",
       "    </tr>\n",
       "    <tr>\n",
       "      <th>8</th>\n",
       "      <td>4</td>\n",
       "      <td>1</td>\n",
       "      <td>Steak Soft Tacos</td>\n",
       "      <td>[Tomatillo Green Chili Salsa, [Pinto Beans, Ch...</td>\n",
       "      <td>$9.25</td>\n",
       "    </tr>\n",
       "    <tr>\n",
       "      <th>9</th>\n",
       "      <td>5</td>\n",
       "      <td>1</td>\n",
       "      <td>Steak Burrito</td>\n",
       "      <td>[Fresh Tomato Salsa, [Rice, Black Beans, Pinto...</td>\n",
       "      <td>$9.25</td>\n",
       "    </tr>\n",
       "  </tbody>\n",
       "</table>\n",
       "</div>"
      ],
      "text/plain": [
       "   order_id  quantity                              item_name  \\\n",
       "0         1         1           Chips and Fresh Tomato Salsa   \n",
       "1         1         1                                   Izze   \n",
       "2         1         1                       Nantucket Nectar   \n",
       "3         1         1  Chips and Tomatillo-Green Chili Salsa   \n",
       "4         2         2                           Chicken Bowl   \n",
       "5         3         1                           Chicken Bowl   \n",
       "6         3         1                          Side of Chips   \n",
       "7         4         1                          Steak Burrito   \n",
       "8         4         1                       Steak Soft Tacos   \n",
       "9         5         1                          Steak Burrito   \n",
       "\n",
       "                                  choice_description item_price  \n",
       "0                                                NaN     $2.39   \n",
       "1                                       [Clementine]     $3.39   \n",
       "2                                            [Apple]     $3.39   \n",
       "3                                                NaN     $2.39   \n",
       "4  [Tomatillo-Red Chili Salsa (Hot), [Black Beans...    $16.98   \n",
       "5  [Fresh Tomato Salsa (Mild), [Rice, Cheese, Sou...    $10.98   \n",
       "6                                                NaN     $1.69   \n",
       "7  [Tomatillo Red Chili Salsa, [Fajita Vegetables...    $11.75   \n",
       "8  [Tomatillo Green Chili Salsa, [Pinto Beans, Ch...     $9.25   \n",
       "9  [Fresh Tomato Salsa, [Rice, Black Beans, Pinto...     $9.25   "
      ]
     },
     "execution_count": 5,
     "metadata": {},
     "output_type": "execute_result"
    }
   ],
   "source": [
    "chipo.head(10)"
   ]
  },
  {
   "cell_type": "markdown",
   "metadata": {},
   "source": [
    "### Step 5. What is the number of observations in the dataset?"
   ]
  },
  {
   "cell_type": "code",
   "execution_count": 6,
   "metadata": {
    "collapsed": false,
    "jupyter": {
     "outputs_hidden": false
    }
   },
   "outputs": [
    {
     "name": "stdout",
     "output_type": "stream",
     "text": [
      "<class 'pandas.core.frame.DataFrame'>\n",
      "RangeIndex: 4622 entries, 0 to 4621\n",
      "Data columns (total 5 columns):\n",
      " #   Column              Non-Null Count  Dtype \n",
      "---  ------              --------------  ----- \n",
      " 0   order_id            4622 non-null   int64 \n",
      " 1   quantity            4622 non-null   int64 \n",
      " 2   item_name           4622 non-null   object\n",
      " 3   choice_description  3376 non-null   object\n",
      " 4   item_price          4622 non-null   object\n",
      "dtypes: int64(2), object(3)\n",
      "memory usage: 180.7+ KB\n"
     ]
    }
   ],
   "source": [
    "# Solution 1\n",
    "\n",
    "chipo.info() #it says we have 4622 entries, so 4622 observations. Some of them, missing in the choice-description variable\n"
   ]
  },
  {
   "cell_type": "code",
   "execution_count": 7,
   "metadata": {
    "collapsed": false,
    "jupyter": {
     "outputs_hidden": false
    }
   },
   "outputs": [
    {
     "data": {
      "text/plain": [
       "4622"
      ]
     },
     "execution_count": 7,
     "metadata": {},
     "output_type": "execute_result"
    }
   ],
   "source": [
    "# Solution 2\n",
    "len(chipo)\n",
    "#length of chipo is 4,622 observations\n",
    "\n",
    "#another option:\n",
    "chipo.shape[0] #provides the number of rows. 1 provides the number of columns\n",
    "\n"
   ]
  },
  {
   "cell_type": "markdown",
   "metadata": {},
   "source": [
    "### Step 6. What is the number of columns in the dataset?"
   ]
  },
  {
   "cell_type": "code",
   "execution_count": 8,
   "metadata": {
    "collapsed": false,
    "jupyter": {
     "outputs_hidden": false
    }
   },
   "outputs": [
    {
     "name": "stdout",
     "output_type": "stream",
     "text": [
      "<class 'pandas.core.frame.DataFrame'>\n",
      "RangeIndex: 4622 entries, 0 to 4621\n",
      "Data columns (total 5 columns):\n",
      " #   Column              Non-Null Count  Dtype \n",
      "---  ------              --------------  ----- \n",
      " 0   order_id            4622 non-null   int64 \n",
      " 1   quantity            4622 non-null   int64 \n",
      " 2   item_name           4622 non-null   object\n",
      " 3   choice_description  3376 non-null   object\n",
      " 4   item_price          4622 non-null   object\n",
      "dtypes: int64(2), object(3)\n",
      "memory usage: 180.7+ KB\n"
     ]
    },
    {
     "data": {
      "text/plain": [
       "(4622, 5)"
      ]
     },
     "metadata": {},
     "output_type": "display_data"
    },
    {
     "data": {
      "text/plain": [
       "5"
      ]
     },
     "execution_count": 8,
     "metadata": {},
     "output_type": "execute_result"
    }
   ],
   "source": [
    "chipo.info() #it says we have 5 columns\n",
    "\n",
    "#another option:\n",
    "display(chipo.shape) #we have 4622 rows and 5 columns\n",
    "\n",
    "#another option (this for columns)\n",
    "chipo.shape[1]"
   ]
  },
  {
   "cell_type": "markdown",
   "metadata": {},
   "source": [
    "### Step 7. Print the name of all the columns."
   ]
  },
  {
   "cell_type": "code",
   "execution_count": 9,
   "metadata": {
    "collapsed": false,
    "jupyter": {
     "outputs_hidden": false
    }
   },
   "outputs": [
    {
     "data": {
      "text/plain": [
       "Index(['order_id', 'quantity', 'item_name', 'choice_description',\n",
       "       'item_price'],\n",
       "      dtype='object')"
      ]
     },
     "metadata": {},
     "output_type": "display_data"
    }
   ],
   "source": [
    "display(chipo.columns)"
   ]
  },
  {
   "cell_type": "markdown",
   "metadata": {},
   "source": [
    "### Step 8. How is the dataset indexed?"
   ]
  },
  {
   "cell_type": "code",
   "execution_count": 10,
   "metadata": {
    "collapsed": false,
    "jupyter": {
     "outputs_hidden": false
    }
   },
   "outputs": [
    {
     "name": "stdout",
     "output_type": "stream",
     "text": [
      "RangeIndex(start=0, stop=4622, step=1)\n"
     ]
    }
   ],
   "source": [
    "print(chipo.index)\n",
    "#the database starts with index 0 and ends at 4621 (stop in 4622). Index goes from 1 to 1 (no jumps --> step=1)"
   ]
  },
  {
   "cell_type": "markdown",
   "metadata": {},
   "source": [
    "### Step 9. Which was the most-ordered item? "
   ]
  },
  {
   "cell_type": "code",
   "execution_count": 11,
   "metadata": {
    "collapsed": false,
    "jupyter": {
     "outputs_hidden": false
    }
   },
   "outputs": [],
   "source": [
    "most_order=chipo[\"item_name\"].value_counts() #this shows the different items and how many times they are repeated in the column\n",
    "#as a result we can say the most-ordered item was Chicken Bowl (ordered 726 times)"
   ]
  },
  {
   "cell_type": "code",
   "execution_count": 12,
   "metadata": {
    "tags": []
   },
   "outputs": [
    {
     "name": "stdout",
     "output_type": "stream",
     "text": [
      "the most-ordered item is Chicken Bowl, ordered 761 times\n"
     ]
    }
   ],
   "source": [
    "print(f\"the most-ordered item is Chicken Bowl, ordered 761 times\")"
   ]
  },
  {
   "cell_type": "code",
   "execution_count": 13,
   "metadata": {
    "tags": []
   },
   "outputs": [
    {
     "data": {
      "text/html": [
       "<div>\n",
       "<style scoped>\n",
       "    .dataframe tbody tr th:only-of-type {\n",
       "        vertical-align: middle;\n",
       "    }\n",
       "\n",
       "    .dataframe tbody tr th {\n",
       "        vertical-align: top;\n",
       "    }\n",
       "\n",
       "    .dataframe thead th {\n",
       "        text-align: right;\n",
       "    }\n",
       "</style>\n",
       "<table border=\"1\" class=\"dataframe\">\n",
       "  <thead>\n",
       "    <tr style=\"text-align: right;\">\n",
       "      <th></th>\n",
       "      <th>order_id</th>\n",
       "      <th>quantity</th>\n",
       "      <th>choice_description</th>\n",
       "      <th>item_price</th>\n",
       "    </tr>\n",
       "    <tr>\n",
       "      <th>item_name</th>\n",
       "      <th></th>\n",
       "      <th></th>\n",
       "      <th></th>\n",
       "      <th></th>\n",
       "    </tr>\n",
       "  </thead>\n",
       "  <tbody>\n",
       "    <tr>\n",
       "      <th>Chicken Bowl</th>\n",
       "      <td>713926</td>\n",
       "      <td>761</td>\n",
       "      <td>[Tomatillo-Red Chili Salsa (Hot), [Black Beans...</td>\n",
       "      <td>$16.98 $10.98 $11.25 $8.75 $8.49 $11.25 $8.75 ...</td>\n",
       "    </tr>\n",
       "    <tr>\n",
       "      <th>Chicken Burrito</th>\n",
       "      <td>497303</td>\n",
       "      <td>591</td>\n",
       "      <td>[Tomatillo-Green Chili Salsa (Medium), [Pinto ...</td>\n",
       "      <td>$8.49 $8.49 $10.98 $8.49 $10.98 $10.98 $8.75 $...</td>\n",
       "    </tr>\n",
       "    <tr>\n",
       "      <th>Chips and Guacamole</th>\n",
       "      <td>449959</td>\n",
       "      <td>506</td>\n",
       "      <td>0</td>\n",
       "      <td>$4.45 $4.45 $4.45 $4.45 $4.45 $3.99 $4.45 $3.9...</td>\n",
       "    </tr>\n",
       "    <tr>\n",
       "      <th>Steak Burrito</th>\n",
       "      <td>328437</td>\n",
       "      <td>386</td>\n",
       "      <td>[Tomatillo Red Chili Salsa, [Fajita Vegetables...</td>\n",
       "      <td>$11.75 $9.25 $8.99 $11.75 $8.99 $8.99 $8.99 $8...</td>\n",
       "    </tr>\n",
       "    <tr>\n",
       "      <th>Canned Soft Drink</th>\n",
       "      <td>304753</td>\n",
       "      <td>351</td>\n",
       "      <td>[Coke][Sprite][Coke][Coke][Lemonade][Sprite][D...</td>\n",
       "      <td>$1.25 $1.25 $1.25 $1.25 $1.25 $1.25 $1.25 $1.2...</td>\n",
       "    </tr>\n",
       "    <tr>\n",
       "      <th>Chips</th>\n",
       "      <td>208004</td>\n",
       "      <td>230</td>\n",
       "      <td>0</td>\n",
       "      <td>$2.15 $2.15 $2.15 $2.15 $2.15 $2.15 $4.30 $2.1...</td>\n",
       "    </tr>\n",
       "    <tr>\n",
       "      <th>Steak Bowl</th>\n",
       "      <td>193752</td>\n",
       "      <td>221</td>\n",
       "      <td>[Fresh Tomato Salsa (Mild), [Black Beans, Rice...</td>\n",
       "      <td>$8.99 $8.99 $11.75 $11.75 $8.99 $11.48 $9.25 $...</td>\n",
       "    </tr>\n",
       "    <tr>\n",
       "      <th>Bottled Water</th>\n",
       "      <td>175944</td>\n",
       "      <td>211</td>\n",
       "      <td>0</td>\n",
       "      <td>$1.09 $1.09 $1.09 $1.50 $1.50 $1.50 $3.00 $1.5...</td>\n",
       "    </tr>\n",
       "    <tr>\n",
       "      <th>Chips and Fresh Tomato Salsa</th>\n",
       "      <td>100419</td>\n",
       "      <td>130</td>\n",
       "      <td>0</td>\n",
       "      <td>$2.39 $2.39 $2.39 $2.95 $2.95 $2.95 $2.95 $2.3...</td>\n",
       "    </tr>\n",
       "    <tr>\n",
       "      <th>Canned Soda</th>\n",
       "      <td>76396</td>\n",
       "      <td>126</td>\n",
       "      <td>[Sprite][Dr. Pepper][Mountain Dew][Sprite][Dr....</td>\n",
       "      <td>$2.18 $1.09 $2.18 $1.09 $1.09 $1.09 $1.09 $2.1...</td>\n",
       "    </tr>\n",
       "    <tr>\n",
       "      <th>Chicken Salad Bowl</th>\n",
       "      <td>117104</td>\n",
       "      <td>123</td>\n",
       "      <td>[Fresh Tomato Salsa, [Fajita Vegetables, Pinto...</td>\n",
       "      <td>$8.75 $22.50 $22.50 $8.75 $17.50 $8.75 $8.75 $...</td>\n",
       "    </tr>\n",
       "    <tr>\n",
       "      <th>Chicken Soft Tacos</th>\n",
       "      <td>98395</td>\n",
       "      <td>120</td>\n",
       "      <td>[Roasted Chili Corn Salsa, [Rice, Black Beans,...</td>\n",
       "      <td>$8.75 $8.75 $8.75 $8.75 $11.25 $8.49 $8.49 $8....</td>\n",
       "    </tr>\n",
       "    <tr>\n",
       "      <th>Side of Chips</th>\n",
       "      <td>84769</td>\n",
       "      <td>110</td>\n",
       "      <td>0</td>\n",
       "      <td>$1.69 $1.69 $1.69 $1.69 $1.69 $1.69 $1.69 $1.6...</td>\n",
       "    </tr>\n",
       "    <tr>\n",
       "      <th>Veggie Burrito</th>\n",
       "      <td>80962</td>\n",
       "      <td>97</td>\n",
       "      <td>[Tomatillo Red Chili Salsa, [Fajita Vegetables...</td>\n",
       "      <td>$11.25 $8.49 $11.25 $11.25 $10.98 $8.49 $8.49 ...</td>\n",
       "    </tr>\n",
       "    <tr>\n",
       "      <th>Barbacoa Burrito</th>\n",
       "      <td>74718</td>\n",
       "      <td>91</td>\n",
       "      <td>[[Fresh Tomato Salsa (Mild), Tomatillo-Green C...</td>\n",
       "      <td>$8.99 $9.25 $9.25 $11.75 $11.75 $9.25 $8.99 $1...</td>\n",
       "    </tr>\n",
       "    <tr>\n",
       "      <th>Veggie Bowl</th>\n",
       "      <td>72270</td>\n",
       "      <td>87</td>\n",
       "      <td>[Fresh Tomato Salsa, [Fajita Vegetables, Rice,...</td>\n",
       "      <td>$11.25 $8.49 $11.25 $11.25 $8.49 $11.25 $11.25...</td>\n",
       "    </tr>\n",
       "    <tr>\n",
       "      <th>Carnitas Bowl</th>\n",
       "      <td>62742</td>\n",
       "      <td>71</td>\n",
       "      <td>[Tomatillo-Red Chili Salsa (Hot), [Black Beans...</td>\n",
       "      <td>$8.99 $11.75 $9.25 $11.48 $8.99 $8.99 $23.50 $...</td>\n",
       "    </tr>\n",
       "    <tr>\n",
       "      <th>Barbacoa Bowl</th>\n",
       "      <td>53972</td>\n",
       "      <td>66</td>\n",
       "      <td>[Roasted Chili Corn Salsa, [Fajita Vegetables,...</td>\n",
       "      <td>$11.75 $11.75 $9.25 $8.99 $9.25 $11.75 $9.25 $...</td>\n",
       "    </tr>\n",
       "    <tr>\n",
       "      <th>Carnitas Burrito</th>\n",
       "      <td>51652</td>\n",
       "      <td>60</td>\n",
       "      <td>[[Tomatillo-Green Chili Salsa (Medium), Roaste...</td>\n",
       "      <td>$8.99 $9.25 $11.75 $9.25 $9.25 $9.25 $11.75 $9...</td>\n",
       "    </tr>\n",
       "    <tr>\n",
       "      <th>Steak Soft Tacos</th>\n",
       "      <td>50177</td>\n",
       "      <td>56</td>\n",
       "      <td>[Tomatillo Green Chili Salsa, [Pinto Beans, Ch...</td>\n",
       "      <td>$9.25 $9.25 $8.99 $9.25 $8.99 $8.99 $9.25 $9.2...</td>\n",
       "    </tr>\n",
       "    <tr>\n",
       "      <th>6 Pack Soft Drink</th>\n",
       "      <td>52322</td>\n",
       "      <td>55</td>\n",
       "      <td>[Sprite][Diet Coke][Coke][Diet Coke][Diet Coke...</td>\n",
       "      <td>$6.49 $6.49 $6.49 $6.49 $6.49 $6.49 $6.49 $6.4...</td>\n",
       "    </tr>\n",
       "    <tr>\n",
       "      <th>Chips and Tomatillo Red Chili Salsa</th>\n",
       "      <td>45556</td>\n",
       "      <td>50</td>\n",
       "      <td>0</td>\n",
       "      <td>$2.95 $2.95 $2.95 $2.95 $2.95 $2.95 $2.95 $2.9...</td>\n",
       "    </tr>\n",
       "    <tr>\n",
       "      <th>Chicken Crispy Tacos</th>\n",
       "      <td>47382</td>\n",
       "      <td>50</td>\n",
       "      <td>[Roasted Chili Corn Salsa, [Fajita Vegetables,...</td>\n",
       "      <td>$8.75 $17.50 $11.25 $8.49 $8.49 $11.25 $8.75 $...</td>\n",
       "    </tr>\n",
       "    <tr>\n",
       "      <th>Chips and Tomatillo Green Chili Salsa</th>\n",
       "      <td>41170</td>\n",
       "      <td>45</td>\n",
       "      <td>0</td>\n",
       "      <td>$2.95 $2.95 $5.90 $2.95 $2.95 $2.95 $2.95 $2.9...</td>\n",
       "    </tr>\n",
       "    <tr>\n",
       "      <th>Carnitas Soft Tacos</th>\n",
       "      <td>37673</td>\n",
       "      <td>40</td>\n",
       "      <td>[Tomatillo Green Chili Salsa, [Fajita Vegetabl...</td>\n",
       "      <td>$9.25 $9.25 $9.25 $9.25 $9.25 $8.99 $8.99 $8.9...</td>\n",
       "    </tr>\n",
       "    <tr>\n",
       "      <th>Steak Crispy Tacos</th>\n",
       "      <td>35818</td>\n",
       "      <td>36</td>\n",
       "      <td>[Fresh Tomato Salsa, Sour Cream][[Roasted Chil...</td>\n",
       "      <td>$9.25 $8.99 $9.25 $8.69 $8.99 $9.25 $8.99 $9.2...</td>\n",
       "    </tr>\n",
       "    <tr>\n",
       "      <th>Chips and Tomatillo-Green Chili Salsa</th>\n",
       "      <td>21826</td>\n",
       "      <td>33</td>\n",
       "      <td>0</td>\n",
       "      <td>$2.39 $2.39 $2.39 $2.39 $2.39 $2.39 $2.39 $2.3...</td>\n",
       "    </tr>\n",
       "    <tr>\n",
       "      <th>Steak Salad Bowl</th>\n",
       "      <td>29590</td>\n",
       "      <td>31</td>\n",
       "      <td>[Tomatillo Red Chili Salsa, [Black Beans, Chee...</td>\n",
       "      <td>$23.78 $11.89 $9.39 $23.78 $11.89 $11.89 $11.8...</td>\n",
       "    </tr>\n",
       "    <tr>\n",
       "      <th>Nantucket Nectar</th>\n",
       "      <td>21814</td>\n",
       "      <td>29</td>\n",
       "      <td>[Apple][Pomegranate Cherry][Pineapple Orange B...</td>\n",
       "      <td>$3.39 $3.39 $3.39 $3.39 $3.39 $3.39 $6.78 $3.3...</td>\n",
       "    </tr>\n",
       "    <tr>\n",
       "      <th>Chips and Tomatillo-Red Chili Salsa</th>\n",
       "      <td>18344</td>\n",
       "      <td>25</td>\n",
       "      <td>0</td>\n",
       "      <td>$2.39 $2.39 $2.39 $2.39 $2.39 $2.39 $2.39 $2.3...</td>\n",
       "    </tr>\n",
       "    <tr>\n",
       "      <th>Barbacoa Soft Tacos</th>\n",
       "      <td>18725</td>\n",
       "      <td>25</td>\n",
       "      <td>[Fresh Tomato Salsa, [Fajita Vegetables, Black...</td>\n",
       "      <td>$9.25 $9.25 $8.99 $9.25 $9.25 $11.75 $11.75 $9...</td>\n",
       "    </tr>\n",
       "    <tr>\n",
       "      <th>Chips and Roasted Chili Corn Salsa</th>\n",
       "      <td>14999</td>\n",
       "      <td>23</td>\n",
       "      <td>0</td>\n",
       "      <td>$2.95 $2.95 $2.95 $2.95 $2.95 $2.95 $2.95 $2.9...</td>\n",
       "    </tr>\n",
       "    <tr>\n",
       "      <th>Izze</th>\n",
       "      <td>10587</td>\n",
       "      <td>20</td>\n",
       "      <td>[Clementine][Grapefruit][Blackberry][Blackberr...</td>\n",
       "      <td>$3.39 $3.39 $3.39 $3.39 $3.39 $3.39 $3.39 $3.3...</td>\n",
       "    </tr>\n",
       "    <tr>\n",
       "      <th>Veggie Salad Bowl</th>\n",
       "      <td>17303</td>\n",
       "      <td>18</td>\n",
       "      <td>[Fresh Tomato Salsa, [Fajita Vegetables, Rice,...</td>\n",
       "      <td>$11.25 $11.25 $11.25 $11.25 $8.75 $8.75 $11.25...</td>\n",
       "    </tr>\n",
       "    <tr>\n",
       "      <th>Chips and Roasted Chili-Corn Salsa</th>\n",
       "      <td>17462</td>\n",
       "      <td>18</td>\n",
       "      <td>0</td>\n",
       "      <td>$2.39 $2.39 $2.39 $2.39 $2.39 $2.39 $2.39 $2.3...</td>\n",
       "    </tr>\n",
       "    <tr>\n",
       "      <th>Barbacoa Crispy Tacos</th>\n",
       "      <td>5613</td>\n",
       "      <td>12</td>\n",
       "      <td>[Tomatillo Red Chili Salsa, [Rice, Black Beans...</td>\n",
       "      <td>$11.75 $9.25 $11.48 $11.75 $9.25 $9.25 $8.99 $...</td>\n",
       "    </tr>\n",
       "    <tr>\n",
       "      <th>Barbacoa Salad Bowl</th>\n",
       "      <td>9708</td>\n",
       "      <td>10</td>\n",
       "      <td>[Fresh Tomato Salsa, [Rice, Fajita Vegetables,...</td>\n",
       "      <td>$11.89 $11.89 $9.39 $9.39 $9.39 $11.89 $11.89 ...</td>\n",
       "    </tr>\n",
       "    <tr>\n",
       "      <th>Chicken Salad</th>\n",
       "      <td>10465</td>\n",
       "      <td>9</td>\n",
       "      <td>[Roasted Chili Corn Salsa (Medium), [Black Bea...</td>\n",
       "      <td>$10.98 $10.98 $8.49 $8.49 $8.49 $8.49 $8.49 $8...</td>\n",
       "    </tr>\n",
       "    <tr>\n",
       "      <th>Carnitas Crispy Tacos</th>\n",
       "      <td>5868</td>\n",
       "      <td>8</td>\n",
       "      <td>[Roasted Chili Corn Salsa][Tomatillo Green Chi...</td>\n",
       "      <td>$9.25 $11.75 $8.99 $11.75 $8.99 $17.98 $9.25</td>\n",
       "    </tr>\n",
       "    <tr>\n",
       "      <th>Veggie Soft Tacos</th>\n",
       "      <td>5520</td>\n",
       "      <td>8</td>\n",
       "      <td>[Tomatillo Red Chili Salsa, [Fajita Vegetables...</td>\n",
       "      <td>$11.25 $8.75 $8.49 $11.25 $8.75 $8.49 $16.98</td>\n",
       "    </tr>\n",
       "    <tr>\n",
       "      <th>Burrito</th>\n",
       "      <td>1550</td>\n",
       "      <td>6</td>\n",
       "      <td>[Adobo-Marinated and Grilled Chicken, Pinto Be...</td>\n",
       "      <td>$7.40 $7.40 $7.40 $7.40 $7.40 $7.40</td>\n",
       "    </tr>\n",
       "    <tr>\n",
       "      <th>Veggie Salad</th>\n",
       "      <td>7265</td>\n",
       "      <td>6</td>\n",
       "      <td>[[Fresh Tomato Salsa (Mild), Roasted Chili Cor...</td>\n",
       "      <td>$8.49 $8.49 $8.49 $8.49 $8.49 $8.49</td>\n",
       "    </tr>\n",
       "    <tr>\n",
       "      <th>Carnitas Salad Bowl</th>\n",
       "      <td>6693</td>\n",
       "      <td>6</td>\n",
       "      <td>[Fresh Tomato Salsa, [Rice, Black Beans, Chees...</td>\n",
       "      <td>$11.89 $9.39 $11.89 $9.39 $11.89 $11.89</td>\n",
       "    </tr>\n",
       "    <tr>\n",
       "      <th>Bowl</th>\n",
       "      <td>472</td>\n",
       "      <td>4</td>\n",
       "      <td>[Braised Carnitas, Pinto Beans, [Sour Cream, C...</td>\n",
       "      <td>$22.20 $7.40</td>\n",
       "    </tr>\n",
       "    <tr>\n",
       "      <th>Steak Salad</th>\n",
       "      <td>2362</td>\n",
       "      <td>4</td>\n",
       "      <td>[Tomatillo-Red Chili Salsa (Hot), [Black Beans...</td>\n",
       "      <td>$8.99 $8.99 $8.99 $8.69</td>\n",
       "    </tr>\n",
       "    <tr>\n",
       "      <th>Salad</th>\n",
       "      <td>1150</td>\n",
       "      <td>2</td>\n",
       "      <td>[Brown Rice, Adobo-Marinated and Grilled Chick...</td>\n",
       "      <td>$7.40 $7.40</td>\n",
       "    </tr>\n",
       "    <tr>\n",
       "      <th>Crispy Tacos</th>\n",
       "      <td>434</td>\n",
       "      <td>2</td>\n",
       "      <td>[Adobo-Marinated and Grilled Steak][Adobo-Mari...</td>\n",
       "      <td>$7.40 $7.40</td>\n",
       "    </tr>\n",
       "    <tr>\n",
       "      <th>Chips and Mild Fresh Tomato Salsa</th>\n",
       "      <td>279</td>\n",
       "      <td>1</td>\n",
       "      <td>0</td>\n",
       "      <td>$3.00</td>\n",
       "    </tr>\n",
       "    <tr>\n",
       "      <th>Carnitas Salad</th>\n",
       "      <td>1500</td>\n",
       "      <td>1</td>\n",
       "      <td>[[Fresh Tomato Salsa (Mild), Roasted Chili Cor...</td>\n",
       "      <td>$8.99</td>\n",
       "    </tr>\n",
       "    <tr>\n",
       "      <th>Veggie Crispy Tacos</th>\n",
       "      <td>668</td>\n",
       "      <td>1</td>\n",
       "      <td>[Fresh Tomato Salsa (Mild), [Pinto Beans, Rice...</td>\n",
       "      <td>$8.49</td>\n",
       "    </tr>\n",
       "  </tbody>\n",
       "</table>\n",
       "</div>"
      ],
      "text/plain": [
       "                                       order_id  quantity  \\\n",
       "item_name                                                   \n",
       "Chicken Bowl                             713926       761   \n",
       "Chicken Burrito                          497303       591   \n",
       "Chips and Guacamole                      449959       506   \n",
       "Steak Burrito                            328437       386   \n",
       "Canned Soft Drink                        304753       351   \n",
       "Chips                                    208004       230   \n",
       "Steak Bowl                               193752       221   \n",
       "Bottled Water                            175944       211   \n",
       "Chips and Fresh Tomato Salsa             100419       130   \n",
       "Canned Soda                               76396       126   \n",
       "Chicken Salad Bowl                       117104       123   \n",
       "Chicken Soft Tacos                        98395       120   \n",
       "Side of Chips                             84769       110   \n",
       "Veggie Burrito                            80962        97   \n",
       "Barbacoa Burrito                          74718        91   \n",
       "Veggie Bowl                               72270        87   \n",
       "Carnitas Bowl                             62742        71   \n",
       "Barbacoa Bowl                             53972        66   \n",
       "Carnitas Burrito                          51652        60   \n",
       "Steak Soft Tacos                          50177        56   \n",
       "6 Pack Soft Drink                         52322        55   \n",
       "Chips and Tomatillo Red Chili Salsa       45556        50   \n",
       "Chicken Crispy Tacos                      47382        50   \n",
       "Chips and Tomatillo Green Chili Salsa     41170        45   \n",
       "Carnitas Soft Tacos                       37673        40   \n",
       "Steak Crispy Tacos                        35818        36   \n",
       "Chips and Tomatillo-Green Chili Salsa     21826        33   \n",
       "Steak Salad Bowl                          29590        31   \n",
       "Nantucket Nectar                          21814        29   \n",
       "Chips and Tomatillo-Red Chili Salsa       18344        25   \n",
       "Barbacoa Soft Tacos                       18725        25   \n",
       "Chips and Roasted Chili Corn Salsa        14999        23   \n",
       "Izze                                      10587        20   \n",
       "Veggie Salad Bowl                         17303        18   \n",
       "Chips and Roasted Chili-Corn Salsa        17462        18   \n",
       "Barbacoa Crispy Tacos                      5613        12   \n",
       "Barbacoa Salad Bowl                        9708        10   \n",
       "Chicken Salad                             10465         9   \n",
       "Carnitas Crispy Tacos                      5868         8   \n",
       "Veggie Soft Tacos                          5520         8   \n",
       "Burrito                                    1550         6   \n",
       "Veggie Salad                               7265         6   \n",
       "Carnitas Salad Bowl                        6693         6   \n",
       "Bowl                                        472         4   \n",
       "Steak Salad                                2362         4   \n",
       "Salad                                      1150         2   \n",
       "Crispy Tacos                                434         2   \n",
       "Chips and Mild Fresh Tomato Salsa           279         1   \n",
       "Carnitas Salad                             1500         1   \n",
       "Veggie Crispy Tacos                         668         1   \n",
       "\n",
       "                                                                      choice_description  \\\n",
       "item_name                                                                                  \n",
       "Chicken Bowl                           [Tomatillo-Red Chili Salsa (Hot), [Black Beans...   \n",
       "Chicken Burrito                        [Tomatillo-Green Chili Salsa (Medium), [Pinto ...   \n",
       "Chips and Guacamole                                                                    0   \n",
       "Steak Burrito                          [Tomatillo Red Chili Salsa, [Fajita Vegetables...   \n",
       "Canned Soft Drink                      [Coke][Sprite][Coke][Coke][Lemonade][Sprite][D...   \n",
       "Chips                                                                                  0   \n",
       "Steak Bowl                             [Fresh Tomato Salsa (Mild), [Black Beans, Rice...   \n",
       "Bottled Water                                                                          0   \n",
       "Chips and Fresh Tomato Salsa                                                           0   \n",
       "Canned Soda                            [Sprite][Dr. Pepper][Mountain Dew][Sprite][Dr....   \n",
       "Chicken Salad Bowl                     [Fresh Tomato Salsa, [Fajita Vegetables, Pinto...   \n",
       "Chicken Soft Tacos                     [Roasted Chili Corn Salsa, [Rice, Black Beans,...   \n",
       "Side of Chips                                                                          0   \n",
       "Veggie Burrito                         [Tomatillo Red Chili Salsa, [Fajita Vegetables...   \n",
       "Barbacoa Burrito                       [[Fresh Tomato Salsa (Mild), Tomatillo-Green C...   \n",
       "Veggie Bowl                            [Fresh Tomato Salsa, [Fajita Vegetables, Rice,...   \n",
       "Carnitas Bowl                          [Tomatillo-Red Chili Salsa (Hot), [Black Beans...   \n",
       "Barbacoa Bowl                          [Roasted Chili Corn Salsa, [Fajita Vegetables,...   \n",
       "Carnitas Burrito                       [[Tomatillo-Green Chili Salsa (Medium), Roaste...   \n",
       "Steak Soft Tacos                       [Tomatillo Green Chili Salsa, [Pinto Beans, Ch...   \n",
       "6 Pack Soft Drink                      [Sprite][Diet Coke][Coke][Diet Coke][Diet Coke...   \n",
       "Chips and Tomatillo Red Chili Salsa                                                    0   \n",
       "Chicken Crispy Tacos                   [Roasted Chili Corn Salsa, [Fajita Vegetables,...   \n",
       "Chips and Tomatillo Green Chili Salsa                                                  0   \n",
       "Carnitas Soft Tacos                    [Tomatillo Green Chili Salsa, [Fajita Vegetabl...   \n",
       "Steak Crispy Tacos                     [Fresh Tomato Salsa, Sour Cream][[Roasted Chil...   \n",
       "Chips and Tomatillo-Green Chili Salsa                                                  0   \n",
       "Steak Salad Bowl                       [Tomatillo Red Chili Salsa, [Black Beans, Chee...   \n",
       "Nantucket Nectar                       [Apple][Pomegranate Cherry][Pineapple Orange B...   \n",
       "Chips and Tomatillo-Red Chili Salsa                                                    0   \n",
       "Barbacoa Soft Tacos                    [Fresh Tomato Salsa, [Fajita Vegetables, Black...   \n",
       "Chips and Roasted Chili Corn Salsa                                                     0   \n",
       "Izze                                   [Clementine][Grapefruit][Blackberry][Blackberr...   \n",
       "Veggie Salad Bowl                      [Fresh Tomato Salsa, [Fajita Vegetables, Rice,...   \n",
       "Chips and Roasted Chili-Corn Salsa                                                     0   \n",
       "Barbacoa Crispy Tacos                  [Tomatillo Red Chili Salsa, [Rice, Black Beans...   \n",
       "Barbacoa Salad Bowl                    [Fresh Tomato Salsa, [Rice, Fajita Vegetables,...   \n",
       "Chicken Salad                          [Roasted Chili Corn Salsa (Medium), [Black Bea...   \n",
       "Carnitas Crispy Tacos                  [Roasted Chili Corn Salsa][Tomatillo Green Chi...   \n",
       "Veggie Soft Tacos                      [Tomatillo Red Chili Salsa, [Fajita Vegetables...   \n",
       "Burrito                                [Adobo-Marinated and Grilled Chicken, Pinto Be...   \n",
       "Veggie Salad                           [[Fresh Tomato Salsa (Mild), Roasted Chili Cor...   \n",
       "Carnitas Salad Bowl                    [Fresh Tomato Salsa, [Rice, Black Beans, Chees...   \n",
       "Bowl                                   [Braised Carnitas, Pinto Beans, [Sour Cream, C...   \n",
       "Steak Salad                            [Tomatillo-Red Chili Salsa (Hot), [Black Beans...   \n",
       "Salad                                  [Brown Rice, Adobo-Marinated and Grilled Chick...   \n",
       "Crispy Tacos                           [Adobo-Marinated and Grilled Steak][Adobo-Mari...   \n",
       "Chips and Mild Fresh Tomato Salsa                                                      0   \n",
       "Carnitas Salad                         [[Fresh Tomato Salsa (Mild), Roasted Chili Cor...   \n",
       "Veggie Crispy Tacos                    [Fresh Tomato Salsa (Mild), [Pinto Beans, Rice...   \n",
       "\n",
       "                                                                              item_price  \n",
       "item_name                                                                                 \n",
       "Chicken Bowl                           $16.98 $10.98 $11.25 $8.75 $8.49 $11.25 $8.75 ...  \n",
       "Chicken Burrito                        $8.49 $8.49 $10.98 $8.49 $10.98 $10.98 $8.75 $...  \n",
       "Chips and Guacamole                    $4.45 $4.45 $4.45 $4.45 $4.45 $3.99 $4.45 $3.9...  \n",
       "Steak Burrito                          $11.75 $9.25 $8.99 $11.75 $8.99 $8.99 $8.99 $8...  \n",
       "Canned Soft Drink                      $1.25 $1.25 $1.25 $1.25 $1.25 $1.25 $1.25 $1.2...  \n",
       "Chips                                  $2.15 $2.15 $2.15 $2.15 $2.15 $2.15 $4.30 $2.1...  \n",
       "Steak Bowl                             $8.99 $8.99 $11.75 $11.75 $8.99 $11.48 $9.25 $...  \n",
       "Bottled Water                          $1.09 $1.09 $1.09 $1.50 $1.50 $1.50 $3.00 $1.5...  \n",
       "Chips and Fresh Tomato Salsa           $2.39 $2.39 $2.39 $2.95 $2.95 $2.95 $2.95 $2.3...  \n",
       "Canned Soda                            $2.18 $1.09 $2.18 $1.09 $1.09 $1.09 $1.09 $2.1...  \n",
       "Chicken Salad Bowl                     $8.75 $22.50 $22.50 $8.75 $17.50 $8.75 $8.75 $...  \n",
       "Chicken Soft Tacos                     $8.75 $8.75 $8.75 $8.75 $11.25 $8.49 $8.49 $8....  \n",
       "Side of Chips                          $1.69 $1.69 $1.69 $1.69 $1.69 $1.69 $1.69 $1.6...  \n",
       "Veggie Burrito                         $11.25 $8.49 $11.25 $11.25 $10.98 $8.49 $8.49 ...  \n",
       "Barbacoa Burrito                       $8.99 $9.25 $9.25 $11.75 $11.75 $9.25 $8.99 $1...  \n",
       "Veggie Bowl                            $11.25 $8.49 $11.25 $11.25 $8.49 $11.25 $11.25...  \n",
       "Carnitas Bowl                          $8.99 $11.75 $9.25 $11.48 $8.99 $8.99 $23.50 $...  \n",
       "Barbacoa Bowl                          $11.75 $11.75 $9.25 $8.99 $9.25 $11.75 $9.25 $...  \n",
       "Carnitas Burrito                       $8.99 $9.25 $11.75 $9.25 $9.25 $9.25 $11.75 $9...  \n",
       "Steak Soft Tacos                       $9.25 $9.25 $8.99 $9.25 $8.99 $8.99 $9.25 $9.2...  \n",
       "6 Pack Soft Drink                      $6.49 $6.49 $6.49 $6.49 $6.49 $6.49 $6.49 $6.4...  \n",
       "Chips and Tomatillo Red Chili Salsa    $2.95 $2.95 $2.95 $2.95 $2.95 $2.95 $2.95 $2.9...  \n",
       "Chicken Crispy Tacos                   $8.75 $17.50 $11.25 $8.49 $8.49 $11.25 $8.75 $...  \n",
       "Chips and Tomatillo Green Chili Salsa  $2.95 $2.95 $5.90 $2.95 $2.95 $2.95 $2.95 $2.9...  \n",
       "Carnitas Soft Tacos                    $9.25 $9.25 $9.25 $9.25 $9.25 $8.99 $8.99 $8.9...  \n",
       "Steak Crispy Tacos                     $9.25 $8.99 $9.25 $8.69 $8.99 $9.25 $8.99 $9.2...  \n",
       "Chips and Tomatillo-Green Chili Salsa  $2.39 $2.39 $2.39 $2.39 $2.39 $2.39 $2.39 $2.3...  \n",
       "Steak Salad Bowl                       $23.78 $11.89 $9.39 $23.78 $11.89 $11.89 $11.8...  \n",
       "Nantucket Nectar                       $3.39 $3.39 $3.39 $3.39 $3.39 $3.39 $6.78 $3.3...  \n",
       "Chips and Tomatillo-Red Chili Salsa    $2.39 $2.39 $2.39 $2.39 $2.39 $2.39 $2.39 $2.3...  \n",
       "Barbacoa Soft Tacos                    $9.25 $9.25 $8.99 $9.25 $9.25 $11.75 $11.75 $9...  \n",
       "Chips and Roasted Chili Corn Salsa     $2.95 $2.95 $2.95 $2.95 $2.95 $2.95 $2.95 $2.9...  \n",
       "Izze                                   $3.39 $3.39 $3.39 $3.39 $3.39 $3.39 $3.39 $3.3...  \n",
       "Veggie Salad Bowl                      $11.25 $11.25 $11.25 $11.25 $8.75 $8.75 $11.25...  \n",
       "Chips and Roasted Chili-Corn Salsa     $2.39 $2.39 $2.39 $2.39 $2.39 $2.39 $2.39 $2.3...  \n",
       "Barbacoa Crispy Tacos                  $11.75 $9.25 $11.48 $11.75 $9.25 $9.25 $8.99 $...  \n",
       "Barbacoa Salad Bowl                    $11.89 $11.89 $9.39 $9.39 $9.39 $11.89 $11.89 ...  \n",
       "Chicken Salad                          $10.98 $10.98 $8.49 $8.49 $8.49 $8.49 $8.49 $8...  \n",
       "Carnitas Crispy Tacos                      $9.25 $11.75 $8.99 $11.75 $8.99 $17.98 $9.25   \n",
       "Veggie Soft Tacos                          $11.25 $8.75 $8.49 $11.25 $8.75 $8.49 $16.98   \n",
       "Burrito                                             $7.40 $7.40 $7.40 $7.40 $7.40 $7.40   \n",
       "Veggie Salad                                        $8.49 $8.49 $8.49 $8.49 $8.49 $8.49   \n",
       "Carnitas Salad Bowl                             $11.89 $9.39 $11.89 $9.39 $11.89 $11.89   \n",
       "Bowl                                                                       $22.20 $7.40   \n",
       "Steak Salad                                                     $8.99 $8.99 $8.99 $8.69   \n",
       "Salad                                                                       $7.40 $7.40   \n",
       "Crispy Tacos                                                                $7.40 $7.40   \n",
       "Chips and Mild Fresh Tomato Salsa                                                 $3.00   \n",
       "Carnitas Salad                                                                    $8.99   \n",
       "Veggie Crispy Tacos                                                               $8.49   "
      ]
     },
     "execution_count": 13,
     "metadata": {},
     "output_type": "execute_result"
    }
   ],
   "source": [
    "#another way of doing it:\n",
    "n_orders=chipo.groupby(['item_name']).sum()\n",
    "n_orders.sort_values(by=\"quantity\", ascending=False)\n",
    "\n",
    "#for the most ordered item (Chicken Bowl) there were 761 items ordered. This is more accurate because \n",
    "#if the number of items ordered by row is bigger than one, the count_values will only count 1.\n",
    "#This option sums the quantity column, so it is more accurate."
   ]
  },
  {
   "cell_type": "markdown",
   "metadata": {},
   "source": [
    "### Step 10. For the most-ordered item, how many items were ordered?"
   ]
  },
  {
   "cell_type": "code",
   "execution_count": null,
   "metadata": {
    "collapsed": false,
    "jupyter": {
     "outputs_hidden": false
    }
   },
   "outputs": [],
   "source": [
    "#answered above"
   ]
  },
  {
   "cell_type": "markdown",
   "metadata": {},
   "source": [
    "### Step 11. What was the most ordered item in the choice_description column?"
   ]
  },
  {
   "cell_type": "code",
   "execution_count": 14,
   "metadata": {
    "collapsed": false,
    "jupyter": {
     "outputs_hidden": false
    }
   },
   "outputs": [
    {
     "name": "stdout",
     "output_type": "stream",
     "text": [
      "<class 'pandas.core.frame.DataFrame'>\n",
      "RangeIndex: 4622 entries, 0 to 4621\n",
      "Data columns (total 5 columns):\n",
      " #   Column              Non-Null Count  Dtype \n",
      "---  ------              --------------  ----- \n",
      " 0   order_id            4622 non-null   int64 \n",
      " 1   quantity            4622 non-null   int64 \n",
      " 2   item_name           4622 non-null   object\n",
      " 3   choice_description  3376 non-null   object\n",
      " 4   item_price          4622 non-null   object\n",
      "dtypes: int64(2), object(3)\n",
      "memory usage: 180.7+ KB\n"
     ]
    }
   ],
   "source": [
    "chipo.info() #in the variable choice description we have missing values!"
   ]
  },
  {
   "cell_type": "code",
   "execution_count": 16,
   "metadata": {
    "tags": []
   },
   "outputs": [
    {
     "data": {
      "text/html": [
       "<div>\n",
       "<style scoped>\n",
       "    .dataframe tbody tr th:only-of-type {\n",
       "        vertical-align: middle;\n",
       "    }\n",
       "\n",
       "    .dataframe tbody tr th {\n",
       "        vertical-align: top;\n",
       "    }\n",
       "\n",
       "    .dataframe thead th {\n",
       "        text-align: right;\n",
       "    }\n",
       "</style>\n",
       "<table border=\"1\" class=\"dataframe\">\n",
       "  <thead>\n",
       "    <tr style=\"text-align: right;\">\n",
       "      <th></th>\n",
       "      <th>order_id</th>\n",
       "      <th>quantity</th>\n",
       "      <th>item_name</th>\n",
       "      <th>item_price</th>\n",
       "    </tr>\n",
       "    <tr>\n",
       "      <th>choice_description</th>\n",
       "      <th></th>\n",
       "      <th></th>\n",
       "      <th></th>\n",
       "      <th></th>\n",
       "    </tr>\n",
       "  </thead>\n",
       "  <tbody>\n",
       "    <tr>\n",
       "      <th>[Diet Coke]</th>\n",
       "      <td>123455</td>\n",
       "      <td>159</td>\n",
       "      <td>Canned SodaCanned SodaCanned Soda6 Pack Soft D...</td>\n",
       "      <td>$2.18 $1.09 $1.09 $6.49 $2.18 $1.25 $1.09 $6.4...</td>\n",
       "    </tr>\n",
       "    <tr>\n",
       "      <th>[Coke]</th>\n",
       "      <td>122752</td>\n",
       "      <td>143</td>\n",
       "      <td>Canned Soft DrinkCanned Soft DrinkCanned Soft ...</td>\n",
       "      <td>$1.25 $1.25 $1.25 $6.49 $1.25 $1.25 $1.25 $1.2...</td>\n",
       "    </tr>\n",
       "    <tr>\n",
       "      <th>[Sprite]</th>\n",
       "      <td>80426</td>\n",
       "      <td>89</td>\n",
       "      <td>Canned SodaCanned SodaCanned Soft Drink6 Pack ...</td>\n",
       "      <td>$2.18 $1.09 $1.25 $6.49 $1.25 $1.25 $1.09 $1.2...</td>\n",
       "    </tr>\n",
       "    <tr>\n",
       "      <th>[Fresh Tomato Salsa, [Rice, Black Beans, Cheese, Sour Cream, Lettuce]]</th>\n",
       "      <td>43088</td>\n",
       "      <td>49</td>\n",
       "      <td>Chicken BowlChicken BurritoChicken BowlChicken...</td>\n",
       "      <td>$8.75 $8.75 $8.75 $8.75 $9.25 $8.75 $8.75 $8.7...</td>\n",
       "    </tr>\n",
       "    <tr>\n",
       "      <th>[Fresh Tomato Salsa, [Rice, Black Beans, Cheese, Sour Cream]]</th>\n",
       "      <td>36041</td>\n",
       "      <td>42</td>\n",
       "      <td>Chicken BowlChicken BowlChicken BurritoCarnita...</td>\n",
       "      <td>$17.50 $8.75 $8.75 $9.25 $8.75 $9.25 $8.75 $8....</td>\n",
       "    </tr>\n",
       "    <tr>\n",
       "      <th>...</th>\n",
       "      <td>...</td>\n",
       "      <td>...</td>\n",
       "      <td>...</td>\n",
       "      <td>...</td>\n",
       "    </tr>\n",
       "    <tr>\n",
       "      <th>[Roasted Chili Corn Salsa, [Fajita Vegetables, Rice, Pinto Beans, Guacamole, Lettuce]]</th>\n",
       "      <td>577</td>\n",
       "      <td>1</td>\n",
       "      <td>Chicken Burrito</td>\n",
       "      <td>$11.25</td>\n",
       "    </tr>\n",
       "    <tr>\n",
       "      <th>[Roasted Chili Corn Salsa, [Fajita Vegetables, Rice, Sour Cream, Lettuce]]</th>\n",
       "      <td>585</td>\n",
       "      <td>1</td>\n",
       "      <td>Chicken Bowl</td>\n",
       "      <td>$8.75</td>\n",
       "    </tr>\n",
       "    <tr>\n",
       "      <th>[Roasted Chili Corn Salsa, [Fajita Vegetables, Sour Cream, Lettuce, Guacamole]]</th>\n",
       "      <td>235</td>\n",
       "      <td>1</td>\n",
       "      <td>Steak Burrito</td>\n",
       "      <td>$11.75</td>\n",
       "    </tr>\n",
       "    <tr>\n",
       "      <th>[Roasted Chili Corn Salsa, [Guacamole, Sour Cream, Rice, Fajita Vegetables, Lettuce]]</th>\n",
       "      <td>987</td>\n",
       "      <td>1</td>\n",
       "      <td>Chicken Burrito</td>\n",
       "      <td>$11.25</td>\n",
       "    </tr>\n",
       "    <tr>\n",
       "      <th>[[Tomatillo-Red Chili Salsa (Hot), Tomatillo-Green Chili Salsa (Medium)], [Rice, Pinto Beans, Fajita Veggies, Lettuce]]</th>\n",
       "      <td>1299</td>\n",
       "      <td>1</td>\n",
       "      <td>Barbacoa Bowl</td>\n",
       "      <td>$8.99</td>\n",
       "    </tr>\n",
       "  </tbody>\n",
       "</table>\n",
       "<p>1043 rows × 4 columns</p>\n",
       "</div>"
      ],
      "text/plain": [
       "                                                    order_id  quantity  \\\n",
       "choice_description                                                       \n",
       "[Diet Coke]                                           123455       159   \n",
       "[Coke]                                                122752       143   \n",
       "[Sprite]                                               80426        89   \n",
       "[Fresh Tomato Salsa, [Rice, Black Beans, Cheese...     43088        49   \n",
       "[Fresh Tomato Salsa, [Rice, Black Beans, Cheese...     36041        42   \n",
       "...                                                      ...       ...   \n",
       "[Roasted Chili Corn Salsa, [Fajita Vegetables, ...       577         1   \n",
       "[Roasted Chili Corn Salsa, [Fajita Vegetables, ...       585         1   \n",
       "[Roasted Chili Corn Salsa, [Fajita Vegetables, ...       235         1   \n",
       "[Roasted Chili Corn Salsa, [Guacamole, Sour Cre...       987         1   \n",
       "[[Tomatillo-Red Chili Salsa (Hot), Tomatillo-Gr...      1299         1   \n",
       "\n",
       "                                                                                            item_name  \\\n",
       "choice_description                                                                                      \n",
       "[Diet Coke]                                         Canned SodaCanned SodaCanned Soda6 Pack Soft D...   \n",
       "[Coke]                                              Canned Soft DrinkCanned Soft DrinkCanned Soft ...   \n",
       "[Sprite]                                            Canned SodaCanned SodaCanned Soft Drink6 Pack ...   \n",
       "[Fresh Tomato Salsa, [Rice, Black Beans, Cheese...  Chicken BowlChicken BurritoChicken BowlChicken...   \n",
       "[Fresh Tomato Salsa, [Rice, Black Beans, Cheese...  Chicken BowlChicken BowlChicken BurritoCarnita...   \n",
       "...                                                                                               ...   \n",
       "[Roasted Chili Corn Salsa, [Fajita Vegetables, ...                                    Chicken Burrito   \n",
       "[Roasted Chili Corn Salsa, [Fajita Vegetables, ...                                       Chicken Bowl   \n",
       "[Roasted Chili Corn Salsa, [Fajita Vegetables, ...                                      Steak Burrito   \n",
       "[Roasted Chili Corn Salsa, [Guacamole, Sour Cre...                                    Chicken Burrito   \n",
       "[[Tomatillo-Red Chili Salsa (Hot), Tomatillo-Gr...                                      Barbacoa Bowl   \n",
       "\n",
       "                                                                                           item_price  \n",
       "choice_description                                                                                     \n",
       "[Diet Coke]                                         $2.18 $1.09 $1.09 $6.49 $2.18 $1.25 $1.09 $6.4...  \n",
       "[Coke]                                              $1.25 $1.25 $1.25 $6.49 $1.25 $1.25 $1.25 $1.2...  \n",
       "[Sprite]                                            $2.18 $1.09 $1.25 $6.49 $1.25 $1.25 $1.09 $1.2...  \n",
       "[Fresh Tomato Salsa, [Rice, Black Beans, Cheese...  $8.75 $8.75 $8.75 $8.75 $9.25 $8.75 $8.75 $8.7...  \n",
       "[Fresh Tomato Salsa, [Rice, Black Beans, Cheese...  $17.50 $8.75 $8.75 $9.25 $8.75 $9.25 $8.75 $8....  \n",
       "...                                                                                               ...  \n",
       "[Roasted Chili Corn Salsa, [Fajita Vegetables, ...                                            $11.25   \n",
       "[Roasted Chili Corn Salsa, [Fajita Vegetables, ...                                             $8.75   \n",
       "[Roasted Chili Corn Salsa, [Fajita Vegetables, ...                                            $11.75   \n",
       "[Roasted Chili Corn Salsa, [Guacamole, Sour Cre...                                            $11.25   \n",
       "[[Tomatillo-Red Chili Salsa (Hot), Tomatillo-Gr...                                             $8.99   \n",
       "\n",
       "[1043 rows x 4 columns]"
      ]
     },
     "execution_count": 16,
     "metadata": {},
     "output_type": "execute_result"
    }
   ],
   "source": [
    "n_choicedesc= chipo.groupby([\"choice_description\"]).sum()\n",
    "n_choicedesc.sort_values(by=\"quantity\", ascending=False) \n",
    "print(f\"the most ordered choice description was Diet coke, 159\")  "
   ]
  },
  {
   "cell_type": "code",
   "execution_count": 17,
   "metadata": {
    "tags": []
   },
   "outputs": [
    {
     "data": {
      "text/plain": [
       "count            3376\n",
       "unique           1043\n",
       "top       [Diet Coke]\n",
       "freq              134\n",
       "Name: choice_description, dtype: object"
      ]
     },
     "execution_count": 17,
     "metadata": {},
     "output_type": "execute_result"
    }
   ],
   "source": [
    "#watch out! if we want to see how many orders have been done, this is ok with count_values\n",
    "#as it provides the number of times the item is repeated (i.e. the number of orders where it appears\n",
    "\n",
    "chipo[\"choice_description\"].value_counts() #Diet Coke is the item that appears is more orders: 134 orders\n",
    "chipo[\"choice_description\"].describe() #frequency of appearance is 134, this is a different way"
   ]
  },
  {
   "cell_type": "markdown",
   "metadata": {},
   "source": [
    "### Step 12. How many items were orderd in total?"
   ]
  },
  {
   "cell_type": "code",
   "execution_count": 18,
   "metadata": {
    "collapsed": false,
    "jupyter": {
     "outputs_hidden": false
    }
   },
   "outputs": [
    {
     "name": "stdout",
     "output_type": "stream",
     "text": [
      "159 cans of Diet Coke were ordered\n"
     ]
    }
   ],
   "source": [
    "x=n_choicedesc[\"quantity\"][\"[Diet Coke]\"]\n",
    "x\n",
    "print(f\"{x} cans of Diet Coke were ordered\")"
   ]
  },
  {
   "cell_type": "markdown",
   "metadata": {},
   "source": [
    "### Step 13. Turn the item price into a float"
   ]
  },
  {
   "cell_type": "markdown",
   "metadata": {},
   "source": [
    "#### Step 13.a. Check the item price type"
   ]
  },
  {
   "cell_type": "code",
   "execution_count": 19,
   "metadata": {
    "collapsed": false,
    "jupyter": {
     "outputs_hidden": false
    }
   },
   "outputs": [
    {
     "data": {
      "text/plain": [
       "order_id               int64\n",
       "quantity               int64\n",
       "item_name             object\n",
       "choice_description    object\n",
       "item_price            object\n",
       "dtype: object"
      ]
     },
     "execution_count": 19,
     "metadata": {},
     "output_type": "execute_result"
    }
   ],
   "source": [
    "chipo.dtypes #item_price is an object "
   ]
  },
  {
   "cell_type": "code",
   "execution_count": 20,
   "metadata": {
    "tags": []
   },
   "outputs": [
    {
     "data": {
      "text/plain": [
       "0        $2.39 \n",
       "1        $3.39 \n",
       "2        $3.39 \n",
       "3        $2.39 \n",
       "4       $16.98 \n",
       "         ...   \n",
       "4617    $11.75 \n",
       "4618    $11.75 \n",
       "4619    $11.25 \n",
       "4620     $8.75 \n",
       "4621     $8.75 \n",
       "Name: item_price, Length: 4622, dtype: object"
      ]
     },
     "execution_count": 20,
     "metadata": {},
     "output_type": "execute_result"
    }
   ],
   "source": [
    "chipo[\"item_price\"] #we can also check it by printing the column itself"
   ]
  },
  {
   "cell_type": "markdown",
   "metadata": {},
   "source": [
    "#### Step 13.b. Create a lambda function and change the type of item price"
   ]
  },
  {
   "cell_type": "code",
   "execution_count": 22,
   "metadata": {
    "tags": []
   },
   "outputs": [
    {
     "data": {
      "text/plain": [
       "dtype('float64')"
      ]
     },
     "execution_count": 22,
     "metadata": {},
     "output_type": "execute_result"
    }
   ],
   "source": [
    "chipo[\"itemprice_float\"]=chipo[\"item_price\"].apply(lambda i: i.replace('$','')).astype(float)\n"
   ]
  },
  {
   "cell_type": "markdown",
   "metadata": {},
   "source": [
    "#### Step 13.c. Check the item price type"
   ]
  },
  {
   "cell_type": "code",
   "execution_count": null,
   "metadata": {
    "collapsed": false,
    "jupyter": {
     "outputs_hidden": false
    }
   },
   "outputs": [],
   "source": [
    "chipo[\"itemprice_float\"] #now we have a float!!\n",
    "chipo.itemprice_float.dtype #now we have a float! (another way to check the type)"
   ]
  },
  {
   "cell_type": "markdown",
   "metadata": {},
   "source": [
    "### Step 14. How much was the revenue for the period in the dataset?"
   ]
  },
  {
   "cell_type": "code",
   "execution_count": 23,
   "metadata": {
    "collapsed": false,
    "jupyter": {
     "outputs_hidden": false
    }
   },
   "outputs": [
    {
     "data": {
      "text/html": [
       "<div>\n",
       "<style scoped>\n",
       "    .dataframe tbody tr th:only-of-type {\n",
       "        vertical-align: middle;\n",
       "    }\n",
       "\n",
       "    .dataframe tbody tr th {\n",
       "        vertical-align: top;\n",
       "    }\n",
       "\n",
       "    .dataframe thead th {\n",
       "        text-align: right;\n",
       "    }\n",
       "</style>\n",
       "<table border=\"1\" class=\"dataframe\">\n",
       "  <thead>\n",
       "    <tr style=\"text-align: right;\">\n",
       "      <th></th>\n",
       "      <th>order_id</th>\n",
       "      <th>quantity</th>\n",
       "      <th>item_name</th>\n",
       "      <th>choice_description</th>\n",
       "      <th>item_price</th>\n",
       "      <th>itemprice_float</th>\n",
       "    </tr>\n",
       "  </thead>\n",
       "  <tbody>\n",
       "    <tr>\n",
       "      <th>0</th>\n",
       "      <td>1</td>\n",
       "      <td>1</td>\n",
       "      <td>Chips and Fresh Tomato Salsa</td>\n",
       "      <td>NaN</td>\n",
       "      <td>$2.39</td>\n",
       "      <td>2.39</td>\n",
       "    </tr>\n",
       "    <tr>\n",
       "      <th>1</th>\n",
       "      <td>1</td>\n",
       "      <td>1</td>\n",
       "      <td>Izze</td>\n",
       "      <td>[Clementine]</td>\n",
       "      <td>$3.39</td>\n",
       "      <td>3.39</td>\n",
       "    </tr>\n",
       "    <tr>\n",
       "      <th>2</th>\n",
       "      <td>1</td>\n",
       "      <td>1</td>\n",
       "      <td>Nantucket Nectar</td>\n",
       "      <td>[Apple]</td>\n",
       "      <td>$3.39</td>\n",
       "      <td>3.39</td>\n",
       "    </tr>\n",
       "    <tr>\n",
       "      <th>3</th>\n",
       "      <td>1</td>\n",
       "      <td>1</td>\n",
       "      <td>Chips and Tomatillo-Green Chili Salsa</td>\n",
       "      <td>NaN</td>\n",
       "      <td>$2.39</td>\n",
       "      <td>2.39</td>\n",
       "    </tr>\n",
       "    <tr>\n",
       "      <th>4</th>\n",
       "      <td>2</td>\n",
       "      <td>2</td>\n",
       "      <td>Chicken Bowl</td>\n",
       "      <td>[Tomatillo-Red Chili Salsa (Hot), [Black Beans...</td>\n",
       "      <td>$16.98</td>\n",
       "      <td>16.98</td>\n",
       "    </tr>\n",
       "  </tbody>\n",
       "</table>\n",
       "</div>"
      ],
      "text/plain": [
       "   order_id  quantity                              item_name  \\\n",
       "0         1         1           Chips and Fresh Tomato Salsa   \n",
       "1         1         1                                   Izze   \n",
       "2         1         1                       Nantucket Nectar   \n",
       "3         1         1  Chips and Tomatillo-Green Chili Salsa   \n",
       "4         2         2                           Chicken Bowl   \n",
       "\n",
       "                                  choice_description item_price  \\\n",
       "0                                                NaN     $2.39    \n",
       "1                                       [Clementine]     $3.39    \n",
       "2                                            [Apple]     $3.39    \n",
       "3                                                NaN     $2.39    \n",
       "4  [Tomatillo-Red Chili Salsa (Hot), [Black Beans...    $16.98    \n",
       "\n",
       "   itemprice_float  \n",
       "0             2.39  \n",
       "1             3.39  \n",
       "2             3.39  \n",
       "3             2.39  \n",
       "4            16.98  "
      ]
     },
     "execution_count": 23,
     "metadata": {},
     "output_type": "execute_result"
    }
   ],
   "source": [
    "chipo.head() #let's refresh how the dataframe looks like"
   ]
  },
  {
   "cell_type": "code",
   "execution_count": 24,
   "metadata": {
    "collapsed": false,
    "jupyter": {
     "outputs_hidden": false
    }
   },
   "outputs": [
    {
     "data": {
      "text/html": [
       "<div>\n",
       "<style scoped>\n",
       "    .dataframe tbody tr th:only-of-type {\n",
       "        vertical-align: middle;\n",
       "    }\n",
       "\n",
       "    .dataframe tbody tr th {\n",
       "        vertical-align: top;\n",
       "    }\n",
       "\n",
       "    .dataframe thead th {\n",
       "        text-align: right;\n",
       "    }\n",
       "</style>\n",
       "<table border=\"1\" class=\"dataframe\">\n",
       "  <thead>\n",
       "    <tr style=\"text-align: right;\">\n",
       "      <th></th>\n",
       "      <th>order_id</th>\n",
       "      <th>quantity</th>\n",
       "      <th>item_name</th>\n",
       "      <th>choice_description</th>\n",
       "      <th>item_price</th>\n",
       "      <th>itemprice_float</th>\n",
       "      <th>revenue</th>\n",
       "    </tr>\n",
       "  </thead>\n",
       "  <tbody>\n",
       "    <tr>\n",
       "      <th>0</th>\n",
       "      <td>1</td>\n",
       "      <td>1</td>\n",
       "      <td>Chips and Fresh Tomato Salsa</td>\n",
       "      <td>NaN</td>\n",
       "      <td>$2.39</td>\n",
       "      <td>2.39</td>\n",
       "      <td>2.39</td>\n",
       "    </tr>\n",
       "    <tr>\n",
       "      <th>1</th>\n",
       "      <td>1</td>\n",
       "      <td>1</td>\n",
       "      <td>Izze</td>\n",
       "      <td>[Clementine]</td>\n",
       "      <td>$3.39</td>\n",
       "      <td>3.39</td>\n",
       "      <td>3.39</td>\n",
       "    </tr>\n",
       "    <tr>\n",
       "      <th>2</th>\n",
       "      <td>1</td>\n",
       "      <td>1</td>\n",
       "      <td>Nantucket Nectar</td>\n",
       "      <td>[Apple]</td>\n",
       "      <td>$3.39</td>\n",
       "      <td>3.39</td>\n",
       "      <td>3.39</td>\n",
       "    </tr>\n",
       "    <tr>\n",
       "      <th>3</th>\n",
       "      <td>1</td>\n",
       "      <td>1</td>\n",
       "      <td>Chips and Tomatillo-Green Chili Salsa</td>\n",
       "      <td>NaN</td>\n",
       "      <td>$2.39</td>\n",
       "      <td>2.39</td>\n",
       "      <td>2.39</td>\n",
       "    </tr>\n",
       "    <tr>\n",
       "      <th>4</th>\n",
       "      <td>2</td>\n",
       "      <td>2</td>\n",
       "      <td>Chicken Bowl</td>\n",
       "      <td>[Tomatillo-Red Chili Salsa (Hot), [Black Beans...</td>\n",
       "      <td>$16.98</td>\n",
       "      <td>16.98</td>\n",
       "      <td>33.96</td>\n",
       "    </tr>\n",
       "    <tr>\n",
       "      <th>...</th>\n",
       "      <td>...</td>\n",
       "      <td>...</td>\n",
       "      <td>...</td>\n",
       "      <td>...</td>\n",
       "      <td>...</td>\n",
       "      <td>...</td>\n",
       "      <td>...</td>\n",
       "    </tr>\n",
       "    <tr>\n",
       "      <th>4617</th>\n",
       "      <td>1833</td>\n",
       "      <td>1</td>\n",
       "      <td>Steak Burrito</td>\n",
       "      <td>[Fresh Tomato Salsa, [Rice, Black Beans, Sour ...</td>\n",
       "      <td>$11.75</td>\n",
       "      <td>11.75</td>\n",
       "      <td>11.75</td>\n",
       "    </tr>\n",
       "    <tr>\n",
       "      <th>4618</th>\n",
       "      <td>1833</td>\n",
       "      <td>1</td>\n",
       "      <td>Steak Burrito</td>\n",
       "      <td>[Fresh Tomato Salsa, [Rice, Sour Cream, Cheese...</td>\n",
       "      <td>$11.75</td>\n",
       "      <td>11.75</td>\n",
       "      <td>11.75</td>\n",
       "    </tr>\n",
       "    <tr>\n",
       "      <th>4619</th>\n",
       "      <td>1834</td>\n",
       "      <td>1</td>\n",
       "      <td>Chicken Salad Bowl</td>\n",
       "      <td>[Fresh Tomato Salsa, [Fajita Vegetables, Pinto...</td>\n",
       "      <td>$11.25</td>\n",
       "      <td>11.25</td>\n",
       "      <td>11.25</td>\n",
       "    </tr>\n",
       "    <tr>\n",
       "      <th>4620</th>\n",
       "      <td>1834</td>\n",
       "      <td>1</td>\n",
       "      <td>Chicken Salad Bowl</td>\n",
       "      <td>[Fresh Tomato Salsa, [Fajita Vegetables, Lettu...</td>\n",
       "      <td>$8.75</td>\n",
       "      <td>8.75</td>\n",
       "      <td>8.75</td>\n",
       "    </tr>\n",
       "    <tr>\n",
       "      <th>4621</th>\n",
       "      <td>1834</td>\n",
       "      <td>1</td>\n",
       "      <td>Chicken Salad Bowl</td>\n",
       "      <td>[Fresh Tomato Salsa, [Fajita Vegetables, Pinto...</td>\n",
       "      <td>$8.75</td>\n",
       "      <td>8.75</td>\n",
       "      <td>8.75</td>\n",
       "    </tr>\n",
       "  </tbody>\n",
       "</table>\n",
       "<p>4622 rows × 7 columns</p>\n",
       "</div>"
      ],
      "text/plain": [
       "      order_id  quantity                              item_name  \\\n",
       "0            1         1           Chips and Fresh Tomato Salsa   \n",
       "1            1         1                                   Izze   \n",
       "2            1         1                       Nantucket Nectar   \n",
       "3            1         1  Chips and Tomatillo-Green Chili Salsa   \n",
       "4            2         2                           Chicken Bowl   \n",
       "...        ...       ...                                    ...   \n",
       "4617      1833         1                          Steak Burrito   \n",
       "4618      1833         1                          Steak Burrito   \n",
       "4619      1834         1                     Chicken Salad Bowl   \n",
       "4620      1834         1                     Chicken Salad Bowl   \n",
       "4621      1834         1                     Chicken Salad Bowl   \n",
       "\n",
       "                                     choice_description item_price  \\\n",
       "0                                                   NaN     $2.39    \n",
       "1                                          [Clementine]     $3.39    \n",
       "2                                               [Apple]     $3.39    \n",
       "3                                                   NaN     $2.39    \n",
       "4     [Tomatillo-Red Chili Salsa (Hot), [Black Beans...    $16.98    \n",
       "...                                                 ...        ...   \n",
       "4617  [Fresh Tomato Salsa, [Rice, Black Beans, Sour ...    $11.75    \n",
       "4618  [Fresh Tomato Salsa, [Rice, Sour Cream, Cheese...    $11.75    \n",
       "4619  [Fresh Tomato Salsa, [Fajita Vegetables, Pinto...    $11.25    \n",
       "4620  [Fresh Tomato Salsa, [Fajita Vegetables, Lettu...     $8.75    \n",
       "4621  [Fresh Tomato Salsa, [Fajita Vegetables, Pinto...     $8.75    \n",
       "\n",
       "      itemprice_float  revenue  \n",
       "0                2.39     2.39  \n",
       "1                3.39     3.39  \n",
       "2                3.39     3.39  \n",
       "3                2.39     2.39  \n",
       "4               16.98    33.96  \n",
       "...               ...      ...  \n",
       "4617            11.75    11.75  \n",
       "4618            11.75    11.75  \n",
       "4619            11.25    11.25  \n",
       "4620             8.75     8.75  \n",
       "4621             8.75     8.75  \n",
       "\n",
       "[4622 rows x 7 columns]"
      ]
     },
     "execution_count": 24,
     "metadata": {},
     "output_type": "execute_result"
    }
   ],
   "source": [
    "chipo2=chipo.copy() #we make a copy of the df before adding a new column, just in case\n",
    "chipo2[\"revenue\"] = chipo2[\"quantity\"] * chipo2[\"itemprice_float\"]\n",
    "chipo2"
   ]
  },
  {
   "cell_type": "code",
   "execution_count": 25,
   "metadata": {
    "tags": []
   },
   "outputs": [
    {
     "name": "stdout",
     "output_type": "stream",
     "text": [
      "the total revenue in the period resulted in $39237.02\n"
     ]
    }
   ],
   "source": [
    "chipo2.revenue.sum()\n",
    "\n",
    "print (f\"the total revenue in the period resulted in ${chipo2.revenue.sum()}\")"
   ]
  },
  {
   "cell_type": "markdown",
   "metadata": {},
   "source": [
    "### Step 15. How many orders were made in the period?"
   ]
  },
  {
   "cell_type": "code",
   "execution_count": 29,
   "metadata": {
    "tags": []
   },
   "outputs": [
    {
     "data": {
      "text/plain": [
       "1834"
      ]
     },
     "execution_count": 29,
     "metadata": {},
     "output_type": "execute_result"
    }
   ],
   "source": [
    "chipo2.order_id.value_counts().count()\n",
    "# there are 1,834 unique values -->unique orders"
   ]
  },
  {
   "cell_type": "code",
   "execution_count": 34,
   "metadata": {
    "tags": []
   },
   "outputs": [
    {
     "data": {
      "text/plain": [
       "1834"
      ]
     },
     "execution_count": 34,
     "metadata": {},
     "output_type": "execute_result"
    }
   ],
   "source": [
    "#another way to find the number of orders is grouping them and showing the number of rows resulting from this\n",
    "total_order_rev= chipo2.groupby([\"order_id\"]).sum() \n",
    "total_order_rev.shape[0]"
   ]
  },
  {
   "cell_type": "markdown",
   "metadata": {},
   "source": [
    "### Step 16. What is the average revenue amount per order?"
   ]
  },
  {
   "cell_type": "code",
   "execution_count": 31,
   "metadata": {
    "collapsed": false,
    "jupyter": {
     "outputs_hidden": false
    }
   },
   "outputs": [
    {
     "data": {
      "text/html": [
       "<div>\n",
       "<style scoped>\n",
       "    .dataframe tbody tr th:only-of-type {\n",
       "        vertical-align: middle;\n",
       "    }\n",
       "\n",
       "    .dataframe tbody tr th {\n",
       "        vertical-align: top;\n",
       "    }\n",
       "\n",
       "    .dataframe thead th {\n",
       "        text-align: right;\n",
       "    }\n",
       "</style>\n",
       "<table border=\"1\" class=\"dataframe\">\n",
       "  <thead>\n",
       "    <tr style=\"text-align: right;\">\n",
       "      <th></th>\n",
       "      <th>order_id</th>\n",
       "      <th>quantity</th>\n",
       "      <th>itemprice_float</th>\n",
       "      <th>revenue</th>\n",
       "    </tr>\n",
       "  </thead>\n",
       "  <tbody>\n",
       "    <tr>\n",
       "      <th>count</th>\n",
       "      <td>4622.000000</td>\n",
       "      <td>4622.000000</td>\n",
       "      <td>4622.000000</td>\n",
       "      <td>4622.000000</td>\n",
       "    </tr>\n",
       "    <tr>\n",
       "      <th>mean</th>\n",
       "      <td>927.254868</td>\n",
       "      <td>1.075725</td>\n",
       "      <td>7.464336</td>\n",
       "      <td>8.489186</td>\n",
       "    </tr>\n",
       "    <tr>\n",
       "      <th>std</th>\n",
       "      <td>528.890796</td>\n",
       "      <td>0.410186</td>\n",
       "      <td>4.245557</td>\n",
       "      <td>12.632060</td>\n",
       "    </tr>\n",
       "    <tr>\n",
       "      <th>min</th>\n",
       "      <td>1.000000</td>\n",
       "      <td>1.000000</td>\n",
       "      <td>1.090000</td>\n",
       "      <td>1.090000</td>\n",
       "    </tr>\n",
       "    <tr>\n",
       "      <th>25%</th>\n",
       "      <td>477.250000</td>\n",
       "      <td>1.000000</td>\n",
       "      <td>3.390000</td>\n",
       "      <td>3.990000</td>\n",
       "    </tr>\n",
       "    <tr>\n",
       "      <th>50%</th>\n",
       "      <td>926.000000</td>\n",
       "      <td>1.000000</td>\n",
       "      <td>8.750000</td>\n",
       "      <td>8.750000</td>\n",
       "    </tr>\n",
       "    <tr>\n",
       "      <th>75%</th>\n",
       "      <td>1393.000000</td>\n",
       "      <td>1.000000</td>\n",
       "      <td>9.250000</td>\n",
       "      <td>10.980000</td>\n",
       "    </tr>\n",
       "    <tr>\n",
       "      <th>max</th>\n",
       "      <td>1834.000000</td>\n",
       "      <td>15.000000</td>\n",
       "      <td>44.250000</td>\n",
       "      <td>663.750000</td>\n",
       "    </tr>\n",
       "  </tbody>\n",
       "</table>\n",
       "</div>"
      ],
      "text/plain": [
       "          order_id     quantity  itemprice_float      revenue\n",
       "count  4622.000000  4622.000000      4622.000000  4622.000000\n",
       "mean    927.254868     1.075725         7.464336     8.489186\n",
       "std     528.890796     0.410186         4.245557    12.632060\n",
       "min       1.000000     1.000000         1.090000     1.090000\n",
       "25%     477.250000     1.000000         3.390000     3.990000\n",
       "50%     926.000000     1.000000         8.750000     8.750000\n",
       "75%    1393.000000     1.000000         9.250000    10.980000\n",
       "max    1834.000000    15.000000        44.250000   663.750000"
      ]
     },
     "execution_count": 31,
     "metadata": {},
     "output_type": "execute_result"
    }
   ],
   "source": [
    "# Solution 1\n",
    "\n",
    "chipo2.describe() #let's see how the numeric variables look like. Here we can see the mean for each variable"
   ]
  },
  {
   "cell_type": "code",
   "execution_count": 32,
   "metadata": {
    "tags": []
   },
   "outputs": [
    {
     "name": "stdout",
     "output_type": "stream",
     "text": [
      "the mean revenue per order is $21.39\n"
     ]
    }
   ],
   "source": [
    "print(f\"the mean revenue per order is $21.39\")"
   ]
  },
  {
   "cell_type": "code",
   "execution_count": 35,
   "metadata": {
    "collapsed": false,
    "jupyter": {
     "outputs_hidden": false
    }
   },
   "outputs": [
    {
     "name": "stdout",
     "output_type": "stream",
     "text": [
      "the average revenue per order is $21.39\n"
     ]
    }
   ],
   "source": [
    "# Solution 2\n",
    "number_orders=len(total_order_rev)\n",
    "avrge_rev=total_order_rev.revenue.sum()/number_orders\n",
    "avrge_rev\n",
    "\n",
    "print(f\"the average revenue per order is ${avrge_rev:.2f}\")\n",
    "\n"
   ]
  },
  {
   "cell_type": "markdown",
   "metadata": {},
   "source": [
    "### Step 17. How many different items are sold?"
   ]
  },
  {
   "cell_type": "code",
   "execution_count": 36,
   "metadata": {
    "tags": []
   },
   "outputs": [
    {
     "data": {
      "text/plain": [
       "50"
      ]
     },
     "execution_count": 36,
     "metadata": {},
     "output_type": "execute_result"
    }
   ],
   "source": [
    "chipo2[\"item_name\"].value_counts() #this shows which are the different items we have in the df\n",
    "\n",
    "chipo2[\"item_name\"].value_counts().count() #this shows how many different items we have in the df"
   ]
  },
  {
   "cell_type": "markdown",
   "metadata": {},
   "source": [
    "# Part 2 - Filtering and Sorting Data"
   ]
  },
  {
   "cell_type": "markdown",
   "metadata": {},
   "source": [
    "This time we are going to pull data directly from the internet.\n",
    "Special thanks to: https://github.com/justmarkham for sharing the dataset and materials.\n",
    "\n",
    "### Step 1. Import the necessary libraries"
   ]
  },
  {
   "cell_type": "code",
   "execution_count": 37,
   "metadata": {
    "collapsed": false,
    "jupyter": {
     "outputs_hidden": false
    }
   },
   "outputs": [],
   "source": [
    "import pandas as pd\n",
    "import numpy as np"
   ]
  },
  {
   "cell_type": "markdown",
   "metadata": {},
   "source": [
    "### Step 2. Import the dataset from this [address](https://raw.githubusercontent.com/justmarkham/DAT8/master/data/chipotle.tsv). "
   ]
  },
  {
   "cell_type": "markdown",
   "metadata": {},
   "source": [
    "### Step 3. Assign it to a variable called chipo."
   ]
  },
  {
   "cell_type": "code",
   "execution_count": 38,
   "metadata": {
    "collapsed": false,
    "jupyter": {
     "outputs_hidden": false
    }
   },
   "outputs": [],
   "source": [
    "url2=\"https://raw.githubusercontent.com/justmarkham/DAT8/master/data/chipotle.tsv\"\n",
    "chipo = pd.read_csv(url2, sep = '\\t') #to get a csv"
   ]
  },
  {
   "cell_type": "code",
   "execution_count": 39,
   "metadata": {
    "tags": []
   },
   "outputs": [],
   "source": [
    "chipo.to_csv(\"chipo.csv\", index=False)  #lo guardo en csv para poder visualizarlo mejor"
   ]
  },
  {
   "cell_type": "code",
   "execution_count": 40,
   "metadata": {
    "tags": []
   },
   "outputs": [
    {
     "data": {
      "text/html": [
       "<div>\n",
       "<style scoped>\n",
       "    .dataframe tbody tr th:only-of-type {\n",
       "        vertical-align: middle;\n",
       "    }\n",
       "\n",
       "    .dataframe tbody tr th {\n",
       "        vertical-align: top;\n",
       "    }\n",
       "\n",
       "    .dataframe thead th {\n",
       "        text-align: right;\n",
       "    }\n",
       "</style>\n",
       "<table border=\"1\" class=\"dataframe\">\n",
       "  <thead>\n",
       "    <tr style=\"text-align: right;\">\n",
       "      <th></th>\n",
       "      <th>order_id</th>\n",
       "      <th>quantity</th>\n",
       "    </tr>\n",
       "  </thead>\n",
       "  <tbody>\n",
       "    <tr>\n",
       "      <th>count</th>\n",
       "      <td>4622.000000</td>\n",
       "      <td>4622.000000</td>\n",
       "    </tr>\n",
       "    <tr>\n",
       "      <th>mean</th>\n",
       "      <td>927.254868</td>\n",
       "      <td>1.075725</td>\n",
       "    </tr>\n",
       "    <tr>\n",
       "      <th>std</th>\n",
       "      <td>528.890796</td>\n",
       "      <td>0.410186</td>\n",
       "    </tr>\n",
       "    <tr>\n",
       "      <th>min</th>\n",
       "      <td>1.000000</td>\n",
       "      <td>1.000000</td>\n",
       "    </tr>\n",
       "    <tr>\n",
       "      <th>25%</th>\n",
       "      <td>477.250000</td>\n",
       "      <td>1.000000</td>\n",
       "    </tr>\n",
       "    <tr>\n",
       "      <th>50%</th>\n",
       "      <td>926.000000</td>\n",
       "      <td>1.000000</td>\n",
       "    </tr>\n",
       "    <tr>\n",
       "      <th>75%</th>\n",
       "      <td>1393.000000</td>\n",
       "      <td>1.000000</td>\n",
       "    </tr>\n",
       "    <tr>\n",
       "      <th>max</th>\n",
       "      <td>1834.000000</td>\n",
       "      <td>15.000000</td>\n",
       "    </tr>\n",
       "  </tbody>\n",
       "</table>\n",
       "</div>"
      ],
      "text/plain": [
       "          order_id     quantity\n",
       "count  4622.000000  4622.000000\n",
       "mean    927.254868     1.075725\n",
       "std     528.890796     0.410186\n",
       "min       1.000000     1.000000\n",
       "25%     477.250000     1.000000\n",
       "50%     926.000000     1.000000\n",
       "75%    1393.000000     1.000000\n",
       "max    1834.000000    15.000000"
      ]
     },
     "execution_count": 40,
     "metadata": {},
     "output_type": "execute_result"
    }
   ],
   "source": [
    "chipo.describe()"
   ]
  },
  {
   "cell_type": "code",
   "execution_count": 41,
   "metadata": {
    "tags": []
   },
   "outputs": [
    {
     "name": "stdout",
     "output_type": "stream",
     "text": [
      "<class 'pandas.core.frame.DataFrame'>\n",
      "RangeIndex: 4622 entries, 0 to 4621\n",
      "Data columns (total 5 columns):\n",
      " #   Column              Non-Null Count  Dtype \n",
      "---  ------              --------------  ----- \n",
      " 0   order_id            4622 non-null   int64 \n",
      " 1   quantity            4622 non-null   int64 \n",
      " 2   item_name           4622 non-null   object\n",
      " 3   choice_description  3376 non-null   object\n",
      " 4   item_price          4622 non-null   object\n",
      "dtypes: int64(2), object(3)\n",
      "memory usage: 180.7+ KB\n"
     ]
    }
   ],
   "source": [
    "chipo.info()"
   ]
  },
  {
   "cell_type": "markdown",
   "metadata": {},
   "source": [
    "### Step 4. How many products cost more than $10.00?"
   ]
  },
  {
   "cell_type": "code",
   "execution_count": 42,
   "metadata": {
    "collapsed": false,
    "jupyter": {
     "outputs_hidden": false
    }
   },
   "outputs": [
    {
     "data": {
      "text/html": [
       "<div>\n",
       "<style scoped>\n",
       "    .dataframe tbody tr th:only-of-type {\n",
       "        vertical-align: middle;\n",
       "    }\n",
       "\n",
       "    .dataframe tbody tr th {\n",
       "        vertical-align: top;\n",
       "    }\n",
       "\n",
       "    .dataframe thead th {\n",
       "        text-align: right;\n",
       "    }\n",
       "</style>\n",
       "<table border=\"1\" class=\"dataframe\">\n",
       "  <thead>\n",
       "    <tr style=\"text-align: right;\">\n",
       "      <th></th>\n",
       "      <th>order_id</th>\n",
       "      <th>quantity</th>\n",
       "      <th>choice_description</th>\n",
       "      <th>item_price</th>\n",
       "      <th>itemprice_float</th>\n",
       "    </tr>\n",
       "    <tr>\n",
       "      <th>item_name</th>\n",
       "      <th></th>\n",
       "      <th></th>\n",
       "      <th></th>\n",
       "      <th></th>\n",
       "      <th></th>\n",
       "    </tr>\n",
       "  </thead>\n",
       "  <tbody>\n",
       "    <tr>\n",
       "      <th>6 Pack Soft Drink</th>\n",
       "      <td>52322</td>\n",
       "      <td>55</td>\n",
       "      <td>[Sprite][Diet Coke][Coke][Diet Coke][Diet Coke...</td>\n",
       "      <td>$6.49 $6.49 $6.49 $6.49 $6.49 $6.49 $6.49 $6.4...</td>\n",
       "      <td>356.949982</td>\n",
       "    </tr>\n",
       "    <tr>\n",
       "      <th>Barbacoa Bowl</th>\n",
       "      <td>53972</td>\n",
       "      <td>66</td>\n",
       "      <td>[Roasted Chili Corn Salsa, [Fajita Vegetables,...</td>\n",
       "      <td>$11.75 $11.75 $9.25 $8.99 $9.25 $11.75 $9.25 $...</td>\n",
       "      <td>672.359985</td>\n",
       "    </tr>\n",
       "    <tr>\n",
       "      <th>Barbacoa Burrito</th>\n",
       "      <td>74718</td>\n",
       "      <td>91</td>\n",
       "      <td>[[Fresh Tomato Salsa (Mild), Tomatillo-Green C...</td>\n",
       "      <td>$8.99 $9.25 $9.25 $11.75 $11.75 $9.25 $8.99 $1...</td>\n",
       "      <td>894.750000</td>\n",
       "    </tr>\n",
       "    <tr>\n",
       "      <th>Barbacoa Crispy Tacos</th>\n",
       "      <td>5613</td>\n",
       "      <td>12</td>\n",
       "      <td>[Tomatillo Red Chili Salsa, [Rice, Black Beans...</td>\n",
       "      <td>$11.75 $9.25 $11.48 $11.75 $9.25 $9.25 $8.99 $...</td>\n",
       "      <td>120.209999</td>\n",
       "    </tr>\n",
       "    <tr>\n",
       "      <th>Barbacoa Salad Bowl</th>\n",
       "      <td>9708</td>\n",
       "      <td>10</td>\n",
       "      <td>[Fresh Tomato Salsa, [Rice, Fajita Vegetables,...</td>\n",
       "      <td>$11.89 $11.89 $9.39 $9.39 $9.39 $11.89 $11.89 ...</td>\n",
       "      <td>106.400002</td>\n",
       "    </tr>\n",
       "  </tbody>\n",
       "</table>\n",
       "</div>"
      ],
      "text/plain": [
       "                       order_id  quantity  \\\n",
       "item_name                                   \n",
       "6 Pack Soft Drink         52322        55   \n",
       "Barbacoa Bowl             53972        66   \n",
       "Barbacoa Burrito          74718        91   \n",
       "Barbacoa Crispy Tacos      5613        12   \n",
       "Barbacoa Salad Bowl        9708        10   \n",
       "\n",
       "                                                      choice_description  \\\n",
       "item_name                                                                  \n",
       "6 Pack Soft Drink      [Sprite][Diet Coke][Coke][Diet Coke][Diet Coke...   \n",
       "Barbacoa Bowl          [Roasted Chili Corn Salsa, [Fajita Vegetables,...   \n",
       "Barbacoa Burrito       [[Fresh Tomato Salsa (Mild), Tomatillo-Green C...   \n",
       "Barbacoa Crispy Tacos  [Tomatillo Red Chili Salsa, [Rice, Black Beans...   \n",
       "Barbacoa Salad Bowl    [Fresh Tomato Salsa, [Rice, Fajita Vegetables,...   \n",
       "\n",
       "                                                              item_price  \\\n",
       "item_name                                                                  \n",
       "6 Pack Soft Drink      $6.49 $6.49 $6.49 $6.49 $6.49 $6.49 $6.49 $6.4...   \n",
       "Barbacoa Bowl          $11.75 $11.75 $9.25 $8.99 $9.25 $11.75 $9.25 $...   \n",
       "Barbacoa Burrito       $8.99 $9.25 $9.25 $11.75 $11.75 $9.25 $8.99 $1...   \n",
       "Barbacoa Crispy Tacos  $11.75 $9.25 $11.48 $11.75 $9.25 $9.25 $8.99 $...   \n",
       "Barbacoa Salad Bowl    $11.89 $11.89 $9.39 $9.39 $9.39 $11.89 $11.89 ...   \n",
       "\n",
       "                       itemprice_float  \n",
       "item_name                               \n",
       "6 Pack Soft Drink           356.949982  \n",
       "Barbacoa Bowl               672.359985  \n",
       "Barbacoa Burrito            894.750000  \n",
       "Barbacoa Crispy Tacos       120.209999  \n",
       "Barbacoa Salad Bowl         106.400002  "
      ]
     },
     "execution_count": 42,
     "metadata": {},
     "output_type": "execute_result"
    }
   ],
   "source": [
    "chipo[\"itemprice_float\"]=chipo[\"item_price\"].apply(lambda i: i.replace('$','')).astype(dtype='float32')\n",
    "\n",
    "chipo2=chipo.groupby(['item_name']).sum()\n",
    "\n",
    "chipo2.head()"
   ]
  },
  {
   "cell_type": "code",
   "execution_count": 43,
   "metadata": {
    "tags": []
   },
   "outputs": [
    {
     "data": {
      "text/plain": [
       "costly_items\n",
       "True     47\n",
       "False     3\n",
       "Name: count, dtype: int64"
      ]
     },
     "execution_count": 43,
     "metadata": {},
     "output_type": "execute_result"
    }
   ],
   "source": [
    "chipo2[\"costly_items\"] = chipo2[\"itemprice_float\"]>10.00\n",
    "\n",
    "chipo2[\"costly_items\"].value_counts() #47 products cost more than 10 dollars"
   ]
  },
  {
   "cell_type": "markdown",
   "metadata": {},
   "source": [
    "### Step 5. What is the price of each item? \n",
    "###### print a data frame with only two columns item_name and item_price"
   ]
  },
  {
   "cell_type": "code",
   "execution_count": 44,
   "metadata": {
    "collapsed": false,
    "jupyter": {
     "outputs_hidden": false
    }
   },
   "outputs": [
    {
     "data": {
      "text/html": [
       "<div>\n",
       "<style scoped>\n",
       "    .dataframe tbody tr th:only-of-type {\n",
       "        vertical-align: middle;\n",
       "    }\n",
       "\n",
       "    .dataframe tbody tr th {\n",
       "        vertical-align: top;\n",
       "    }\n",
       "\n",
       "    .dataframe thead th {\n",
       "        text-align: right;\n",
       "    }\n",
       "</style>\n",
       "<table border=\"1\" class=\"dataframe\">\n",
       "  <thead>\n",
       "    <tr style=\"text-align: right;\">\n",
       "      <th></th>\n",
       "      <th>item_name</th>\n",
       "      <th>item_price</th>\n",
       "    </tr>\n",
       "  </thead>\n",
       "  <tbody>\n",
       "    <tr>\n",
       "      <th>0</th>\n",
       "      <td>Chips and Fresh Tomato Salsa</td>\n",
       "      <td>$2.39</td>\n",
       "    </tr>\n",
       "    <tr>\n",
       "      <th>1</th>\n",
       "      <td>Izze</td>\n",
       "      <td>$3.39</td>\n",
       "    </tr>\n",
       "    <tr>\n",
       "      <th>2</th>\n",
       "      <td>Nantucket Nectar</td>\n",
       "      <td>$3.39</td>\n",
       "    </tr>\n",
       "    <tr>\n",
       "      <th>3</th>\n",
       "      <td>Chips and Tomatillo-Green Chili Salsa</td>\n",
       "      <td>$2.39</td>\n",
       "    </tr>\n",
       "    <tr>\n",
       "      <th>4</th>\n",
       "      <td>Chicken Bowl</td>\n",
       "      <td>$16.98</td>\n",
       "    </tr>\n",
       "    <tr>\n",
       "      <th>...</th>\n",
       "      <td>...</td>\n",
       "      <td>...</td>\n",
       "    </tr>\n",
       "    <tr>\n",
       "      <th>4617</th>\n",
       "      <td>Steak Burrito</td>\n",
       "      <td>$11.75</td>\n",
       "    </tr>\n",
       "    <tr>\n",
       "      <th>4618</th>\n",
       "      <td>Steak Burrito</td>\n",
       "      <td>$11.75</td>\n",
       "    </tr>\n",
       "    <tr>\n",
       "      <th>4619</th>\n",
       "      <td>Chicken Salad Bowl</td>\n",
       "      <td>$11.25</td>\n",
       "    </tr>\n",
       "    <tr>\n",
       "      <th>4620</th>\n",
       "      <td>Chicken Salad Bowl</td>\n",
       "      <td>$8.75</td>\n",
       "    </tr>\n",
       "    <tr>\n",
       "      <th>4621</th>\n",
       "      <td>Chicken Salad Bowl</td>\n",
       "      <td>$8.75</td>\n",
       "    </tr>\n",
       "  </tbody>\n",
       "</table>\n",
       "<p>4622 rows × 2 columns</p>\n",
       "</div>"
      ],
      "text/plain": [
       "                                  item_name item_price\n",
       "0              Chips and Fresh Tomato Salsa     $2.39 \n",
       "1                                      Izze     $3.39 \n",
       "2                          Nantucket Nectar     $3.39 \n",
       "3     Chips and Tomatillo-Green Chili Salsa     $2.39 \n",
       "4                              Chicken Bowl    $16.98 \n",
       "...                                     ...        ...\n",
       "4617                          Steak Burrito    $11.75 \n",
       "4618                          Steak Burrito    $11.75 \n",
       "4619                     Chicken Salad Bowl    $11.25 \n",
       "4620                     Chicken Salad Bowl     $8.75 \n",
       "4621                     Chicken Salad Bowl     $8.75 \n",
       "\n",
       "[4622 rows x 2 columns]"
      ]
     },
     "execution_count": 44,
     "metadata": {},
     "output_type": "execute_result"
    }
   ],
   "source": [
    "chipo3=chipo[[\"item_name\", \"item_price\"]]\n",
    "chipo3"
   ]
  },
  {
   "cell_type": "markdown",
   "metadata": {},
   "source": [
    "### Step 6. Sort by the name of the item"
   ]
  },
  {
   "cell_type": "code",
   "execution_count": 45,
   "metadata": {
    "collapsed": false,
    "jupyter": {
     "outputs_hidden": false
    }
   },
   "outputs": [
    {
     "data": {
      "text/html": [
       "<div>\n",
       "<style scoped>\n",
       "    .dataframe tbody tr th:only-of-type {\n",
       "        vertical-align: middle;\n",
       "    }\n",
       "\n",
       "    .dataframe tbody tr th {\n",
       "        vertical-align: top;\n",
       "    }\n",
       "\n",
       "    .dataframe thead th {\n",
       "        text-align: right;\n",
       "    }\n",
       "</style>\n",
       "<table border=\"1\" class=\"dataframe\">\n",
       "  <thead>\n",
       "    <tr style=\"text-align: right;\">\n",
       "      <th></th>\n",
       "      <th>item_name</th>\n",
       "      <th>item_price</th>\n",
       "    </tr>\n",
       "  </thead>\n",
       "  <tbody>\n",
       "    <tr>\n",
       "      <th>3889</th>\n",
       "      <td>Veggie Soft Tacos</td>\n",
       "      <td>$16.98</td>\n",
       "    </tr>\n",
       "    <tr>\n",
       "      <th>2851</th>\n",
       "      <td>Veggie Soft Tacos</td>\n",
       "      <td>$8.49</td>\n",
       "    </tr>\n",
       "    <tr>\n",
       "      <th>738</th>\n",
       "      <td>Veggie Soft Tacos</td>\n",
       "      <td>$11.25</td>\n",
       "    </tr>\n",
       "    <tr>\n",
       "      <th>1395</th>\n",
       "      <td>Veggie Soft Tacos</td>\n",
       "      <td>$8.49</td>\n",
       "    </tr>\n",
       "    <tr>\n",
       "      <th>2384</th>\n",
       "      <td>Veggie Soft Tacos</td>\n",
       "      <td>$8.75</td>\n",
       "    </tr>\n",
       "    <tr>\n",
       "      <th>...</th>\n",
       "      <td>...</td>\n",
       "      <td>...</td>\n",
       "    </tr>\n",
       "    <tr>\n",
       "      <th>1916</th>\n",
       "      <td>6 Pack Soft Drink</td>\n",
       "      <td>$6.49</td>\n",
       "    </tr>\n",
       "    <tr>\n",
       "      <th>1124</th>\n",
       "      <td>6 Pack Soft Drink</td>\n",
       "      <td>$6.49</td>\n",
       "    </tr>\n",
       "    <tr>\n",
       "      <th>3789</th>\n",
       "      <td>6 Pack Soft Drink</td>\n",
       "      <td>$6.49</td>\n",
       "    </tr>\n",
       "    <tr>\n",
       "      <th>1392</th>\n",
       "      <td>6 Pack Soft Drink</td>\n",
       "      <td>$6.49</td>\n",
       "    </tr>\n",
       "    <tr>\n",
       "      <th>3614</th>\n",
       "      <td>6 Pack Soft Drink</td>\n",
       "      <td>$6.49</td>\n",
       "    </tr>\n",
       "  </tbody>\n",
       "</table>\n",
       "<p>4622 rows × 2 columns</p>\n",
       "</div>"
      ],
      "text/plain": [
       "              item_name item_price\n",
       "3889  Veggie Soft Tacos    $16.98 \n",
       "2851  Veggie Soft Tacos     $8.49 \n",
       "738   Veggie Soft Tacos    $11.25 \n",
       "1395  Veggie Soft Tacos     $8.49 \n",
       "2384  Veggie Soft Tacos     $8.75 \n",
       "...                 ...        ...\n",
       "1916  6 Pack Soft Drink     $6.49 \n",
       "1124  6 Pack Soft Drink     $6.49 \n",
       "3789  6 Pack Soft Drink     $6.49 \n",
       "1392  6 Pack Soft Drink     $6.49 \n",
       "3614  6 Pack Soft Drink     $6.49 \n",
       "\n",
       "[4622 rows x 2 columns]"
      ]
     },
     "execution_count": 45,
     "metadata": {},
     "output_type": "execute_result"
    }
   ],
   "source": [
    "chipo3.sort_values(by=\"item_name\", ascending=False)"
   ]
  },
  {
   "cell_type": "markdown",
   "metadata": {},
   "source": [
    "### Step 7. What was the quantity of the most expensive item ordered?"
   ]
  },
  {
   "cell_type": "code",
   "execution_count": 46,
   "metadata": {
    "collapsed": false,
    "jupyter": {
     "outputs_hidden": false
    }
   },
   "outputs": [
    {
     "data": {
      "text/html": [
       "<div>\n",
       "<style scoped>\n",
       "    .dataframe tbody tr th:only-of-type {\n",
       "        vertical-align: middle;\n",
       "    }\n",
       "\n",
       "    .dataframe tbody tr th {\n",
       "        vertical-align: top;\n",
       "    }\n",
       "\n",
       "    .dataframe thead th {\n",
       "        text-align: right;\n",
       "    }\n",
       "</style>\n",
       "<table border=\"1\" class=\"dataframe\">\n",
       "  <thead>\n",
       "    <tr style=\"text-align: right;\">\n",
       "      <th></th>\n",
       "      <th>item_name</th>\n",
       "      <th>itemprice_float</th>\n",
       "      <th>quantity</th>\n",
       "    </tr>\n",
       "  </thead>\n",
       "  <tbody>\n",
       "    <tr>\n",
       "      <th>3598</th>\n",
       "      <td>Chips and Fresh Tomato Salsa</td>\n",
       "      <td>44.25</td>\n",
       "      <td>15</td>\n",
       "    </tr>\n",
       "    <tr>\n",
       "      <th>3480</th>\n",
       "      <td>Carnitas Bowl</td>\n",
       "      <td>35.25</td>\n",
       "      <td>3</td>\n",
       "    </tr>\n",
       "    <tr>\n",
       "      <th>1254</th>\n",
       "      <td>Chicken Burrito</td>\n",
       "      <td>35.00</td>\n",
       "      <td>4</td>\n",
       "    </tr>\n",
       "    <tr>\n",
       "      <th>3602</th>\n",
       "      <td>Chicken Burrito</td>\n",
       "      <td>35.00</td>\n",
       "      <td>4</td>\n",
       "    </tr>\n",
       "    <tr>\n",
       "      <th>3601</th>\n",
       "      <td>Veggie Burrito</td>\n",
       "      <td>33.75</td>\n",
       "      <td>3</td>\n",
       "    </tr>\n",
       "    <tr>\n",
       "      <th>...</th>\n",
       "      <td>...</td>\n",
       "      <td>...</td>\n",
       "      <td>...</td>\n",
       "    </tr>\n",
       "    <tr>\n",
       "      <th>3936</th>\n",
       "      <td>Canned Soda</td>\n",
       "      <td>1.09</td>\n",
       "      <td>1</td>\n",
       "    </tr>\n",
       "    <tr>\n",
       "      <th>2922</th>\n",
       "      <td>Bottled Water</td>\n",
       "      <td>1.09</td>\n",
       "      <td>1</td>\n",
       "    </tr>\n",
       "    <tr>\n",
       "      <th>1396</th>\n",
       "      <td>Canned Soda</td>\n",
       "      <td>1.09</td>\n",
       "      <td>1</td>\n",
       "    </tr>\n",
       "    <tr>\n",
       "      <th>2562</th>\n",
       "      <td>Canned Soda</td>\n",
       "      <td>1.09</td>\n",
       "      <td>1</td>\n",
       "    </tr>\n",
       "    <tr>\n",
       "      <th>1457</th>\n",
       "      <td>Canned Soda</td>\n",
       "      <td>1.09</td>\n",
       "      <td>1</td>\n",
       "    </tr>\n",
       "  </tbody>\n",
       "</table>\n",
       "<p>4622 rows × 3 columns</p>\n",
       "</div>"
      ],
      "text/plain": [
       "                         item_name  itemprice_float  quantity\n",
       "3598  Chips and Fresh Tomato Salsa            44.25        15\n",
       "3480                 Carnitas Bowl            35.25         3\n",
       "1254               Chicken Burrito            35.00         4\n",
       "3602               Chicken Burrito            35.00         4\n",
       "3601                Veggie Burrito            33.75         3\n",
       "...                            ...              ...       ...\n",
       "3936                   Canned Soda             1.09         1\n",
       "2922                 Bottled Water             1.09         1\n",
       "1396                   Canned Soda             1.09         1\n",
       "2562                   Canned Soda             1.09         1\n",
       "1457                   Canned Soda             1.09         1\n",
       "\n",
       "[4622 rows x 3 columns]"
      ]
     },
     "execution_count": 46,
     "metadata": {},
     "output_type": "execute_result"
    }
   ],
   "source": [
    "chipo4=chipo[[\"item_name\", \"itemprice_float\",\"quantity\"]]\n",
    "chipo4.sort_values(by=\"itemprice_float\", ascending=False) #the most expensive item is Chips and Fresh Tomato Salsa\n",
    "#the quantity is 15"
   ]
  },
  {
   "cell_type": "markdown",
   "metadata": {},
   "source": [
    "### Step 8. How many times was a Veggie Salad Bowl ordered?"
   ]
  },
  {
   "cell_type": "code",
   "execution_count": 47,
   "metadata": {
    "collapsed": false,
    "jupyter": {
     "outputs_hidden": false
    }
   },
   "outputs": [
    {
     "data": {
      "text/plain": [
       "item_name\n",
       "False    4604\n",
       "True       18\n",
       "Name: count, dtype: int64"
      ]
     },
     "execution_count": 47,
     "metadata": {},
     "output_type": "execute_result"
    }
   ],
   "source": [
    "veggiesal = chipo.value_counts(chipo.item_name == \"Veggie Salad Bowl\") \n",
    "veggiesal #it was ordered 18 times"
   ]
  },
  {
   "cell_type": "markdown",
   "metadata": {},
   "source": [
    "### Step 9. How many times did someone order more than one Canned Soda?"
   ]
  },
  {
   "cell_type": "code",
   "execution_count": 50,
   "metadata": {
    "collapsed": false,
    "jupyter": {
     "outputs_hidden": false
    }
   },
   "outputs": [
    {
     "name": "stdout",
     "output_type": "stream",
     "text": [
      "times someone ordered Canned Soda twice or more: 20\n"
     ]
    }
   ],
   "source": [
    "a=chipo[\"quantity\"]>1 \n",
    "b=chipo[\"item_name\"]==\"Canned Soda\"\n",
    "c=a&b\n",
    "c.sum() #as this returns True (1) if meets the condition and False(0) if it doesn't, with the sum() you add the times the condition is met. This is 20 times here\n",
    "print(f\"times someone ordered Canned Soda twice or more: {c.sum()}\")"
   ]
  },
  {
   "cell_type": "code",
   "execution_count": null,
   "metadata": {},
   "outputs": [],
   "source": []
  }
 ],
 "metadata": {
  "anaconda-cloud": {},
  "kernelspec": {
   "display_name": "Python 3 (ipykernel)",
   "language": "python",
   "name": "python3"
  },
  "language_info": {
   "codemirror_mode": {
    "name": "ipython",
    "version": 3
   },
   "file_extension": ".py",
   "mimetype": "text/x-python",
   "name": "python",
   "nbconvert_exporter": "python",
   "pygments_lexer": "ipython3",
   "version": "3.11.5"
  }
 },
 "nbformat": 4,
 "nbformat_minor": 4
}
