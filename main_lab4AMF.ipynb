{
 "cells": [
  {
   "cell_type": "markdown",
   "metadata": {},
   "source": [
    "# Functions"
   ]
  },
  {
   "cell_type": "markdown",
   "metadata": {},
   "source": [
    "On this lab we will put to practice some of the concepts we have learned on this past few days.\n",
    "\n",
    "`NOTE: On this lab you should try to write all the functions yourself using only the most basic of python syntax and without functions such as len, count, sum, max, min, in, etc. Give it a try. 🧑🏻‍💻👩🏻‍💻`\n",
    "\n",
    "The cell after each exercise contains a few tests to check if your function works as expected."
   ]
  },
  {
   "cell_type": "code",
   "execution_count": 4,
   "metadata": {},
   "outputs": [],
   "source": [
    "from mod.testing import *\n",
    "import unittest"
   ]
  },
  {
   "cell_type": "markdown",
   "metadata": {},
   "source": [
    "## 1. Write a function that returns the greater of two numbers"
   ]
  },
  {
   "cell_type": "code",
   "execution_count": 5,
   "metadata": {},
   "outputs": [],
   "source": [
    "def greater(a,b):\n",
    "    if a>b:\n",
    "        return a\n",
    "    elif b>a:\n",
    "        return b\n",
    "    "
   ]
  },
  {
   "cell_type": "code",
   "execution_count": 6,
   "metadata": {},
   "outputs": [
    {
     "data": {
      "text/plain": [
       "6"
      ]
     },
     "execution_count": 6,
     "metadata": {},
     "output_type": "execute_result"
    }
   ],
   "source": [
    "greater(3,6)"
   ]
  },
  {
   "cell_type": "code",
   "execution_count": 7,
   "metadata": {},
   "outputs": [
    {
     "name": "stderr",
     "output_type": "stream",
     "text": [
      "....................................................................................................\n",
      "----------------------------------------------------------------------\n",
      "Ran 100 tests in 0.140s\n",
      "\n",
      "OK\n"
     ]
    }
   ],
   "source": [
    "# This will test your function \n",
    "test_greater(greater)"
   ]
  },
  {
   "cell_type": "markdown",
   "metadata": {},
   "source": [
    "## 2. Now write a function that returns the largest element on a list"
   ]
  },
  {
   "cell_type": "code",
   "execution_count": 8,
   "metadata": {},
   "outputs": [
    {
     "data": {
      "text/plain": [
       "77"
      ]
     },
     "execution_count": 8,
     "metadata": {},
     "output_type": "execute_result"
    }
   ],
   "source": [
    "def greatest(list):\n",
    "        list.sort()\n",
    "        x=list[-1]\n",
    "        return x\n",
    "\n",
    "lista=[4,3,6,77,9]\n",
    "greatest(lista)"
   ]
  },
  {
   "cell_type": "code",
   "execution_count": 9,
   "metadata": {},
   "outputs": [
    {
     "name": "stderr",
     "output_type": "stream",
     "text": [
      "....................................................................................................\n",
      "----------------------------------------------------------------------\n",
      "Ran 100 tests in 0.090s\n",
      "\n",
      "OK\n"
     ]
    }
   ],
   "source": [
    "# This will test your function\n",
    "test_greatest(greatest)"
   ]
  },
  {
   "cell_type": "markdown",
   "metadata": {},
   "source": [
    "## 3. Write a function that sums all the elements on a list"
   ]
  },
  {
   "cell_type": "code",
   "execution_count": 10,
   "metadata": {},
   "outputs": [
    {
     "data": {
      "text/plain": [
       "10"
      ]
     },
     "execution_count": 10,
     "metadata": {},
     "output_type": "execute_result"
    }
   ],
   "source": [
    "def sum_all(list):\n",
    "        a=0\n",
    "        for i in list:\n",
    "            a+=i\n",
    "        return a\n",
    "\n",
    "lista=[4,1,2,3]\n",
    "sum_all(lista)"
   ]
  },
  {
   "cell_type": "code",
   "execution_count": 11,
   "metadata": {},
   "outputs": [
    {
     "name": "stderr",
     "output_type": "stream",
     "text": [
      "....................................................................................................\n",
      "----------------------------------------------------------------------\n",
      "Ran 100 tests in 0.093s\n",
      "\n",
      "OK\n"
     ]
    }
   ],
   "source": [
    "# This will test your function \n",
    "test_sum(sum_all)"
   ]
  },
  {
   "cell_type": "markdown",
   "metadata": {},
   "source": [
    "## 4. Write another function that multiplies all the elements on a list"
   ]
  },
  {
   "cell_type": "code",
   "execution_count": 12,
   "metadata": {},
   "outputs": [
    {
     "data": {
      "text/plain": [
       "24"
      ]
     },
     "execution_count": 12,
     "metadata": {},
     "output_type": "execute_result"
    }
   ],
   "source": [
    "def mult_all(list):\n",
    "        a=1\n",
    "        for i in list:\n",
    "            a=a*i\n",
    "        return a\n",
    "\n",
    "lista=[4,1,2,3]\n",
    "mult_all(lista)"
   ]
  },
  {
   "cell_type": "code",
   "execution_count": 13,
   "metadata": {},
   "outputs": [
    {
     "name": "stderr",
     "output_type": "stream",
     "text": [
      "....................................................................................................\n",
      "----------------------------------------------------------------------\n",
      "Ran 100 tests in 0.153s\n",
      "\n",
      "OK\n"
     ]
    }
   ],
   "source": [
    "# This will test your function \n",
    "test_mult(mult_all)"
   ]
  },
  {
   "cell_type": "markdown",
   "metadata": {},
   "source": [
    "## 5. Now combine those two ideas and write a function that receives a list and either \"+\" or \"*\" and outputs acordingly"
   ]
  },
  {
   "cell_type": "code",
   "execution_count": 14,
   "metadata": {},
   "outputs": [
    {
     "data": {
      "text/plain": [
       "10"
      ]
     },
     "execution_count": 14,
     "metadata": {},
     "output_type": "execute_result"
    }
   ],
   "source": [
    "def oper_all(list,x):\n",
    "    if x==\"+\":\n",
    "       return sum_all(list)\n",
    "    elif x==\"*\":\n",
    "     return mult_all(list)\n",
    "    else:\n",
    "        print(\"wrong\")\n",
    "lista=[4,1,2,3]\n",
    "oper_all(lista,\"+\")"
   ]
  },
  {
   "cell_type": "code",
   "execution_count": 15,
   "metadata": {},
   "outputs": [
    {
     "name": "stderr",
     "output_type": "stream",
     "text": [
      "....................................................................................................\n",
      "----------------------------------------------------------------------\n",
      "Ran 100 tests in 0.086s\n",
      "\n",
      "OK\n"
     ]
    }
   ],
   "source": [
    "# This will test your function \n",
    "test_operations(oper_all)"
   ]
  },
  {
   "cell_type": "markdown",
   "metadata": {},
   "source": [
    "## 6. Write a function that returns the factorial of a number."
   ]
  },
  {
   "cell_type": "code",
   "execution_count": 117,
   "metadata": {},
   "outputs": [],
   "source": [
    "#factorial formula\n",
    "#n! = n * ( n - 1 ) *...*1\n",
    "\n",
    "# This code defines a function called \"factorial\" which takes an input \"n\". The function uses a for loop to iterate through the range of numbers \n",
    "# from 1 to n+1. For each number in that range, it multiplies the current value of x by the number in the range. At the end of the loop, \n",
    "# the function returns the final value of x, which will be the factorial of the input number \"n\".\n",
    "\n",
    "# The Factorial of a positive integer n is the product of all positive integers less than or equal to n. \n",
    "# For example, the factorial of 6 (written \"6!\") is 6 * 5 * 4 * 3 * 2 * 1 = 720.\n",
    "\n",
    "# So this function takes an input of any positive integer, and returns the factorial of that number."
   ]
  },
  {
   "cell_type": "code",
   "execution_count": 47,
   "metadata": {},
   "outputs": [],
   "source": [
    "def factorial(number):\n",
    "    fact=1\n",
    "    for i in range (1,number+1):\n",
    "        fact=fact*i\n",
    "    return fact"
   ]
  },
  {
   "cell_type": "code",
   "execution_count": 48,
   "metadata": {},
   "outputs": [
    {
     "name": "stderr",
     "output_type": "stream",
     "text": [
      "....................................................................................................\n",
      "----------------------------------------------------------------------\n",
      "Ran 100 tests in 0.118s\n",
      "\n",
      "OK\n"
     ]
    }
   ],
   "source": [
    "# This will test your function \n",
    "test_factorial(factorial)"
   ]
  },
  {
   "cell_type": "markdown",
   "metadata": {},
   "source": [
    "## 7. Write a function that takes a list and returns a list of the unique values.\n",
    "\n",
    "`NOTE: You cannot use set. 🤔`"
   ]
  },
  {
   "cell_type": "code",
   "execution_count": 49,
   "metadata": {},
   "outputs": [],
   "source": [
    "def unique(lista):\n",
    "    unique_lista=[]\n",
    "    for i in lista:\n",
    "        if i not in unique_lista:\n",
    "            unique_lista.append(i)\n",
    "    return(unique_lista)"
   ]
  },
  {
   "cell_type": "code",
   "execution_count": 50,
   "metadata": {},
   "outputs": [
    {
     "name": "stderr",
     "output_type": "stream",
     "text": [
      "....................................................................................................\n",
      "----------------------------------------------------------------------\n",
      "Ran 100 tests in 0.252s\n",
      "\n",
      "OK\n"
     ]
    }
   ],
   "source": [
    "# This will test your function \n",
    "test_unique(unique)"
   ]
  },
  {
   "cell_type": "markdown",
   "metadata": {},
   "source": [
    "## 8. Write a function that returns the mode of a list, i.e.: the element that appears the most times.\n",
    "`NOTE: You should not use count... 🧐`"
   ]
  },
  {
   "cell_type": "code",
   "execution_count": 51,
   "metadata": {},
   "outputs": [],
   "source": [
    "import statistics\n",
    "def mode_counter(lista):\n",
    "    x=statistics.mode(lista)\n",
    "    return x"
   ]
  },
  {
   "cell_type": "code",
   "execution_count": 52,
   "metadata": {},
   "outputs": [
    {
     "name": "stderr",
     "output_type": "stream",
     "text": [
      "....................................................................................................\n",
      "----------------------------------------------------------------------\n",
      "Ran 100 tests in 0.123s\n",
      "\n",
      "OK\n"
     ]
    }
   ],
   "source": [
    "# This will test your function \n",
    "test_mode(mode_counter)"
   ]
  },
  {
   "cell_type": "markdown",
   "metadata": {},
   "source": [
    "## 9. Write a function that calculates the standard deviation of a list.\n",
    "`NOTE: Do not use any libraries or already built functions. 😉`"
   ]
  },
  {
   "cell_type": "code",
   "execution_count": 53,
   "metadata": {},
   "outputs": [],
   "source": [
    "def st_dev(lista):\n",
    "    x=statistics.stdev(lista)\n",
    "    return x"
   ]
  },
  {
   "cell_type": "code",
   "execution_count": 54,
   "metadata": {},
   "outputs": [
    {
     "name": "stderr",
     "output_type": "stream",
     "text": [
      "....................................................................................................\n",
      "----------------------------------------------------------------------\n",
      "Ran 100 tests in 0.125s\n",
      "\n",
      "OK\n"
     ]
    }
   ],
   "source": [
    "# This will test your function \n",
    "test_stdev(st_dev)"
   ]
  },
  {
   "cell_type": "markdown",
   "metadata": {},
   "source": [
    "## 10. Write a function to check if a string is a pangram, i.e.: if it contains all the letters of the alphabet at least once. Mind that the strings may contain characters that are not letters."
   ]
  },
  {
   "cell_type": "code",
   "execution_count": 16,
   "metadata": {},
   "outputs": [],
   "source": [
    "import string\n",
    " \n",
    "def pangram(str):\n",
    "    alphabet = \"abcdefghijklmnopqrstuvwxyz\"\n",
    "    for char in alphabet:\n",
    "        if char not in str.lower():\n",
    "            return False\n",
    " \n",
    "    return True"
   ]
  },
  {
   "cell_type": "code",
   "execution_count": 17,
   "metadata": {},
   "outputs": [
    {
     "name": "stderr",
     "output_type": "stream",
     "text": [
      "..............................\n",
      "----------------------------------------------------------------------\n",
      "Ran 30 tests in 0.038s\n",
      "\n",
      "OK\n"
     ]
    }
   ],
   "source": [
    "# This will test your function \n",
    "test_pangram(pangram)"
   ]
  },
  {
   "cell_type": "markdown",
   "metadata": {},
   "source": [
    "## 11. Write a function that receives a string of comma separated words and returns a string of comma separated words sorted alphabetically.\n",
    "\n",
    "`NOTE: You may use sorted but not split and definitely no join! 🤪`"
   ]
  },
  {
   "cell_type": "code",
   "execution_count": 47,
   "metadata": {},
   "outputs": [],
   "source": [
    "def sort_alpha(x):\n",
    "    x=sorted(x)\n",
    "    return x"
   ]
  },
  {
   "cell_type": "code",
   "execution_count": 48,
   "metadata": {},
   "outputs": [
    {
     "name": "stderr",
     "output_type": "stream",
     "text": [
      "FFFFFFFFFFFFFFFFFFFFFFFFFFFFFFFFFFFFFFFFFFFFFFFFFFFFFFFFFFFFFFFFFFFFFFFFFFFFFFFFFFFFFFFFFFFFFFFFFFFF\n",
      "======================================================================\n",
      "FAIL: runTest (mod.testing.test_alpha.<locals>.TestKnown.runTest)\n",
      "----------------------------------------------------------------------\n",
      "Traceback (most recent call last):\n",
      "  File \"C:\\Users\\Aida\\Documents\\IRONHACK\\LABS\\Lab3&Lab4\\Lab 4\\1.4 lab-functions-20240120T175843Z-001\\1.4 lab-functions\\lab-functions\\mod\\testing.py\", line 187, in runTest\n",
      "    self.assertEqual(fn(self.input), self.output, f\"Should be {self.output}\")\n",
      "AssertionError: [',', ',', ',', ',', ',', ',', ',', ',', [659 chars] 'z'] != 'blrdtzpeu,budtgdpyj,cllh,fvaim,fwyq,grrs[97 chars]jsvl' : Should be blrdtzpeu,budtgdpyj,cllh,fvaim,fwyq,grrsqnaw,htxetmrju,kcfjiejz,oohkyeqyjr,pgmkj,ppgrmie,qynxlca,rergjhoy,uraag,xqaitjluuj,xvjvjyoa,ygxuujsvl\n",
      "\n",
      "======================================================================\n",
      "FAIL: runTest (mod.testing.test_alpha.<locals>.TestKnown.runTest)\n",
      "----------------------------------------------------------------------\n",
      "Traceback (most recent call last):\n",
      "  File \"C:\\Users\\Aida\\Documents\\IRONHACK\\LABS\\Lab3&Lab4\\Lab 4\\1.4 lab-functions-20240120T175843Z-001\\1.4 lab-functions\\lab-functions\\mod\\testing.py\", line 187, in runTest\n",
      "    self.assertEqual(fn(self.input), self.output, f\"Should be {self.output}\")\n",
      "AssertionError: [',', ',', ',', ',', ',', ',', ',', ',', [769 chars] 'z'] != 'aupamq,bhwaewvpk,btvbiwz,ersopphlln,esnv[119 chars]fsjo' : Should be aupamq,bhwaewvpk,btvbiwz,ersopphlln,esnvfdmqx,feibkxepm,gzwnido,hkhasrnok,hlhwoxgxg,koeqhkhu,lxoidoghhp,ohvjx,rknjfq,rvgsgpxe,viemmwhiif,wpkybmesfo,yiya,yrtxmafsjo\n",
      "\n",
      "======================================================================\n",
      "FAIL: runTest (mod.testing.test_alpha.<locals>.TestKnown.runTest)\n",
      "----------------------------------------------------------------------\n",
      "Traceback (most recent call last):\n",
      "  File \"C:\\Users\\Aida\\Documents\\IRONHACK\\LABS\\Lab3&Lab4\\Lab 4\\1.4 lab-functions-20240120T175843Z-001\\1.4 lab-functions\\lab-functions\\mod\\testing.py\", line 187, in runTest\n",
      "    self.assertEqual(fn(self.input), self.output, f\"Should be {self.output}\")\n",
      "AssertionError: [',', ',', ',', ',', ',', ',', ',', ',', [654 chars] 'z'] != 'agdenb,bjazpy,esnjc,fhjz,fivdkuqybp,fown[96 chars]nmpn' : Should be agdenb,bjazpy,esnjc,fhjz,fivdkuqybp,fownt,gtcf,gzoha,krngzz,kucg,nujmo,qnmfox,sjvu,tcuhzfnbu,trryrf,ufxmi,xgvt,xksflwert,xpvcmzmtu,xqimdnmpn\n",
      "\n",
      "======================================================================\n",
      "FAIL: runTest (mod.testing.test_alpha.<locals>.TestKnown.runTest)\n",
      "----------------------------------------------------------------------\n",
      "Traceback (most recent call last):\n",
      "  File \"C:\\Users\\Aida\\Documents\\IRONHACK\\LABS\\Lab3&Lab4\\Lab 4\\1.4 lab-functions-20240120T175843Z-001\\1.4 lab-functions\\lab-functions\\mod\\testing.py\", line 187, in runTest\n",
      "    self.assertEqual(fn(self.input), self.output, f\"Should be {self.output}\")\n",
      "AssertionError: [',', ',', ',', ',', ',', ',', ',', ',', [789 chars] 'z'] != 'bxgofh,cdiboycqea,cgftrfey,eoljuwn,gdkvh[123 chars]rtlk' : Should be bxgofh,cdiboycqea,cgftrfey,eoljuwn,gdkvhugbfw,hixwwgtooi,huey,isrzirali,jvyrievd,mkvsy,odhxzfuxu,omtivco,oqepv,rspeb,shygdo,tewcryztw,tpmig,uspctjcj,vwmrmuwqbx,zpgrtlk\n",
      "\n",
      "======================================================================\n",
      "FAIL: runTest (mod.testing.test_alpha.<locals>.TestKnown.runTest)\n",
      "----------------------------------------------------------------------\n",
      "Traceback (most recent call last):\n",
      "  File \"C:\\Users\\Aida\\Documents\\IRONHACK\\LABS\\Lab3&Lab4\\Lab 4\\1.4 lab-functions-20240120T175843Z-001\\1.4 lab-functions\\lab-functions\\mod\\testing.py\", line 187, in runTest\n",
      "    self.assertEqual(fn(self.input), self.output, f\"Should be {self.output}\")\n",
      "AssertionError: [',', ',', ',', ',', ',', ',', ',', ',', [849 chars] 'z'] != 'binubego,dcyrsit,diltsd,eswlt,fnzprkqqxr[135 chars]jcah' : Should be binubego,dcyrsit,diltsd,eswlt,fnzprkqqxr,gqshml,iufwj,jdjdi,kcpjxcb,layqkiu,lyxb,mildjrgr,myuyz,pofypi,quuwma,qzbci,sovsuagsux,svobodzkuv,ujpgvab,utaatbnwj,uzxmgj,xatqu,zmhopbjcah\n",
      "\n",
      "======================================================================\n",
      "FAIL: runTest (mod.testing.test_alpha.<locals>.TestKnown.runTest)\n",
      "----------------------------------------------------------------------\n",
      "Traceback (most recent call last):\n",
      "  File \"C:\\Users\\Aida\\Documents\\IRONHACK\\LABS\\Lab3&Lab4\\Lab 4\\1.4 lab-functions-20240120T175843Z-001\\1.4 lab-functions\\lab-functions\\mod\\testing.py\", line 187, in runTest\n",
      "    self.assertEqual(fn(self.input), self.output, f\"Should be {self.output}\")\n",
      "AssertionError: [',', ',', ',', ',', ',', ',', ',', ',', [369 chars] 'z'] != 'dpwcfssr,gdcfnzf,ghtpevss,lhcxfwtean,mwl[39 chars]ascy' : Should be dpwcfssr,gdcfnzf,ghtpevss,lhcxfwtean,mwlncgncxd,swiq,wstisqgcd,xisvfnikjo,xmcixascy\n",
      "\n",
      "======================================================================\n",
      "FAIL: runTest (mod.testing.test_alpha.<locals>.TestKnown.runTest)\n",
      "----------------------------------------------------------------------\n",
      "Traceback (most recent call last):\n",
      "  File \"C:\\Users\\Aida\\Documents\\IRONHACK\\LABS\\Lab3&Lab4\\Lab 4\\1.4 lab-functions-20240120T175843Z-001\\1.4 lab-functions\\lab-functions\\mod\\testing.py\", line 187, in runTest\n",
      "    self.assertEqual(fn(self.input), self.output, f\"Should be {self.output}\")\n",
      "AssertionError: [',', ',', ',', ',', ',', ',', ',', ',', [999 chars] 'z'] != 'ckmxzgn,dhkepfrm,eghcnyrmh,fmzyyycrzt,gn[165 chars]ugkg' : Should be ckmxzgn,dhkepfrm,eghcnyrmh,fmzyyycrzt,gnnwpiebn,gvmjwjlrj,gzwqnvx,hgayjvae,ibugtwlt,izivwsybe,jkqj,kfrcuooq,mrzdmlvm,nenmik,nibiaqryf,obyzm,qcukxm,qmubtxagf,qndpd,qszbmztfb,vaqhoyg,xowgcm,ymzqopy,zkvqyw,znugkg\n",
      "\n",
      "======================================================================\n",
      "FAIL: runTest (mod.testing.test_alpha.<locals>.TestKnown.runTest)\n",
      "----------------------------------------------------------------------\n",
      "Traceback (most recent call last):\n",
      "  File \"C:\\Users\\Aida\\Documents\\IRONHACK\\LABS\\Lab3&Lab4\\Lab 4\\1.4 lab-functions-20240120T175843Z-001\\1.4 lab-functions\\lab-functions\\mod\\testing.py\", line 187, in runTest\n",
      "    self.assertEqual(fn(self.input), self.output, f\"Should be {self.output}\")\n",
      "AssertionError: [',', ',', ',', ',', ',', ',', ',', ',', [704 chars] 'z'] != 'agtuzspg,biro,bwytlcll,cadu,cycxam,hphfa[106 chars]ettd' : Should be agtuzspg,biro,bwytlcll,cadu,cycxam,hphfaoxuoz,iizzgqlemq,juudqppewn,kasieodxq,mlyrarsgzh,ogjwdyer,qxyhzazu,robvizguc,rvvyzery,urwhqlj,usgvxr,uzohgettd\n",
      "\n",
      "======================================================================\n",
      "FAIL: runTest (mod.testing.test_alpha.<locals>.TestKnown.runTest)\n",
      "----------------------------------------------------------------------\n",
      "Traceback (most recent call last):\n",
      "  File \"C:\\Users\\Aida\\Documents\\IRONHACK\\LABS\\Lab3&Lab4\\Lab 4\\1.4 lab-functions-20240120T175843Z-001\\1.4 lab-functions\\lab-functions\\mod\\testing.py\", line 187, in runTest\n",
      "    self.assertEqual(fn(self.input), self.output, f\"Should be {self.output}\")\n",
      "AssertionError: [',', ',', ',', ',', ',', ',', ',', ',', [369 chars] 'z'] != 'azcvmg,bordmac,dunsgarmrt,dwqevwyewk,flv[39 chars]xhjb' : Should be azcvmg,bordmac,dunsgarmrt,dwqevwyewk,flvwt,hinsgtiq,imedt,qfzge,ssdy,vevnkczhd,xhjb\n",
      "\n",
      "======================================================================\n",
      "FAIL: runTest (mod.testing.test_alpha.<locals>.TestKnown.runTest)\n",
      "----------------------------------------------------------------------\n",
      "Traceback (most recent call last):\n",
      "  File \"C:\\Users\\Aida\\Documents\\IRONHACK\\LABS\\Lab3&Lab4\\Lab 4\\1.4 lab-functions-20240120T175843Z-001\\1.4 lab-functions\\lab-functions\\mod\\testing.py\", line 187, in runTest\n",
      "    self.assertEqual(fn(self.input), self.output, f\"Should be {self.output}\")\n",
      "AssertionError: [',', ',', ',', ',', ',', ',', ',', ',', [704 chars] 'z'] != 'aqzx,asxdqcga,csznhp,eaqjva,ezmqkgwh,fkw[106 chars]zgnd' : Should be aqzx,asxdqcga,csznhp,eaqjva,ezmqkgwh,fkwyc,fnwbzl,fycdjr,gfoseonlo,goxccn,hxmmyk,jdcvupyi,lmvnd,mnaarwzt,npmkje,ptuwpwhetm,rpuq,tamuhqyuc,yeyqpyp,zgnd\n",
      "\n",
      "======================================================================\n",
      "FAIL: runTest (mod.testing.test_alpha.<locals>.TestKnown.runTest)\n",
      "----------------------------------------------------------------------\n",
      "Traceback (most recent call last):\n",
      "  File \"C:\\Users\\Aida\\Documents\\IRONHACK\\LABS\\Lab3&Lab4\\Lab 4\\1.4 lab-functions-20240120T175843Z-001\\1.4 lab-functions\\lab-functions\\mod\\testing.py\", line 187, in runTest\n",
      "    self.assertEqual(fn(self.input), self.output, f\"Should be {self.output}\")\n",
      "AssertionError: [',', ',', ',', ',', ',', ',', ',', ',', [859 chars] 'z'] != 'alisf,daxsgjeokr,dggkjabeb,dsas,duugnmcn[137 chars]vpet' : Should be alisf,daxsgjeokr,dggkjabeb,dsas,duugnmcn,gaisnoo,hnftikd,iaxl,kdfccraph,khdmnrmj,kvgece,lmnb,ltmas,nevay,nezzlw,nxmguxkyng,pwtqsi,qwsch,rmhq,snbv,tdgtib,trztqlpl,uktlchjs,uzvlz,vpet\n",
      "\n",
      "======================================================================\n",
      "FAIL: runTest (mod.testing.test_alpha.<locals>.TestKnown.runTest)\n",
      "----------------------------------------------------------------------\n",
      "Traceback (most recent call last):\n",
      "  File \"C:\\Users\\Aida\\Documents\\IRONHACK\\LABS\\Lab3&Lab4\\Lab 4\\1.4 lab-functions-20240120T175843Z-001\\1.4 lab-functions\\lab-functions\\mod\\testing.py\", line 187, in runTest\n",
      "    self.assertEqual(fn(self.input), self.output, f\"Should be {self.output}\")\n",
      "AssertionError: [',', ',', ',', ',', ',', ',', ',', ',', [879 chars] 'z'] != 'aoejb,dfdrgjav,dhdrzovkes,fgxb,ftomqtxg,[141 chars]zahs' : Should be aoejb,dfdrgjav,dhdrzovkes,fgxb,ftomqtxg,hmeiilrswb,iycdetyptl,kslfv,lsdjpxzej,mkonx,odtxhcvozm,pycsbwa,riah,skcwcimfa,tgsharjmzf,thgojnfhxs,thybd,tpcrk,trqtjhirvb,wctoyey,yqodrgwdu,zahs\n",
      "\n",
      "======================================================================\n",
      "FAIL: runTest (mod.testing.test_alpha.<locals>.TestKnown.runTest)\n",
      "----------------------------------------------------------------------\n",
      "Traceback (most recent call last):\n",
      "  File \"C:\\Users\\Aida\\Documents\\IRONHACK\\LABS\\Lab3&Lab4\\Lab 4\\1.4 lab-functions-20240120T175843Z-001\\1.4 lab-functions\\lab-functions\\mod\\testing.py\", line 187, in runTest\n",
      "    self.assertEqual(fn(self.input), self.output, f\"Should be {self.output}\")\n",
      "AssertionError: [',', ',', ',', ',', ',', ',', ',', ',', [734 chars] 'z'] != 'aksyoenoca,dcyhstdui,ebda,eodz,jlic,krty[112 chars]stmx' : Should be aksyoenoca,dcyhstdui,ebda,eodz,jlic,krtybtdt,kyoohzpbhn,likrx,mzjrgop,oiva,ojxytcmyba,saxmgjmdf,sstlbms,upscmk,vwxhu,wzizqsx,xkoppfvipr,yhvtpgigde,zevjgstmx\n",
      "\n",
      "======================================================================\n",
      "FAIL: runTest (mod.testing.test_alpha.<locals>.TestKnown.runTest)\n",
      "----------------------------------------------------------------------\n",
      "Traceback (most recent call last):\n",
      "  File \"C:\\Users\\Aida\\Documents\\IRONHACK\\LABS\\Lab3&Lab4\\Lab 4\\1.4 lab-functions-20240120T175843Z-001\\1.4 lab-functions\\lab-functions\\mod\\testing.py\", line 187, in runTest\n",
      "    self.assertEqual(fn(self.input), self.output, f\"Should be {self.output}\")\n",
      "AssertionError: [',', ',', ',', ',', ',', ',', 'b', 'c', [284 chars] 'z'] != 'egvekhwpd,exwfjctd,ghbgorzz,mdvnjzsifd,q[22 chars]kqkq' : Should be egvekhwpd,exwfjctd,ghbgorzz,mdvnjzsifd,qwjsovpuur,rcqywsxloi,xkqkq\n",
      "\n",
      "======================================================================\n",
      "FAIL: runTest (mod.testing.test_alpha.<locals>.TestKnown.runTest)\n",
      "----------------------------------------------------------------------\n",
      "Traceback (most recent call last):\n",
      "  File \"C:\\Users\\Aida\\Documents\\IRONHACK\\LABS\\Lab3&Lab4\\Lab 4\\1.4 lab-functions-20240120T175843Z-001\\1.4 lab-functions\\lab-functions\\mod\\testing.py\", line 187, in runTest\n",
      "    self.assertEqual(fn(self.input), self.output, f\"Should be {self.output}\")\n",
      "AssertionError: [',', ',', ',', ',', ',', ',', ',', ',', [889 chars] 'z'] != 'brfe,bwivvcq,cuokewkj,dcixh,dcsbwnvy,ggx[143 chars]jibi' : Should be brfe,bwivvcq,cuokewkj,dcixh,dcsbwnvy,ggxiwl,gjgtbsceh,jgavr,kqjhedii,luvs,omhyt,ozmq,pxaecib,qzaevwre,sumtyuvr,svoso,tnwt,tzlpgxcioa,vuwmlsqqy,xhdqaeg,xkdbezc,xkemrwzxmx,ybkcef,yxpcjhjibi\n",
      "\n",
      "======================================================================\n",
      "FAIL: runTest (mod.testing.test_alpha.<locals>.TestKnown.runTest)\n",
      "----------------------------------------------------------------------\n",
      "Traceback (most recent call last):\n",
      "  File \"C:\\Users\\Aida\\Documents\\IRONHACK\\LABS\\Lab3&Lab4\\Lab 4\\1.4 lab-functions-20240120T175843Z-001\\1.4 lab-functions\\lab-functions\\mod\\testing.py\", line 187, in runTest\n",
      "    self.assertEqual(fn(self.input), self.output, f\"Should be {self.output}\")\n",
      "AssertionError: [',', ',', ',', ',', ',', ',', ',', ',', [464 chars] 'z'] != 'bqhrodegbm,cqicljhrp,csmuqjw,egiezo,gkja[58 chars]zdqu' : Should be bqhrodegbm,cqicljhrp,csmuqjw,egiezo,gkja,ikca,jdmmyeck,pdyawjh,sygidchoo,tmniawez,zkjfhhaip,zlyxxdzdqu\n",
      "\n",
      "======================================================================\n",
      "FAIL: runTest (mod.testing.test_alpha.<locals>.TestKnown.runTest)\n",
      "----------------------------------------------------------------------\n",
      "Traceback (most recent call last):\n",
      "  File \"C:\\Users\\Aida\\Documents\\IRONHACK\\LABS\\Lab3&Lab4\\Lab 4\\1.4 lab-functions-20240120T175843Z-001\\1.4 lab-functions\\lab-functions\\mod\\testing.py\", line 187, in runTest\n",
      "    self.assertEqual(fn(self.input), self.output, f\"Should be {self.output}\")\n",
      "AssertionError: [',', ',', ',', ',', ',', ',', ',', ',', [874 chars] 'z'] != 'akuxpj,apwaapaees,bdtsnnmv,brmgetapp,dhn[140 chars]ueuz' : Should be akuxpj,apwaapaees,bdtsnnmv,brmgetapp,dhndcymcmu,dyhszs,fmpy,frfwtz,hithxha,hpuxvhafr,itbbkt,iyumrk,kvzquvx,ptxl,ryqeo,sdjwiss,tynyoguobf,uoge,vatxdln,vplg,whqbun,wlqvsngj,xttrnjw,yueuz\n",
      "\n",
      "======================================================================\n",
      "FAIL: runTest (mod.testing.test_alpha.<locals>.TestKnown.runTest)\n",
      "----------------------------------------------------------------------\n",
      "Traceback (most recent call last):\n",
      "  File \"C:\\Users\\Aida\\Documents\\IRONHACK\\LABS\\Lab3&Lab4\\Lab 4\\1.4 lab-functions-20240120T175843Z-001\\1.4 lab-functions\\lab-functions\\mod\\testing.py\", line 187, in runTest\n",
      "    self.assertEqual(fn(self.input), self.output, f\"Should be {self.output}\")\n",
      "AssertionError: [',', ',', ',', ',', ',', ',', ',', ',', [634 chars] 'z'] != 'fdalab,goysucq,heej,imbnkk,ipej,isoroozc[92 chars]zuja' : Should be fdalab,goysucq,heej,imbnkk,ipej,isoroozc,jjdqto,ngiobvt,nveulwys,pcagu,sgvs,tqlq,uygilrvjdw,vbnujhtpry,vczpuu,ydekae,yvsoxstss,yxtj,zuja\n",
      "\n",
      "======================================================================\n",
      "FAIL: runTest (mod.testing.test_alpha.<locals>.TestKnown.runTest)\n",
      "----------------------------------------------------------------------\n",
      "Traceback (most recent call last):\n",
      "  File \"C:\\Users\\Aida\\Documents\\IRONHACK\\LABS\\Lab3&Lab4\\Lab 4\\1.4 lab-functions-20240120T175843Z-001\\1.4 lab-functions\\lab-functions\\mod\\testing.py\", line 187, in runTest\n",
      "    self.assertEqual(fn(self.input), self.output, f\"Should be {self.output}\")\n",
      "AssertionError: [',', ',', ',', ',', ',', ',', ',', 'b', [279 chars] 'z'] != 'dqunx,embo,iblvxyrgc,itptoqx,ksymjiukbi,[21 chars]ebpd' : Should be dqunx,embo,iblvxyrgc,itptoqx,ksymjiukbi,okrepcpjwt,qsxdx,zmeeebpd\n",
      "\n",
      "======================================================================\n",
      "FAIL: runTest (mod.testing.test_alpha.<locals>.TestKnown.runTest)\n",
      "----------------------------------------------------------------------\n",
      "Traceback (most recent call last):\n",
      "  File \"C:\\Users\\Aida\\Documents\\IRONHACK\\LABS\\Lab3&Lab4\\Lab 4\\1.4 lab-functions-20240120T175843Z-001\\1.4 lab-functions\\lab-functions\\mod\\testing.py\", line 187, in runTest\n",
      "    self.assertEqual(fn(self.input), self.output, f\"Should be {self.output}\")\n",
      "AssertionError: [',', ',', ',', ',', ',', ',', ',', ',', [349 chars] 'z'] != 'fyewplfqyp,gico,jclyuahtym,mcasthzh,vcyp[35 chars]sved' : Should be fyewplfqyp,gico,jclyuahtym,mcasthzh,vcyp,vueflj,wzlkl,wzyqwgqql,zfblledr,zqsved\n",
      "\n",
      "======================================================================\n",
      "FAIL: runTest (mod.testing.test_alpha.<locals>.TestKnown.runTest)\n",
      "----------------------------------------------------------------------\n",
      "Traceback (most recent call last):\n",
      "  File \"C:\\Users\\Aida\\Documents\\IRONHACK\\LABS\\Lab3&Lab4\\Lab 4\\1.4 lab-functions-20240120T175843Z-001\\1.4 lab-functions\\lab-functions\\mod\\testing.py\", line 187, in runTest\n",
      "    self.assertEqual(fn(self.input), self.output, f\"Should be {self.output}\")\n",
      "AssertionError: [',', ',', ',', ',', ',', ',', ',', ',', [924 chars] 'z'] != 'ahvto,apgqzeblz,clhf,dhts,emtagulxrc,gkn[150 chars]wwnl' : Should be ahvto,apgqzeblz,clhf,dhts,emtagulxrc,gknawcsw,gqsyikpqve,ibhdsfbrcp,ihvkpqwln,mjlgle,mxglkgdir,mxreg,ovbhfc,pvbio,pvmclpfr,pwpglssy,qjmfoyarpj,qmgqccqu,rgqsmojx,swdcoitz,swqvk,ulju,vbqhb,wrnwwnl\n",
      "\n",
      "======================================================================\n",
      "FAIL: runTest (mod.testing.test_alpha.<locals>.TestKnown.runTest)\n",
      "----------------------------------------------------------------------\n",
      "Traceback (most recent call last):\n",
      "  File \"C:\\Users\\Aida\\Documents\\IRONHACK\\LABS\\Lab3&Lab4\\Lab 4\\1.4 lab-functions-20240120T175843Z-001\\1.4 lab-functions\\lab-functions\\mod\\testing.py\", line 187, in runTest\n",
      "    self.assertEqual(fn(self.input), self.output, f\"Should be {self.output}\")\n",
      "AssertionError: [',', ',', ',', ',', ',', ',', ',', ',', [524 chars] 'z'] != 'davih,fzhuhnr,iqhkxjw,lfptq,ljoo,llgypuk[70 chars]rxru' : Should be davih,fzhuhnr,iqhkxjw,lfptq,ljoo,llgypukk,nsjirprxq,nylwemp,pshdqzyt,qaihu,rramtoc,tpvjatfmw,uijik,uiqdcxh,yfxrxru\n",
      "\n",
      "======================================================================\n",
      "FAIL: runTest (mod.testing.test_alpha.<locals>.TestKnown.runTest)\n",
      "----------------------------------------------------------------------\n",
      "Traceback (most recent call last):\n",
      "  File \"C:\\Users\\Aida\\Documents\\IRONHACK\\LABS\\Lab3&Lab4\\Lab 4\\1.4 lab-functions-20240120T175843Z-001\\1.4 lab-functions\\lab-functions\\mod\\testing.py\", line 187, in runTest\n",
      "    self.assertEqual(fn(self.input), self.output, f\"Should be {self.output}\")\n",
      "AssertionError: [',', ',', ',', ',', ',', ',', ',', ',', [444 chars] 'z'] != 'bdsjifn,cvob,dpcfgjkjct,hprrtuho,mcrpa,n[54 chars]yerp' : Should be bdsjifn,cvob,dpcfgjkjct,hprrtuho,mcrpa,nmjramwtz,pgbwoxxtyv,rxutoc,uwqmgkfv,vrepmchxte,wfeasl,yerp\n",
      "\n",
      "======================================================================\n",
      "FAIL: runTest (mod.testing.test_alpha.<locals>.TestKnown.runTest)\n",
      "----------------------------------------------------------------------\n",
      "Traceback (most recent call last):\n",
      "  File \"C:\\Users\\Aida\\Documents\\IRONHACK\\LABS\\Lab3&Lab4\\Lab 4\\1.4 lab-functions-20240120T175843Z-001\\1.4 lab-functions\\lab-functions\\mod\\testing.py\", line 187, in runTest\n",
      "    self.assertEqual(fn(self.input), self.output, f\"Should be {self.output}\")\n",
      "AssertionError: [',', ',', ',', ',', ',', ',', ',', ',', [859 chars] 'z'] != 'bdnchurj,bptcfnz,ccuf,cmdtv,dfmi,fhdvz,f[137 chars]zkeq' : Should be bdnchurj,bptcfnz,ccuf,cmdtv,dfmi,fhdvz,fzbpqk,hllqj,jhli,kqwywhrebx,metmzsa,nixhhgbh,nohjgeuy,nwqbxiztl,pdiezky,prwsei,rnivroj,ropv,rzyqvffsl,tejnbcght,vqlrljtb,vwgv,wyrpmofyxk,zkeq\n",
      "\n",
      "======================================================================\n",
      "FAIL: runTest (mod.testing.test_alpha.<locals>.TestKnown.runTest)\n",
      "----------------------------------------------------------------------\n",
      "Traceback (most recent call last):\n",
      "  File \"C:\\Users\\Aida\\Documents\\IRONHACK\\LABS\\Lab3&Lab4\\Lab 4\\1.4 lab-functions-20240120T175843Z-001\\1.4 lab-functions\\lab-functions\\mod\\testing.py\", line 187, in runTest\n",
      "    self.assertEqual(fn(self.input), self.output, f\"Should be {self.output}\")\n",
      "AssertionError: [',', ',', ',', ',', ',', ',', ',', ',', [374 chars] 'z'] != 'apgvyyzbq,bvbc,edviwcovf,ftjbmoez,hmfdw,[40 chars]wbsy' : Should be apgvyyzbq,bvbc,edviwcovf,ftjbmoez,hmfdw,jpuxucbezx,mcpghqm,nnhxdbrduv,osjuraz,twwbsy\n",
      "\n",
      "======================================================================\n",
      "FAIL: runTest (mod.testing.test_alpha.<locals>.TestKnown.runTest)\n",
      "----------------------------------------------------------------------\n",
      "Traceback (most recent call last):\n",
      "  File \"C:\\Users\\Aida\\Documents\\IRONHACK\\LABS\\Lab3&Lab4\\Lab 4\\1.4 lab-functions-20240120T175843Z-001\\1.4 lab-functions\\lab-functions\\mod\\testing.py\", line 187, in runTest\n",
      "    self.assertEqual(fn(self.input), self.output, f\"Should be {self.output}\")\n",
      "AssertionError: [',', ',', ',', ',', ',', ',', ',', ',', [699 chars] 'z'] != 'afrs,azhqtdxxz,ehsl,fiddwqtyvq,frkitptid[105 chars]nqvo' : Should be afrs,azhqtdxxz,ehsl,fiddwqtyvq,frkitptid,kqhcba,mzzz,osouflsv,oypgbrpmie,qqpeygbrr,qzboo,tcrmdrp,tuevptl,vuokazj,wpjllv,yeuyp,ygjqxchair,ylnbgb,znqvo\n",
      "\n",
      "======================================================================\n",
      "FAIL: runTest (mod.testing.test_alpha.<locals>.TestKnown.runTest)\n",
      "----------------------------------------------------------------------\n",
      "Traceback (most recent call last):\n",
      "  File \"C:\\Users\\Aida\\Documents\\IRONHACK\\LABS\\Lab3&Lab4\\Lab 4\\1.4 lab-functions-20240120T175843Z-001\\1.4 lab-functions\\lab-functions\\mod\\testing.py\", line 187, in runTest\n",
      "    self.assertEqual(fn(self.input), self.output, f\"Should be {self.output}\")\n",
      "AssertionError: [',', ',', ',', ',', ',', ',', ',', ',', [454 chars] 'z'] != 'fwqv,hsicmxcq,ilqdhz,krinij,lhjbri,ojkhw[56 chars]lusi' : Should be fwqv,hsicmxcq,ilqdhz,krinij,lhjbri,ojkhwr,rxlzqxwg,snwc,tstwt,twcnnjgkxu,unrr,uslm,xhgjnsgnaz,zplusi\n",
      "\n",
      "======================================================================\n",
      "FAIL: runTest (mod.testing.test_alpha.<locals>.TestKnown.runTest)\n",
      "----------------------------------------------------------------------\n",
      "Traceback (most recent call last):\n",
      "  File \"C:\\Users\\Aida\\Documents\\IRONHACK\\LABS\\Lab3&Lab4\\Lab 4\\1.4 lab-functions-20240120T175843Z-001\\1.4 lab-functions\\lab-functions\\mod\\testing.py\", line 187, in runTest\n",
      "    self.assertEqual(fn(self.input), self.output, f\"Should be {self.output}\")\n",
      "AssertionError: [',', ',', ',', ',', ',', ',', ',', ',', [639 chars] 'z'] != 'bevyi,bloxqgjod,dcvzhmga,delaimnf,guhpa,[93 chars]zmhj' : Should be bevyi,bloxqgjod,dcvzhmga,delaimnf,guhpa,jkyzbblin,jsbs,ksdzihwdmp,nqsfvq,odrkxxnxf,psxlu,pwrzuki,rbhleuudm,wqbh,xkrllu,ybzkvora,ygdq,zmhj\n",
      "\n",
      "======================================================================\n",
      "FAIL: runTest (mod.testing.test_alpha.<locals>.TestKnown.runTest)\n",
      "----------------------------------------------------------------------\n",
      "Traceback (most recent call last):\n",
      "  File \"C:\\Users\\Aida\\Documents\\IRONHACK\\LABS\\Lab3&Lab4\\Lab 4\\1.4 lab-functions-20240120T175843Z-001\\1.4 lab-functions\\lab-functions\\mod\\testing.py\", line 187, in runTest\n",
      "    self.assertEqual(fn(self.input), self.output, f\"Should be {self.output}\")\n",
      "AssertionError: [',', ',', ',', ',', 'a', 'a', 'a', 'b', [184 chars] 'z'] != 'hydjz,kecysukpi,uhugzfaavc,wqljafhonq,yusfbvoj' : Should be hydjz,kecysukpi,uhugzfaavc,wqljafhonq,yusfbvoj\n",
      "\n",
      "======================================================================\n",
      "FAIL: runTest (mod.testing.test_alpha.<locals>.TestKnown.runTest)\n",
      "----------------------------------------------------------------------\n",
      "Traceback (most recent call last):\n",
      "  File \"C:\\Users\\Aida\\Documents\\IRONHACK\\LABS\\Lab3&Lab4\\Lab 4\\1.4 lab-functions-20240120T175843Z-001\\1.4 lab-functions\\lab-functions\\mod\\testing.py\", line 187, in runTest\n",
      "    self.assertEqual(fn(self.input), self.output, f\"Should be {self.output}\")\n",
      "AssertionError: [',', ',', ',', ',', ',', ',', ',', ',', [789 chars] 'z'] != 'chetqxqth,crzk,ctlbx,ebzoim,fwfwt,hyxz,i[123 chars]zlyi' : Should be chetqxqth,crzk,ctlbx,ebzoim,fwfwt,hyxz,ielvk,ifeyj,lnhq,lrlotbb,nfbinufi,pckhqg,pjfxmxqoc,pzchpnzyxu,ruyxieixms,twctijub,uvpmt,xwyaiq,yeephcrmxx,yxaulq,ziuiggqkcu,zlyi\n",
      "\n",
      "======================================================================\n",
      "FAIL: runTest (mod.testing.test_alpha.<locals>.TestKnown.runTest)\n",
      "----------------------------------------------------------------------\n",
      "Traceback (most recent call last):\n",
      "  File \"C:\\Users\\Aida\\Documents\\IRONHACK\\LABS\\Lab3&Lab4\\Lab 4\\1.4 lab-functions-20240120T175843Z-001\\1.4 lab-functions\\lab-functions\\mod\\testing.py\", line 187, in runTest\n",
      "    self.assertEqual(fn(self.input), self.output, f\"Should be {self.output}\")\n",
      "AssertionError: [',', ',', ',', ',', ',', ',', ',', ',', [549 chars] 'z'] != 'afjmtpktpu,bbtbsczg,boyzkqqg,ekbknhcs,iu[75 chars]rast' : Should be afjmtpktpu,bbtbsczg,boyzkqqg,ekbknhcs,iujm,lvhvswdaz,mdpej,mfwgexrroi,mqktzbu,pxkuctshv,qbwm,qhhk,txuszcbyri,uqob,zrast\n",
      "\n",
      "======================================================================\n",
      "FAIL: runTest (mod.testing.test_alpha.<locals>.TestKnown.runTest)\n",
      "----------------------------------------------------------------------\n",
      "Traceback (most recent call last):\n",
      "  File \"C:\\Users\\Aida\\Documents\\IRONHACK\\LABS\\Lab3&Lab4\\Lab 4\\1.4 lab-functions-20240120T175843Z-001\\1.4 lab-functions\\lab-functions\\mod\\testing.py\", line 187, in runTest\n",
      "    self.assertEqual(fn(self.input), self.output, f\"Should be {self.output}\")\n",
      "AssertionError: [',', ',', ',', ',', 'a', 'a', 'b', 'b', [159 chars] 'y'] != 'bedqmatwk,hwbxqcfits,tbdm,wjiavixly,xcogc' : Should be bedqmatwk,hwbxqcfits,tbdm,wjiavixly,xcogc\n",
      "\n",
      "======================================================================\n",
      "FAIL: runTest (mod.testing.test_alpha.<locals>.TestKnown.runTest)\n",
      "----------------------------------------------------------------------\n",
      "Traceback (most recent call last):\n",
      "  File \"C:\\Users\\Aida\\Documents\\IRONHACK\\LABS\\Lab3&Lab4\\Lab 4\\1.4 lab-functions-20240120T175843Z-001\\1.4 lab-functions\\lab-functions\\mod\\testing.py\", line 187, in runTest\n",
      "    self.assertEqual(fn(self.input), self.output, f\"Should be {self.output}\")\n",
      "AssertionError: [',', ',', ',', ',', ',', ',', ',', 'a', [284 chars] 'z'] != 'bkarjvje,icequrq,lhyh,sbfbea,vmiypnxn,vw[22 chars]lcfh' : Should be bkarjvje,icequrq,lhyh,sbfbea,vmiypnxn,vwlhydnn,xchaeveyd,zwepqlcfh\n",
      "\n",
      "======================================================================\n",
      "FAIL: runTest (mod.testing.test_alpha.<locals>.TestKnown.runTest)\n",
      "----------------------------------------------------------------------\n",
      "Traceback (most recent call last):\n",
      "  File \"C:\\Users\\Aida\\Documents\\IRONHACK\\LABS\\Lab3&Lab4\\Lab 4\\1.4 lab-functions-20240120T175843Z-001\\1.4 lab-functions\\lab-functions\\mod\\testing.py\", line 187, in runTest\n",
      "    self.assertEqual(fn(self.input), self.output, f\"Should be {self.output}\")\n",
      "AssertionError: [',', ',', ',', ',', ',', ',', ',', ',', [564 chars] 'z'] != 'akdr,ccnte,fajm,fpew,gtnm,gznbn,islovrsc[78 chars]bzxo' : Should be akdr,ccnte,fajm,fpew,gtnm,gznbn,islovrscxb,jelxypwh,qxzzwfgw,tdkkuqanf,teposacaik,tesl,xewgasrpvx,xlwpyobap,yzzwi,zjmhbzxo\n",
      "\n",
      "======================================================================\n",
      "FAIL: runTest (mod.testing.test_alpha.<locals>.TestKnown.runTest)\n",
      "----------------------------------------------------------------------\n",
      "Traceback (most recent call last):\n",
      "  File \"C:\\Users\\Aida\\Documents\\IRONHACK\\LABS\\Lab3&Lab4\\Lab 4\\1.4 lab-functions-20240120T175843Z-001\\1.4 lab-functions\\lab-functions\\mod\\testing.py\", line 187, in runTest\n",
      "    self.assertEqual(fn(self.input), self.output, f\"Should be {self.output}\")\n",
      "AssertionError: [',', ',', ',', ',', ',', ',', ',', ',', [889 chars] 'z'] != 'bxvlndgh,cnho,cuabphmypd,dhly,edmofelkhh[143 chars]gkcv' : Should be bxvlndgh,cnho,cuabphmypd,dhly,edmofelkhh,elthokhud,empr,gpqhpvu,hdqlb,hjwqvblco,ilpd,jelm,jffzspvzm,kgldh,kqmy,kzbfd,lpltzclv,lyqllte,nrskxmf,plcsdmdh,tadbfcqg,urfjkgvs,xirfwewm,zqzizgkcv\n",
      "\n",
      "======================================================================\n",
      "FAIL: runTest (mod.testing.test_alpha.<locals>.TestKnown.runTest)\n",
      "----------------------------------------------------------------------\n",
      "Traceback (most recent call last):\n",
      "  File \"C:\\Users\\Aida\\Documents\\IRONHACK\\LABS\\Lab3&Lab4\\Lab 4\\1.4 lab-functions-20240120T175843Z-001\\1.4 lab-functions\\lab-functions\\mod\\testing.py\", line 187, in runTest\n",
      "    self.assertEqual(fn(self.input), self.output, f\"Should be {self.output}\")\n",
      "AssertionError: [',', ',', ',', ',', ',', ',', 'a', 'a', [274 chars] 'z'] != 'bsdprq,bzckwfoqm,empxqsv,kaeuvmba,lgmnmu[20 chars]hxke' : Should be bsdprq,bzckwfoqm,empxqsv,kaeuvmba,lgmnmuttn,yzuggityit,zvpdwhxke\n",
      "\n",
      "======================================================================\n",
      "FAIL: runTest (mod.testing.test_alpha.<locals>.TestKnown.runTest)\n",
      "----------------------------------------------------------------------\n",
      "Traceback (most recent call last):\n",
      "  File \"C:\\Users\\Aida\\Documents\\IRONHACK\\LABS\\Lab3&Lab4\\Lab 4\\1.4 lab-functions-20240120T175843Z-001\\1.4 lab-functions\\lab-functions\\mod\\testing.py\", line 187, in runTest\n",
      "    self.assertEqual(fn(self.input), self.output, f\"Should be {self.output}\")\n",
      "AssertionError: [',', ',', ',', ',', ',', ',', ',', ',', [814 chars] 'z'] != 'fpwimbqq,gimlvbtwui,gwxr,jiwquhvwyl,kufy[128 chars]zzsl' : Should be fpwimbqq,gimlvbtwui,gwxr,jiwquhvwyl,kufyhjd,lgiyx,maqgvmlnao,nabw,oaxwcdchjj,ppqngwcr,ptdwwzgno,sogpxrbc,tlrdzvaah,uyrejdxfi,vzmnd,xigowuvmrk,xtxaaitp,yddznso,zpvfjfyw,zzsl\n",
      "\n",
      "======================================================================\n",
      "FAIL: runTest (mod.testing.test_alpha.<locals>.TestKnown.runTest)\n",
      "----------------------------------------------------------------------\n",
      "Traceback (most recent call last):\n",
      "  File \"C:\\Users\\Aida\\Documents\\IRONHACK\\LABS\\Lab3&Lab4\\Lab 4\\1.4 lab-functions-20240120T175843Z-001\\1.4 lab-functions\\lab-functions\\mod\\testing.py\", line 187, in runTest\n",
      "    self.assertEqual(fn(self.input), self.output, f\"Should be {self.output}\")\n",
      "AssertionError: [',', ',', ',', ',', ',', ',', ',', ',', [774 chars] 'z'] != 'buqhiw,bxsrb,dvgllxgpe,exmje,fraoho,gvdg[120 chars]hofx' : Should be buqhiw,bxsrb,dvgllxgpe,exmje,fraoho,gvdgmbmtyb,jzhyfjbd,ldpxevsoo,lqjkpc,mkelhoi,mkixoeer,ogxvchqqxm,rnqfprncd,sviw,vbpjpsizav,vhjugeudv,wzdnkl,xprjbt,yqwyvo,yrhofx\n",
      "\n",
      "======================================================================\n",
      "FAIL: runTest (mod.testing.test_alpha.<locals>.TestKnown.runTest)\n",
      "----------------------------------------------------------------------\n",
      "Traceback (most recent call last):\n",
      "  File \"C:\\Users\\Aida\\Documents\\IRONHACK\\LABS\\Lab3&Lab4\\Lab 4\\1.4 lab-functions-20240120T175843Z-001\\1.4 lab-functions\\lab-functions\\mod\\testing.py\", line 187, in runTest\n",
      "    self.assertEqual(fn(self.input), self.output, f\"Should be {self.output}\")\n",
      "AssertionError: [',', ',', ',', ',', ',', 'c', 'c', 'd', [149 chars] 'z'] != 'dpxzi,fpcjhxtd,jowl,qhxmro,tztcl,wviqtr' : Should be dpxzi,fpcjhxtd,jowl,qhxmro,tztcl,wviqtr\n",
      "\n",
      "======================================================================\n",
      "FAIL: runTest (mod.testing.test_alpha.<locals>.TestKnown.runTest)\n",
      "----------------------------------------------------------------------\n",
      "Traceback (most recent call last):\n",
      "  File \"C:\\Users\\Aida\\Documents\\IRONHACK\\LABS\\Lab3&Lab4\\Lab 4\\1.4 lab-functions-20240120T175843Z-001\\1.4 lab-functions\\lab-functions\\mod\\testing.py\", line 187, in runTest\n",
      "    self.assertEqual(fn(self.input), self.output, f\"Should be {self.output}\")\n",
      "AssertionError: [',', ',', ',', ',', ',', ',', ',', ',', [939 chars] 'z'] != 'dkmulql,eaydlmmv,eommrfxqo,gbjfshceqx,gj[153 chars]liyv' : Should be dkmulql,eaydlmmv,eommrfxqo,gbjfshceqx,gjxiclyq,hbqazxbd,hzvqik,iydjbkzvtm,jcdsrqn,jxnvgvt,kysz,lqqjw,lvwcrc,nniqjkbxv,okppm,pzjorlesdc,qmoxddomgm,tbxgub,uqocfb,vrefea,xosx,yzhag,zljus,zpfsf,ztrliyv\n",
      "\n",
      "======================================================================\n",
      "FAIL: runTest (mod.testing.test_alpha.<locals>.TestKnown.runTest)\n",
      "----------------------------------------------------------------------\n",
      "Traceback (most recent call last):\n",
      "  File \"C:\\Users\\Aida\\Documents\\IRONHACK\\LABS\\Lab3&Lab4\\Lab 4\\1.4 lab-functions-20240120T175843Z-001\\1.4 lab-functions\\lab-functions\\mod\\testing.py\", line 187, in runTest\n",
      "    self.assertEqual(fn(self.input), self.output, f\"Should be {self.output}\")\n",
      "AssertionError: [',', ',', ',', ',', ',', ',', ',', ',', [489 chars] 'z'] != 'aogt,cbrgcwvo,cwvcp,eegrpjter,gcbtmkmv,g[63 chars]bkrg' : Should be aogt,cbrgcwvo,cwvcp,eegrpjter,gcbtmkmv,gubyprdpiq,hcbrtt,hrgmae,koawoon,njcojn,scdj,wearbqn,zfoy,zqfwhabkrg\n",
      "\n",
      "======================================================================\n",
      "FAIL: runTest (mod.testing.test_alpha.<locals>.TestKnown.runTest)\n",
      "----------------------------------------------------------------------\n",
      "Traceback (most recent call last):\n",
      "  File \"C:\\Users\\Aida\\Documents\\IRONHACK\\LABS\\Lab3&Lab4\\Lab 4\\1.4 lab-functions-20240120T175843Z-001\\1.4 lab-functions\\lab-functions\\mod\\testing.py\", line 187, in runTest\n",
      "    self.assertEqual(fn(self.input), self.output, f\"Should be {self.output}\")\n",
      "AssertionError: [',', ',', ',', ',', ',', ',', ',', ',', [974 chars] 'z'] != 'anitpzb,chwjjqp,dtbnn,fzvqszu,heqqcfcy,h[160 chars]cryj' : Should be anitpzb,chwjjqp,dtbnn,fzvqszu,heqqcfcy,hksntucrh,jlsxc,kelmmdvp,lglpet,llxfl,mibvltrex,nqrf,oknvffkznw,pdnutx,tlddezhn,tmkxsm,tutqadyr,ubjqwvtnr,vjysbbq,voyorixd,vsnnxn,xcdpitptm,yruuqusgur,zllf,zzhkgcryj\n",
      "\n",
      "======================================================================\n",
      "FAIL: runTest (mod.testing.test_alpha.<locals>.TestKnown.runTest)\n",
      "----------------------------------------------------------------------\n",
      "Traceback (most recent call last):\n",
      "  File \"C:\\Users\\Aida\\Documents\\IRONHACK\\LABS\\Lab3&Lab4\\Lab 4\\1.4 lab-functions-20240120T175843Z-001\\1.4 lab-functions\\lab-functions\\mod\\testing.py\", line 187, in runTest\n",
      "    self.assertEqual(fn(self.input), self.output, f\"Should be {self.output}\")\n",
      "AssertionError: [',', ',', ',', ',', ',', ',', ',', ',', [724 chars] 'z'] != 'acyn,bxluxowztl,crnmvmbu,dvftzk,hdiwezoe[110 chars]tmmj' : Should be acyn,bxluxowztl,crnmvmbu,dvftzk,hdiwezoet,hobew,iefbehdq,iuswkedc,kjopld,kktqfdl,liqhvpnh,qgpabab,spjtwmmlud,swaox,txqwi,ulchs,uraurlbudg,vaosvhrb,wlwtmmj\n",
      "\n",
      "======================================================================\n",
      "FAIL: runTest (mod.testing.test_alpha.<locals>.TestKnown.runTest)\n",
      "----------------------------------------------------------------------\n",
      "Traceback (most recent call last):\n",
      "  File \"C:\\Users\\Aida\\Documents\\IRONHACK\\LABS\\Lab3&Lab4\\Lab 4\\1.4 lab-functions-20240120T175843Z-001\\1.4 lab-functions\\lab-functions\\mod\\testing.py\", line 187, in runTest\n",
      "    self.assertEqual(fn(self.input), self.output, f\"Should be {self.output}\")\n",
      "AssertionError: [',', ',', ',', 'a', 'a', 'b', 'c', 'c', [119 chars] 'z'] != 'alezctn,hedacc,yonbuhqqou,zdtkzrz' : Should be alezctn,hedacc,yonbuhqqou,zdtkzrz\n",
      "\n",
      "======================================================================\n",
      "FAIL: runTest (mod.testing.test_alpha.<locals>.TestKnown.runTest)\n",
      "----------------------------------------------------------------------\n",
      "Traceback (most recent call last):\n",
      "  File \"C:\\Users\\Aida\\Documents\\IRONHACK\\LABS\\Lab3&Lab4\\Lab 4\\1.4 lab-functions-20240120T175843Z-001\\1.4 lab-functions\\lab-functions\\mod\\testing.py\", line 187, in runTest\n",
      "    self.assertEqual(fn(self.input), self.output, f\"Should be {self.output}\")\n",
      "AssertionError: [',', ',', ',', ',', ',', ',', ',', 'a', [324 chars] 'z'] != 'ftrzvtloe,ihtseslimt,lisxnqata,ommkku,rc[30 chars]untl' : Should be ftrzvtloe,ihtseslimt,lisxnqata,ommkku,rcqnohune,soep,sxpilqrmsm,wubmphuntl\n",
      "\n",
      "======================================================================\n",
      "FAIL: runTest (mod.testing.test_alpha.<locals>.TestKnown.runTest)\n",
      "----------------------------------------------------------------------\n",
      "Traceback (most recent call last):\n",
      "  File \"C:\\Users\\Aida\\Documents\\IRONHACK\\LABS\\Lab3&Lab4\\Lab 4\\1.4 lab-functions-20240120T175843Z-001\\1.4 lab-functions\\lab-functions\\mod\\testing.py\", line 187, in runTest\n",
      "    self.assertEqual(fn(self.input), self.output, f\"Should be {self.output}\")\n",
      "AssertionError: [',', ',', ',', ',', ',', ',', ',', ',', [994 chars] 'z'] != 'amqopk,ceveyklcef,clivbipdo,cqnnwgh,drhj[164 chars]xnpg' : Should be amqopk,ceveyklcef,clivbipdo,cqnnwgh,drhjvt,fejqvy,fhbtla,iqwonhbe,knpuxc,lophhceuad,ncib,nzjisovjkx,oujsg,pfknxltyg,pnqxewueie,pwxu,qisikgcojl,rraloavv,tlhokqll,ujzklddb,vjehpzqyf,wqsu,wvad,xjmcmfs,zdgwnyxnpg\n",
      "\n",
      "======================================================================\n",
      "FAIL: runTest (mod.testing.test_alpha.<locals>.TestKnown.runTest)\n",
      "----------------------------------------------------------------------\n",
      "Traceback (most recent call last):\n",
      "  File \"C:\\Users\\Aida\\Documents\\IRONHACK\\LABS\\Lab3&Lab4\\Lab 4\\1.4 lab-functions-20240120T175843Z-001\\1.4 lab-functions\\lab-functions\\mod\\testing.py\", line 187, in runTest\n",
      "    self.assertEqual(fn(self.input), self.output, f\"Should be {self.output}\")\n",
      "AssertionError: [',', ',', ',', ',', 'a', 'b', 'b', 'b', [189 chars] 'z'] != 'bdlpyxk,diragcl,rkbrbdidp,txosqzqzxs,zjtglwqnmo' : Should be bdlpyxk,diragcl,rkbrbdidp,txosqzqzxs,zjtglwqnmo\n",
      "\n",
      "======================================================================\n",
      "FAIL: runTest (mod.testing.test_alpha.<locals>.TestKnown.runTest)\n",
      "----------------------------------------------------------------------\n",
      "Traceback (most recent call last):\n",
      "  File \"C:\\Users\\Aida\\Documents\\IRONHACK\\LABS\\Lab3&Lab4\\Lab 4\\1.4 lab-functions-20240120T175843Z-001\\1.4 lab-functions\\lab-functions\\mod\\testing.py\", line 187, in runTest\n",
      "    self.assertEqual(fn(self.input), self.output, f\"Should be {self.output}\")\n",
      "AssertionError: [',', ',', ',', ',', ',', 'a', 'd', 'd', [199 chars] 'z'] != 'fixqvsdf,hgmuayl,iuzkgm,trpedudelm,xrupm,zkkrdvzi' : Should be fixqvsdf,hgmuayl,iuzkgm,trpedudelm,xrupm,zkkrdvzi\n",
      "\n",
      "======================================================================\n",
      "FAIL: runTest (mod.testing.test_alpha.<locals>.TestKnown.runTest)\n",
      "----------------------------------------------------------------------\n",
      "Traceback (most recent call last):\n",
      "  File \"C:\\Users\\Aida\\Documents\\IRONHACK\\LABS\\Lab3&Lab4\\Lab 4\\1.4 lab-functions-20240120T175843Z-001\\1.4 lab-functions\\lab-functions\\mod\\testing.py\", line 187, in runTest\n",
      "    self.assertEqual(fn(self.input), self.output, f\"Should be {self.output}\")\n",
      "AssertionError: [',', ',', ',', ',', ',', ',', ',', ',', [1004 chars] 'z'] != 'bgguoixceg,btykaytvh,civi,fiiuwiprol,fle[166 chars]jamt' : Should be bgguoixceg,btykaytvh,civi,fiiuwiprol,fleoaq,fykydpp,gcvbcso,ggjozcrhrr,gytfjnplo,ivsxl,jwiaujgzy,jzono,kbpryvpbj,mdcjbm,prahtfo,qjvzdvme,rbbmigo,rdwinwqpev,rdxmptj,speix,utqydtzlm,vxaqej,wrtmqmh,yhkk,yuoizqjamt\n",
      "\n",
      "======================================================================\n",
      "FAIL: runTest (mod.testing.test_alpha.<locals>.TestKnown.runTest)\n",
      "----------------------------------------------------------------------\n",
      "Traceback (most recent call last):\n",
      "  File \"C:\\Users\\Aida\\Documents\\IRONHACK\\LABS\\Lab3&Lab4\\Lab 4\\1.4 lab-functions-20240120T175843Z-001\\1.4 lab-functions\\lab-functions\\mod\\testing.py\", line 187, in runTest\n",
      "    self.assertEqual(fn(self.input), self.output, f\"Should be {self.output}\")\n",
      "AssertionError: [',', ',', ',', ',', ',', ',', ',', ',', [704 chars] 'z'] != 'cdxfhwh,egapbybbv,ejqg,gaxnnzz,gwdmnzxnq[106 chars]iclg' : Should be cdxfhwh,egapbybbv,ejqg,gaxnnzz,gwdmnzxnq,hhklkgvhm,iybymoubi,jymelxsyev,ligs,lnevfv,lqdcngghf,nismmw,pejrywbogq,qcvmo,qppe,sfcvevuvx,xzynznaspv,yticlg\n",
      "\n",
      "======================================================================\n",
      "FAIL: runTest (mod.testing.test_alpha.<locals>.TestKnown.runTest)\n",
      "----------------------------------------------------------------------\n",
      "Traceback (most recent call last):\n",
      "  File \"C:\\Users\\Aida\\Documents\\IRONHACK\\LABS\\Lab3&Lab4\\Lab 4\\1.4 lab-functions-20240120T175843Z-001\\1.4 lab-functions\\lab-functions\\mod\\testing.py\", line 187, in runTest\n",
      "    self.assertEqual(fn(self.input), self.output, f\"Should be {self.output}\")\n",
      "AssertionError: [',', ',', ',', ',', ',', ',', ',', ',', [779 chars] 'z'] != 'bcmbea,bxfnh,eapcfskd,ennvpz,fezvpo,gvbk[121 chars]uqjw' : Should be bcmbea,bxfnh,eapcfskd,ennvpz,fezvpo,gvbk,gvkganmdk,hbqvzz,iouposug,ipnrleegz,jjbjvkrskz,kmmmq,peljfwt,qfcnrnm,qsifm,vloq,vzznpmogjm,woddmolko,wzse,xelwgzq,ymczkyuqjw\n",
      "\n",
      "======================================================================\n",
      "FAIL: runTest (mod.testing.test_alpha.<locals>.TestKnown.runTest)\n",
      "----------------------------------------------------------------------\n",
      "Traceback (most recent call last):\n",
      "  File \"C:\\Users\\Aida\\Documents\\IRONHACK\\LABS\\Lab3&Lab4\\Lab 4\\1.4 lab-functions-20240120T175843Z-001\\1.4 lab-functions\\lab-functions\\mod\\testing.py\", line 187, in runTest\n",
      "    self.assertEqual(fn(self.input), self.output, f\"Should be {self.output}\")\n",
      "AssertionError: [',', ',', ',', ',', ',', ',', ',', ',', [339 chars] 'z'] != 'dseoywkyx,fgirs,gbbzo,nlhtkswgmw,pmvsb,p[33 chars]xlwv' : Should be dseoywkyx,fgirs,gbbzo,nlhtkswgmw,pmvsb,pwtgpdxwa,sgbmsums,tdeof,ufewze,ydxlwv\n",
      "\n",
      "======================================================================\n",
      "FAIL: runTest (mod.testing.test_alpha.<locals>.TestKnown.runTest)\n",
      "----------------------------------------------------------------------\n",
      "Traceback (most recent call last):\n",
      "  File \"C:\\Users\\Aida\\Documents\\IRONHACK\\LABS\\Lab3&Lab4\\Lab 4\\1.4 lab-functions-20240120T175843Z-001\\1.4 lab-functions\\lab-functions\\mod\\testing.py\", line 187, in runTest\n",
      "    self.assertEqual(fn(self.input), self.output, f\"Should be {self.output}\")\n",
      "AssertionError: [',', ',', ',', ',', ',', ',', ',', 'a', [294 chars] 'z'] != 'aboyqrzom,cczkpqmh,gzemwmjbbt,idkf,kdqn,[24 chars]oaoj' : Should be aboyqrzom,cczkpqmh,gzemwmjbbt,idkf,kdqn,kraaun,mwprpgjqay,zqttoyoaoj\n",
      "\n",
      "======================================================================\n",
      "FAIL: runTest (mod.testing.test_alpha.<locals>.TestKnown.runTest)\n",
      "----------------------------------------------------------------------\n",
      "Traceback (most recent call last):\n",
      "  File \"C:\\Users\\Aida\\Documents\\IRONHACK\\LABS\\Lab3&Lab4\\Lab 4\\1.4 lab-functions-20240120T175843Z-001\\1.4 lab-functions\\lab-functions\\mod\\testing.py\", line 187, in runTest\n",
      "    self.assertEqual(fn(self.input), self.output, f\"Should be {self.output}\")\n",
      "AssertionError: [',', ',', ',', ',', ',', ',', ',', ',', [439 chars] 'z'] != 'asjxxtbz,bamymvz,cgloi,dnirhoo,dogjt,erj[53 chars]evjc' : Should be asjxxtbz,bamymvz,cgloi,dnirhoo,dogjt,erjrz,mmwvrobct,onchp,qwfjtdw,tdyotay,tgcrxx,xxavjxowu,zevjc\n",
      "\n",
      "======================================================================\n",
      "FAIL: runTest (mod.testing.test_alpha.<locals>.TestKnown.runTest)\n",
      "----------------------------------------------------------------------\n",
      "Traceback (most recent call last):\n",
      "  File \"C:\\Users\\Aida\\Documents\\IRONHACK\\LABS\\Lab3&Lab4\\Lab 4\\1.4 lab-functions-20240120T175843Z-001\\1.4 lab-functions\\lab-functions\\mod\\testing.py\", line 187, in runTest\n",
      "    self.assertEqual(fn(self.input), self.output, f\"Should be {self.output}\")\n",
      "AssertionError: [',', ',', ',', ',', ',', ',', ',', ',', [484 chars] 'z'] != 'bllra,fpqayrg,gyebgsgf,jwogl,jyzyliejb,l[62 chars]xolx' : Should be bllra,fpqayrg,gyebgsgf,jwogl,jyzyliejb,lxcmzi,mycki,nuosaqzued,rbqoaoxuty,texlqiwbyw,ttfn,uuwcisd,wiccxolx\n",
      "\n",
      "======================================================================\n",
      "FAIL: runTest (mod.testing.test_alpha.<locals>.TestKnown.runTest)\n",
      "----------------------------------------------------------------------\n",
      "Traceback (most recent call last):\n",
      "  File \"C:\\Users\\Aida\\Documents\\IRONHACK\\LABS\\Lab3&Lab4\\Lab 4\\1.4 lab-functions-20240120T175843Z-001\\1.4 lab-functions\\lab-functions\\mod\\testing.py\", line 187, in runTest\n",
      "    self.assertEqual(fn(self.input), self.output, f\"Should be {self.output}\")\n",
      "AssertionError: [',', ',', ',', 'a', 'a', 'a', 'a', 'c', [139 chars] 'z'] != 'afnfdhswvj,gzydjajcl,igalale,iqmkvprh' : Should be afnfdhswvj,gzydjajcl,igalale,iqmkvprh\n",
      "\n",
      "======================================================================\n",
      "FAIL: runTest (mod.testing.test_alpha.<locals>.TestKnown.runTest)\n",
      "----------------------------------------------------------------------\n",
      "Traceback (most recent call last):\n",
      "  File \"C:\\Users\\Aida\\Documents\\IRONHACK\\LABS\\Lab3&Lab4\\Lab 4\\1.4 lab-functions-20240120T175843Z-001\\1.4 lab-functions\\lab-functions\\mod\\testing.py\", line 187, in runTest\n",
      "    self.assertEqual(fn(self.input), self.output, f\"Should be {self.output}\")\n",
      "AssertionError: [',', ',', ',', ',', ',', ',', ',', ',', [689 chars] 'z'] != 'ccfmvbkubl,ccif,dhtpi,epby,fwjwyq,fwowrf[103 chars]xass' : Should be ccfmvbkubl,ccif,dhtpi,epby,fwjwyq,fwowrfaw,fxetqc,gtnv,jcukoq,oigkkwuv,olmyz,oxuh,pghhf,sbampqidb,siuufzu,unxjrqae,vqmba,vyjfuuwny,wmezcd,xxtokxass\n",
      "\n",
      "======================================================================\n",
      "FAIL: runTest (mod.testing.test_alpha.<locals>.TestKnown.runTest)\n",
      "----------------------------------------------------------------------\n",
      "Traceback (most recent call last):\n",
      "  File \"C:\\Users\\Aida\\Documents\\IRONHACK\\LABS\\Lab3&Lab4\\Lab 4\\1.4 lab-functions-20240120T175843Z-001\\1.4 lab-functions\\lab-functions\\mod\\testing.py\", line 187, in runTest\n",
      "    self.assertEqual(fn(self.input), self.output, f\"Should be {self.output}\")\n",
      "AssertionError: [',', ',', ',', 'a', 'b', 'b', 'f', 'h', [109 chars] 'z'] != 'izuu,lsafirht,lsbszhqo,oboxphno' : Should be izuu,lsafirht,lsbszhqo,oboxphno\n",
      "\n",
      "======================================================================\n",
      "FAIL: runTest (mod.testing.test_alpha.<locals>.TestKnown.runTest)\n",
      "----------------------------------------------------------------------\n",
      "Traceback (most recent call last):\n",
      "  File \"C:\\Users\\Aida\\Documents\\IRONHACK\\LABS\\Lab3&Lab4\\Lab 4\\1.4 lab-functions-20240120T175843Z-001\\1.4 lab-functions\\lab-functions\\mod\\testing.py\", line 187, in runTest\n",
      "    self.assertEqual(fn(self.input), self.output, f\"Should be {self.output}\")\n",
      "AssertionError: [',', ',', ',', ',', ',', ',', ',', ',', [454 chars] 'z'] != 'czdyipc,emxqmdutbn,eqbty,izptcec,khkln,k[56 chars]xkvh' : Should be czdyipc,emxqmdutbn,eqbty,izptcec,khkln,kyjbbwxyg,mbbwxn,mooqq,nlbpznxu,qkuj,tjhptppsnw,ugzjv,yxjxkvh\n",
      "\n",
      "======================================================================\n",
      "FAIL: runTest (mod.testing.test_alpha.<locals>.TestKnown.runTest)\n",
      "----------------------------------------------------------------------\n",
      "Traceback (most recent call last):\n",
      "  File \"C:\\Users\\Aida\\Documents\\IRONHACK\\LABS\\Lab3&Lab4\\Lab 4\\1.4 lab-functions-20240120T175843Z-001\\1.4 lab-functions\\lab-functions\\mod\\testing.py\", line 187, in runTest\n",
      "    self.assertEqual(fn(self.input), self.output, f\"Should be {self.output}\")\n",
      "AssertionError: [',', ',', ',', ',', ',', ',', ',', ',', [399 chars] 'z'] != 'agdriitoyx,bibz,bmghfrsx,dgzlnhs,ewokqrq[45 chars]tjrj' : Should be agdriitoyx,bibz,bmghfrsx,dgzlnhs,ewokqrq,kdezmkq,knyyxth,ndkuy,nmgbjl,ongrhuzm,tpqzrltjrj\n",
      "\n",
      "======================================================================\n",
      "FAIL: runTest (mod.testing.test_alpha.<locals>.TestKnown.runTest)\n",
      "----------------------------------------------------------------------\n",
      "Traceback (most recent call last):\n",
      "  File \"C:\\Users\\Aida\\Documents\\IRONHACK\\LABS\\Lab3&Lab4\\Lab 4\\1.4 lab-functions-20240120T175843Z-001\\1.4 lab-functions\\lab-functions\\mod\\testing.py\", line 187, in runTest\n",
      "    self.assertEqual(fn(self.input), self.output, f\"Should be {self.output}\")\n",
      "AssertionError: [',', ',', ',', ',', ',', ',', ',', 'a', [289 chars] 'z'] != 'etxgbfb,fokvr,ldtrana,rapzmeyepx,rfycpwa[23 chars]otga' : Should be etxgbfb,fokvr,ldtrana,rapzmeyepx,rfycpwandq,tkxqewcpfp,vbxy,zhsotga\n",
      "\n",
      "======================================================================\n",
      "FAIL: runTest (mod.testing.test_alpha.<locals>.TestKnown.runTest)\n",
      "----------------------------------------------------------------------\n",
      "Traceback (most recent call last):\n",
      "  File \"C:\\Users\\Aida\\Documents\\IRONHACK\\LABS\\Lab3&Lab4\\Lab 4\\1.4 lab-functions-20240120T175843Z-001\\1.4 lab-functions\\lab-functions\\mod\\testing.py\", line 187, in runTest\n",
      "    self.assertEqual(fn(self.input), self.output, f\"Should be {self.output}\")\n",
      "AssertionError: [',', ',', ',', ',', ',', ',', ',', ',', [504 chars] 'z'] != 'doipw,eitb,emugwyfcmz,gfnbdafakn,hrddnx,[66 chars]fpsi' : Should be doipw,eitb,emugwyfcmz,gfnbdafakn,hrddnx,myhlwusp,nxwut,ohqrhjmty,rjyofajrid,ryngnocgp,wgykmau,yfheyvktx,zyfpsi\n",
      "\n",
      "======================================================================\n",
      "FAIL: runTest (mod.testing.test_alpha.<locals>.TestKnown.runTest)\n",
      "----------------------------------------------------------------------\n",
      "Traceback (most recent call last):\n",
      "  File \"C:\\Users\\Aida\\Documents\\IRONHACK\\LABS\\Lab3&Lab4\\Lab 4\\1.4 lab-functions-20240120T175843Z-001\\1.4 lab-functions\\lab-functions\\mod\\testing.py\", line 187, in runTest\n",
      "    self.assertEqual(fn(self.input), self.output, f\"Should be {self.output}\")\n",
      "AssertionError: [',', ',', ',', ',', ',', ',', ',', ',', [789 chars] 'z'] != 'cnytqdtx,csvoyezb,cycwmk,emkgevjwip,epuh[123 chars]yykb' : Should be cnytqdtx,csvoyezb,cycwmk,emkgevjwip,epuhhiaqt,gnsrrrwl,hptbn,iqvgb,jtirus,mmkcrf,ohumravfl,qqmni,stxakqjksh,svtixmt,uunmlrrhui,uzmafjxozo,vylhgcn,wjdqm,wklo,yjcry,yykb\n",
      "\n",
      "======================================================================\n",
      "FAIL: runTest (mod.testing.test_alpha.<locals>.TestKnown.runTest)\n",
      "----------------------------------------------------------------------\n",
      "Traceback (most recent call last):\n",
      "  File \"C:\\Users\\Aida\\Documents\\IRONHACK\\LABS\\Lab3&Lab4\\Lab 4\\1.4 lab-functions-20240120T175843Z-001\\1.4 lab-functions\\lab-functions\\mod\\testing.py\", line 187, in runTest\n",
      "    self.assertEqual(fn(self.input), self.output, f\"Should be {self.output}\")\n",
      "AssertionError: [',', ',', ',', ',', ',', ',', ',', ',', [834 chars] 'z'] != 'afqckdrp,akskvqbolx,awniruyqlw,bjbwy,ckl[132 chars]vanq' : Should be afqckdrp,akskvqbolx,awniruyqlw,bjbwy,ckloc,dsqiq,ekuxvcpc,etcwtwwh,exufmfta,fdjwqucf,flrknmi,ghkcfn,hdcuv,hzdml,jthwv,mireq,pard,repjbr,shnt,sucebfd,uafsefp,xvnufsiryt,ygwuvanq\n",
      "\n",
      "======================================================================\n",
      "FAIL: runTest (mod.testing.test_alpha.<locals>.TestKnown.runTest)\n",
      "----------------------------------------------------------------------\n",
      "Traceback (most recent call last):\n",
      "  File \"C:\\Users\\Aida\\Documents\\IRONHACK\\LABS\\Lab3&Lab4\\Lab 4\\1.4 lab-functions-20240120T175843Z-001\\1.4 lab-functions\\lab-functions\\mod\\testing.py\", line 187, in runTest\n",
      "    self.assertEqual(fn(self.input), self.output, f\"Should be {self.output}\")\n",
      "AssertionError: [',', ',', ',', ',', ',', ',', ',', ',', [534 chars] 'z'] != 'ahqddyfb,dwtmluuy,emsdcqptqk,fddnbynwo,i[72 chars]xufa' : Should be ahqddyfb,dwtmluuy,emsdcqptqk,fddnbynwo,itnf,jwzwfos,kqabh,kyqtbyqztd,lnxos,miakdvzzj,nutfs,pmesmsgd,qjrpxsey,ygbxufa\n",
      "\n",
      "======================================================================\n",
      "FAIL: runTest (mod.testing.test_alpha.<locals>.TestKnown.runTest)\n",
      "----------------------------------------------------------------------\n",
      "Traceback (most recent call last):\n",
      "  File \"C:\\Users\\Aida\\Documents\\IRONHACK\\LABS\\Lab3&Lab4\\Lab 4\\1.4 lab-functions-20240120T175843Z-001\\1.4 lab-functions\\lab-functions\\mod\\testing.py\", line 187, in runTest\n",
      "    self.assertEqual(fn(self.input), self.output, f\"Should be {self.output}\")\n",
      "AssertionError: [',', ',', ',', ',', ',', ',', ',', ',', [354 chars] 'z'] != 'elpg,jicjefl,knkcrk,ktkbtinbq,siupdgnpi,[36 chars]nazc' : Should be elpg,jicjefl,knkcrk,ktkbtinbq,siupdgnpi,sudg,svhpmdekgl,tyrfjtlfx,udhoo,vtwunazc\n",
      "\n",
      "======================================================================\n",
      "FAIL: runTest (mod.testing.test_alpha.<locals>.TestKnown.runTest)\n",
      "----------------------------------------------------------------------\n",
      "Traceback (most recent call last):\n",
      "  File \"C:\\Users\\Aida\\Documents\\IRONHACK\\LABS\\Lab3&Lab4\\Lab 4\\1.4 lab-functions-20240120T175843Z-001\\1.4 lab-functions\\lab-functions\\mod\\testing.py\", line 187, in runTest\n",
      "    self.assertEqual(fn(self.input), self.output, f\"Should be {self.output}\")\n",
      "AssertionError: [',', ',', ',', ',', ',', ',', 'a', 'a', [249 chars] 'z'] != 'dasempk,ohgkauxn,pfvkmgdwt,szbgtvd,xbyjq[15 chars]pepr' : Should be dasempk,ohgkauxn,pfvkmgdwt,szbgtvd,xbyjqr,xzufep,zyyuknpepr\n",
      "\n",
      "======================================================================\n",
      "FAIL: runTest (mod.testing.test_alpha.<locals>.TestKnown.runTest)\n",
      "----------------------------------------------------------------------\n",
      "Traceback (most recent call last):\n",
      "  File \"C:\\Users\\Aida\\Documents\\IRONHACK\\LABS\\Lab3&Lab4\\Lab 4\\1.4 lab-functions-20240120T175843Z-001\\1.4 lab-functions\\lab-functions\\mod\\testing.py\", line 187, in runTest\n",
      "    self.assertEqual(fn(self.input), self.output, f\"Should be {self.output}\")\n",
      "AssertionError: [',', ',', ',', ',', ',', ',', ',', ',', [594 chars] 'z'] != 'acnxzjaeix,bowvezkrh,gdjbu,groeo,jeeoov,[84 chars]icol' : Should be acnxzjaeix,bowvezkrh,gdjbu,groeo,jeeoov,jhwskwwj,kuymhhuzl,lpszfmwz,oktyor,oyhujcrvlo,paybvulft,sbvqrugjl,selbmz,tkdpr,yvbaxicol\n",
      "\n",
      "======================================================================\n",
      "FAIL: runTest (mod.testing.test_alpha.<locals>.TestKnown.runTest)\n",
      "----------------------------------------------------------------------\n",
      "Traceback (most recent call last):\n",
      "  File \"C:\\Users\\Aida\\Documents\\IRONHACK\\LABS\\Lab3&Lab4\\Lab 4\\1.4 lab-functions-20240120T175843Z-001\\1.4 lab-functions\\lab-functions\\mod\\testing.py\", line 187, in runTest\n",
      "    self.assertEqual(fn(self.input), self.output, f\"Should be {self.output}\")\n",
      "AssertionError: [',', ',', ',', ',', ',', ',', ',', ',', [619 chars] 'z'] != 'bgpfjxhmv,cvnxjpcchp,dama,eaqkxcik,gmsgn[89 chars]cyem' : Should be bgpfjxhmv,cvnxjpcchp,dama,eaqkxcik,gmsgnrh,ilxnfgv,ixivkyr,jllovrrd,ladwmghmuk,leru,pwenifvuq,qhlbzef,tstcwivvqn,vezye,vwicvusy,xcyem\n",
      "\n",
      "======================================================================\n",
      "FAIL: runTest (mod.testing.test_alpha.<locals>.TestKnown.runTest)\n",
      "----------------------------------------------------------------------\n",
      "Traceback (most recent call last):\n",
      "  File \"C:\\Users\\Aida\\Documents\\IRONHACK\\LABS\\Lab3&Lab4\\Lab 4\\1.4 lab-functions-20240120T175843Z-001\\1.4 lab-functions\\lab-functions\\mod\\testing.py\", line 187, in runTest\n",
      "    self.assertEqual(fn(self.input), self.output, f\"Should be {self.output}\")\n",
      "AssertionError: [',', ',', ',', ',', ',', ',', ',', ',', [604 chars] 'z'] != 'bsrb,glfptovb,heiwzh,hhduvpwh,hxlax,jyla[86 chars]xopt' : Should be bsrb,glfptovb,heiwzh,hhduvpwh,hxlax,jylaiczb,lrkwjtrmrn,mrqry,nwsb,qdgkbq,soetqos,spngdpoeug,uvqyknw,vrhp,vxcflurf,wvkmlgutbi,xopt\n",
      "\n",
      "======================================================================\n",
      "FAIL: runTest (mod.testing.test_alpha.<locals>.TestKnown.runTest)\n",
      "----------------------------------------------------------------------\n",
      "Traceback (most recent call last):\n",
      "  File \"C:\\Users\\Aida\\Documents\\IRONHACK\\LABS\\Lab3&Lab4\\Lab 4\\1.4 lab-functions-20240120T175843Z-001\\1.4 lab-functions\\lab-functions\\mod\\testing.py\", line 187, in runTest\n",
      "    self.assertEqual(fn(self.input), self.output, f\"Should be {self.output}\")\n",
      "AssertionError: [',', ',', ',', ',', ',', 'b', 'b', 'b', [149 chars] 'x'] != 'hgmf,ldvbl,mrtr,unwgp,vlihhblu,vtpxbxgf' : Should be hgmf,ldvbl,mrtr,unwgp,vlihhblu,vtpxbxgf\n",
      "\n",
      "======================================================================\n",
      "FAIL: runTest (mod.testing.test_alpha.<locals>.TestKnown.runTest)\n",
      "----------------------------------------------------------------------\n",
      "Traceback (most recent call last):\n",
      "  File \"C:\\Users\\Aida\\Documents\\IRONHACK\\LABS\\Lab3&Lab4\\Lab 4\\1.4 lab-functions-20240120T175843Z-001\\1.4 lab-functions\\lab-functions\\mod\\testing.py\", line 187, in runTest\n",
      "    self.assertEqual(fn(self.input), self.output, f\"Should be {self.output}\")\n",
      "AssertionError: [',', ',', ',', ',', ',', ',', ',', ',', [794 chars] 'z'] != 'aqlzxvbzi,egthutwxn,enpkg,ervp,hwoymwova[124 chars]tihv' : Should be aqlzxvbzi,egthutwxn,enpkg,ervp,hwoymwova,jpsbrldrn,kdvzo,kqngfcz,lpngls,lvfuyfafkv,lxdfahs,onxo,rhkzgpms,rptbbon,vbsddhhwz,vspardq,xarfvox,yexmzfrk,zihqts,zirrpxx,ztihv\n",
      "\n",
      "======================================================================\n",
      "FAIL: runTest (mod.testing.test_alpha.<locals>.TestKnown.runTest)\n",
      "----------------------------------------------------------------------\n",
      "Traceback (most recent call last):\n",
      "  File \"C:\\Users\\Aida\\Documents\\IRONHACK\\LABS\\Lab3&Lab4\\Lab 4\\1.4 lab-functions-20240120T175843Z-001\\1.4 lab-functions\\lab-functions\\mod\\testing.py\", line 187, in runTest\n",
      "    self.assertEqual(fn(self.input), self.output, f\"Should be {self.output}\")\n",
      "AssertionError: [',', ',', ',', ',', ',', ',', ',', ',', [934 chars] 'z'] != 'aahaewezdg,cbdda,ctiwqlzdlc,evxebiioc,go[152 chars]wrwn' : Should be aahaewezdg,cbdda,ctiwqlzdlc,evxebiioc,goypqokkns,ibmxtmr,jsclxaxv,lxhodpzyw,mnindy,msrwynysq,mtptnx,nuiwcwre,ofepxnhvtr,qocaszeru,seuj,srvbzftdm,tevyrcusmx,woleinbr,yctdl,ykgjz,youc,zkuywhiw,zwrwn\n",
      "\n",
      "======================================================================\n",
      "FAIL: runTest (mod.testing.test_alpha.<locals>.TestKnown.runTest)\n",
      "----------------------------------------------------------------------\n",
      "Traceback (most recent call last):\n",
      "  File \"C:\\Users\\Aida\\Documents\\IRONHACK\\LABS\\Lab3&Lab4\\Lab 4\\1.4 lab-functions-20240120T175843Z-001\\1.4 lab-functions\\lab-functions\\mod\\testing.py\", line 187, in runTest\n",
      "    self.assertEqual(fn(self.input), self.output, f\"Should be {self.output}\")\n",
      "AssertionError: [',', ',', ',', ',', ',', ',', ',', ',', [604 chars] 'z'] != 'aceaqijk,bqxoib,btla,ghslfxi,habvaoktkh,[86 chars]nrvh' : Should be aceaqijk,bqxoib,btla,ghslfxi,habvaoktkh,jgnegnanm,jqqugs,jyviy,jziszgqtj,kkvwmoee,kpqumjd,laehuckzv,ljsuqveqzj,modzb,ozzdbhm,unrvh\n",
      "\n",
      "======================================================================\n",
      "FAIL: runTest (mod.testing.test_alpha.<locals>.TestKnown.runTest)\n",
      "----------------------------------------------------------------------\n",
      "Traceback (most recent call last):\n",
      "  File \"C:\\Users\\Aida\\Documents\\IRONHACK\\LABS\\Lab3&Lab4\\Lab 4\\1.4 lab-functions-20240120T175843Z-001\\1.4 lab-functions\\lab-functions\\mod\\testing.py\", line 187, in runTest\n",
      "    self.assertEqual(fn(self.input), self.output, f\"Should be {self.output}\")\n",
      "AssertionError: [',', ',', ',', ',', ',', ',', ',', ',', [879 chars] 'z'] != 'ahekaxzp,amjqls,ceklzie,dmmcxghimn,eoxqq[141 chars]exjg' : Should be ahekaxzp,amjqls,ceklzie,dmmcxghimn,eoxqqku,fpnx,fwuqtjvcar,gfawyahlp,giqtbnbd,girctszfc,grksece,guswqmvxh,hliowjjf,hnqu,izzyzoipq,kyabspenm,kzigzahads,lgspgxb,pqubr,ujlyqd,yaomfb,ygexjg\n",
      "\n",
      "======================================================================\n",
      "FAIL: runTest (mod.testing.test_alpha.<locals>.TestKnown.runTest)\n",
      "----------------------------------------------------------------------\n",
      "Traceback (most recent call last):\n",
      "  File \"C:\\Users\\Aida\\Documents\\IRONHACK\\LABS\\Lab3&Lab4\\Lab 4\\1.4 lab-functions-20240120T175843Z-001\\1.4 lab-functions\\lab-functions\\mod\\testing.py\", line 187, in runTest\n",
      "    self.assertEqual(fn(self.input), self.output, f\"Should be {self.output}\")\n",
      "AssertionError: [',', ',', ',', ',', ',', ',', ',', ',', [994 chars] 'z'] != 'ckxguq,ebofjvdrdp,fjvaxxj,glajamx,knhijx[164 chars]lknd' : Should be ckxguq,ebofjvdrdp,fjvaxxj,glajamx,knhijxefjo,lzxam,maghoxzkd,mjdccei,nxikif,owispah,rzsbjrz,uctvxok,uwql,vkkdmihzz,vkwrar,vsuohguohx,wehybqqomj,wknpfl,xffwqgrjok,xnpehxjat,zfpvvuk,zsdgiksq,ztgprnib,zuxhanlknd\n",
      "\n",
      "======================================================================\n",
      "FAIL: runTest (mod.testing.test_alpha.<locals>.TestKnown.runTest)\n",
      "----------------------------------------------------------------------\n",
      "Traceback (most recent call last):\n",
      "  File \"C:\\Users\\Aida\\Documents\\IRONHACK\\LABS\\Lab3&Lab4\\Lab 4\\1.4 lab-functions-20240120T175843Z-001\\1.4 lab-functions\\lab-functions\\mod\\testing.py\", line 187, in runTest\n",
      "    self.assertEqual(fn(self.input), self.output, f\"Should be {self.output}\")\n",
      "AssertionError: [',', ',', ',', ',', ',', ',', 'a', 'a', [244 chars] 'z'] != 'ctfcqdxvm,giiexelpm,hmpbpv,juseicze,rbea[14 chars]kvvm' : Should be ctfcqdxvm,giiexelpm,hmpbpv,juseicze,rbeamifqwc,ryyak,zkvvm\n",
      "\n",
      "======================================================================\n",
      "FAIL: runTest (mod.testing.test_alpha.<locals>.TestKnown.runTest)\n",
      "----------------------------------------------------------------------\n",
      "Traceback (most recent call last):\n",
      "  File \"C:\\Users\\Aida\\Documents\\IRONHACK\\LABS\\Lab3&Lab4\\Lab 4\\1.4 lab-functions-20240120T175843Z-001\\1.4 lab-functions\\lab-functions\\mod\\testing.py\", line 187, in runTest\n",
      "    self.assertEqual(fn(self.input), self.output, f\"Should be {self.output}\")\n",
      "AssertionError: [',', ',', ',', ',', ',', ',', ',', ',', [324 chars] 'z'] != 'aeqt,gchanrexr,maomilqg,mmchykgqmp,mxnsv[30 chars]payr' : Should be aeqt,gchanrexr,maomilqg,mmchykgqmp,mxnsv,nyaackpck,ovkv,unszhy,xgsdq,zpayr\n",
      "\n",
      "======================================================================\n",
      "FAIL: runTest (mod.testing.test_alpha.<locals>.TestKnown.runTest)\n",
      "----------------------------------------------------------------------\n",
      "Traceback (most recent call last):\n",
      "  File \"C:\\Users\\Aida\\Documents\\IRONHACK\\LABS\\Lab3&Lab4\\Lab 4\\1.4 lab-functions-20240120T175843Z-001\\1.4 lab-functions\\lab-functions\\mod\\testing.py\", line 187, in runTest\n",
      "    self.assertEqual(fn(self.input), self.output, f\"Should be {self.output}\")\n",
      "AssertionError: [',', ',', ',', ',', ',', ',', ',', ',', [299 chars] 'z'] != 'btyqaz,cebhi,froluqrl,lrihjdn,nbdxmhnm,v[25 chars]zyuz' : Should be btyqaz,cebhi,froluqrl,lrihjdn,nbdxmhnm,vwqiic,xggw,yreeubh,zxjiv,zyuz\n",
      "\n",
      "======================================================================\n",
      "FAIL: runTest (mod.testing.test_alpha.<locals>.TestKnown.runTest)\n",
      "----------------------------------------------------------------------\n",
      "Traceback (most recent call last):\n",
      "  File \"C:\\Users\\Aida\\Documents\\IRONHACK\\LABS\\Lab3&Lab4\\Lab 4\\1.4 lab-functions-20240120T175843Z-001\\1.4 lab-functions\\lab-functions\\mod\\testing.py\", line 187, in runTest\n",
      "    self.assertEqual(fn(self.input), self.output, f\"Should be {self.output}\")\n",
      "AssertionError: [',', ',', ',', ',', ',', ',', ',', ',', [434 chars] 'z'] != 'ascujwh,dfrnfkyb,fecec,jneozv,lhni,lsjum[52 chars]wyou' : Should be ascujwh,dfrnfkyb,fecec,jneozv,lhni,lsjum,ncbvpylmrs,okyczlgp,oudp,pwym,ruzxln,tksmguaz,tvxw,wyou\n",
      "\n",
      "======================================================================\n",
      "FAIL: runTest (mod.testing.test_alpha.<locals>.TestKnown.runTest)\n",
      "----------------------------------------------------------------------\n",
      "Traceback (most recent call last):\n",
      "  File \"C:\\Users\\Aida\\Documents\\IRONHACK\\LABS\\Lab3&Lab4\\Lab 4\\1.4 lab-functions-20240120T175843Z-001\\1.4 lab-functions\\lab-functions\\mod\\testing.py\", line 187, in runTest\n",
      "    self.assertEqual(fn(self.input), self.output, f\"Should be {self.output}\")\n",
      "AssertionError: [',', ',', ',', ',', ',', ',', ',', ',', [729 chars] 'z'] != 'apqwdytoty,behjgw,btgazrr,bxjiagll,cexmg[111 chars]ezki' : Should be apqwdytoty,behjgw,btgazrr,bxjiagll,cexmg,fplizd,gaanub,gvaimghou,hfvgblzk,iqeycruek,kzko,nicol,onvdjzd,rlvd,rwmowfm,smncn,taetmd,uchcnzmla,vtfpb,ykjdzbezki\n",
      "\n",
      "======================================================================\n",
      "FAIL: runTest (mod.testing.test_alpha.<locals>.TestKnown.runTest)\n",
      "----------------------------------------------------------------------\n",
      "Traceback (most recent call last):\n",
      "  File \"C:\\Users\\Aida\\Documents\\IRONHACK\\LABS\\Lab3&Lab4\\Lab 4\\1.4 lab-functions-20240120T175843Z-001\\1.4 lab-functions\\lab-functions\\mod\\testing.py\", line 187, in runTest\n",
      "    self.assertEqual(fn(self.input), self.output, f\"Should be {self.output}\")\n",
      "AssertionError: [',', ',', ',', ',', ',', ',', ',', ',', [544 chars] 'z'] != 'ajsay,avypatg,fqfadm,igelq,khiamthqng,kq[74 chars]gdwo' : Should be ajsay,avypatg,fqfadm,igelq,khiamthqng,kqxkzlb,kxxh,lqtx,lvgwnrckm,mcyww,mmoy,phrwwewj,tbvnuwtct,tqfalpzxc,vjqtz,xqgdwo\n",
      "\n",
      "======================================================================\n",
      "FAIL: runTest (mod.testing.test_alpha.<locals>.TestKnown.runTest)\n",
      "----------------------------------------------------------------------\n",
      "Traceback (most recent call last):\n",
      "  File \"C:\\Users\\Aida\\Documents\\IRONHACK\\LABS\\Lab3&Lab4\\Lab 4\\1.4 lab-functions-20240120T175843Z-001\\1.4 lab-functions\\lab-functions\\mod\\testing.py\", line 187, in runTest\n",
      "    self.assertEqual(fn(self.input), self.output, f\"Should be {self.output}\")\n",
      "AssertionError: [',', ',', ',', ',', ',', ',', ',', ',', [389 chars] 'z'] != 'bcny,bsfqhj,caktaqt,fcnesmactu,fdgzk,hvp[43 chars]xoeb' : Should be bcny,bsfqhj,caktaqt,fcnesmactu,fdgzk,hvpcun,jnostzhn,jogpljlihc,lfpgkqo,mgwnwwempk,xoeb\n",
      "\n",
      "======================================================================\n",
      "FAIL: runTest (mod.testing.test_alpha.<locals>.TestKnown.runTest)\n",
      "----------------------------------------------------------------------\n",
      "Traceback (most recent call last):\n",
      "  File \"C:\\Users\\Aida\\Documents\\IRONHACK\\LABS\\Lab3&Lab4\\Lab 4\\1.4 lab-functions-20240120T175843Z-001\\1.4 lab-functions\\lab-functions\\mod\\testing.py\", line 187, in runTest\n",
      "    self.assertEqual(fn(self.input), self.output, f\"Should be {self.output}\")\n",
      "AssertionError: [',', ',', ',', ',', ',', ',', ',', ',', [884 chars] 'z'] != 'dpjkuzki,einjrbctft,goylypfig,gqpnwqp,hd[142 chars]ulbu' : Should be dpjkuzki,einjrbctft,goylypfig,gqpnwqp,hdvsem,jjjzrrs,jognydbdyw,lunfgeuthk,mjnmenkjf,mwoqa,oggkxjjxj,ospgpb,pixpasur,rnhby,rumepc,upxzg,vmfcmnohwx,wnuykx,wsrkyyonc,xskvu,zonuqinjqf,zulbu\n",
      "\n",
      "======================================================================\n",
      "FAIL: runTest (mod.testing.test_alpha.<locals>.TestKnown.runTest)\n",
      "----------------------------------------------------------------------\n",
      "Traceback (most recent call last):\n",
      "  File \"C:\\Users\\Aida\\Documents\\IRONHACK\\LABS\\Lab3&Lab4\\Lab 4\\1.4 lab-functions-20240120T175843Z-001\\1.4 lab-functions\\lab-functions\\mod\\testing.py\", line 187, in runTest\n",
      "    self.assertEqual(fn(self.input), self.output, f\"Should be {self.output}\")\n",
      "AssertionError: [',', ',', ',', ',', 'a', 'b', 'b', 'c', [159 chars] 'y'] != 'lbufs,mpdwhuqadg,ouqb,ovvtwugvc,ukkpyrvos' : Should be lbufs,mpdwhuqadg,ouqb,ovvtwugvc,ukkpyrvos\n",
      "\n",
      "======================================================================\n",
      "FAIL: runTest (mod.testing.test_alpha.<locals>.TestKnown.runTest)\n",
      "----------------------------------------------------------------------\n",
      "Traceback (most recent call last):\n",
      "  File \"C:\\Users\\Aida\\Documents\\IRONHACK\\LABS\\Lab3&Lab4\\Lab 4\\1.4 lab-functions-20240120T175843Z-001\\1.4 lab-functions\\lab-functions\\mod\\testing.py\", line 187, in runTest\n",
      "    self.assertEqual(fn(self.input), self.output, f\"Should be {self.output}\")\n",
      "AssertionError: [',', ',', ',', ',', ',', ',', ',', ',', [434 chars] 'z'] != 'aorioth,bgtpibrsp,gisgew,hvjkst,hxicgiwj[52 chars]xcnl' : Should be aorioth,bgtpibrsp,gisgew,hvjkst,hxicgiwj,khfpry,mgsyzjx,qyeppbyy,sohk,vftxrrqe,vgzje,wnvbdi,xcnl\n",
      "\n",
      "======================================================================\n",
      "FAIL: runTest (mod.testing.test_alpha.<locals>.TestKnown.runTest)\n",
      "----------------------------------------------------------------------\n",
      "Traceback (most recent call last):\n",
      "  File \"C:\\Users\\Aida\\Documents\\IRONHACK\\LABS\\Lab3&Lab4\\Lab 4\\1.4 lab-functions-20240120T175843Z-001\\1.4 lab-functions\\lab-functions\\mod\\testing.py\", line 187, in runTest\n",
      "    self.assertEqual(fn(self.input), self.output, f\"Should be {self.output}\")\n",
      "AssertionError: [',', ',', ',', ',', ',', ',', ',', ',', [589 chars] 'z'] != 'btykxkvdw,dfcidnf,djypmv,jncnuffasz,kfkn[83 chars]xiqn' : Should be btykxkvdw,dfcidnf,djypmv,jncnuffasz,kfknykx,ljejtlgkeo,oawmiuky,oemgj,oqmbap,rmffbf,rtka,wtxhzkl,wwahye,xlff,xthmw,yaqw,znsxiqn\n",
      "\n",
      "======================================================================\n",
      "FAIL: runTest (mod.testing.test_alpha.<locals>.TestKnown.runTest)\n",
      "----------------------------------------------------------------------\n",
      "Traceback (most recent call last):\n",
      "  File \"C:\\Users\\Aida\\Documents\\IRONHACK\\LABS\\Lab3&Lab4\\Lab 4\\1.4 lab-functions-20240120T175843Z-001\\1.4 lab-functions\\lab-functions\\mod\\testing.py\", line 187, in runTest\n",
      "    self.assertEqual(fn(self.input), self.output, f\"Should be {self.output}\")\n",
      "AssertionError: [',', ',', ',', ',', ',', ',', ',', 'b', [244 chars] 'y'] != 'dqtf,gxhpokgkr,hlhygwvdc,ixsn,ojqg,svfkw[14 chars]fwor' : Should be dqtf,gxhpokgkr,hlhygwvdc,ixsn,ojqg,svfkws,wjnno,xqbhfefwor\n",
      "\n",
      "======================================================================\n",
      "FAIL: runTest (mod.testing.test_alpha.<locals>.TestKnown.runTest)\n",
      "----------------------------------------------------------------------\n",
      "Traceback (most recent call last):\n",
      "  File \"C:\\Users\\Aida\\Documents\\IRONHACK\\LABS\\Lab3&Lab4\\Lab 4\\1.4 lab-functions-20240120T175843Z-001\\1.4 lab-functions\\lab-functions\\mod\\testing.py\", line 187, in runTest\n",
      "    self.assertEqual(fn(self.input), self.output, f\"Should be {self.output}\")\n",
      "AssertionError: [',', ',', ',', ',', ',', ',', ',', ',', [629 chars] 'z'] != 'aumbiwc,bgwpxkolr,bxikiohd,clyrkouvmy,cr[91 chars]chss' : Should be aumbiwc,bgwpxkolr,bxikiohd,clyrkouvmy,crtbutese,dfep,fztzkh,hbos,hcnroqj,hwoo,jmglepi,jxveks,lhxunlnbjt,mbuzzm,mlbsojtwjf,yqsju,yswchss\n",
      "\n",
      "======================================================================\n",
      "FAIL: runTest (mod.testing.test_alpha.<locals>.TestKnown.runTest)\n",
      "----------------------------------------------------------------------\n",
      "Traceback (most recent call last):\n",
      "  File \"C:\\Users\\Aida\\Documents\\IRONHACK\\LABS\\Lab3&Lab4\\Lab 4\\1.4 lab-functions-20240120T175843Z-001\\1.4 lab-functions\\lab-functions\\mod\\testing.py\", line 187, in runTest\n",
      "    self.assertEqual(fn(self.input), self.output, f\"Should be {self.output}\")\n",
      "AssertionError: [',', ',', ',', 'a', 'b', 'b', 'c', 'd', [109 chars] 'y'] != 'dxeop,ecbobdfdte,qtarxjqey,yksy' : Should be dxeop,ecbobdfdte,qtarxjqey,yksy\n",
      "\n",
      "======================================================================\n",
      "FAIL: runTest (mod.testing.test_alpha.<locals>.TestKnown.runTest)\n",
      "----------------------------------------------------------------------\n",
      "Traceback (most recent call last):\n",
      "  File \"C:\\Users\\Aida\\Documents\\IRONHACK\\LABS\\Lab3&Lab4\\Lab 4\\1.4 lab-functions-20240120T175843Z-001\\1.4 lab-functions\\lab-functions\\mod\\testing.py\", line 187, in runTest\n",
      "    self.assertEqual(fn(self.input), self.output, f\"Should be {self.output}\")\n",
      "AssertionError: [',', ',', ',', ',', ',', ',', ',', ',', [434 chars] 'z'] != 'cqneuexve,htyaaqww,juxnvtsl,kcfb,kratzim[52 chars]dazo' : Should be cqneuexve,htyaaqww,juxnvtsl,kcfb,kratzim,ngeh,pmxkhbbuhq,rengmkzt,saoxhhqf,scafoyu,vufsm,zyfdazo\n",
      "\n",
      "======================================================================\n",
      "FAIL: runTest (mod.testing.test_alpha.<locals>.TestKnown.runTest)\n",
      "----------------------------------------------------------------------\n",
      "Traceback (most recent call last):\n",
      "  File \"C:\\Users\\Aida\\Documents\\IRONHACK\\LABS\\Lab3&Lab4\\Lab 4\\1.4 lab-functions-20240120T175843Z-001\\1.4 lab-functions\\lab-functions\\mod\\testing.py\", line 187, in runTest\n",
      "    self.assertEqual(fn(self.input), self.output, f\"Should be {self.output}\")\n",
      "AssertionError: [',', ',', ',', ',', 'a', 'b', 'c', 'd', [149 chars] 'z'] != 'cxhju,rgxqb,rydznwgoux,uqvuok,yajuwtwlw' : Should be cxhju,rgxqb,rydznwgoux,uqvuok,yajuwtwlw\n",
      "\n",
      "======================================================================\n",
      "FAIL: runTest (mod.testing.test_alpha.<locals>.TestKnown.runTest)\n",
      "----------------------------------------------------------------------\n",
      "Traceback (most recent call last):\n",
      "  File \"C:\\Users\\Aida\\Documents\\IRONHACK\\LABS\\Lab3&Lab4\\Lab 4\\1.4 lab-functions-20240120T175843Z-001\\1.4 lab-functions\\lab-functions\\mod\\testing.py\", line 187, in runTest\n",
      "    self.assertEqual(fn(self.input), self.output, f\"Should be {self.output}\")\n",
      "AssertionError: [',', ',', ',', ',', ',', ',', 'a', 'b', [244 chars] 'z'] != 'cmtkeefs,fzcjufol,oscghjiz,pbgrzgcc,ppfr[14 chars]fkyk' : Should be cmtkeefs,fzcjufol,oscghjiz,pbgrzgcc,ppfrixdkm,raolr,wufkyk\n",
      "\n",
      "======================================================================\n",
      "FAIL: runTest (mod.testing.test_alpha.<locals>.TestKnown.runTest)\n",
      "----------------------------------------------------------------------\n",
      "Traceback (most recent call last):\n",
      "  File \"C:\\Users\\Aida\\Documents\\IRONHACK\\LABS\\Lab3&Lab4\\Lab 4\\1.4 lab-functions-20240120T175843Z-001\\1.4 lab-functions\\lab-functions\\mod\\testing.py\", line 187, in runTest\n",
      "    self.assertEqual(fn(self.input), self.output, f\"Should be {self.output}\")\n",
      "AssertionError: [',', ',', ',', ',', ',', ',', ',', ',', [914 chars] 'z'] != 'axtbx,boszpkm,bvqqqn,ckssmz,dxbp,ephcngt[148 chars]hdyo' : Should be axtbx,boszpkm,bvqqqn,ckssmz,dxbp,ephcngty,erozimmg,hyfc,jnfhzvvgkk,khvgxymli,ltwmrz,mjjq,mkqutoacs,oherbhdy,srqysenzci,tblvlcis,txviw,uwbc,vqadl,wcuadb,wpdwf,wpncijspd,wprpja,xiwokybn,yvnohdyo\n",
      "\n",
      "======================================================================\n",
      "FAIL: runTest (mod.testing.test_alpha.<locals>.TestKnown.runTest)\n",
      "----------------------------------------------------------------------\n",
      "Traceback (most recent call last):\n",
      "  File \"C:\\Users\\Aida\\Documents\\IRONHACK\\LABS\\Lab3&Lab4\\Lab 4\\1.4 lab-functions-20240120T175843Z-001\\1.4 lab-functions\\lab-functions\\mod\\testing.py\", line 187, in runTest\n",
      "    self.assertEqual(fn(self.input), self.output, f\"Should be {self.output}\")\n",
      "AssertionError: [',', ',', ',', ',', ',', ',', ',', ',', [849 chars] 'z'] != 'crpzcs,efrocd,hxbbs,iabr,iakhzjt,imzedis[135 chars]ozme' : Should be crpzcs,efrocd,hxbbs,iabr,iakhzjt,imzedisiv,kcunif,lxzbye,mvncl,ofalswm,pawe,popyoweni,qpeif,qqisneuyk,rasgyasf,rhxhz,rpgzrmdbon,spacc,uopakikgua,vbettwv,wgrxmsnlv,wsgstcm,xgqvozme\n",
      "\n",
      "======================================================================\n",
      "FAIL: runTest (mod.testing.test_alpha.<locals>.TestKnown.runTest)\n",
      "----------------------------------------------------------------------\n",
      "Traceback (most recent call last):\n",
      "  File \"C:\\Users\\Aida\\Documents\\IRONHACK\\LABS\\Lab3&Lab4\\Lab 4\\1.4 lab-functions-20240120T175843Z-001\\1.4 lab-functions\\lab-functions\\mod\\testing.py\", line 187, in runTest\n",
      "    self.assertEqual(fn(self.input), self.output, f\"Should be {self.output}\")\n",
      "AssertionError: [',', ',', ',', ',', ',', ',', ',', ',', [904 chars] 'z'] != 'bemibcdjcs,ewummq,fwbf,hvuirsfums,iuqtxv[146 chars]nsqn' : Should be bemibcdjcs,ewummq,fwbf,hvuirsfums,iuqtxvfkg,izwxsxqv,mrtlxrul,njwq,nqxyat,ppxigfehtg,pquehws,qeklq,rgoe,rvxbanbv,skvdrylca,sylon,ttja,ubnsraodk,uzkdag,vrssiztc,vvlwodwm,wluar,wrppnvkxz,xnsqn\n",
      "\n",
      "======================================================================\n",
      "FAIL: runTest (mod.testing.test_alpha.<locals>.TestKnown.runTest)\n",
      "----------------------------------------------------------------------\n",
      "Traceback (most recent call last):\n",
      "  File \"C:\\Users\\Aida\\Documents\\IRONHACK\\LABS\\Lab3&Lab4\\Lab 4\\1.4 lab-functions-20240120T175843Z-001\\1.4 lab-functions\\lab-functions\\mod\\testing.py\", line 187, in runTest\n",
      "    self.assertEqual(fn(self.input), self.output, f\"Should be {self.output}\")\n",
      "AssertionError: [',', ',', ',', ',', ',', ',', ',', ',', [579 chars] 'z'] != 'bbxf,bdwjmepla,ctxnpe,gbxnnhm,gquasxy,ka[81 chars]gbhc' : Should be bbxf,bdwjmepla,ctxnpe,gbxnnhm,gquasxy,karzt,kmeparp,mglwtjhxc,qsaxeiigs,qslaceawst,rpnwtpzxef,szcl,vblu,warnss,xchdt,zmyfgbhc\n",
      "\n",
      "======================================================================\n",
      "FAIL: runTest (mod.testing.test_alpha.<locals>.TestKnown.runTest)\n",
      "----------------------------------------------------------------------\n",
      "Traceback (most recent call last):\n",
      "  File \"C:\\Users\\Aida\\Documents\\IRONHACK\\LABS\\Lab3&Lab4\\Lab 4\\1.4 lab-functions-20240120T175843Z-001\\1.4 lab-functions\\lab-functions\\mod\\testing.py\", line 187, in runTest\n",
      "    self.assertEqual(fn(self.input), self.output, f\"Should be {self.output}\")\n",
      "AssertionError: [',', ',', ',', ',', ',', ',', 'b', 'c', [229 chars] 'z'] != 'bvpesy,fmpqtzhn,judmiv,oesdyw,phwsohfp,tticvr,wrycrpvfl' : Should be bvpesy,fmpqtzhn,judmiv,oesdyw,phwsohfp,tticvr,wrycrpvfl\n",
      "\n",
      "======================================================================\n",
      "FAIL: runTest (mod.testing.test_alpha.<locals>.TestKnown.runTest)\n",
      "----------------------------------------------------------------------\n",
      "Traceback (most recent call last):\n",
      "  File \"C:\\Users\\Aida\\Documents\\IRONHACK\\LABS\\Lab3&Lab4\\Lab 4\\1.4 lab-functions-20240120T175843Z-001\\1.4 lab-functions\\lab-functions\\mod\\testing.py\", line 187, in runTest\n",
      "    self.assertEqual(fn(self.input), self.output, f\"Should be {self.output}\")\n",
      "AssertionError: [',', ',', ',', ',', ',', ',', ',', ',', [679 chars] 'z'] != 'blocpfjqg,cawknratb,cfwtzoh,eoddac,hnmpg[101 chars]oerx' : Should be blocpfjqg,cawknratb,cfwtzoh,eoddac,hnmpgggehh,jhbia,jzhwblzb,kfxvn,krcqyf,lbuhgvfcb,munhkya,ozpqa,qcfwydz,qzxwfh,xdrh,ykzuylwkow,yryhtki,zhjhoerx\n",
      "\n",
      "======================================================================\n",
      "FAIL: runTest (mod.testing.test_alpha.<locals>.TestKnown.runTest)\n",
      "----------------------------------------------------------------------\n",
      "Traceback (most recent call last):\n",
      "  File \"C:\\Users\\Aida\\Documents\\IRONHACK\\LABS\\Lab3&Lab4\\Lab 4\\1.4 lab-functions-20240120T175843Z-001\\1.4 lab-functions\\lab-functions\\mod\\testing.py\", line 187, in runTest\n",
      "    self.assertEqual(fn(self.input), self.output, f\"Should be {self.output}\")\n",
      "AssertionError: [',', ',', ',', ',', ',', ',', ',', ',', [529 chars] 'z'] != 'dosdpult,dwzc,fnlnfw,iydnbybsa,jomds,jwl[71 chars]nuus' : Should be dosdpult,dwzc,fnlnfw,iydnbybsa,jomds,jwlpzxxg,kbgbt,ksyy,kvjc,nzep,qdrgn,rzxpoyygu,usopu,wpiljvgia,wtljdzjhv,xonuus\n",
      "\n",
      "----------------------------------------------------------------------\n",
      "Ran 100 tests in 0.172s\n",
      "\n",
      "FAILED (failures=100)\n"
     ]
    }
   ],
   "source": [
    "# This will test your function \n",
    "test_alpha(sort_alpha)"
   ]
  },
  {
   "cell_type": "markdown",
   "metadata": {},
   "source": [
    "## 12. Write a function to check if a given password is strong (at least 8 characters, at least one lower case, at least one upper case, at least one number and at least one special character). It should output True if strong and False if not."
   ]
  },
  {
   "cell_type": "code",
   "execution_count": 26,
   "metadata": {},
   "outputs": [],
   "source": [
    "import re  \n",
    "  \n",
    "def validate_password(password):  \n",
    "    if len(password) < 8:  \n",
    "        return False  \n",
    "    if not re.search(\"[a-z]\", password):  \n",
    "        return False  \n",
    "    if not re.search(\"[A-Z]\", password):  \n",
    "        return False  \n",
    "    if not re.search(\"[0-9]\", password):  \n",
    "        return False\n",
    "    if not re.search(\"['$', '@', '#', '%']\", password):  \n",
    "        return False\n",
    "    return True "
   ]
  },
  {
   "cell_type": "code",
   "execution_count": 28,
   "metadata": {},
   "outputs": [
    {
     "data": {
      "text/plain": [
       "True"
      ]
     },
     "execution_count": 28,
     "metadata": {},
     "output_type": "execute_result"
    }
   ],
   "source": [
    "x=\"@Ida9uhed\"\n",
    "validate_password(x)"
   ]
  },
  {
   "cell_type": "code",
   "execution_count": null,
   "metadata": {},
   "outputs": [],
   "source": []
  },
  {
   "cell_type": "code",
   "execution_count": null,
   "metadata": {},
   "outputs": [],
   "source": []
  }
 ],
 "metadata": {
  "kernelspec": {
   "display_name": "Python 3 (ipykernel)",
   "language": "python",
   "name": "python3"
  },
  "language_info": {
   "codemirror_mode": {
    "name": "ipython",
    "version": 3
   },
   "file_extension": ".py",
   "mimetype": "text/x-python",
   "name": "python",
   "nbconvert_exporter": "python",
   "pygments_lexer": "ipython3",
   "version": "3.11.7"
  },
  "vscode": {
   "interpreter": {
    "hash": "aee8b7b246df8f9039afb4144a1f6fd8d2ca17a180786b69acc140d282b71a49"
   }
  }
 },
 "nbformat": 4,
 "nbformat_minor": 4
}
