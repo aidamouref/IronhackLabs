{
 "cells": [
  {
   "cell_type": "markdown",
   "metadata": {},
   "source": [
    "# PANDAS LAB - Continuation of the EuroLeague Case Study\n",
    "## Let's compare the competitions!\n",
    "\n",
    "![](https://eurospects.com/wp-content/uploads/2018/10/eurocupeuroleague.png)\n",
    "\n",
    "First of all, we must \n",
    "\n",
    "- Import the actual.csv Dataset. This dataset will be the CSV of the result obtained in class.\n",
    "- Import ec23.xlsx. This dataset correspond to the import the dataset corresponding to Eurocup. Don't worry, this time the Excel will be cleaned (almost)\n",
    "\n",
    "<details>\n",
    "    <summary> Lab results </summary>\n",
    "\n",
    "![](https://media1.tenor.com/m/lx2WSGRk8bcAAAAC/pulp-fiction-john-travolta.gif)\n",
    "\n",
    "PERO QUÉ OS HABÉIS CREÍDO\n",
    "\n",
    "</details>"
   ]
  },
  {
   "cell_type": "code",
   "execution_count": 1,
   "metadata": {},
   "outputs": [],
   "source": [
    "#pip install openpyxl\n",
    "# In case there is an error with this .xlsx document opening, install this library"
   ]
  },
  {
   "cell_type": "code",
   "execution_count": 2,
   "metadata": {},
   "outputs": [],
   "source": [
    "import warnings\n",
    "warnings.filterwarnings(\"ignore\")"
   ]
  },
  {
   "cell_type": "code",
   "execution_count": 3,
   "metadata": {},
   "outputs": [],
   "source": [
    "import pandas as pd\n",
    "import numpy as np"
   ]
  },
  {
   "cell_type": "code",
   "execution_count": 4,
   "metadata": {},
   "outputs": [],
   "source": [
    "elteams=pd.read_csv(\"datasets/actual.csv\")\n",
    "ecteams=pd.read_excel(\"datasets/ec2023.xlsx\", index_col=False)"
   ]
  },
  {
   "cell_type": "markdown",
   "metadata": {},
   "source": [
    "Let's analyze the EuroCup Dataframe! Is there any cleaning needed? Remember the basics: \n",
    "- Drop Null Values\n",
    "- Drop Duplicate Rows\n",
    "- Drop Strange Columns if you see any"
   ]
  },
  {
   "cell_type": "code",
   "execution_count": 5,
   "metadata": {},
   "outputs": [
    {
     "data": {
      "text/plain": [
       "pandas.core.frame.DataFrame"
      ]
     },
     "execution_count": 5,
     "metadata": {},
     "output_type": "execute_result"
    }
   ],
   "source": [
    "# Your Code here: \n",
    "type(ecteams) #it is a dataframe"
   ]
  },
  {
   "cell_type": "code",
   "execution_count": 6,
   "metadata": {},
   "outputs": [
    {
     "name": "stdout",
     "output_type": "stream",
     "text": [
      "<class 'pandas.core.frame.DataFrame'>\n",
      "RangeIndex: 173 entries, 0 to 172\n",
      "Data columns (total 10 columns):\n",
      " #   Column      Non-Null Count  Dtype  \n",
      "---  ------      --------------  -----  \n",
      " 0   Unnamed: 0  173 non-null    int64  \n",
      " 1   fecha       173 non-null    object \n",
      " 2   ronda       173 non-null    int64  \n",
      " 3   local       173 non-null    object \n",
      " 4   visitante   173 non-null    object \n",
      " 5   localscore  173 non-null    int64  \n",
      " 6   roadscore   172 non-null    float64\n",
      " 7   Winner      173 non-null    object \n",
      " 8   Ganador     172 non-null    float64\n",
      " 9   plusminus   172 non-null    float64\n",
      "dtypes: float64(3), int64(3), object(4)\n",
      "memory usage: 13.6+ KB\n"
     ]
    }
   ],
   "source": [
    "ecteams.info() #we have very few missing values\n",
    "#we also have date in a format which is not a date, so this should be changed.\n",
    "#we also have the same variables than in the euroleague, so we will be able to concatenate them later if we want\n",
    "#unnamed 0 is a previous index so it can be dropped"
   ]
  },
  {
   "cell_type": "code",
   "execution_count": 7,
   "metadata": {},
   "outputs": [
    {
     "data": {
      "text/html": [
       "<div>\n",
       "<style scoped>\n",
       "    .dataframe tbody tr th:only-of-type {\n",
       "        vertical-align: middle;\n",
       "    }\n",
       "\n",
       "    .dataframe tbody tr th {\n",
       "        vertical-align: top;\n",
       "    }\n",
       "\n",
       "    .dataframe thead th {\n",
       "        text-align: right;\n",
       "    }\n",
       "</style>\n",
       "<table border=\"1\" class=\"dataframe\">\n",
       "  <thead>\n",
       "    <tr style=\"text-align: right;\">\n",
       "      <th></th>\n",
       "      <th>Unnamed: 0</th>\n",
       "      <th>fecha</th>\n",
       "      <th>ronda</th>\n",
       "      <th>local</th>\n",
       "      <th>visitante</th>\n",
       "      <th>localscore</th>\n",
       "      <th>roadscore</th>\n",
       "      <th>Winner</th>\n",
       "      <th>Ganador</th>\n",
       "      <th>plusminus</th>\n",
       "    </tr>\n",
       "  </thead>\n",
       "  <tbody>\n",
       "    <tr>\n",
       "      <th>170</th>\n",
       "      <td>167</td>\n",
       "      <td>2023-10-03T20:30:00</td>\n",
       "      <td>1</td>\n",
       "      <td>Paris Basketball</td>\n",
       "      <td>Wolves Vilnius</td>\n",
       "      <td>105</td>\n",
       "      <td>78.0</td>\n",
       "      <td>Local</td>\n",
       "      <td>105.0</td>\n",
       "      <td>27.0</td>\n",
       "    </tr>\n",
       "    <tr>\n",
       "      <th>171</th>\n",
       "      <td>168</td>\n",
       "      <td>2023-10-03T19:30:00</td>\n",
       "      <td>1</td>\n",
       "      <td>ratiopharm Ulm</td>\n",
       "      <td>Dolomiti Energia Trento</td>\n",
       "      <td>80</td>\n",
       "      <td>70.0</td>\n",
       "      <td>Local</td>\n",
       "      <td>80.0</td>\n",
       "      <td>10.0</td>\n",
       "    </tr>\n",
       "    <tr>\n",
       "      <th>172</th>\n",
       "      <td>169</td>\n",
       "      <td>2023-10-03T19:00:00</td>\n",
       "      <td>1</td>\n",
       "      <td>Hapoel Shlomo Tel Aviv</td>\n",
       "      <td>Cedevita Olimpija Ljubljana</td>\n",
       "      <td>100</td>\n",
       "      <td>73.0</td>\n",
       "      <td>Local</td>\n",
       "      <td>100.0</td>\n",
       "      <td>27.0</td>\n",
       "    </tr>\n",
       "  </tbody>\n",
       "</table>\n",
       "</div>"
      ],
      "text/plain": [
       "     Unnamed: 0                fecha  ronda                   local  \\\n",
       "170         167  2023-10-03T20:30:00      1        Paris Basketball   \n",
       "171         168  2023-10-03T19:30:00      1          ratiopharm Ulm   \n",
       "172         169  2023-10-03T19:00:00      1  Hapoel Shlomo Tel Aviv   \n",
       "\n",
       "                       visitante  localscore  roadscore Winner  Ganador  \\\n",
       "170               Wolves Vilnius         105       78.0  Local    105.0   \n",
       "171      Dolomiti Energia Trento          80       70.0  Local     80.0   \n",
       "172  Cedevita Olimpija Ljubljana         100       73.0  Local    100.0   \n",
       "\n",
       "     plusminus  \n",
       "170       27.0  \n",
       "171       10.0  \n",
       "172       27.0  "
      ]
     },
     "execution_count": 7,
     "metadata": {},
     "output_type": "execute_result"
    }
   ],
   "source": [
    "ecteams.head(3) #sólo quiero ver las tres primeras y últimas filas\n",
    "ecteams.tail(3)"
   ]
  },
  {
   "cell_type": "code",
   "execution_count": 8,
   "metadata": {},
   "outputs": [],
   "source": [
    "ecteams.drop(columns = [\"Unnamed: 0\"], inplace=True) #we don´t need this column"
   ]
  },
  {
   "cell_type": "code",
   "execution_count": 9,
   "metadata": {},
   "outputs": [],
   "source": [
    "ecteams.fecha=pd.to_datetime(ecteams.fecha)\n",
    "ecteams[\"Dia\"] = ecteams[\"fecha\"].dt.strftime('%Y-%m-%d')\n",
    "ecteams[\"Hora\"] = ecteams[\"fecha\"].dt.strftime('%H:%M:%S')\n",
    "ecteams.drop(columns = [\"fecha\"], inplace=True)"
   ]
  },
  {
   "cell_type": "code",
   "execution_count": 10,
   "metadata": {},
   "outputs": [
    {
     "data": {
      "text/html": [
       "<div>\n",
       "<style scoped>\n",
       "    .dataframe tbody tr th:only-of-type {\n",
       "        vertical-align: middle;\n",
       "    }\n",
       "\n",
       "    .dataframe tbody tr th {\n",
       "        vertical-align: top;\n",
       "    }\n",
       "\n",
       "    .dataframe thead th {\n",
       "        text-align: right;\n",
       "    }\n",
       "</style>\n",
       "<table border=\"1\" class=\"dataframe\">\n",
       "  <thead>\n",
       "    <tr style=\"text-align: right;\">\n",
       "      <th></th>\n",
       "      <th>ronda</th>\n",
       "      <th>local</th>\n",
       "      <th>visitante</th>\n",
       "      <th>localscore</th>\n",
       "      <th>roadscore</th>\n",
       "      <th>Winner</th>\n",
       "      <th>Ganador</th>\n",
       "      <th>plusminus</th>\n",
       "      <th>Dia</th>\n",
       "      <th>Hora</th>\n",
       "    </tr>\n",
       "  </thead>\n",
       "  <tbody>\n",
       "    <tr>\n",
       "      <th>145</th>\n",
       "      <td>3</td>\n",
       "      <td>Dolomiti Energia Trento</td>\n",
       "      <td>Dreamland Gran Canaria</td>\n",
       "      <td>73</td>\n",
       "      <td>87.0</td>\n",
       "      <td>Visitante</td>\n",
       "      <td>87.0</td>\n",
       "      <td>-14.0</td>\n",
       "      <td>2023-10-18</td>\n",
       "      <td>20:00:00</td>\n",
       "    </tr>\n",
       "  </tbody>\n",
       "</table>\n",
       "</div>"
      ],
      "text/plain": [
       "     ronda                    local               visitante  localscore  \\\n",
       "145      3  Dolomiti Energia Trento  Dreamland Gran Canaria          73   \n",
       "\n",
       "     roadscore     Winner  Ganador  plusminus         Dia      Hora  \n",
       "145       87.0  Visitante     87.0      -14.0  2023-10-18  20:00:00  "
      ]
     },
     "execution_count": 10,
     "metadata": {},
     "output_type": "execute_result"
    }
   ],
   "source": [
    "ecteams.sample() #now the time and date look good"
   ]
  },
  {
   "cell_type": "code",
   "execution_count": 11,
   "metadata": {},
   "outputs": [
    {
     "data": {
      "text/html": [
       "<div>\n",
       "<style scoped>\n",
       "    .dataframe tbody tr th:only-of-type {\n",
       "        vertical-align: middle;\n",
       "    }\n",
       "\n",
       "    .dataframe tbody tr th {\n",
       "        vertical-align: top;\n",
       "    }\n",
       "\n",
       "    .dataframe thead th {\n",
       "        text-align: right;\n",
       "    }\n",
       "</style>\n",
       "<table border=\"1\" class=\"dataframe\">\n",
       "  <thead>\n",
       "    <tr style=\"text-align: right;\">\n",
       "      <th></th>\n",
       "      <th>ronda</th>\n",
       "      <th>local</th>\n",
       "      <th>visitante</th>\n",
       "      <th>localscore</th>\n",
       "      <th>roadscore</th>\n",
       "      <th>Winner</th>\n",
       "      <th>Ganador</th>\n",
       "      <th>plusminus</th>\n",
       "      <th>Dia</th>\n",
       "      <th>Hora</th>\n",
       "    </tr>\n",
       "  </thead>\n",
       "  <tbody>\n",
       "    <tr>\n",
       "      <th>0</th>\n",
       "      <td>17</td>\n",
       "      <td>Dreamland Gran Canaria</td>\n",
       "      <td>U-BT Cluj-Napoca</td>\n",
       "      <td>111</td>\n",
       "      <td>113.0</td>\n",
       "      <td>Visitante</td>\n",
       "      <td>113.0</td>\n",
       "      <td>-2.0</td>\n",
       "      <td>2024-01-31</td>\n",
       "      <td>21:00:00</td>\n",
       "    </tr>\n",
       "    <tr>\n",
       "      <th>1</th>\n",
       "      <td>17</td>\n",
       "      <td>Dolomiti Energia Trento</td>\n",
       "      <td>Buducnost VOLI Podgorica</td>\n",
       "      <td>78</td>\n",
       "      <td>97.0</td>\n",
       "      <td>Visitante</td>\n",
       "      <td>97.0</td>\n",
       "      <td>-19.0</td>\n",
       "      <td>2024-01-31</td>\n",
       "      <td>20:00:00</td>\n",
       "    </tr>\n",
       "    <tr>\n",
       "      <th>2</th>\n",
       "      <td>17</td>\n",
       "      <td>ratiopharm Ulm</td>\n",
       "      <td>Aris Midea Thessaloniki</td>\n",
       "      <td>66</td>\n",
       "      <td>86.0</td>\n",
       "      <td>Visitante</td>\n",
       "      <td>86.0</td>\n",
       "      <td>-20.0</td>\n",
       "      <td>2024-01-31</td>\n",
       "      <td>19:30:00</td>\n",
       "    </tr>\n",
       "    <tr>\n",
       "      <th>3</th>\n",
       "      <td>17</td>\n",
       "      <td>Cedevita Olimpija Ljubljana</td>\n",
       "      <td>London Lions</td>\n",
       "      <td>85</td>\n",
       "      <td>92.0</td>\n",
       "      <td>Visitante</td>\n",
       "      <td>92.0</td>\n",
       "      <td>-7.0</td>\n",
       "      <td>2024-01-31</td>\n",
       "      <td>18:30:00</td>\n",
       "    </tr>\n",
       "    <tr>\n",
       "      <th>4</th>\n",
       "      <td>17</td>\n",
       "      <td>Turk Telekom Ankara</td>\n",
       "      <td>Mincidelice JL Bourg en Bresse</td>\n",
       "      <td>64</td>\n",
       "      <td>68.0</td>\n",
       "      <td>Visitante</td>\n",
       "      <td>68.0</td>\n",
       "      <td>-4.0</td>\n",
       "      <td>2024-01-31</td>\n",
       "      <td>18:00:00</td>\n",
       "    </tr>\n",
       "    <tr>\n",
       "      <th>...</th>\n",
       "      <td>...</td>\n",
       "      <td>...</td>\n",
       "      <td>...</td>\n",
       "      <td>...</td>\n",
       "      <td>...</td>\n",
       "      <td>...</td>\n",
       "      <td>...</td>\n",
       "      <td>...</td>\n",
       "      <td>...</td>\n",
       "      <td>...</td>\n",
       "    </tr>\n",
       "    <tr>\n",
       "      <th>168</th>\n",
       "      <td>1</td>\n",
       "      <td>U-BT Cluj-Napoca</td>\n",
       "      <td>Turk Telekom Ankara</td>\n",
       "      <td>80</td>\n",
       "      <td>71.0</td>\n",
       "      <td>Local</td>\n",
       "      <td>80.0</td>\n",
       "      <td>9.0</td>\n",
       "      <td>2023-10-04</td>\n",
       "      <td>18:00:00</td>\n",
       "    </tr>\n",
       "    <tr>\n",
       "      <th>169</th>\n",
       "      <td>1</td>\n",
       "      <td>Prometey Slobozhanske</td>\n",
       "      <td>Veolia Towers Hamburg</td>\n",
       "      <td>97</td>\n",
       "      <td>77.0</td>\n",
       "      <td>Local</td>\n",
       "      <td>97.0</td>\n",
       "      <td>20.0</td>\n",
       "      <td>2023-10-04</td>\n",
       "      <td>18:00:00</td>\n",
       "    </tr>\n",
       "    <tr>\n",
       "      <th>170</th>\n",
       "      <td>1</td>\n",
       "      <td>Paris Basketball</td>\n",
       "      <td>Wolves Vilnius</td>\n",
       "      <td>105</td>\n",
       "      <td>78.0</td>\n",
       "      <td>Local</td>\n",
       "      <td>105.0</td>\n",
       "      <td>27.0</td>\n",
       "      <td>2023-10-03</td>\n",
       "      <td>20:30:00</td>\n",
       "    </tr>\n",
       "    <tr>\n",
       "      <th>171</th>\n",
       "      <td>1</td>\n",
       "      <td>ratiopharm Ulm</td>\n",
       "      <td>Dolomiti Energia Trento</td>\n",
       "      <td>80</td>\n",
       "      <td>70.0</td>\n",
       "      <td>Local</td>\n",
       "      <td>80.0</td>\n",
       "      <td>10.0</td>\n",
       "      <td>2023-10-03</td>\n",
       "      <td>19:30:00</td>\n",
       "    </tr>\n",
       "    <tr>\n",
       "      <th>172</th>\n",
       "      <td>1</td>\n",
       "      <td>Hapoel Shlomo Tel Aviv</td>\n",
       "      <td>Cedevita Olimpija Ljubljana</td>\n",
       "      <td>100</td>\n",
       "      <td>73.0</td>\n",
       "      <td>Local</td>\n",
       "      <td>100.0</td>\n",
       "      <td>27.0</td>\n",
       "      <td>2023-10-03</td>\n",
       "      <td>19:00:00</td>\n",
       "    </tr>\n",
       "  </tbody>\n",
       "</table>\n",
       "<p>171 rows × 10 columns</p>\n",
       "</div>"
      ],
      "text/plain": [
       "     ronda                        local                       visitante  \\\n",
       "0       17       Dreamland Gran Canaria                U-BT Cluj-Napoca   \n",
       "1       17      Dolomiti Energia Trento        Buducnost VOLI Podgorica   \n",
       "2       17               ratiopharm Ulm         Aris Midea Thessaloniki   \n",
       "3       17  Cedevita Olimpija Ljubljana                    London Lions   \n",
       "4       17          Turk Telekom Ankara  Mincidelice JL Bourg en Bresse   \n",
       "..     ...                          ...                             ...   \n",
       "168      1             U-BT Cluj-Napoca             Turk Telekom Ankara   \n",
       "169      1        Prometey Slobozhanske           Veolia Towers Hamburg   \n",
       "170      1             Paris Basketball                  Wolves Vilnius   \n",
       "171      1               ratiopharm Ulm         Dolomiti Energia Trento   \n",
       "172      1       Hapoel Shlomo Tel Aviv     Cedevita Olimpija Ljubljana   \n",
       "\n",
       "     localscore  roadscore     Winner  Ganador  plusminus         Dia  \\\n",
       "0           111      113.0  Visitante    113.0       -2.0  2024-01-31   \n",
       "1            78       97.0  Visitante     97.0      -19.0  2024-01-31   \n",
       "2            66       86.0  Visitante     86.0      -20.0  2024-01-31   \n",
       "3            85       92.0  Visitante     92.0       -7.0  2024-01-31   \n",
       "4            64       68.0  Visitante     68.0       -4.0  2024-01-31   \n",
       "..          ...        ...        ...      ...        ...         ...   \n",
       "168          80       71.0      Local     80.0        9.0  2023-10-04   \n",
       "169          97       77.0      Local     97.0       20.0  2023-10-04   \n",
       "170         105       78.0      Local    105.0       27.0  2023-10-03   \n",
       "171          80       70.0      Local     80.0       10.0  2023-10-03   \n",
       "172         100       73.0      Local    100.0       27.0  2023-10-03   \n",
       "\n",
       "         Hora  \n",
       "0    21:00:00  \n",
       "1    20:00:00  \n",
       "2    19:30:00  \n",
       "3    18:30:00  \n",
       "4    18:00:00  \n",
       "..        ...  \n",
       "168  18:00:00  \n",
       "169  18:00:00  \n",
       "170  20:30:00  \n",
       "171  19:30:00  \n",
       "172  19:00:00  \n",
       "\n",
       "[171 rows x 10 columns]"
      ]
     },
     "execution_count": 11,
     "metadata": {},
     "output_type": "execute_result"
    }
   ],
   "source": [
    "ecteams.drop_duplicates() #we had 2 duplicated rows as before we had 173 rows and now "
   ]
  },
  {
   "cell_type": "markdown",
   "metadata": {},
   "source": [
    "Let's now compare it with the EL dataset that we have: You might select a sample of both of them and see what are the inconsistencies!"
   ]
  },
  {
   "cell_type": "code",
   "execution_count": 12,
   "metadata": {},
   "outputs": [
    {
     "data": {
      "text/html": [
       "<div>\n",
       "<style scoped>\n",
       "    .dataframe tbody tr th:only-of-type {\n",
       "        vertical-align: middle;\n",
       "    }\n",
       "\n",
       "    .dataframe tbody tr th {\n",
       "        vertical-align: top;\n",
       "    }\n",
       "\n",
       "    .dataframe thead th {\n",
       "        text-align: right;\n",
       "    }\n",
       "</style>\n",
       "<table border=\"1\" class=\"dataframe\">\n",
       "  <thead>\n",
       "    <tr style=\"text-align: right;\">\n",
       "      <th></th>\n",
       "      <th>ronda</th>\n",
       "      <th>local</th>\n",
       "      <th>visitante</th>\n",
       "      <th>localscore</th>\n",
       "      <th>roadscore</th>\n",
       "      <th>Winner</th>\n",
       "      <th>Ganador</th>\n",
       "      <th>plusminus</th>\n",
       "      <th>Dia</th>\n",
       "      <th>Hora</th>\n",
       "    </tr>\n",
       "  </thead>\n",
       "  <tbody>\n",
       "    <tr>\n",
       "      <th>63</th>\n",
       "      <td>11</td>\n",
       "      <td>Buducnost VOLI Podgorica</td>\n",
       "      <td>Turk Telekom Ankara</td>\n",
       "      <td>73</td>\n",
       "      <td>96.0</td>\n",
       "      <td>Visitante</td>\n",
       "      <td>96.0</td>\n",
       "      <td>-23.0</td>\n",
       "      <td>2023-12-13</td>\n",
       "      <td>19:45:00</td>\n",
       "    </tr>\n",
       "  </tbody>\n",
       "</table>\n",
       "</div>"
      ],
      "text/plain": [
       "    ronda                     local            visitante  localscore  \\\n",
       "63     11  Buducnost VOLI Podgorica  Turk Telekom Ankara          73   \n",
       "\n",
       "    roadscore     Winner  Ganador  plusminus         Dia      Hora  \n",
       "63       96.0  Visitante     96.0      -23.0  2023-12-13  19:45:00  "
      ]
     },
     "execution_count": 12,
     "metadata": {},
     "output_type": "execute_result"
    }
   ],
   "source": [
    "#Your sample ecteams code here: \n",
    "ecteams.sample()"
   ]
  },
  {
   "cell_type": "code",
   "execution_count": 19,
   "metadata": {},
   "outputs": [
    {
     "data": {
      "text/html": [
       "<div>\n",
       "<style scoped>\n",
       "    .dataframe tbody tr th:only-of-type {\n",
       "        vertical-align: middle;\n",
       "    }\n",
       "\n",
       "    .dataframe tbody tr th {\n",
       "        vertical-align: top;\n",
       "    }\n",
       "\n",
       "    .dataframe thead th {\n",
       "        text-align: right;\n",
       "    }\n",
       "</style>\n",
       "<table border=\"1\" class=\"dataframe\">\n",
       "  <thead>\n",
       "    <tr style=\"text-align: right;\">\n",
       "      <th></th>\n",
       "      <th>Competition</th>\n",
       "      <th>Phase</th>\n",
       "      <th>Ronda</th>\n",
       "      <th>Dia</th>\n",
       "      <th>Hora</th>\n",
       "      <th>Local</th>\n",
       "      <th>Visitante</th>\n",
       "      <th>Localscore</th>\n",
       "      <th>Roadscore</th>\n",
       "      <th>Arbitros</th>\n",
       "      <th>Plusminus</th>\n",
       "      <th>Winner</th>\n",
       "      <th>Ganador</th>\n",
       "    </tr>\n",
       "  </thead>\n",
       "  <tbody>\n",
       "    <tr>\n",
       "      <th>207</th>\n",
       "      <td>Euroleague</td>\n",
       "      <td>Regular Season</td>\n",
       "      <td>24</td>\n",
       "      <td>2024-01-30</td>\n",
       "      <td>20:00:00</td>\n",
       "      <td>LDLC ASVEL Villeurbanne</td>\n",
       "      <td>Fenerbahce Beko Istanbul</td>\n",
       "      <td>73</td>\n",
       "      <td>83</td>\n",
       "      <td>['GARCIA, JUAN CARLOS', 'NEDOVIC, MILAN', 'KOW...</td>\n",
       "      <td>-10</td>\n",
       "      <td>Fenerbahce Beko Istanbul</td>\n",
       "      <td>Visitante</td>\n",
       "    </tr>\n",
       "  </tbody>\n",
       "</table>\n",
       "</div>"
      ],
      "text/plain": [
       "    Competition           Phase  Ronda         Dia      Hora  \\\n",
       "207  Euroleague  Regular Season     24  2024-01-30  20:00:00   \n",
       "\n",
       "                       Local                 Visitante  Localscore  Roadscore  \\\n",
       "207  LDLC ASVEL Villeurbanne  Fenerbahce Beko Istanbul          73         83   \n",
       "\n",
       "                                              Arbitros  Plusminus  \\\n",
       "207  ['GARCIA, JUAN CARLOS', 'NEDOVIC, MILAN', 'KOW...        -10   \n",
       "\n",
       "                       Winner    Ganador  \n",
       "207  Fenerbahce Beko Istanbul  Visitante  "
      ]
     },
     "execution_count": 19,
     "metadata": {},
     "output_type": "execute_result"
    }
   ],
   "source": [
    "#Your sample elteams code here: \n",
    "elteams.sample()"
   ]
  },
  {
   "cell_type": "code",
   "execution_count": 20,
   "metadata": {},
   "outputs": [
    {
     "data": {
      "text/plain": [
       "Index(['Competition', 'Phase', 'Ronda', 'Dia', 'Hora', 'Local', 'Visitante',\n",
       "       'Localscore', 'Roadscore', 'Arbitros', 'Plusminus', 'Winner',\n",
       "       'Ganador'],\n",
       "      dtype='object')"
      ]
     },
     "execution_count": 20,
     "metadata": {},
     "output_type": "execute_result"
    }
   ],
   "source": [
    "elteams.columns"
   ]
  },
  {
   "cell_type": "code",
   "execution_count": 21,
   "metadata": {},
   "outputs": [
    {
     "data": {
      "text/plain": [
       "Index(['ronda', 'local', 'visitante', 'localscore', 'roadscore', 'Winner',\n",
       "       'Ganador', 'plusminus', 'Dia', 'Hora', 'Competition'],\n",
       "      dtype='object')"
      ]
     },
     "execution_count": 21,
     "metadata": {},
     "output_type": "execute_result"
    }
   ],
   "source": [
    "ecteams.columns"
   ]
  },
  {
   "cell_type": "markdown",
   "metadata": {},
   "source": [
    "As you can see there are a lot of different inconsistencies right? \n",
    "But beofore starting cleaning like crazy people, let's take a second to know what do we want to compare: \n",
    "\n",
    "- The CLUBS are impossible to compare, as different competitions defines different clubs\n",
    "- Both rounds (Eurocup has less rounds) and Dates (Different Dates) are also not really useful\n",
    "- We don't have information about Arbitros\n",
    "\n",
    "## Conclusion\n",
    "\n",
    "### We must take into consideration what data we DO have in both dataframes to compare it propperly and don't use time cleaning unnecessary things. \n",
    "\n",
    "In this particular case, we will need to compare: \n"
   ]
  },
  {
   "cell_type": "markdown",
   "metadata": {},
   "source": [
    "`Competition`: The main column that define one from another. \n",
    "\n",
    "Create the Competition column in the EuroCup dataframe, being the fixed value \"Eurocup\""
   ]
  },
  {
   "cell_type": "code",
   "execution_count": 22,
   "metadata": {},
   "outputs": [
    {
     "data": {
      "text/html": [
       "<div>\n",
       "<style scoped>\n",
       "    .dataframe tbody tr th:only-of-type {\n",
       "        vertical-align: middle;\n",
       "    }\n",
       "\n",
       "    .dataframe tbody tr th {\n",
       "        vertical-align: top;\n",
       "    }\n",
       "\n",
       "    .dataframe thead th {\n",
       "        text-align: right;\n",
       "    }\n",
       "</style>\n",
       "<table border=\"1\" class=\"dataframe\">\n",
       "  <thead>\n",
       "    <tr style=\"text-align: right;\">\n",
       "      <th></th>\n",
       "      <th>ronda</th>\n",
       "      <th>local</th>\n",
       "      <th>visitante</th>\n",
       "      <th>localscore</th>\n",
       "      <th>roadscore</th>\n",
       "      <th>Winner</th>\n",
       "      <th>Ganador</th>\n",
       "      <th>plusminus</th>\n",
       "      <th>Dia</th>\n",
       "      <th>Hora</th>\n",
       "      <th>Competition</th>\n",
       "    </tr>\n",
       "  </thead>\n",
       "  <tbody>\n",
       "    <tr>\n",
       "      <th>0</th>\n",
       "      <td>17</td>\n",
       "      <td>Dreamland Gran Canaria</td>\n",
       "      <td>U-BT Cluj-Napoca</td>\n",
       "      <td>111</td>\n",
       "      <td>113.0</td>\n",
       "      <td>Visitante</td>\n",
       "      <td>113.0</td>\n",
       "      <td>-2.0</td>\n",
       "      <td>2024-01-31</td>\n",
       "      <td>21:00:00</td>\n",
       "      <td>Eurocup</td>\n",
       "    </tr>\n",
       "    <tr>\n",
       "      <th>1</th>\n",
       "      <td>17</td>\n",
       "      <td>Dolomiti Energia Trento</td>\n",
       "      <td>Buducnost VOLI Podgorica</td>\n",
       "      <td>78</td>\n",
       "      <td>97.0</td>\n",
       "      <td>Visitante</td>\n",
       "      <td>97.0</td>\n",
       "      <td>-19.0</td>\n",
       "      <td>2024-01-31</td>\n",
       "      <td>20:00:00</td>\n",
       "      <td>Eurocup</td>\n",
       "    </tr>\n",
       "    <tr>\n",
       "      <th>2</th>\n",
       "      <td>17</td>\n",
       "      <td>ratiopharm Ulm</td>\n",
       "      <td>Aris Midea Thessaloniki</td>\n",
       "      <td>66</td>\n",
       "      <td>86.0</td>\n",
       "      <td>Visitante</td>\n",
       "      <td>86.0</td>\n",
       "      <td>-20.0</td>\n",
       "      <td>2024-01-31</td>\n",
       "      <td>19:30:00</td>\n",
       "      <td>Eurocup</td>\n",
       "    </tr>\n",
       "    <tr>\n",
       "      <th>3</th>\n",
       "      <td>17</td>\n",
       "      <td>Cedevita Olimpija Ljubljana</td>\n",
       "      <td>London Lions</td>\n",
       "      <td>85</td>\n",
       "      <td>92.0</td>\n",
       "      <td>Visitante</td>\n",
       "      <td>92.0</td>\n",
       "      <td>-7.0</td>\n",
       "      <td>2024-01-31</td>\n",
       "      <td>18:30:00</td>\n",
       "      <td>Eurocup</td>\n",
       "    </tr>\n",
       "    <tr>\n",
       "      <th>4</th>\n",
       "      <td>17</td>\n",
       "      <td>Turk Telekom Ankara</td>\n",
       "      <td>Mincidelice JL Bourg en Bresse</td>\n",
       "      <td>64</td>\n",
       "      <td>68.0</td>\n",
       "      <td>Visitante</td>\n",
       "      <td>68.0</td>\n",
       "      <td>-4.0</td>\n",
       "      <td>2024-01-31</td>\n",
       "      <td>18:00:00</td>\n",
       "      <td>Eurocup</td>\n",
       "    </tr>\n",
       "  </tbody>\n",
       "</table>\n",
       "</div>"
      ],
      "text/plain": [
       "   ronda                        local                       visitante  \\\n",
       "0     17       Dreamland Gran Canaria                U-BT Cluj-Napoca   \n",
       "1     17      Dolomiti Energia Trento        Buducnost VOLI Podgorica   \n",
       "2     17               ratiopharm Ulm         Aris Midea Thessaloniki   \n",
       "3     17  Cedevita Olimpija Ljubljana                    London Lions   \n",
       "4     17          Turk Telekom Ankara  Mincidelice JL Bourg en Bresse   \n",
       "\n",
       "   localscore  roadscore     Winner  Ganador  plusminus         Dia      Hora  \\\n",
       "0         111      113.0  Visitante    113.0       -2.0  2024-01-31  21:00:00   \n",
       "1          78       97.0  Visitante     97.0      -19.0  2024-01-31  20:00:00   \n",
       "2          66       86.0  Visitante     86.0      -20.0  2024-01-31  19:30:00   \n",
       "3          85       92.0  Visitante     92.0       -7.0  2024-01-31  18:30:00   \n",
       "4          64       68.0  Visitante     68.0       -4.0  2024-01-31  18:00:00   \n",
       "\n",
       "  Competition  \n",
       "0     Eurocup  \n",
       "1     Eurocup  \n",
       "2     Eurocup  \n",
       "3     Eurocup  \n",
       "4     Eurocup  "
      ]
     },
     "execution_count": 22,
     "metadata": {},
     "output_type": "execute_result"
    }
   ],
   "source": [
    "#Your Code here: \n",
    "ecteams[\"Competition\"]=\"Eurocup\"\n",
    "ecteams.head() #we can see it is a fixed value: Eurocup for all rows"
   ]
  },
  {
   "cell_type": "markdown",
   "metadata": {},
   "source": [
    "`Ganador`: Being the actual values \"Local\" or \"Visitante\"\n",
    "\n",
    "**BE CAREFUL**: Before changing the correct column to \"Ganador\" from the EC dataframe, there is a \"Ganador\" column with the incorrect information: STEP BY STEP!"
   ]
  },
  {
   "cell_type": "code",
   "execution_count": 23,
   "metadata": {},
   "outputs": [
    {
     "data": {
      "text/html": [
       "<div>\n",
       "<style scoped>\n",
       "    .dataframe tbody tr th:only-of-type {\n",
       "        vertical-align: middle;\n",
       "    }\n",
       "\n",
       "    .dataframe tbody tr th {\n",
       "        vertical-align: top;\n",
       "    }\n",
       "\n",
       "    .dataframe thead th {\n",
       "        text-align: right;\n",
       "    }\n",
       "</style>\n",
       "<table border=\"1\" class=\"dataframe\">\n",
       "  <thead>\n",
       "    <tr style=\"text-align: right;\">\n",
       "      <th></th>\n",
       "      <th>Competition</th>\n",
       "      <th>Phase</th>\n",
       "      <th>Ronda</th>\n",
       "      <th>Dia</th>\n",
       "      <th>Hora</th>\n",
       "      <th>Local</th>\n",
       "      <th>Visitante</th>\n",
       "      <th>Localscore</th>\n",
       "      <th>Roadscore</th>\n",
       "      <th>Arbitros</th>\n",
       "      <th>Plusminus</th>\n",
       "      <th>Winner</th>\n",
       "      <th>Ganador</th>\n",
       "    </tr>\n",
       "  </thead>\n",
       "  <tbody>\n",
       "    <tr>\n",
       "      <th>45</th>\n",
       "      <td>Euroleague</td>\n",
       "      <td>Regular Season</td>\n",
       "      <td>6</td>\n",
       "      <td>2023-11-02</td>\n",
       "      <td>18:30:00</td>\n",
       "      <td>Crvena Zvezda Meridianbet Belgrade</td>\n",
       "      <td>FC Bayern Munich</td>\n",
       "      <td>74</td>\n",
       "      <td>68</td>\n",
       "      <td>['PEREZ, EMILIO', 'ROSSI, MICHELE', 'SILVA, SE...</td>\n",
       "      <td>6</td>\n",
       "      <td>Crvena Zvezda Meridianbet Belgrade</td>\n",
       "      <td>Local</td>\n",
       "    </tr>\n",
       "  </tbody>\n",
       "</table>\n",
       "</div>"
      ],
      "text/plain": [
       "   Competition           Phase  Ronda         Dia      Hora  \\\n",
       "45  Euroleague  Regular Season      6  2023-11-02  18:30:00   \n",
       "\n",
       "                                 Local         Visitante  Localscore  \\\n",
       "45  Crvena Zvezda Meridianbet Belgrade  FC Bayern Munich          74   \n",
       "\n",
       "    Roadscore                                           Arbitros  Plusminus  \\\n",
       "45         68  ['PEREZ, EMILIO', 'ROSSI, MICHELE', 'SILVA, SE...          6   \n",
       "\n",
       "                                Winner Ganador  \n",
       "45  Crvena Zvezda Meridianbet Belgrade   Local  "
      ]
     },
     "execution_count": 23,
     "metadata": {},
     "output_type": "execute_result"
    }
   ],
   "source": [
    "elteams.sample() #here I can check how Ganador is displayed in elteams, to see if they coincide with ecteams. In this case, it doesn't"
   ]
  },
  {
   "cell_type": "code",
   "execution_count": 24,
   "metadata": {},
   "outputs": [],
   "source": [
    "#Drop the Column Ganador from the Eurocup Dataframe\n",
    "ecteams.drop(columns = [\"Ganador\"], inplace=True)"
   ]
  },
  {
   "cell_type": "code",
   "execution_count": 25,
   "metadata": {},
   "outputs": [
    {
     "data": {
      "text/plain": [
       "Winner\n",
       "Local        91\n",
       "Visitante    82\n",
       "Name: count, dtype: int64"
      ]
     },
     "execution_count": 25,
     "metadata": {},
     "output_type": "execute_result"
    }
   ],
   "source": [
    "ecteams.Winner.value_counts() #this column contains local or visitante, so this is the column in ecteams that we need to rename as \"Ganador\""
   ]
  },
  {
   "cell_type": "code",
   "execution_count": 26,
   "metadata": {},
   "outputs": [
    {
     "data": {
      "text/html": [
       "<div>\n",
       "<style scoped>\n",
       "    .dataframe tbody tr th:only-of-type {\n",
       "        vertical-align: middle;\n",
       "    }\n",
       "\n",
       "    .dataframe tbody tr th {\n",
       "        vertical-align: top;\n",
       "    }\n",
       "\n",
       "    .dataframe thead th {\n",
       "        text-align: right;\n",
       "    }\n",
       "</style>\n",
       "<table border=\"1\" class=\"dataframe\">\n",
       "  <thead>\n",
       "    <tr style=\"text-align: right;\">\n",
       "      <th></th>\n",
       "      <th>ronda</th>\n",
       "      <th>local</th>\n",
       "      <th>visitante</th>\n",
       "      <th>localscore</th>\n",
       "      <th>roadscore</th>\n",
       "      <th>Ganador</th>\n",
       "      <th>plusminus</th>\n",
       "      <th>Dia</th>\n",
       "      <th>Hora</th>\n",
       "      <th>Competition</th>\n",
       "    </tr>\n",
       "  </thead>\n",
       "  <tbody>\n",
       "    <tr>\n",
       "      <th>92</th>\n",
       "      <td>8</td>\n",
       "      <td>London Lions</td>\n",
       "      <td>Cedevita Olimpija Ljubljana</td>\n",
       "      <td>101</td>\n",
       "      <td>95.0</td>\n",
       "      <td>Local</td>\n",
       "      <td>6.0</td>\n",
       "      <td>2023-11-22</td>\n",
       "      <td>20:30:00</td>\n",
       "      <td>Eurocup</td>\n",
       "    </tr>\n",
       "  </tbody>\n",
       "</table>\n",
       "</div>"
      ],
      "text/plain": [
       "    ronda         local                    visitante  localscore  roadscore  \\\n",
       "92      8  London Lions  Cedevita Olimpija Ljubljana         101       95.0   \n",
       "\n",
       "   Ganador  plusminus         Dia      Hora Competition  \n",
       "92   Local        6.0  2023-11-22  20:30:00     Eurocup  "
      ]
     },
     "execution_count": 26,
     "metadata": {},
     "output_type": "execute_result"
    }
   ],
   "source": [
    "#Rename the column with the actual information to \"Ganador\"\n",
    "ecteams.rename(columns={\"Winner\":\"Ganador\"}, inplace=True)\n",
    "ecteams.sample()"
   ]
  },
  {
   "cell_type": "markdown",
   "metadata": {},
   "source": [
    "As seen in the first look at the dataframes, there was a problem with the columns: Are lower when they should be Capitalized, as in the Euroleague DataFrame. Change the column names to capitalize. \n",
    "\n",
    "is there a quick way to do it?"
   ]
  },
  {
   "cell_type": "code",
   "execution_count": 27,
   "metadata": {},
   "outputs": [
    {
     "data": {
      "text/plain": [
       "Index(['ronda', 'local', 'visitante', 'localscore', 'roadscore', 'Ganador',\n",
       "       'plusminus', 'Dia', 'Hora', 'Competition'],\n",
       "      dtype='object')"
      ]
     },
     "execution_count": 27,
     "metadata": {},
     "output_type": "execute_result"
    }
   ],
   "source": [
    "# Your code here: \n",
    "ecteams.columns"
   ]
  },
  {
   "cell_type": "code",
   "execution_count": 28,
   "metadata": {},
   "outputs": [
    {
     "data": {
      "text/plain": [
       "Index(['Competition', 'Phase', 'Ronda', 'Dia', 'Hora', 'Local', 'Visitante',\n",
       "       'Localscore', 'Roadscore', 'Arbitros', 'Plusminus', 'Winner',\n",
       "       'Ganador'],\n",
       "      dtype='object')"
      ]
     },
     "execution_count": 28,
     "metadata": {},
     "output_type": "execute_result"
    }
   ],
   "source": [
    "elteams.columns"
   ]
  },
  {
   "cell_type": "code",
   "execution_count": 29,
   "metadata": {},
   "outputs": [
    {
     "data": {
      "text/plain": [
       "pandas.core.frame.DataFrame"
      ]
     },
     "execution_count": 29,
     "metadata": {},
     "output_type": "execute_result"
    }
   ],
   "source": [
    "type(ecteams)"
   ]
  },
  {
   "cell_type": "code",
   "execution_count": 30,
   "metadata": {},
   "outputs": [
    {
     "data": {
      "text/html": [
       "<div>\n",
       "<style scoped>\n",
       "    .dataframe tbody tr th:only-of-type {\n",
       "        vertical-align: middle;\n",
       "    }\n",
       "\n",
       "    .dataframe tbody tr th {\n",
       "        vertical-align: top;\n",
       "    }\n",
       "\n",
       "    .dataframe thead th {\n",
       "        text-align: right;\n",
       "    }\n",
       "</style>\n",
       "<table border=\"1\" class=\"dataframe\">\n",
       "  <thead>\n",
       "    <tr style=\"text-align: right;\">\n",
       "      <th></th>\n",
       "      <th>Ronda</th>\n",
       "      <th>Local</th>\n",
       "      <th>Visitante</th>\n",
       "      <th>Localscore</th>\n",
       "      <th>Roadscore</th>\n",
       "      <th>Ganador</th>\n",
       "      <th>Plusminus</th>\n",
       "      <th>Dia</th>\n",
       "      <th>Hora</th>\n",
       "      <th>Competition</th>\n",
       "    </tr>\n",
       "  </thead>\n",
       "  <tbody>\n",
       "    <tr>\n",
       "      <th>87</th>\n",
       "      <td>9</td>\n",
       "      <td>Cedevita Olimpija Ljubljana</td>\n",
       "      <td>Paris Basketball</td>\n",
       "      <td>77</td>\n",
       "      <td>93.0</td>\n",
       "      <td>Visitante</td>\n",
       "      <td>-16.0</td>\n",
       "      <td>2023-11-29</td>\n",
       "      <td>18:30:00</td>\n",
       "      <td>Eurocup</td>\n",
       "    </tr>\n",
       "  </tbody>\n",
       "</table>\n",
       "</div>"
      ],
      "text/plain": [
       "    Ronda                        Local         Visitante  Localscore  \\\n",
       "87      9  Cedevita Olimpija Ljubljana  Paris Basketball          77   \n",
       "\n",
       "    Roadscore    Ganador  Plusminus         Dia      Hora Competition  \n",
       "87       93.0  Visitante      -16.0  2023-11-29  18:30:00     Eurocup  "
      ]
     },
     "execution_count": 30,
     "metadata": {},
     "output_type": "execute_result"
    }
   ],
   "source": [
    "ecteams.columns = ecteams.columns.str.capitalize() #this way I can capitalize all the columns at once\n",
    "ecteams.sample()\n"
   ]
  },
  {
   "cell_type": "markdown",
   "metadata": {},
   "source": [
    "Now it is time to just take the useful columns from each data! We will call the result subsets `comp_el` and `comp_ec`\n",
    "\n",
    "REMEMBER: Use the same order of the columns for each dataset. \n",
    "\n",
    "Recommended order: Competition, Localscore, Roadscore, Plusminus, Ganador. **Nothing else is useful**"
   ]
  },
  {
   "cell_type": "code",
   "execution_count": 31,
   "metadata": {},
   "outputs": [
    {
     "data": {
      "text/html": [
       "<div>\n",
       "<style scoped>\n",
       "    .dataframe tbody tr th:only-of-type {\n",
       "        vertical-align: middle;\n",
       "    }\n",
       "\n",
       "    .dataframe tbody tr th {\n",
       "        vertical-align: top;\n",
       "    }\n",
       "\n",
       "    .dataframe thead th {\n",
       "        text-align: right;\n",
       "    }\n",
       "</style>\n",
       "<table border=\"1\" class=\"dataframe\">\n",
       "  <thead>\n",
       "    <tr style=\"text-align: right;\">\n",
       "      <th></th>\n",
       "      <th>Competition</th>\n",
       "      <th>Localscore</th>\n",
       "      <th>Roadscore</th>\n",
       "      <th>Plusminus</th>\n",
       "      <th>Ganador</th>\n",
       "    </tr>\n",
       "  </thead>\n",
       "  <tbody>\n",
       "    <tr>\n",
       "      <th>33</th>\n",
       "      <td>Euroleague</td>\n",
       "      <td>81</td>\n",
       "      <td>86</td>\n",
       "      <td>-5</td>\n",
       "      <td>Visitante</td>\n",
       "    </tr>\n",
       "  </tbody>\n",
       "</table>\n",
       "</div>"
      ],
      "text/plain": [
       "   Competition  Localscore  Roadscore  Plusminus    Ganador\n",
       "33  Euroleague          81         86         -5  Visitante"
      ]
     },
     "execution_count": 31,
     "metadata": {},
     "output_type": "execute_result"
    }
   ],
   "source": [
    "# Your code here: \n",
    "comp_el=elteams[[\"Competition\", \"Localscore\", \"Roadscore\", \"Plusminus\", \"Ganador\"]]\n",
    "comp_el.sample()"
   ]
  },
  {
   "cell_type": "code",
   "execution_count": 32,
   "metadata": {},
   "outputs": [
    {
     "data": {
      "text/plain": [
       "pandas.core.frame.DataFrame"
      ]
     },
     "execution_count": 32,
     "metadata": {},
     "output_type": "execute_result"
    }
   ],
   "source": [
    "type(ecteams)"
   ]
  },
  {
   "cell_type": "code",
   "execution_count": 33,
   "metadata": {},
   "outputs": [
    {
     "data": {
      "text/html": [
       "<div>\n",
       "<style scoped>\n",
       "    .dataframe tbody tr th:only-of-type {\n",
       "        vertical-align: middle;\n",
       "    }\n",
       "\n",
       "    .dataframe tbody tr th {\n",
       "        vertical-align: top;\n",
       "    }\n",
       "\n",
       "    .dataframe thead th {\n",
       "        text-align: right;\n",
       "    }\n",
       "</style>\n",
       "<table border=\"1\" class=\"dataframe\">\n",
       "  <thead>\n",
       "    <tr style=\"text-align: right;\">\n",
       "      <th></th>\n",
       "      <th>Competition</th>\n",
       "      <th>Localscore</th>\n",
       "      <th>Roadscore</th>\n",
       "      <th>Plusminus</th>\n",
       "      <th>Ganador</th>\n",
       "    </tr>\n",
       "  </thead>\n",
       "  <tbody>\n",
       "    <tr>\n",
       "      <th>33</th>\n",
       "      <td>Eurocup</td>\n",
       "      <td>90</td>\n",
       "      <td>96.0</td>\n",
       "      <td>-6.0</td>\n",
       "      <td>Visitante</td>\n",
       "    </tr>\n",
       "  </tbody>\n",
       "</table>\n",
       "</div>"
      ],
      "text/plain": [
       "   Competition  Localscore  Roadscore  Plusminus    Ganador\n",
       "33     Eurocup          90       96.0       -6.0  Visitante"
      ]
     },
     "execution_count": 33,
     "metadata": {},
     "output_type": "execute_result"
    }
   ],
   "source": [
    "comp_ec=ecteams[[\"Competition\", \"Localscore\", \"Roadscore\", \"Plusminus\", \"Ganador\"]]\n",
    "comp_ec.sample()"
   ]
  },
  {
   "cell_type": "markdown",
   "metadata": {},
   "source": [
    "Time to concatenate them both! Create a concat of both Dfs, called `competition`"
   ]
  },
  {
   "cell_type": "code",
   "execution_count": 34,
   "metadata": {},
   "outputs": [
    {
     "name": "stdout",
     "output_type": "stream",
     "text": [
      "<class 'pandas.core.frame.DataFrame'>\n",
      "RangeIndex: 398 entries, 0 to 397\n",
      "Data columns (total 5 columns):\n",
      " #   Column       Non-Null Count  Dtype  \n",
      "---  ------       --------------  -----  \n",
      " 0   Competition  398 non-null    object \n",
      " 1   Localscore   398 non-null    int64  \n",
      " 2   Roadscore    397 non-null    float64\n",
      " 3   Plusminus    397 non-null    float64\n",
      " 4   Ganador      398 non-null    object \n",
      "dtypes: float64(2), int64(1), object(2)\n",
      "memory usage: 15.7+ KB\n"
     ]
    }
   ],
   "source": [
    "# Your code here: \n",
    "competition=pd.concat([comp_el, comp_ec], axis=0, ignore_index=True)\n",
    "competition.info() #it has now 398 rows, which proves it worked as that is the sum of nrows of comp_el and comp_ec"
   ]
  },
  {
   "cell_type": "code",
   "execution_count": 35,
   "metadata": {},
   "outputs": [
    {
     "data": {
      "text/html": [
       "<div>\n",
       "<style scoped>\n",
       "    .dataframe tbody tr th:only-of-type {\n",
       "        vertical-align: middle;\n",
       "    }\n",
       "\n",
       "    .dataframe tbody tr th {\n",
       "        vertical-align: top;\n",
       "    }\n",
       "\n",
       "    .dataframe thead th {\n",
       "        text-align: right;\n",
       "    }\n",
       "</style>\n",
       "<table border=\"1\" class=\"dataframe\">\n",
       "  <thead>\n",
       "    <tr style=\"text-align: right;\">\n",
       "      <th></th>\n",
       "      <th>Competition</th>\n",
       "      <th>Localscore</th>\n",
       "      <th>Roadscore</th>\n",
       "      <th>Plusminus</th>\n",
       "      <th>Ganador</th>\n",
       "    </tr>\n",
       "  </thead>\n",
       "  <tbody>\n",
       "    <tr>\n",
       "      <th>187</th>\n",
       "      <td>Euroleague</td>\n",
       "      <td>91</td>\n",
       "      <td>73.0</td>\n",
       "      <td>18.0</td>\n",
       "      <td>Local</td>\n",
       "    </tr>\n",
       "  </tbody>\n",
       "</table>\n",
       "</div>"
      ],
      "text/plain": [
       "    Competition  Localscore  Roadscore  Plusminus Ganador\n",
       "187  Euroleague          91       73.0       18.0   Local"
      ]
     },
     "execution_count": 35,
     "metadata": {},
     "output_type": "execute_result"
    }
   ],
   "source": [
    "competition.sample()"
   ]
  },
  {
   "cell_type": "markdown",
   "metadata": {},
   "source": [
    "## Well done!\n",
    "\n",
    "Now we have the combination of both competitions in the same dataframe. Is time for the questions you must answer: "
   ]
  },
  {
   "cell_type": "markdown",
   "metadata": {},
   "source": [
    "1. How many matches have been in each competition?\n",
    "2. What are the maximum points that a local team has scored per competition? And the road team as well. \n",
    "3. Do the same operations with the average points (per competition)\n",
    "4. Can you tell me the maximum difference that has been in a match, splitted by competition? \n",
    "    - Careful: The Plusminus is both positive and negative, being negative that the Road Team has achieved the Victory. To have the absolute, create a new Column named Absolut_Plusminus. Remember: np.where is life!\n",
    "5. Also grouped by competition, give me the number of victories of the Locals and the Visitors"
   ]
  },
  {
   "cell_type": "code",
   "execution_count": 36,
   "metadata": {},
   "outputs": [
    {
     "data": {
      "text/html": [
       "<div>\n",
       "<style scoped>\n",
       "    .dataframe tbody tr th:only-of-type {\n",
       "        vertical-align: middle;\n",
       "    }\n",
       "\n",
       "    .dataframe tbody tr th {\n",
       "        vertical-align: top;\n",
       "    }\n",
       "\n",
       "    .dataframe thead th {\n",
       "        text-align: right;\n",
       "    }\n",
       "</style>\n",
       "<table border=\"1\" class=\"dataframe\">\n",
       "  <thead>\n",
       "    <tr style=\"text-align: right;\">\n",
       "      <th></th>\n",
       "      <th>Localscore</th>\n",
       "    </tr>\n",
       "    <tr>\n",
       "      <th>Competition</th>\n",
       "      <th></th>\n",
       "    </tr>\n",
       "  </thead>\n",
       "  <tbody>\n",
       "    <tr>\n",
       "      <th>Eurocup</th>\n",
       "      <td>173</td>\n",
       "    </tr>\n",
       "    <tr>\n",
       "      <th>Euroleague</th>\n",
       "      <td>225</td>\n",
       "    </tr>\n",
       "  </tbody>\n",
       "</table>\n",
       "</div>"
      ],
      "text/plain": [
       "             Localscore\n",
       "Competition            \n",
       "Eurocup             173\n",
       "Euroleague          225"
      ]
     },
     "execution_count": 36,
     "metadata": {},
     "output_type": "execute_result"
    }
   ],
   "source": [
    "# 1\n",
    "competition.groupby(by=[\"Competition\"]).agg({\"Localscore\":\"count\"})\n",
    "#there had been 173 matches in Eurocup and 22 in Euroleague"
   ]
  },
  {
   "cell_type": "code",
   "execution_count": 37,
   "metadata": {},
   "outputs": [
    {
     "data": {
      "text/html": [
       "<div>\n",
       "<style scoped>\n",
       "    .dataframe tbody tr th:only-of-type {\n",
       "        vertical-align: middle;\n",
       "    }\n",
       "\n",
       "    .dataframe tbody tr th {\n",
       "        vertical-align: top;\n",
       "    }\n",
       "\n",
       "    .dataframe thead th {\n",
       "        text-align: right;\n",
       "    }\n",
       "</style>\n",
       "<table border=\"1\" class=\"dataframe\">\n",
       "  <thead>\n",
       "    <tr style=\"text-align: right;\">\n",
       "      <th></th>\n",
       "      <th>Localscore</th>\n",
       "      <th>Roadscore</th>\n",
       "    </tr>\n",
       "    <tr>\n",
       "      <th>Competition</th>\n",
       "      <th></th>\n",
       "      <th></th>\n",
       "    </tr>\n",
       "  </thead>\n",
       "  <tbody>\n",
       "    <tr>\n",
       "      <th>Eurocup</th>\n",
       "      <td>120</td>\n",
       "      <td>114.0</td>\n",
       "    </tr>\n",
       "    <tr>\n",
       "      <th>Euroleague</th>\n",
       "      <td>130</td>\n",
       "      <td>126.0</td>\n",
       "    </tr>\n",
       "  </tbody>\n",
       "</table>\n",
       "</div>"
      ],
      "text/plain": [
       "             Localscore  Roadscore\n",
       "Competition                       \n",
       "Eurocup             120      114.0\n",
       "Euroleague          130      126.0"
      ]
     },
     "execution_count": 37,
     "metadata": {},
     "output_type": "execute_result"
    }
   ],
   "source": [
    "# 2\n",
    "competition.groupby(by=[\"Competition\"]).agg({\"Localscore\":\"max\",\"Roadscore\":\"max\"})\n"
   ]
  },
  {
   "cell_type": "code",
   "execution_count": 38,
   "metadata": {},
   "outputs": [
    {
     "data": {
      "text/html": [
       "<div>\n",
       "<style scoped>\n",
       "    .dataframe tbody tr th:only-of-type {\n",
       "        vertical-align: middle;\n",
       "    }\n",
       "\n",
       "    .dataframe tbody tr th {\n",
       "        vertical-align: top;\n",
       "    }\n",
       "\n",
       "    .dataframe thead th {\n",
       "        text-align: right;\n",
       "    }\n",
       "</style>\n",
       "<table border=\"1\" class=\"dataframe\">\n",
       "  <thead>\n",
       "    <tr style=\"text-align: right;\">\n",
       "      <th></th>\n",
       "      <th>Competition</th>\n",
       "      <th>Localscore</th>\n",
       "      <th>Roadscore</th>\n",
       "      <th>Plusminus</th>\n",
       "      <th>Ganador</th>\n",
       "    </tr>\n",
       "  </thead>\n",
       "  <tbody>\n",
       "    <tr>\n",
       "      <th>170</th>\n",
       "      <td>Euroleague</td>\n",
       "      <td>130</td>\n",
       "      <td>126.0</td>\n",
       "      <td>4.0</td>\n",
       "      <td>Local</td>\n",
       "    </tr>\n",
       "    <tr>\n",
       "      <th>313</th>\n",
       "      <td>Eurocup</td>\n",
       "      <td>120</td>\n",
       "      <td>111.0</td>\n",
       "      <td>9.0</td>\n",
       "      <td>Local</td>\n",
       "    </tr>\n",
       "    <tr>\n",
       "      <th>276</th>\n",
       "      <td>Eurocup</td>\n",
       "      <td>120</td>\n",
       "      <td>91.0</td>\n",
       "      <td>29.0</td>\n",
       "      <td>Local</td>\n",
       "    </tr>\n",
       "    <tr>\n",
       "      <th>269</th>\n",
       "      <td>Eurocup</td>\n",
       "      <td>118</td>\n",
       "      <td>101.0</td>\n",
       "      <td>17.0</td>\n",
       "      <td>Local</td>\n",
       "    </tr>\n",
       "    <tr>\n",
       "      <th>338</th>\n",
       "      <td>Eurocup</td>\n",
       "      <td>114</td>\n",
       "      <td>87.0</td>\n",
       "      <td>27.0</td>\n",
       "      <td>Local</td>\n",
       "    </tr>\n",
       "    <tr>\n",
       "      <th>...</th>\n",
       "      <td>...</td>\n",
       "      <td>...</td>\n",
       "      <td>...</td>\n",
       "      <td>...</td>\n",
       "      <td>...</td>\n",
       "    </tr>\n",
       "    <tr>\n",
       "      <th>14</th>\n",
       "      <td>Euroleague</td>\n",
       "      <td>59</td>\n",
       "      <td>83.0</td>\n",
       "      <td>-24.0</td>\n",
       "      <td>Visitante</td>\n",
       "    </tr>\n",
       "    <tr>\n",
       "      <th>126</th>\n",
       "      <td>Euroleague</td>\n",
       "      <td>58</td>\n",
       "      <td>72.0</td>\n",
       "      <td>-14.0</td>\n",
       "      <td>Visitante</td>\n",
       "    </tr>\n",
       "    <tr>\n",
       "      <th>237</th>\n",
       "      <td>Eurocup</td>\n",
       "      <td>57</td>\n",
       "      <td>75.0</td>\n",
       "      <td>-18.0</td>\n",
       "      <td>Visitante</td>\n",
       "    </tr>\n",
       "    <tr>\n",
       "      <th>124</th>\n",
       "      <td>Euroleague</td>\n",
       "      <td>56</td>\n",
       "      <td>63.0</td>\n",
       "      <td>-7.0</td>\n",
       "      <td>Visitante</td>\n",
       "    </tr>\n",
       "    <tr>\n",
       "      <th>116</th>\n",
       "      <td>Euroleague</td>\n",
       "      <td>55</td>\n",
       "      <td>78.0</td>\n",
       "      <td>-23.0</td>\n",
       "      <td>Visitante</td>\n",
       "    </tr>\n",
       "  </tbody>\n",
       "</table>\n",
       "<p>398 rows × 5 columns</p>\n",
       "</div>"
      ],
      "text/plain": [
       "    Competition  Localscore  Roadscore  Plusminus    Ganador\n",
       "170  Euroleague         130      126.0        4.0      Local\n",
       "313     Eurocup         120      111.0        9.0      Local\n",
       "276     Eurocup         120       91.0       29.0      Local\n",
       "269     Eurocup         118      101.0       17.0      Local\n",
       "338     Eurocup         114       87.0       27.0      Local\n",
       "..          ...         ...        ...        ...        ...\n",
       "14   Euroleague          59       83.0      -24.0  Visitante\n",
       "126  Euroleague          58       72.0      -14.0  Visitante\n",
       "237     Eurocup          57       75.0      -18.0  Visitante\n",
       "124  Euroleague          56       63.0       -7.0  Visitante\n",
       "116  Euroleague          55       78.0      -23.0  Visitante\n",
       "\n",
       "[398 rows x 5 columns]"
      ]
     },
     "execution_count": 38,
     "metadata": {},
     "output_type": "execute_result"
    }
   ],
   "source": [
    "competition.sort_values(by=\"Localscore\", ascending=False) #just to check it worked\" :)"
   ]
  },
  {
   "cell_type": "code",
   "execution_count": 39,
   "metadata": {},
   "outputs": [
    {
     "data": {
      "text/html": [
       "<div>\n",
       "<style scoped>\n",
       "    .dataframe tbody tr th:only-of-type {\n",
       "        vertical-align: middle;\n",
       "    }\n",
       "\n",
       "    .dataframe tbody tr th {\n",
       "        vertical-align: top;\n",
       "    }\n",
       "\n",
       "    .dataframe thead th {\n",
       "        text-align: right;\n",
       "    }\n",
       "</style>\n",
       "<table border=\"1\" class=\"dataframe\">\n",
       "  <thead>\n",
       "    <tr style=\"text-align: right;\">\n",
       "      <th></th>\n",
       "      <th>Localscore</th>\n",
       "      <th>Roadscore</th>\n",
       "    </tr>\n",
       "    <tr>\n",
       "      <th>Competition</th>\n",
       "      <th></th>\n",
       "      <th></th>\n",
       "    </tr>\n",
       "  </thead>\n",
       "  <tbody>\n",
       "    <tr>\n",
       "      <th>Eurocup</th>\n",
       "      <td>85.150289</td>\n",
       "      <td>83.936047</td>\n",
       "    </tr>\n",
       "    <tr>\n",
       "      <th>Euroleague</th>\n",
       "      <td>83.284444</td>\n",
       "      <td>79.173333</td>\n",
       "    </tr>\n",
       "  </tbody>\n",
       "</table>\n",
       "</div>"
      ],
      "text/plain": [
       "             Localscore  Roadscore\n",
       "Competition                       \n",
       "Eurocup       85.150289  83.936047\n",
       "Euroleague    83.284444  79.173333"
      ]
     },
     "execution_count": 39,
     "metadata": {},
     "output_type": "execute_result"
    }
   ],
   "source": [
    "# 3\n",
    "competition.groupby(by=[\"Competition\"]).agg({\"Localscore\":\"mean\",\"Roadscore\":\"mean\"})"
   ]
  },
  {
   "cell_type": "code",
   "execution_count": 40,
   "metadata": {},
   "outputs": [
    {
     "data": {
      "text/html": [
       "<div>\n",
       "<style scoped>\n",
       "    .dataframe tbody tr th:only-of-type {\n",
       "        vertical-align: middle;\n",
       "    }\n",
       "\n",
       "    .dataframe tbody tr th {\n",
       "        vertical-align: top;\n",
       "    }\n",
       "\n",
       "    .dataframe thead th {\n",
       "        text-align: right;\n",
       "    }\n",
       "</style>\n",
       "<table border=\"1\" class=\"dataframe\">\n",
       "  <thead>\n",
       "    <tr style=\"text-align: right;\">\n",
       "      <th></th>\n",
       "      <th>Localscore</th>\n",
       "      <th>Roadscore</th>\n",
       "      <th>Plusminus</th>\n",
       "    </tr>\n",
       "  </thead>\n",
       "  <tbody>\n",
       "    <tr>\n",
       "      <th>count</th>\n",
       "      <td>225.000000</td>\n",
       "      <td>225.000000</td>\n",
       "      <td>225.000000</td>\n",
       "    </tr>\n",
       "    <tr>\n",
       "      <th>mean</th>\n",
       "      <td>83.284444</td>\n",
       "      <td>79.173333</td>\n",
       "      <td>4.111111</td>\n",
       "    </tr>\n",
       "    <tr>\n",
       "      <th>std</th>\n",
       "      <td>10.933197</td>\n",
       "      <td>10.264415</td>\n",
       "      <td>12.144999</td>\n",
       "    </tr>\n",
       "    <tr>\n",
       "      <th>min</th>\n",
       "      <td>55.000000</td>\n",
       "      <td>52.000000</td>\n",
       "      <td>-29.000000</td>\n",
       "    </tr>\n",
       "    <tr>\n",
       "      <th>25%</th>\n",
       "      <td>76.000000</td>\n",
       "      <td>73.000000</td>\n",
       "      <td>-4.000000</td>\n",
       "    </tr>\n",
       "    <tr>\n",
       "      <th>50%</th>\n",
       "      <td>84.000000</td>\n",
       "      <td>78.000000</td>\n",
       "      <td>5.000000</td>\n",
       "    </tr>\n",
       "    <tr>\n",
       "      <th>75%</th>\n",
       "      <td>90.000000</td>\n",
       "      <td>85.000000</td>\n",
       "      <td>12.000000</td>\n",
       "    </tr>\n",
       "    <tr>\n",
       "      <th>max</th>\n",
       "      <td>130.000000</td>\n",
       "      <td>126.000000</td>\n",
       "      <td>39.000000</td>\n",
       "    </tr>\n",
       "  </tbody>\n",
       "</table>\n",
       "</div>"
      ],
      "text/plain": [
       "       Localscore   Roadscore   Plusminus\n",
       "count  225.000000  225.000000  225.000000\n",
       "mean    83.284444   79.173333    4.111111\n",
       "std     10.933197   10.264415   12.144999\n",
       "min     55.000000   52.000000  -29.000000\n",
       "25%     76.000000   73.000000   -4.000000\n",
       "50%     84.000000   78.000000    5.000000\n",
       "75%     90.000000   85.000000   12.000000\n",
       "max    130.000000  126.000000   39.000000"
      ]
     },
     "execution_count": 40,
     "metadata": {},
     "output_type": "execute_result"
    }
   ],
   "source": [
    "comp_el.describe() #just to check it works again! :)"
   ]
  },
  {
   "cell_type": "code",
   "execution_count": 41,
   "metadata": {},
   "outputs": [
    {
     "data": {
      "text/html": [
       "<div>\n",
       "<style scoped>\n",
       "    .dataframe tbody tr th:only-of-type {\n",
       "        vertical-align: middle;\n",
       "    }\n",
       "\n",
       "    .dataframe tbody tr th {\n",
       "        vertical-align: top;\n",
       "    }\n",
       "\n",
       "    .dataframe thead th {\n",
       "        text-align: right;\n",
       "    }\n",
       "</style>\n",
       "<table border=\"1\" class=\"dataframe\">\n",
       "  <thead>\n",
       "    <tr style=\"text-align: right;\">\n",
       "      <th></th>\n",
       "      <th>Competition</th>\n",
       "      <th>Localscore</th>\n",
       "      <th>Roadscore</th>\n",
       "      <th>Plusminus</th>\n",
       "      <th>Ganador</th>\n",
       "      <th>Absolut_Plusminus</th>\n",
       "    </tr>\n",
       "  </thead>\n",
       "  <tbody>\n",
       "    <tr>\n",
       "      <th>0</th>\n",
       "      <td>Euroleague</td>\n",
       "      <td>94</td>\n",
       "      <td>73.0</td>\n",
       "      <td>21.0</td>\n",
       "      <td>Local</td>\n",
       "      <td>21.0</td>\n",
       "    </tr>\n",
       "    <tr>\n",
       "      <th>1</th>\n",
       "      <td>Euroleague</td>\n",
       "      <td>96</td>\n",
       "      <td>81.0</td>\n",
       "      <td>15.0</td>\n",
       "      <td>Local</td>\n",
       "      <td>15.0</td>\n",
       "    </tr>\n",
       "    <tr>\n",
       "      <th>2</th>\n",
       "      <td>Euroleague</td>\n",
       "      <td>79</td>\n",
       "      <td>82.0</td>\n",
       "      <td>-3.0</td>\n",
       "      <td>Visitante</td>\n",
       "      <td>3.0</td>\n",
       "    </tr>\n",
       "    <tr>\n",
       "      <th>3</th>\n",
       "      <td>Euroleague</td>\n",
       "      <td>80</td>\n",
       "      <td>68.0</td>\n",
       "      <td>12.0</td>\n",
       "      <td>Local</td>\n",
       "      <td>12.0</td>\n",
       "    </tr>\n",
       "    <tr>\n",
       "      <th>4</th>\n",
       "      <td>Euroleague</td>\n",
       "      <td>91</td>\n",
       "      <td>74.0</td>\n",
       "      <td>17.0</td>\n",
       "      <td>Local</td>\n",
       "      <td>17.0</td>\n",
       "    </tr>\n",
       "  </tbody>\n",
       "</table>\n",
       "</div>"
      ],
      "text/plain": [
       "  Competition  Localscore  Roadscore  Plusminus    Ganador  Absolut_Plusminus\n",
       "0  Euroleague          94       73.0       21.0      Local               21.0\n",
       "1  Euroleague          96       81.0       15.0      Local               15.0\n",
       "2  Euroleague          79       82.0       -3.0  Visitante                3.0\n",
       "3  Euroleague          80       68.0       12.0      Local               12.0\n",
       "4  Euroleague          91       74.0       17.0      Local               17.0"
      ]
     },
     "execution_count": 41,
     "metadata": {},
     "output_type": "execute_result"
    }
   ],
   "source": [
    "# 4\n",
    "competition[\"Absolut_Plusminus\"]=competition.Plusminus.abs()\n",
    "competition.head() #it worked, as now the negative valus in plusminus are positive in absolut plusminus!"
   ]
  },
  {
   "cell_type": "code",
   "execution_count": 42,
   "metadata": {},
   "outputs": [
    {
     "data": {
      "text/html": [
       "<div>\n",
       "<style scoped>\n",
       "    .dataframe tbody tr th:only-of-type {\n",
       "        vertical-align: middle;\n",
       "    }\n",
       "\n",
       "    .dataframe tbody tr th {\n",
       "        vertical-align: top;\n",
       "    }\n",
       "\n",
       "    .dataframe thead th {\n",
       "        text-align: right;\n",
       "    }\n",
       "</style>\n",
       "<table border=\"1\" class=\"dataframe\">\n",
       "  <thead>\n",
       "    <tr style=\"text-align: right;\">\n",
       "      <th></th>\n",
       "      <th>Absolut_Plusminus</th>\n",
       "    </tr>\n",
       "    <tr>\n",
       "      <th>Competition</th>\n",
       "      <th></th>\n",
       "    </tr>\n",
       "  </thead>\n",
       "  <tbody>\n",
       "    <tr>\n",
       "      <th>Eurocup</th>\n",
       "      <td>39.0</td>\n",
       "    </tr>\n",
       "    <tr>\n",
       "      <th>Euroleague</th>\n",
       "      <td>39.0</td>\n",
       "    </tr>\n",
       "  </tbody>\n",
       "</table>\n",
       "</div>"
      ],
      "text/plain": [
       "             Absolut_Plusminus\n",
       "Competition                   \n",
       "Eurocup                   39.0\n",
       "Euroleague                39.0"
      ]
     },
     "execution_count": 42,
     "metadata": {},
     "output_type": "execute_result"
    }
   ],
   "source": [
    "competition.groupby(by=[\"Competition\"]).agg({\"Absolut_Plusminus\":\"max\"})"
   ]
  },
  {
   "cell_type": "code",
   "execution_count": 43,
   "metadata": {},
   "outputs": [
    {
     "data": {
      "text/html": [
       "<div>\n",
       "<style scoped>\n",
       "    .dataframe tbody tr th:only-of-type {\n",
       "        vertical-align: middle;\n",
       "    }\n",
       "\n",
       "    .dataframe tbody tr th {\n",
       "        vertical-align: top;\n",
       "    }\n",
       "\n",
       "    .dataframe thead th {\n",
       "        text-align: right;\n",
       "    }\n",
       "</style>\n",
       "<table border=\"1\" class=\"dataframe\">\n",
       "  <thead>\n",
       "    <tr style=\"text-align: right;\">\n",
       "      <th></th>\n",
       "      <th>Competition</th>\n",
       "      <th>Localscore</th>\n",
       "      <th>Roadscore</th>\n",
       "      <th>Plusminus</th>\n",
       "      <th>Ganador</th>\n",
       "      <th>Absolut_Plusminus</th>\n",
       "    </tr>\n",
       "  </thead>\n",
       "  <tbody>\n",
       "    <tr>\n",
       "      <th>35</th>\n",
       "      <td>Euroleague</td>\n",
       "      <td>98</td>\n",
       "      <td>59.0</td>\n",
       "      <td>39.0</td>\n",
       "      <td>Local</td>\n",
       "      <td>39.0</td>\n",
       "    </tr>\n",
       "    <tr>\n",
       "      <th>366</th>\n",
       "      <td>Eurocup</td>\n",
       "      <td>72</td>\n",
       "      <td>111.0</td>\n",
       "      <td>-39.0</td>\n",
       "      <td>Visitante</td>\n",
       "      <td>39.0</td>\n",
       "    </tr>\n",
       "    <tr>\n",
       "      <th>329</th>\n",
       "      <td>Eurocup</td>\n",
       "      <td>60</td>\n",
       "      <td>98.0</td>\n",
       "      <td>-38.0</td>\n",
       "      <td>Visitante</td>\n",
       "      <td>38.0</td>\n",
       "    </tr>\n",
       "    <tr>\n",
       "      <th>371</th>\n",
       "      <td>Eurocup</td>\n",
       "      <td>69</td>\n",
       "      <td>105.0</td>\n",
       "      <td>-36.0</td>\n",
       "      <td>Visitante</td>\n",
       "      <td>36.0</td>\n",
       "    </tr>\n",
       "    <tr>\n",
       "      <th>162</th>\n",
       "      <td>Euroleague</td>\n",
       "      <td>109</td>\n",
       "      <td>74.0</td>\n",
       "      <td>35.0</td>\n",
       "      <td>Local</td>\n",
       "      <td>35.0</td>\n",
       "    </tr>\n",
       "    <tr>\n",
       "      <th>...</th>\n",
       "      <td>...</td>\n",
       "      <td>...</td>\n",
       "      <td>...</td>\n",
       "      <td>...</td>\n",
       "      <td>...</td>\n",
       "      <td>...</td>\n",
       "    </tr>\n",
       "    <tr>\n",
       "      <th>277</th>\n",
       "      <td>Eurocup</td>\n",
       "      <td>89</td>\n",
       "      <td>88.0</td>\n",
       "      <td>1.0</td>\n",
       "      <td>Local</td>\n",
       "      <td>1.0</td>\n",
       "    </tr>\n",
       "    <tr>\n",
       "      <th>132</th>\n",
       "      <td>Euroleague</td>\n",
       "      <td>90</td>\n",
       "      <td>91.0</td>\n",
       "      <td>-1.0</td>\n",
       "      <td>Visitante</td>\n",
       "      <td>1.0</td>\n",
       "    </tr>\n",
       "    <tr>\n",
       "      <th>363</th>\n",
       "      <td>Eurocup</td>\n",
       "      <td>92</td>\n",
       "      <td>93.0</td>\n",
       "      <td>-1.0</td>\n",
       "      <td>Visitante</td>\n",
       "      <td>1.0</td>\n",
       "    </tr>\n",
       "    <tr>\n",
       "      <th>278</th>\n",
       "      <td>Eurocup</td>\n",
       "      <td>79</td>\n",
       "      <td>80.0</td>\n",
       "      <td>-1.0</td>\n",
       "      <td>Visitante</td>\n",
       "      <td>1.0</td>\n",
       "    </tr>\n",
       "    <tr>\n",
       "      <th>367</th>\n",
       "      <td>Eurocup</td>\n",
       "      <td>72</td>\n",
       "      <td>NaN</td>\n",
       "      <td>NaN</td>\n",
       "      <td>Visitante</td>\n",
       "      <td>NaN</td>\n",
       "    </tr>\n",
       "  </tbody>\n",
       "</table>\n",
       "<p>398 rows × 6 columns</p>\n",
       "</div>"
      ],
      "text/plain": [
       "    Competition  Localscore  Roadscore  Plusminus    Ganador  \\\n",
       "35   Euroleague          98       59.0       39.0      Local   \n",
       "366     Eurocup          72      111.0      -39.0  Visitante   \n",
       "329     Eurocup          60       98.0      -38.0  Visitante   \n",
       "371     Eurocup          69      105.0      -36.0  Visitante   \n",
       "162  Euroleague         109       74.0       35.0      Local   \n",
       "..          ...         ...        ...        ...        ...   \n",
       "277     Eurocup          89       88.0        1.0      Local   \n",
       "132  Euroleague          90       91.0       -1.0  Visitante   \n",
       "363     Eurocup          92       93.0       -1.0  Visitante   \n",
       "278     Eurocup          79       80.0       -1.0  Visitante   \n",
       "367     Eurocup          72        NaN        NaN  Visitante   \n",
       "\n",
       "     Absolut_Plusminus  \n",
       "35                39.0  \n",
       "366               39.0  \n",
       "329               38.0  \n",
       "371               36.0  \n",
       "162               35.0  \n",
       "..                 ...  \n",
       "277                1.0  \n",
       "132                1.0  \n",
       "363                1.0  \n",
       "278                1.0  \n",
       "367                NaN  \n",
       "\n",
       "[398 rows x 6 columns]"
      ]
     },
     "execution_count": 43,
     "metadata": {},
     "output_type": "execute_result"
    }
   ],
   "source": [
    "competition.sort_values(by=\"Absolut_Plusminus\", ascending=False) #to check it worked!"
   ]
  },
  {
   "cell_type": "code",
   "execution_count": 44,
   "metadata": {},
   "outputs": [
    {
     "data": {
      "text/html": [
       "<div>\n",
       "<style scoped>\n",
       "    .dataframe tbody tr th:only-of-type {\n",
       "        vertical-align: middle;\n",
       "    }\n",
       "\n",
       "    .dataframe tbody tr th {\n",
       "        vertical-align: top;\n",
       "    }\n",
       "\n",
       "    .dataframe thead th {\n",
       "        text-align: right;\n",
       "    }\n",
       "</style>\n",
       "<table border=\"1\" class=\"dataframe\">\n",
       "  <thead>\n",
       "    <tr style=\"text-align: right;\">\n",
       "      <th></th>\n",
       "      <th>Competition</th>\n",
       "      <th>Localscore</th>\n",
       "      <th>Roadscore</th>\n",
       "      <th>Plusminus</th>\n",
       "      <th>Ganador</th>\n",
       "      <th>Absolut_Plusminus</th>\n",
       "    </tr>\n",
       "  </thead>\n",
       "  <tbody>\n",
       "    <tr>\n",
       "      <th>63</th>\n",
       "      <td>Euroleague</td>\n",
       "      <td>82</td>\n",
       "      <td>89.0</td>\n",
       "      <td>-7.0</td>\n",
       "      <td>Visitante</td>\n",
       "      <td>7.0</td>\n",
       "    </tr>\n",
       "  </tbody>\n",
       "</table>\n",
       "</div>"
      ],
      "text/plain": [
       "   Competition  Localscore  Roadscore  Plusminus    Ganador  Absolut_Plusminus\n",
       "63  Euroleague          82       89.0       -7.0  Visitante                7.0"
      ]
     },
     "execution_count": 44,
     "metadata": {},
     "output_type": "execute_result"
    }
   ],
   "source": [
    "competition.sample()"
   ]
  },
  {
   "cell_type": "code",
   "execution_count": 45,
   "metadata": {},
   "outputs": [
    {
     "data": {
      "text/plain": [
       "Ganador    Competition\n",
       "Local      Euroleague     150\n",
       "           Eurocup         91\n",
       "Visitante  Eurocup         82\n",
       "           Euroleague      75\n",
       "Name: count, dtype: int64"
      ]
     },
     "execution_count": 45,
     "metadata": {},
     "output_type": "execute_result"
    }
   ],
   "source": [
    "competition[[\"Competition\", \"Ganador\"]].groupby(\"Ganador\").value_counts()"
   ]
  },
  {
   "cell_type": "code",
   "execution_count": 46,
   "metadata": {},
   "outputs": [],
   "source": [
    "competition.to_csv(\"competition.csv\", index=False) #to check how the whole dataframe looks like and check"
   ]
  }
 ],
 "metadata": {
  "kernelspec": {
   "display_name": "Python 3 (ipykernel)",
   "language": "python",
   "name": "python3"
  },
  "language_info": {
   "codemirror_mode": {
    "name": "ipython",
    "version": 3
   },
   "file_extension": ".py",
   "mimetype": "text/x-python",
   "name": "python",
   "nbconvert_exporter": "python",
   "pygments_lexer": "ipython3",
   "version": "3.11.7"
  }
 },
 "nbformat": 4,
 "nbformat_minor": 4
}
