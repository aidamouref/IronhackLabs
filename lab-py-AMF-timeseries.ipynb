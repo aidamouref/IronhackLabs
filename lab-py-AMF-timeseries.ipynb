{
 "cells": [
  {
   "cell_type": "markdown",
   "metadata": {},
   "source": [
    "# Lab | Series de tiempo\n",
    "\n",
    "### Aída Moure Fernández"
   ]
  },
  {
   "cell_type": "markdown",
   "metadata": {},
   "source": [
    "#### Buscar los datos disponibles en la web:https://data.buenosaires.gob.ar/dataset/flujo-vehicular-por-unidades-de-peaje-ausa"
   ]
  },
  {
   "cell_type": "code",
   "execution_count": 1,
   "metadata": {},
   "outputs": [],
   "source": [
    "import pandas as pd\n",
    "import numpy as np\n",
    "import matplotlib.pyplot as plt\n",
    "import datetime"
   ]
  },
  {
   "cell_type": "markdown",
   "metadata": {},
   "source": [
    "### 2020"
   ]
  },
  {
   "cell_type": "code",
   "execution_count": 2,
   "metadata": {},
   "outputs": [],
   "source": [
    "data_2020 = pd.read_csv('Data/flujo-vehicular-2020.csv', sep =',', parse_dates=['fecha'])\n",
    "\n"
   ]
  },
  {
   "cell_type": "code",
   "execution_count": 3,
   "metadata": {},
   "outputs": [
    {
     "name": "stdout",
     "output_type": "stream",
     "text": [
      "<class 'pandas.core.frame.DataFrame'>\n",
      "RangeIndex: 2533743 entries, 0 to 2533742\n",
      "Data columns (total 13 columns):\n",
      " #   Column          Dtype  \n",
      "---  ------          -----  \n",
      " 0   periodo         float64\n",
      " 1   fecha           object \n",
      " 2   mes             object \n",
      " 3   dia             object \n",
      " 4   dia_fecha       float64\n",
      " 5   hora_inicio     float64\n",
      " 6   hora_fin        float64\n",
      " 7   estacion        object \n",
      " 8   tipo_vehiculo   object \n",
      " 9   forma_pago      object \n",
      " 10  observacion     object \n",
      " 11  sentido         object \n",
      " 12  cantidad_pasos  float64\n",
      "dtypes: float64(5), object(8)\n",
      "memory usage: 251.3+ MB\n"
     ]
    }
   ],
   "source": [
    "data_2020.info()"
   ]
  },
  {
   "cell_type": "code",
   "execution_count": 4,
   "metadata": {},
   "outputs": [
    {
     "data": {
      "text/html": [
       "<div>\n",
       "<style scoped>\n",
       "    .dataframe tbody tr th:only-of-type {\n",
       "        vertical-align: middle;\n",
       "    }\n",
       "\n",
       "    .dataframe tbody tr th {\n",
       "        vertical-align: top;\n",
       "    }\n",
       "\n",
       "    .dataframe thead th {\n",
       "        text-align: right;\n",
       "    }\n",
       "</style>\n",
       "<table border=\"1\" class=\"dataframe\">\n",
       "  <thead>\n",
       "    <tr style=\"text-align: right;\">\n",
       "      <th></th>\n",
       "      <th>periodo</th>\n",
       "      <th>fecha</th>\n",
       "      <th>mes</th>\n",
       "      <th>dia</th>\n",
       "      <th>dia_fecha</th>\n",
       "      <th>hora_inicio</th>\n",
       "      <th>hora_fin</th>\n",
       "      <th>estacion</th>\n",
       "      <th>tipo_vehiculo</th>\n",
       "      <th>forma_pago</th>\n",
       "      <th>observacion</th>\n",
       "      <th>sentido</th>\n",
       "      <th>cantidad_pasos</th>\n",
       "    </tr>\n",
       "  </thead>\n",
       "  <tbody>\n",
       "    <tr>\n",
       "      <th>1605209</th>\n",
       "      <td>2020.0</td>\n",
       "      <td>2020-08-23</td>\n",
       "      <td>agosto</td>\n",
       "      <td>Domingo</td>\n",
       "      <td>23.0</td>\n",
       "      <td>5.0</td>\n",
       "      <td>6.0</td>\n",
       "      <td>ILP</td>\n",
       "      <td>Pesados 5 Ejes</td>\n",
       "      <td>Tag</td>\n",
       "      <td>Tag - PosPago</td>\n",
       "      <td>Centro</td>\n",
       "      <td>41.0</td>\n",
       "    </tr>\n",
       "  </tbody>\n",
       "</table>\n",
       "</div>"
      ],
      "text/plain": [
       "         periodo       fecha     mes      dia  dia_fecha  hora_inicio  \\\n",
       "1605209   2020.0  2020-08-23  agosto  Domingo       23.0          5.0   \n",
       "\n",
       "         hora_fin estacion   tipo_vehiculo forma_pago    observacion sentido  \\\n",
       "1605209       6.0      ILP  Pesados 5 Ejes        Tag  Tag - PosPago  Centro   \n",
       "\n",
       "         cantidad_pasos  \n",
       "1605209            41.0  "
      ]
     },
     "execution_count": 4,
     "metadata": {},
     "output_type": "execute_result"
    }
   ],
   "source": [
    "data_2020.sample()"
   ]
  },
  {
   "cell_type": "code",
   "execution_count": 5,
   "metadata": {},
   "outputs": [
    {
     "data": {
      "text/plain": [
       "fecha\n",
       "2020-12-18             9076\n",
       "2020-02-21 00:00:00    9067\n",
       "2020-12-21             9052\n",
       "2020-03-05 00:00:00    9043\n",
       "2020-12-22             9041\n",
       "                       ... \n",
       "2020-03-28 00:00:00    3172\n",
       "2020-05-03             3119\n",
       "2020-04-12             2971\n",
       "2020-03-22 00:00:00    2838\n",
       "2020-03-29 00:00:00    2725\n",
       "Name: count, Length: 366, dtype: int64"
      ]
     },
     "execution_count": 5,
     "metadata": {},
     "output_type": "execute_result"
    }
   ],
   "source": [
    "data_2020.fecha.value_counts()"
   ]
  },
  {
   "cell_type": "code",
   "execution_count": 6,
   "metadata": {},
   "outputs": [
    {
     "name": "stdout",
     "output_type": "stream",
     "text": [
      "<class 'pandas.core.series.Series'>\n",
      "RangeIndex: 2533743 entries, 0 to 2533742\n",
      "Series name: fecha\n",
      "Non-Null Count    Dtype \n",
      "--------------    ----- \n",
      "2533743 non-null  object\n",
      "dtypes: object(1)\n",
      "memory usage: 19.3+ MB\n"
     ]
    }
   ],
   "source": [
    "data_2020.fecha.info()"
   ]
  },
  {
   "cell_type": "code",
   "execution_count": 7,
   "metadata": {},
   "outputs": [
    {
     "name": "stdout",
     "output_type": "stream",
     "text": [
      "<class 'pandas.core.series.Series'>\n",
      "RangeIndex: 2533743 entries, 0 to 2533742\n",
      "Series name: fecha\n",
      "Non-Null Count    Dtype         \n",
      "--------------    -----         \n",
      "2533743 non-null  datetime64[ns]\n",
      "dtypes: datetime64[ns](1)\n",
      "memory usage: 19.3 MB\n"
     ]
    }
   ],
   "source": [
    "data_2020.sample()\n",
    "data_2020['fecha'] = pd.to_datetime(data_2020['fecha'], format=\"mixed\")\n",
    "data_2020.fecha.info()"
   ]
  },
  {
   "cell_type": "code",
   "execution_count": 8,
   "metadata": {},
   "outputs": [
    {
     "name": "stdout",
     "output_type": "stream",
     "text": [
      "<class 'pandas.core.series.Series'>\n",
      "RangeIndex: 2533743 entries, 0 to 2533742\n",
      "Series name: cantidad_pasos\n",
      "Non-Null Count    Dtype  \n",
      "--------------    -----  \n",
      "2533743 non-null  float64\n",
      "dtypes: float64(1)\n",
      "memory usage: 19.3 MB\n"
     ]
    }
   ],
   "source": [
    "data_2020.cantidad_pasos.info()"
   ]
  },
  {
   "cell_type": "code",
   "execution_count": 9,
   "metadata": {},
   "outputs": [],
   "source": [
    "data_2020['cantidad_pasos'] = data_2020['cantidad_pasos'].astype(int)"
   ]
  },
  {
   "cell_type": "code",
   "execution_count": 10,
   "metadata": {},
   "outputs": [
    {
     "data": {
      "text/html": [
       "<div>\n",
       "<style scoped>\n",
       "    .dataframe tbody tr th:only-of-type {\n",
       "        vertical-align: middle;\n",
       "    }\n",
       "\n",
       "    .dataframe tbody tr th {\n",
       "        vertical-align: top;\n",
       "    }\n",
       "\n",
       "    .dataframe thead th {\n",
       "        text-align: right;\n",
       "    }\n",
       "</style>\n",
       "<table border=\"1\" class=\"dataframe\">\n",
       "  <thead>\n",
       "    <tr style=\"text-align: right;\">\n",
       "      <th></th>\n",
       "      <th>periodo</th>\n",
       "      <th>fecha</th>\n",
       "      <th>mes</th>\n",
       "      <th>dia</th>\n",
       "      <th>dia_fecha</th>\n",
       "      <th>hora_inicio</th>\n",
       "      <th>hora_fin</th>\n",
       "      <th>estacion</th>\n",
       "      <th>tipo_vehiculo</th>\n",
       "      <th>forma_pago</th>\n",
       "      <th>observacion</th>\n",
       "      <th>sentido</th>\n",
       "      <th>cantidad_pasos</th>\n",
       "    </tr>\n",
       "  </thead>\n",
       "  <tbody>\n",
       "    <tr>\n",
       "      <th>2289683</th>\n",
       "      <td>2020.0</td>\n",
       "      <td>2020-11-18</td>\n",
       "      <td>noviembre</td>\n",
       "      <td>Miércoles</td>\n",
       "      <td>18.0</td>\n",
       "      <td>22.0</td>\n",
       "      <td>23.0</td>\n",
       "      <td>AVELLANEDA</td>\n",
       "      <td>Pesados 6 Ejes</td>\n",
       "      <td>Tag</td>\n",
       "      <td>Tag - PosPago</td>\n",
       "      <td>Provincia</td>\n",
       "      <td>17</td>\n",
       "    </tr>\n",
       "  </tbody>\n",
       "</table>\n",
       "</div>"
      ],
      "text/plain": [
       "         periodo      fecha        mes        dia  dia_fecha  hora_inicio  \\\n",
       "2289683   2020.0 2020-11-18  noviembre  Miércoles       18.0         22.0   \n",
       "\n",
       "         hora_fin    estacion   tipo_vehiculo forma_pago    observacion  \\\n",
       "2289683      23.0  AVELLANEDA  Pesados 6 Ejes        Tag  Tag - PosPago   \n",
       "\n",
       "           sentido  cantidad_pasos  \n",
       "2289683  Provincia              17  "
      ]
     },
     "execution_count": 10,
     "metadata": {},
     "output_type": "execute_result"
    }
   ],
   "source": [
    "data_2020.sample()"
   ]
  },
  {
   "cell_type": "code",
   "execution_count": 11,
   "metadata": {},
   "outputs": [
    {
     "data": {
      "text/plain": [
       "array([  24,   80,    1, ..., 2126, 2452, 1817])"
      ]
     },
     "execution_count": 11,
     "metadata": {},
     "output_type": "execute_result"
    }
   ],
   "source": [
    "data_2020.cantidad_pasos.unique()"
   ]
  },
  {
   "cell_type": "code",
   "execution_count": 12,
   "metadata": {},
   "outputs": [
    {
     "data": {
      "text/plain": [
       "<DatetimeArray>\n",
       "['2020-01-01 00:00:00', '2020-01-02 00:00:00', '2020-01-03 00:00:00',\n",
       " '2020-01-04 00:00:00', '2020-01-05 00:00:00', '2020-01-06 00:00:00',\n",
       " '2020-01-07 00:00:00', '2020-01-08 00:00:00', '2020-01-09 00:00:00',\n",
       " '2020-01-10 00:00:00',\n",
       " ...\n",
       " '2020-12-22 00:00:00', '2020-12-23 00:00:00', '2020-12-24 00:00:00',\n",
       " '2020-12-25 00:00:00', '2020-12-26 00:00:00', '2020-12-27 00:00:00',\n",
       " '2020-12-28 00:00:00', '2020-12-29 00:00:00', '2020-12-30 00:00:00',\n",
       " '2020-12-31 00:00:00']\n",
       "Length: 366, dtype: datetime64[ns]"
      ]
     },
     "execution_count": 12,
     "metadata": {},
     "output_type": "execute_result"
    }
   ],
   "source": [
    "data_2020.fecha.unique()"
   ]
  },
  {
   "cell_type": "code",
   "execution_count": 13,
   "metadata": {},
   "outputs": [],
   "source": [
    "data_2020 = data_2020.rename(columns={'periodo':'año', 'cantidad_pasos':'pasos', 'dia_fecha':'dia_semana'})"
   ]
  },
  {
   "cell_type": "code",
   "execution_count": 14,
   "metadata": {},
   "outputs": [],
   "source": [
    "floats=data_2020[['año', 'dia_semana', 'hora_inicio', 'hora_fin']]\n",
    "for i in floats:\n",
    "    data_2020[i]=data_2020[i].astype(float).astype(int)"
   ]
  },
  {
   "cell_type": "code",
   "execution_count": 15,
   "metadata": {},
   "outputs": [
    {
     "name": "stdout",
     "output_type": "stream",
     "text": [
      "<class 'pandas.core.frame.DataFrame'>\n",
      "RangeIndex: 2533743 entries, 0 to 2533742\n",
      "Data columns (total 13 columns):\n",
      " #   Column         Dtype         \n",
      "---  ------         -----         \n",
      " 0   año            int32         \n",
      " 1   fecha          datetime64[ns]\n",
      " 2   mes            object        \n",
      " 3   dia            object        \n",
      " 4   dia_semana     int32         \n",
      " 5   hora_inicio    int32         \n",
      " 6   hora_fin       int32         \n",
      " 7   estacion       object        \n",
      " 8   tipo_vehiculo  object        \n",
      " 9   forma_pago     object        \n",
      " 10  observacion    object        \n",
      " 11  sentido        object        \n",
      " 12  pasos          int32         \n",
      "dtypes: datetime64[ns](1), int32(5), object(7)\n",
      "memory usage: 203.0+ MB\n"
     ]
    }
   ],
   "source": [
    "data_2020.info()"
   ]
  },
  {
   "cell_type": "markdown",
   "metadata": {},
   "source": [
    "### 2021"
   ]
  },
  {
   "cell_type": "code",
   "execution_count": 16,
   "metadata": {},
   "outputs": [
    {
     "name": "stderr",
     "output_type": "stream",
     "text": [
      "C:\\Users\\poutxinha\\AppData\\Local\\Temp\\ipykernel_3964\\3108720436.py:1: DtypeWarning: Columns (0,2,3,9) have mixed types. Specify dtype option on import or set low_memory=False.\n",
      "  data_2021 = pd.read_csv('Data/flujo-vehicular-2021.csv', sep =',')\n"
     ]
    }
   ],
   "source": [
    "data_2021 = pd.read_csv('Data/flujo-vehicular-2021.csv', sep =',')"
   ]
  },
  {
   "cell_type": "code",
   "execution_count": 17,
   "metadata": {},
   "outputs": [
    {
     "data": {
      "text/html": [
       "<div>\n",
       "<style scoped>\n",
       "    .dataframe tbody tr th:only-of-type {\n",
       "        vertical-align: middle;\n",
       "    }\n",
       "\n",
       "    .dataframe tbody tr th {\n",
       "        vertical-align: top;\n",
       "    }\n",
       "\n",
       "    .dataframe thead th {\n",
       "        text-align: right;\n",
       "    }\n",
       "</style>\n",
       "<table border=\"1\" class=\"dataframe\">\n",
       "  <thead>\n",
       "    <tr style=\"text-align: right;\">\n",
       "      <th></th>\n",
       "      <th>Año de Fecha Operativa</th>\n",
       "      <th>Cat Cobrada</th>\n",
       "      <th>Día de Fecha Operativa</th>\n",
       "      <th>Hora HH</th>\n",
       "      <th>ID Peaje</th>\n",
       "      <th>Mes de Fecha Operativa</th>\n",
       "      <th>Observacion</th>\n",
       "      <th>Sentido</th>\n",
       "      <th>Tipo Cobro</th>\n",
       "      <th>Pasos</th>\n",
       "    </tr>\n",
       "  </thead>\n",
       "  <tbody>\n",
       "    <tr>\n",
       "      <th>2271058</th>\n",
       "      <td>2021</td>\n",
       "      <td>Pesados 6 Ejes</td>\n",
       "      <td>18</td>\n",
       "      <td>8</td>\n",
       "      <td>PB1</td>\n",
       "      <td>septiembre</td>\n",
       "      <td>Tag - PosPago</td>\n",
       "      <td>Provincia</td>\n",
       "      <td>Tag</td>\n",
       "      <td>50</td>\n",
       "    </tr>\n",
       "  </tbody>\n",
       "</table>\n",
       "</div>"
      ],
      "text/plain": [
       "        Año de Fecha Operativa     Cat Cobrada Día de Fecha Operativa Hora HH  \\\n",
       "2271058                   2021  Pesados 6 Ejes                     18       8   \n",
       "\n",
       "        ID Peaje Mes de Fecha Operativa    Observacion    Sentido Tipo Cobro  \\\n",
       "2271058      PB1             septiembre  Tag - PosPago  Provincia        Tag   \n",
       "\n",
       "        Pasos  \n",
       "2271058    50  "
      ]
     },
     "execution_count": 17,
     "metadata": {},
     "output_type": "execute_result"
    }
   ],
   "source": [
    "data_2021.sample()"
   ]
  },
  {
   "cell_type": "code",
   "execution_count": 18,
   "metadata": {},
   "outputs": [],
   "source": [
    "cols = []\n",
    "for i in range(len(data_2021.columns)):\n",
    "    cols.append(data_2021.columns[i].lower())\n",
    "data_2021.columns = cols"
   ]
  },
  {
   "cell_type": "code",
   "execution_count": 19,
   "metadata": {},
   "outputs": [
    {
     "data": {
      "text/plain": [
       "array([7, 4, 1, ..., 5918, 3880, 11684739], dtype=object)"
      ]
     },
     "execution_count": 19,
     "metadata": {},
     "output_type": "execute_result"
    }
   ],
   "source": [
    "data_2021.pasos.unique()"
   ]
  },
  {
   "cell_type": "code",
   "execution_count": 20,
   "metadata": {},
   "outputs": [
    {
     "name": "stdout",
     "output_type": "stream",
     "text": [
      "<class 'pandas.core.series.Series'>\n",
      "RangeIndex: 3029367 entries, 0 to 3029366\n",
      "Series name: pasos\n",
      "Non-Null Count    Dtype \n",
      "--------------    ----- \n",
      "3029367 non-null  object\n",
      "dtypes: object(1)\n",
      "memory usage: 23.1+ MB\n"
     ]
    }
   ],
   "source": [
    "data_2021.pasos.info()"
   ]
  },
  {
   "cell_type": "code",
   "execution_count": 21,
   "metadata": {},
   "outputs": [
    {
     "data": {
      "text/plain": [
       "año de fecha operativa\n",
       "2021             2228224\n",
       "2021              801130\n",
       "Total general         13\n",
       "Name: count, dtype: int64"
      ]
     },
     "execution_count": 21,
     "metadata": {},
     "output_type": "execute_result"
    }
   ],
   "source": [
    "data_2021['año de fecha operativa'].value_counts()"
   ]
  },
  {
   "cell_type": "code",
   "execution_count": 22,
   "metadata": {},
   "outputs": [],
   "source": [
    "data_2021 = data_2021[data_2021['año de fecha operativa'] != \"Total general\"] #ok"
   ]
  },
  {
   "cell_type": "code",
   "execution_count": 23,
   "metadata": {},
   "outputs": [
    {
     "name": "stdout",
     "output_type": "stream",
     "text": [
      "<class 'pandas.core.series.Series'>\n",
      "Index: 3029354 entries, 0 to 3029365\n",
      "Series name: pasos\n",
      "Non-Null Count    Dtype\n",
      "--------------    -----\n",
      "3029354 non-null  int32\n",
      "dtypes: int32(1)\n",
      "memory usage: 34.7 MB\n"
     ]
    }
   ],
   "source": [
    "data_2021['pasos'] = data_2021['pasos'].astype(float)\n",
    "data_2021['pasos'] = data_2021['pasos'].astype(int)\n",
    "data_2021.pasos.info()"
   ]
  },
  {
   "cell_type": "code",
   "execution_count": 24,
   "metadata": {},
   "outputs": [],
   "source": [
    "data_2021 = data_2021.rename(columns={'año de fecha operativa':'año', 'Día de Fecha Operativa':'dia', 'mes de fecha operativa':'mes', 'tipo cobro':'forma_pago', 'cat cobrada':'tipo_vehiculo','día de fecha operativa':'dia', 'hora hh':'hora_fin', 'id peaje':'estacion'})\n"
   ]
  },
  {
   "cell_type": "code",
   "execution_count": 25,
   "metadata": {},
   "outputs": [],
   "source": [
    "data_2021 = data_2021[[\"año\", \"mes\", \"dia\", \"hora_fin\", \"estacion\", \"tipo_vehiculo\", \"forma_pago\", \"observacion\", \"sentido\", \"pasos\"]]"
   ]
  },
  {
   "cell_type": "code",
   "execution_count": 26,
   "metadata": {},
   "outputs": [],
   "source": [
    "mes_num = {'enero': 1, 'febrero': 2, 'marzo': 3, 'abril': 4, 'mayo': 5, 'junio': 6, 'julio': 7, 'agosto': 8, 'septiembre': 9, 'octubre': 10, 'noviembre': 11, 'diciembre': 12}"
   ]
  },
  {
   "cell_type": "code",
   "execution_count": 27,
   "metadata": {},
   "outputs": [],
   "source": [
    "data_2021['mes_num'] = data_2021['mes'].map(mes_num)"
   ]
  },
  {
   "cell_type": "code",
   "execution_count": 28,
   "metadata": {},
   "outputs": [],
   "source": [
    "data_2021 = data_2021[[\"año\", \"mes\", \"mes_num\", \"dia\", \"hora_fin\", \"estacion\", \"tipo_vehiculo\", \"forma_pago\", \"observacion\", \"sentido\", \"pasos\"]]"
   ]
  },
  {
   "cell_type": "code",
   "execution_count": 29,
   "metadata": {},
   "outputs": [
    {
     "data": {
      "text/html": [
       "<div>\n",
       "<style scoped>\n",
       "    .dataframe tbody tr th:only-of-type {\n",
       "        vertical-align: middle;\n",
       "    }\n",
       "\n",
       "    .dataframe tbody tr th {\n",
       "        vertical-align: top;\n",
       "    }\n",
       "\n",
       "    .dataframe thead th {\n",
       "        text-align: right;\n",
       "    }\n",
       "</style>\n",
       "<table border=\"1\" class=\"dataframe\">\n",
       "  <thead>\n",
       "    <tr style=\"text-align: right;\">\n",
       "      <th></th>\n",
       "      <th>año</th>\n",
       "      <th>mes</th>\n",
       "      <th>mes_num</th>\n",
       "      <th>dia</th>\n",
       "      <th>hora_fin</th>\n",
       "      <th>estacion</th>\n",
       "      <th>tipo_vehiculo</th>\n",
       "      <th>forma_pago</th>\n",
       "      <th>observacion</th>\n",
       "      <th>sentido</th>\n",
       "      <th>pasos</th>\n",
       "    </tr>\n",
       "  </thead>\n",
       "  <tbody>\n",
       "    <tr>\n",
       "      <th>1382076</th>\n",
       "      <td>2021</td>\n",
       "      <td>julio</td>\n",
       "      <td>7</td>\n",
       "      <td>21</td>\n",
       "      <td>12</td>\n",
       "      <td>DEL</td>\n",
       "      <td>Auto</td>\n",
       "      <td>Tarjeta Magnética</td>\n",
       "      <td>T.Magnética Disc.</td>\n",
       "      <td>Provincia</td>\n",
       "      <td>5</td>\n",
       "    </tr>\n",
       "  </tbody>\n",
       "</table>\n",
       "</div>"
      ],
      "text/plain": [
       "          año    mes  mes_num dia hora_fin estacion tipo_vehiculo  \\\n",
       "1382076  2021  julio        7  21       12      DEL          Auto   \n",
       "\n",
       "                forma_pago        observacion    sentido  pasos  \n",
       "1382076  Tarjeta Magnética  T.Magnética Disc.  Provincia      5  "
      ]
     },
     "execution_count": 29,
     "metadata": {},
     "output_type": "execute_result"
    }
   ],
   "source": [
    "data_2021.sample()"
   ]
  },
  {
   "cell_type": "code",
   "execution_count": 30,
   "metadata": {},
   "outputs": [],
   "source": [
    "\n",
    "data_2021['fecha'] = data_2021[['dia','mes_num','año']].apply(lambda row: '/'.join(row.values.astype(str)), axis=1)"
   ]
  },
  {
   "cell_type": "code",
   "execution_count": 31,
   "metadata": {},
   "outputs": [
    {
     "data": {
      "text/html": [
       "<div>\n",
       "<style scoped>\n",
       "    .dataframe tbody tr th:only-of-type {\n",
       "        vertical-align: middle;\n",
       "    }\n",
       "\n",
       "    .dataframe tbody tr th {\n",
       "        vertical-align: top;\n",
       "    }\n",
       "\n",
       "    .dataframe thead th {\n",
       "        text-align: right;\n",
       "    }\n",
       "</style>\n",
       "<table border=\"1\" class=\"dataframe\">\n",
       "  <thead>\n",
       "    <tr style=\"text-align: right;\">\n",
       "      <th></th>\n",
       "      <th>año</th>\n",
       "      <th>mes</th>\n",
       "      <th>mes_num</th>\n",
       "      <th>dia</th>\n",
       "      <th>hora_fin</th>\n",
       "      <th>estacion</th>\n",
       "      <th>tipo_vehiculo</th>\n",
       "      <th>forma_pago</th>\n",
       "      <th>observacion</th>\n",
       "      <th>sentido</th>\n",
       "      <th>pasos</th>\n",
       "      <th>fecha</th>\n",
       "    </tr>\n",
       "  </thead>\n",
       "  <tbody>\n",
       "    <tr>\n",
       "      <th>295158</th>\n",
       "      <td>2021</td>\n",
       "      <td>marzo</td>\n",
       "      <td>3</td>\n",
       "      <td>19</td>\n",
       "      <td>4</td>\n",
       "      <td>AVE</td>\n",
       "      <td>Auto con trailer</td>\n",
       "      <td>Efectivo</td>\n",
       "      <td>Efectivo</td>\n",
       "      <td>Provincia</td>\n",
       "      <td>1</td>\n",
       "      <td>19/3/2021</td>\n",
       "    </tr>\n",
       "  </tbody>\n",
       "</table>\n",
       "</div>"
      ],
      "text/plain": [
       "         año    mes  mes_num dia hora_fin estacion     tipo_vehiculo  \\\n",
       "295158  2021  marzo        3  19        4      AVE  Auto con trailer   \n",
       "\n",
       "       forma_pago observacion    sentido  pasos      fecha  \n",
       "295158   Efectivo    Efectivo  Provincia      1  19/3/2021  "
      ]
     },
     "execution_count": 31,
     "metadata": {},
     "output_type": "execute_result"
    }
   ],
   "source": [
    "data_2021.sample()"
   ]
  },
  {
   "cell_type": "code",
   "execution_count": 32,
   "metadata": {},
   "outputs": [
    {
     "name": "stdout",
     "output_type": "stream",
     "text": [
      "<class 'pandas.core.frame.DataFrame'>\n",
      "Index: 3029354 entries, 0 to 3029365\n",
      "Data columns (total 12 columns):\n",
      " #   Column         Dtype \n",
      "---  ------         ----- \n",
      " 0   año            object\n",
      " 1   mes            object\n",
      " 2   mes_num        int64 \n",
      " 3   dia            object\n",
      " 4   hora_fin       object\n",
      " 5   estacion       object\n",
      " 6   tipo_vehiculo  object\n",
      " 7   forma_pago     object\n",
      " 8   observacion    object\n",
      " 9   sentido        object\n",
      " 10  pasos          int32 \n",
      " 11  fecha          object\n",
      "dtypes: int32(1), int64(1), object(10)\n",
      "memory usage: 288.9+ MB\n"
     ]
    }
   ],
   "source": [
    "data_2021.info()"
   ]
  },
  {
   "cell_type": "code",
   "execution_count": 33,
   "metadata": {},
   "outputs": [
    {
     "data": {
      "text/html": [
       "<div>\n",
       "<style scoped>\n",
       "    .dataframe tbody tr th:only-of-type {\n",
       "        vertical-align: middle;\n",
       "    }\n",
       "\n",
       "    .dataframe tbody tr th {\n",
       "        vertical-align: top;\n",
       "    }\n",
       "\n",
       "    .dataframe thead th {\n",
       "        text-align: right;\n",
       "    }\n",
       "</style>\n",
       "<table border=\"1\" class=\"dataframe\">\n",
       "  <thead>\n",
       "    <tr style=\"text-align: right;\">\n",
       "      <th></th>\n",
       "      <th>año</th>\n",
       "      <th>mes</th>\n",
       "      <th>mes_num</th>\n",
       "      <th>dia</th>\n",
       "      <th>hora_fin</th>\n",
       "      <th>estacion</th>\n",
       "      <th>tipo_vehiculo</th>\n",
       "      <th>forma_pago</th>\n",
       "      <th>observacion</th>\n",
       "      <th>sentido</th>\n",
       "      <th>pasos</th>\n",
       "      <th>fecha</th>\n",
       "    </tr>\n",
       "  </thead>\n",
       "  <tbody>\n",
       "    <tr>\n",
       "      <th>1170027</th>\n",
       "      <td>2021</td>\n",
       "      <td>junio</td>\n",
       "      <td>6</td>\n",
       "      <td>25</td>\n",
       "      <td>10</td>\n",
       "      <td>AVE</td>\n",
       "      <td>Auto</td>\n",
       "      <td>Tag</td>\n",
       "      <td>Tag - PosPago</td>\n",
       "      <td>Centro</td>\n",
       "      <td>2384</td>\n",
       "      <td>2021-06-25</td>\n",
       "    </tr>\n",
       "  </tbody>\n",
       "</table>\n",
       "</div>"
      ],
      "text/plain": [
       "          año    mes  mes_num dia hora_fin estacion tipo_vehiculo forma_pago  \\\n",
       "1170027  2021  junio        6  25       10      AVE          Auto        Tag   \n",
       "\n",
       "           observacion sentido  pasos      fecha  \n",
       "1170027  Tag - PosPago  Centro   2384 2021-06-25  "
      ]
     },
     "execution_count": 33,
     "metadata": {},
     "output_type": "execute_result"
    }
   ],
   "source": [
    "data_2021.sample()\n",
    "data_2021['fecha'] = pd.to_datetime(data_2021['fecha'], format=\"mixed\")\n",
    "data_2021.sample()"
   ]
  },
  {
   "cell_type": "markdown",
   "metadata": {},
   "source": [
    "### joinear"
   ]
  },
  {
   "cell_type": "code",
   "execution_count": 34,
   "metadata": {},
   "outputs": [
    {
     "data": {
      "text/html": [
       "<div>\n",
       "<style scoped>\n",
       "    .dataframe tbody tr th:only-of-type {\n",
       "        vertical-align: middle;\n",
       "    }\n",
       "\n",
       "    .dataframe tbody tr th {\n",
       "        vertical-align: top;\n",
       "    }\n",
       "\n",
       "    .dataframe thead th {\n",
       "        text-align: right;\n",
       "    }\n",
       "</style>\n",
       "<table border=\"1\" class=\"dataframe\">\n",
       "  <thead>\n",
       "    <tr style=\"text-align: right;\">\n",
       "      <th></th>\n",
       "      <th>año</th>\n",
       "      <th>fecha</th>\n",
       "      <th>mes</th>\n",
       "      <th>dia</th>\n",
       "      <th>dia_semana</th>\n",
       "      <th>hora_inicio</th>\n",
       "      <th>hora_fin</th>\n",
       "      <th>estacion</th>\n",
       "      <th>tipo_vehiculo</th>\n",
       "      <th>forma_pago</th>\n",
       "      <th>observacion</th>\n",
       "      <th>sentido</th>\n",
       "      <th>pasos</th>\n",
       "      <th>mes_num</th>\n",
       "    </tr>\n",
       "  </thead>\n",
       "  <tbody>\n",
       "    <tr>\n",
       "      <th>0</th>\n",
       "      <td>2020</td>\n",
       "      <td>2020-01-01</td>\n",
       "      <td>enero</td>\n",
       "      <td>Miércoles</td>\n",
       "      <td>1.0</td>\n",
       "      <td>0.0</td>\n",
       "      <td>1</td>\n",
       "      <td>ALBERDI</td>\n",
       "      <td>Auto</td>\n",
       "      <td>Efectivo</td>\n",
       "      <td>Efectivo</td>\n",
       "      <td>Centro</td>\n",
       "      <td>24</td>\n",
       "      <td>NaN</td>\n",
       "    </tr>\n",
       "    <tr>\n",
       "      <th>1</th>\n",
       "      <td>2020</td>\n",
       "      <td>2020-01-01</td>\n",
       "      <td>enero</td>\n",
       "      <td>Miércoles</td>\n",
       "      <td>1.0</td>\n",
       "      <td>0.0</td>\n",
       "      <td>1</td>\n",
       "      <td>ALBERDI</td>\n",
       "      <td>Auto</td>\n",
       "      <td>Efectivo</td>\n",
       "      <td>Efectivo</td>\n",
       "      <td>Provincia</td>\n",
       "      <td>80</td>\n",
       "      <td>NaN</td>\n",
       "    </tr>\n",
       "    <tr>\n",
       "      <th>2</th>\n",
       "      <td>2020</td>\n",
       "      <td>2020-01-01</td>\n",
       "      <td>enero</td>\n",
       "      <td>Miércoles</td>\n",
       "      <td>1.0</td>\n",
       "      <td>0.0</td>\n",
       "      <td>1</td>\n",
       "      <td>ALBERDI</td>\n",
       "      <td>Auto</td>\n",
       "      <td>Rec.Deuda</td>\n",
       "      <td>Paso en Infracción</td>\n",
       "      <td>Provincia</td>\n",
       "      <td>1</td>\n",
       "      <td>NaN</td>\n",
       "    </tr>\n",
       "    <tr>\n",
       "      <th>3</th>\n",
       "      <td>2020</td>\n",
       "      <td>2020-01-01</td>\n",
       "      <td>enero</td>\n",
       "      <td>Miércoles</td>\n",
       "      <td>1.0</td>\n",
       "      <td>0.0</td>\n",
       "      <td>1</td>\n",
       "      <td>ALBERDI</td>\n",
       "      <td>Auto</td>\n",
       "      <td>Rec.Deuda</td>\n",
       "      <td>Paso en infracción con Multa LPR</td>\n",
       "      <td>Centro</td>\n",
       "      <td>1</td>\n",
       "      <td>NaN</td>\n",
       "    </tr>\n",
       "    <tr>\n",
       "      <th>4</th>\n",
       "      <td>2020</td>\n",
       "      <td>2020-01-01</td>\n",
       "      <td>enero</td>\n",
       "      <td>Miércoles</td>\n",
       "      <td>1.0</td>\n",
       "      <td>0.0</td>\n",
       "      <td>1</td>\n",
       "      <td>ALBERDI</td>\n",
       "      <td>Auto</td>\n",
       "      <td>Rec.Deuda</td>\n",
       "      <td>Paso en infracción con Multa LPR</td>\n",
       "      <td>Provincia</td>\n",
       "      <td>1</td>\n",
       "      <td>NaN</td>\n",
       "    </tr>\n",
       "    <tr>\n",
       "      <th>...</th>\n",
       "      <td>...</td>\n",
       "      <td>...</td>\n",
       "      <td>...</td>\n",
       "      <td>...</td>\n",
       "      <td>...</td>\n",
       "      <td>...</td>\n",
       "      <td>...</td>\n",
       "      <td>...</td>\n",
       "      <td>...</td>\n",
       "      <td>...</td>\n",
       "      <td>...</td>\n",
       "      <td>...</td>\n",
       "      <td>...</td>\n",
       "      <td>...</td>\n",
       "    </tr>\n",
       "    <tr>\n",
       "      <th>3029361</th>\n",
       "      <td>2021</td>\n",
       "      <td>2021-12-21</td>\n",
       "      <td>diciembre</td>\n",
       "      <td>21</td>\n",
       "      <td>NaN</td>\n",
       "      <td>NaN</td>\n",
       "      <td>15</td>\n",
       "      <td>DEC</td>\n",
       "      <td>N/D</td>\n",
       "      <td>Violación</td>\n",
       "      <td>Violación - Vía Cerrada</td>\n",
       "      <td>Centro</td>\n",
       "      <td>2330</td>\n",
       "      <td>12.0</td>\n",
       "    </tr>\n",
       "    <tr>\n",
       "      <th>3029362</th>\n",
       "      <td>2021</td>\n",
       "      <td>2021-12-21</td>\n",
       "      <td>diciembre</td>\n",
       "      <td>21</td>\n",
       "      <td>NaN</td>\n",
       "      <td>NaN</td>\n",
       "      <td>15</td>\n",
       "      <td>DEL</td>\n",
       "      <td>N/D</td>\n",
       "      <td>Violación</td>\n",
       "      <td>Violación - Vía Cerrada</td>\n",
       "      <td>Provincia</td>\n",
       "      <td>1969</td>\n",
       "      <td>12.0</td>\n",
       "    </tr>\n",
       "    <tr>\n",
       "      <th>3029363</th>\n",
       "      <td>2021</td>\n",
       "      <td>2021-12-21</td>\n",
       "      <td>diciembre</td>\n",
       "      <td>21</td>\n",
       "      <td>NaN</td>\n",
       "      <td>NaN</td>\n",
       "      <td>15</td>\n",
       "      <td>ILL</td>\n",
       "      <td>N/D</td>\n",
       "      <td>Violación</td>\n",
       "      <td>Violación - Normal</td>\n",
       "      <td>Centro</td>\n",
       "      <td>3</td>\n",
       "      <td>12.0</td>\n",
       "    </tr>\n",
       "    <tr>\n",
       "      <th>3029364</th>\n",
       "      <td>2021</td>\n",
       "      <td>2021-12-21</td>\n",
       "      <td>diciembre</td>\n",
       "      <td>21</td>\n",
       "      <td>NaN</td>\n",
       "      <td>NaN</td>\n",
       "      <td>15</td>\n",
       "      <td>ILL</td>\n",
       "      <td>N/D</td>\n",
       "      <td>Violación</td>\n",
       "      <td>Violación - Vía Cerrada</td>\n",
       "      <td>Centro</td>\n",
       "      <td>2445</td>\n",
       "      <td>12.0</td>\n",
       "    </tr>\n",
       "    <tr>\n",
       "      <th>3029365</th>\n",
       "      <td>2021</td>\n",
       "      <td>2021-12-21</td>\n",
       "      <td>diciembre</td>\n",
       "      <td>21</td>\n",
       "      <td>NaN</td>\n",
       "      <td>NaN</td>\n",
       "      <td>15</td>\n",
       "      <td>ILL</td>\n",
       "      <td>N/D</td>\n",
       "      <td>Violación</td>\n",
       "      <td>Violación - Vía Cerrada</td>\n",
       "      <td>Provincia</td>\n",
       "      <td>3880</td>\n",
       "      <td>12.0</td>\n",
       "    </tr>\n",
       "  </tbody>\n",
       "</table>\n",
       "<p>5563097 rows × 14 columns</p>\n",
       "</div>"
      ],
      "text/plain": [
       "          año      fecha        mes        dia  dia_semana  hora_inicio  \\\n",
       "0        2020 2020-01-01      enero  Miércoles         1.0          0.0   \n",
       "1        2020 2020-01-01      enero  Miércoles         1.0          0.0   \n",
       "2        2020 2020-01-01      enero  Miércoles         1.0          0.0   \n",
       "3        2020 2020-01-01      enero  Miércoles         1.0          0.0   \n",
       "4        2020 2020-01-01      enero  Miércoles         1.0          0.0   \n",
       "...       ...        ...        ...        ...         ...          ...   \n",
       "3029361  2021 2021-12-21  diciembre         21         NaN          NaN   \n",
       "3029362  2021 2021-12-21  diciembre         21         NaN          NaN   \n",
       "3029363  2021 2021-12-21  diciembre         21         NaN          NaN   \n",
       "3029364  2021 2021-12-21  diciembre         21         NaN          NaN   \n",
       "3029365  2021 2021-12-21  diciembre         21         NaN          NaN   \n",
       "\n",
       "        hora_fin estacion tipo_vehiculo forma_pago  \\\n",
       "0              1  ALBERDI          Auto   Efectivo   \n",
       "1              1  ALBERDI          Auto   Efectivo   \n",
       "2              1  ALBERDI          Auto  Rec.Deuda   \n",
       "3              1  ALBERDI          Auto  Rec.Deuda   \n",
       "4              1  ALBERDI          Auto  Rec.Deuda   \n",
       "...          ...      ...           ...        ...   \n",
       "3029361       15      DEC           N/D  Violación   \n",
       "3029362       15      DEL           N/D  Violación   \n",
       "3029363       15      ILL           N/D  Violación   \n",
       "3029364       15      ILL           N/D  Violación   \n",
       "3029365       15      ILL           N/D  Violación   \n",
       "\n",
       "                              observacion    sentido pasos  mes_num  \n",
       "0                                Efectivo     Centro    24      NaN  \n",
       "1                                Efectivo  Provincia    80      NaN  \n",
       "2                      Paso en Infracción  Provincia     1      NaN  \n",
       "3        Paso en infracción con Multa LPR     Centro     1      NaN  \n",
       "4        Paso en infracción con Multa LPR  Provincia     1      NaN  \n",
       "...                                   ...        ...   ...      ...  \n",
       "3029361           Violación - Vía Cerrada     Centro  2330     12.0  \n",
       "3029362           Violación - Vía Cerrada  Provincia  1969     12.0  \n",
       "3029363                Violación - Normal     Centro     3     12.0  \n",
       "3029364           Violación - Vía Cerrada     Centro  2445     12.0  \n",
       "3029365           Violación - Vía Cerrada  Provincia  3880     12.0  \n",
       "\n",
       "[5563097 rows x 14 columns]"
      ]
     },
     "execution_count": 34,
     "metadata": {},
     "output_type": "execute_result"
    }
   ],
   "source": [
    "column_names = data_2020.columns\n",
    "data = pd.DataFrame(columns=column_names)\n",
    "data = pd.concat([data,data_2020, data_2021], axis=0, join='outer')\n",
    "data"
   ]
  },
  {
   "cell_type": "markdown",
   "metadata": {},
   "source": [
    "## 2022"
   ]
  },
  {
   "cell_type": "code",
   "execution_count": 35,
   "metadata": {},
   "outputs": [
    {
     "name": "stderr",
     "output_type": "stream",
     "text": [
      "C:\\Users\\poutxinha\\AppData\\Local\\Temp\\ipykernel_3964\\419587088.py:1: DtypeWarning: Columns (1,2) have mixed types. Specify dtype option on import or set low_memory=False.\n",
      "  data_enfeb_22=pd.read_csv(\"Data/Transito Enero-Febrero 2022.csv\", sep=';', parse_dates=True)\n",
      "C:\\Users\\poutxinha\\AppData\\Local\\Temp\\ipykernel_3964\\419587088.py:2: DtypeWarning: Columns (1) have mixed types. Specify dtype option on import or set low_memory=False.\n",
      "  data_mar_22=pd.read_csv(\"Data/Transito Marzo 2022.csv\", sep=',', parse_dates=True)\n",
      "C:\\Users\\poutxinha\\AppData\\Local\\Temp\\ipykernel_3964\\419587088.py:3: DtypeWarning: Columns (0,1,2,3,4,5,6,7) have mixed types. Specify dtype option on import or set low_memory=False.\n",
      "  data_abril_22=pd.read_csv(\"Data/Transito Abril 2022.csv\", sep=',', parse_dates=True)\n",
      "C:\\Users\\poutxinha\\AppData\\Local\\Temp\\ipykernel_3964\\419587088.py:4: DtypeWarning: Columns (1,7) have mixed types. Specify dtype option on import or set low_memory=False.\n",
      "  data_may_22=pd.read_csv(\"Data/Transito Mayo 2022.csv\", sep=',', parse_dates=True)\n",
      "C:\\Users\\poutxinha\\AppData\\Local\\Temp\\ipykernel_3964\\419587088.py:5: DtypeWarning: Columns (1,7) have mixed types. Specify dtype option on import or set low_memory=False.\n",
      "  data_jun_22=pd.read_csv(\"Data/Transito Junio 2022.csv\", sep=',', parse_dates=True)\n",
      "C:\\Users\\poutxinha\\AppData\\Local\\Temp\\ipykernel_3964\\419587088.py:6: DtypeWarning: Columns (1,7) have mixed types. Specify dtype option on import or set low_memory=False.\n",
      "  data_jul_22=pd.read_csv(\"Data/Transito Julio 2022.csv\", sep=',', parse_dates=True)\n",
      "C:\\Users\\poutxinha\\AppData\\Local\\Temp\\ipykernel_3964\\419587088.py:7: DtypeWarning: Columns (1,7) have mixed types. Specify dtype option on import or set low_memory=False.\n",
      "  data_ago_22=pd.read_csv(\"Data/Transito Agosto 2022.csv\", sep=',', parse_dates=True)\n",
      "C:\\Users\\poutxinha\\AppData\\Local\\Temp\\ipykernel_3964\\419587088.py:8: DtypeWarning: Columns (1,7) have mixed types. Specify dtype option on import or set low_memory=False.\n",
      "  data_sep_22=pd.read_csv(\"Data/Transito Septiembre 2022.csv\", sep=',', parse_dates=True)\n",
      "C:\\Users\\poutxinha\\AppData\\Local\\Temp\\ipykernel_3964\\419587088.py:9: DtypeWarning: Columns (1,7) have mixed types. Specify dtype option on import or set low_memory=False.\n",
      "  data_oct_22=pd.read_csv(\"Data/Transito Octubre 2022.csv\", sep=';', parse_dates=True)\n",
      "C:\\Users\\poutxinha\\AppData\\Local\\Temp\\ipykernel_3964\\419587088.py:10: DtypeWarning: Columns (1,7) have mixed types. Specify dtype option on import or set low_memory=False.\n",
      "  data_nov_22=pd.read_csv(\"Data/Transito Noviembre 2022.csv\", sep=';', parse_dates=True)\n",
      "C:\\Users\\poutxinha\\AppData\\Local\\Temp\\ipykernel_3964\\419587088.py:11: DtypeWarning: Columns (1,7) have mixed types. Specify dtype option on import or set low_memory=False.\n",
      "  data_dic_22=pd.read_csv(\"Data/Transito Diciembre 2022.csv\", sep=';', parse_dates=True)\n"
     ]
    }
   ],
   "source": [
    "data_enfeb_22=pd.read_csv(\"Data/Transito Enero-Febrero 2022.csv\", sep=';', parse_dates=True)\n",
    "data_mar_22=pd.read_csv(\"Data/Transito Marzo 2022.csv\", sep=',', parse_dates=True)\n",
    "data_abril_22=pd.read_csv(\"Data/Transito Abril 2022.csv\", sep=',', parse_dates=True)\n",
    "data_may_22=pd.read_csv(\"Data/Transito Mayo 2022.csv\", sep=',', parse_dates=True)\n",
    "data_jun_22=pd.read_csv(\"Data/Transito Junio 2022.csv\", sep=',', parse_dates=True)\n",
    "data_jul_22=pd.read_csv(\"Data/Transito Julio 2022.csv\", sep=',', parse_dates=True)\n",
    "data_ago_22=pd.read_csv(\"Data/Transito Agosto 2022.csv\", sep=',', parse_dates=True)\n",
    "data_sep_22=pd.read_csv(\"Data/Transito Septiembre 2022.csv\", sep=',', parse_dates=True)\n",
    "data_oct_22=pd.read_csv(\"Data/Transito Octubre 2022.csv\", sep=';', parse_dates=True)\n",
    "data_nov_22=pd.read_csv(\"Data/Transito Noviembre 2022.csv\", sep=';', parse_dates=True)\n",
    "data_dic_22=pd.read_csv(\"Data/Transito Diciembre 2022.csv\", sep=';', parse_dates=True)"
   ]
  },
  {
   "cell_type": "code",
   "execution_count": 36,
   "metadata": {},
   "outputs": [
    {
     "data": {
      "text/html": [
       "<div>\n",
       "<style scoped>\n",
       "    .dataframe tbody tr th:only-of-type {\n",
       "        vertical-align: middle;\n",
       "    }\n",
       "\n",
       "    .dataframe tbody tr th {\n",
       "        vertical-align: top;\n",
       "    }\n",
       "\n",
       "    .dataframe thead th {\n",
       "        text-align: right;\n",
       "    }\n",
       "</style>\n",
       "<table border=\"1\" class=\"dataframe\">\n",
       "  <thead>\n",
       "    <tr style=\"text-align: right;\">\n",
       "      <th></th>\n",
       "      <th>Año de Fecha Operativa</th>\n",
       "      <th>Cat Cobrada</th>\n",
       "      <th>Hora HH</th>\n",
       "      <th>ID Peaje</th>\n",
       "      <th>Observacion</th>\n",
       "      <th>Sentido</th>\n",
       "      <th>Tipo Cobro</th>\n",
       "      <th>Pasos</th>\n",
       "    </tr>\n",
       "  </thead>\n",
       "  <tbody>\n",
       "    <tr>\n",
       "      <th>166242</th>\n",
       "      <td>2022-01-06</td>\n",
       "      <td>Pesados 3 Ejes</td>\n",
       "      <td>11</td>\n",
       "      <td>ILP</td>\n",
       "      <td>Tag - PosPago</td>\n",
       "      <td>Provincia</td>\n",
       "      <td>Tag</td>\n",
       "      <td>42</td>\n",
       "    </tr>\n",
       "  </tbody>\n",
       "</table>\n",
       "</div>"
      ],
      "text/plain": [
       "       Año de Fecha Operativa     Cat Cobrada Hora HH ID Peaje    Observacion  \\\n",
       "166242             2022-01-06  Pesados 3 Ejes      11      ILP  Tag - PosPago   \n",
       "\n",
       "          Sentido Tipo Cobro  Pasos  \n",
       "166242  Provincia        Tag     42  "
      ]
     },
     "execution_count": 36,
     "metadata": {},
     "output_type": "execute_result"
    }
   ],
   "source": [
    "data_enfeb_22.sample()"
   ]
  },
  {
   "cell_type": "code",
   "execution_count": 37,
   "metadata": {},
   "outputs": [
    {
     "data": {
      "text/html": [
       "<div>\n",
       "<style scoped>\n",
       "    .dataframe tbody tr th:only-of-type {\n",
       "        vertical-align: middle;\n",
       "    }\n",
       "\n",
       "    .dataframe tbody tr th {\n",
       "        vertical-align: top;\n",
       "    }\n",
       "\n",
       "    .dataframe thead th {\n",
       "        text-align: right;\n",
       "    }\n",
       "</style>\n",
       "<table border=\"1\" class=\"dataframe\">\n",
       "  <thead>\n",
       "    <tr style=\"text-align: right;\">\n",
       "      <th></th>\n",
       "      <th>Año de Fecha Operativa</th>\n",
       "      <th>Hora HH</th>\n",
       "      <th>Cat Cobrada</th>\n",
       "      <th>ID Peaje</th>\n",
       "      <th>Observacion</th>\n",
       "      <th>Sentido</th>\n",
       "      <th>Tipo Cobro</th>\n",
       "      <th>Pasos</th>\n",
       "    </tr>\n",
       "  </thead>\n",
       "  <tbody>\n",
       "    <tr>\n",
       "      <th>74401</th>\n",
       "      <td>9/3/2022</td>\n",
       "      <td>20</td>\n",
       "      <td>Pesados 2 Ejes</td>\n",
       "      <td>AVE</td>\n",
       "      <td>Tag - PosPago OCR</td>\n",
       "      <td>Provincia</td>\n",
       "      <td>Tag</td>\n",
       "      <td>7.0</td>\n",
       "    </tr>\n",
       "  </tbody>\n",
       "</table>\n",
       "</div>"
      ],
      "text/plain": [
       "      Año de Fecha Operativa Hora HH     Cat Cobrada ID Peaje  \\\n",
       "74401               9/3/2022      20  Pesados 2 Ejes      AVE   \n",
       "\n",
       "             Observacion    Sentido Tipo Cobro  Pasos  \n",
       "74401  Tag - PosPago OCR  Provincia        Tag    7.0  "
      ]
     },
     "execution_count": 37,
     "metadata": {},
     "output_type": "execute_result"
    }
   ],
   "source": [
    "data_mar_22.sample()"
   ]
  },
  {
   "cell_type": "code",
   "execution_count": 38,
   "metadata": {},
   "outputs": [
    {
     "data": {
      "text/html": [
       "<div>\n",
       "<style scoped>\n",
       "    .dataframe tbody tr th:only-of-type {\n",
       "        vertical-align: middle;\n",
       "    }\n",
       "\n",
       "    .dataframe tbody tr th {\n",
       "        vertical-align: top;\n",
       "    }\n",
       "\n",
       "    .dataframe thead th {\n",
       "        text-align: right;\n",
       "    }\n",
       "</style>\n",
       "<table border=\"1\" class=\"dataframe\">\n",
       "  <thead>\n",
       "    <tr style=\"text-align: right;\">\n",
       "      <th></th>\n",
       "      <th>Año de Fecha Operativa</th>\n",
       "      <th>Hora HH</th>\n",
       "      <th>Cat Cobrada</th>\n",
       "      <th>ID Peaje</th>\n",
       "      <th>Observacion</th>\n",
       "      <th>Sentido</th>\n",
       "      <th>Tipo Cobro</th>\n",
       "      <th>Pasos</th>\n",
       "    </tr>\n",
       "  </thead>\n",
       "  <tbody>\n",
       "    <tr>\n",
       "      <th>141955</th>\n",
       "      <td>18/4/2022</td>\n",
       "      <td>9</td>\n",
       "      <td>Pesados 5 Ejes</td>\n",
       "      <td>AVE</td>\n",
       "      <td>Tag - PosPago</td>\n",
       "      <td>Centro</td>\n",
       "      <td>Tag</td>\n",
       "      <td>76.0</td>\n",
       "    </tr>\n",
       "  </tbody>\n",
       "</table>\n",
       "</div>"
      ],
      "text/plain": [
       "       Año de Fecha Operativa Hora HH     Cat Cobrada ID Peaje    Observacion  \\\n",
       "141955              18/4/2022       9  Pesados 5 Ejes      AVE  Tag - PosPago   \n",
       "\n",
       "       Sentido Tipo Cobro Pasos  \n",
       "141955  Centro        Tag  76.0  "
      ]
     },
     "execution_count": 38,
     "metadata": {},
     "output_type": "execute_result"
    }
   ],
   "source": [
    "data_abril_22.sample()"
   ]
  },
  {
   "cell_type": "code",
   "execution_count": 39,
   "metadata": {},
   "outputs": [
    {
     "data": {
      "text/html": [
       "<div>\n",
       "<style scoped>\n",
       "    .dataframe tbody tr th:only-of-type {\n",
       "        vertical-align: middle;\n",
       "    }\n",
       "\n",
       "    .dataframe tbody tr th {\n",
       "        vertical-align: top;\n",
       "    }\n",
       "\n",
       "    .dataframe thead th {\n",
       "        text-align: right;\n",
       "    }\n",
       "</style>\n",
       "<table border=\"1\" class=\"dataframe\">\n",
       "  <thead>\n",
       "    <tr style=\"text-align: right;\">\n",
       "      <th></th>\n",
       "      <th>Año de Fecha Operativa</th>\n",
       "      <th>Hora HH</th>\n",
       "      <th>Cat Cobrada</th>\n",
       "      <th>ID Peaje</th>\n",
       "      <th>Observacion</th>\n",
       "      <th>Sentido</th>\n",
       "      <th>Tipo Cobro</th>\n",
       "      <th>Pasos</th>\n",
       "    </tr>\n",
       "  </thead>\n",
       "  <tbody>\n",
       "    <tr>\n",
       "      <th>110878</th>\n",
       "      <td>13/5/2022</td>\n",
       "      <td>20</td>\n",
       "      <td>Moto</td>\n",
       "      <td>AVE</td>\n",
       "      <td>Exento - Reglamento</td>\n",
       "      <td>Centro</td>\n",
       "      <td>Exento</td>\n",
       "      <td>1.0</td>\n",
       "    </tr>\n",
       "  </tbody>\n",
       "</table>\n",
       "</div>"
      ],
      "text/plain": [
       "       Año de Fecha Operativa Hora HH Cat Cobrada ID Peaje  \\\n",
       "110878              13/5/2022      20        Moto      AVE   \n",
       "\n",
       "                Observacion Sentido Tipo Cobro Pasos  \n",
       "110878  Exento - Reglamento  Centro     Exento   1.0  "
      ]
     },
     "execution_count": 39,
     "metadata": {},
     "output_type": "execute_result"
    }
   ],
   "source": [
    "data_may_22.sample()"
   ]
  },
  {
   "cell_type": "code",
   "execution_count": 40,
   "metadata": {},
   "outputs": [
    {
     "data": {
      "text/html": [
       "<div>\n",
       "<style scoped>\n",
       "    .dataframe tbody tr th:only-of-type {\n",
       "        vertical-align: middle;\n",
       "    }\n",
       "\n",
       "    .dataframe tbody tr th {\n",
       "        vertical-align: top;\n",
       "    }\n",
       "\n",
       "    .dataframe thead th {\n",
       "        text-align: right;\n",
       "    }\n",
       "</style>\n",
       "<table border=\"1\" class=\"dataframe\">\n",
       "  <thead>\n",
       "    <tr style=\"text-align: right;\">\n",
       "      <th></th>\n",
       "      <th>Año de Fecha Operativa</th>\n",
       "      <th>Hora HH</th>\n",
       "      <th>Cat Cobrada</th>\n",
       "      <th>ID Peaje</th>\n",
       "      <th>Observacion</th>\n",
       "      <th>Sentido</th>\n",
       "      <th>Tipo Cobro</th>\n",
       "      <th>Pasos</th>\n",
       "    </tr>\n",
       "  </thead>\n",
       "  <tbody>\n",
       "    <tr>\n",
       "      <th>195418</th>\n",
       "      <td>24/6/2022</td>\n",
       "      <td>13</td>\n",
       "      <td>Pesados 4 Ejes</td>\n",
       "      <td>DEL</td>\n",
       "      <td>Tag - PosPago</td>\n",
       "      <td>Provincia</td>\n",
       "      <td>Tag</td>\n",
       "      <td>5.0</td>\n",
       "    </tr>\n",
       "  </tbody>\n",
       "</table>\n",
       "</div>"
      ],
      "text/plain": [
       "       Año de Fecha Operativa Hora HH     Cat Cobrada ID Peaje    Observacion  \\\n",
       "195418              24/6/2022      13  Pesados 4 Ejes      DEL  Tag - PosPago   \n",
       "\n",
       "          Sentido Tipo Cobro Pasos  \n",
       "195418  Provincia        Tag   5.0  "
      ]
     },
     "execution_count": 40,
     "metadata": {},
     "output_type": "execute_result"
    }
   ],
   "source": [
    "data_jun_22.sample()"
   ]
  },
  {
   "cell_type": "code",
   "execution_count": 41,
   "metadata": {},
   "outputs": [
    {
     "data": {
      "text/html": [
       "<div>\n",
       "<style scoped>\n",
       "    .dataframe tbody tr th:only-of-type {\n",
       "        vertical-align: middle;\n",
       "    }\n",
       "\n",
       "    .dataframe tbody tr th {\n",
       "        vertical-align: top;\n",
       "    }\n",
       "\n",
       "    .dataframe thead th {\n",
       "        text-align: right;\n",
       "    }\n",
       "</style>\n",
       "<table border=\"1\" class=\"dataframe\">\n",
       "  <thead>\n",
       "    <tr style=\"text-align: right;\">\n",
       "      <th></th>\n",
       "      <th>Año de Fecha Operativa</th>\n",
       "      <th>Hora HH</th>\n",
       "      <th>Cat Cobrada</th>\n",
       "      <th>ID Peaje</th>\n",
       "      <th>Observacion</th>\n",
       "      <th>Sentido</th>\n",
       "      <th>Tipo Cobro</th>\n",
       "      <th>Pasos</th>\n",
       "    </tr>\n",
       "  </thead>\n",
       "  <tbody>\n",
       "    <tr>\n",
       "      <th>157909</th>\n",
       "      <td>19 de julio de 2022</td>\n",
       "      <td>13</td>\n",
       "      <td>Auto</td>\n",
       "      <td>PB1</td>\n",
       "      <td>Tag - PosPago</td>\n",
       "      <td>Provincia</td>\n",
       "      <td>Tag</td>\n",
       "      <td>54.0</td>\n",
       "    </tr>\n",
       "  </tbody>\n",
       "</table>\n",
       "</div>"
      ],
      "text/plain": [
       "       Año de Fecha Operativa Hora HH Cat Cobrada ID Peaje    Observacion  \\\n",
       "157909    19 de julio de 2022      13        Auto      PB1  Tag - PosPago   \n",
       "\n",
       "          Sentido Tipo Cobro Pasos  \n",
       "157909  Provincia        Tag  54.0  "
      ]
     },
     "execution_count": 41,
     "metadata": {},
     "output_type": "execute_result"
    }
   ],
   "source": [
    "data_jul_22.sample()"
   ]
  },
  {
   "cell_type": "code",
   "execution_count": 42,
   "metadata": {},
   "outputs": [
    {
     "data": {
      "text/html": [
       "<div>\n",
       "<style scoped>\n",
       "    .dataframe tbody tr th:only-of-type {\n",
       "        vertical-align: middle;\n",
       "    }\n",
       "\n",
       "    .dataframe tbody tr th {\n",
       "        vertical-align: top;\n",
       "    }\n",
       "\n",
       "    .dataframe thead th {\n",
       "        text-align: right;\n",
       "    }\n",
       "</style>\n",
       "<table border=\"1\" class=\"dataframe\">\n",
       "  <thead>\n",
       "    <tr style=\"text-align: right;\">\n",
       "      <th></th>\n",
       "      <th>Año de Fecha Operativa</th>\n",
       "      <th>Hora HH</th>\n",
       "      <th>Cat Cobrada</th>\n",
       "      <th>ID Peaje</th>\n",
       "      <th>Observacion</th>\n",
       "      <th>Sentido</th>\n",
       "      <th>Tipo Cobro</th>\n",
       "      <th>Pasos</th>\n",
       "    </tr>\n",
       "  </thead>\n",
       "  <tbody>\n",
       "    <tr>\n",
       "      <th>239998</th>\n",
       "      <td>29/8/2022</td>\n",
       "      <td>3</td>\n",
       "      <td>Auto</td>\n",
       "      <td>AVE</td>\n",
       "      <td>Paso en infracción con Multa LPR</td>\n",
       "      <td>Provincia</td>\n",
       "      <td>Rec.Deuda</td>\n",
       "      <td>1.0</td>\n",
       "    </tr>\n",
       "  </tbody>\n",
       "</table>\n",
       "</div>"
      ],
      "text/plain": [
       "       Año de Fecha Operativa Hora HH Cat Cobrada ID Peaje  \\\n",
       "239998              29/8/2022       3        Auto      AVE   \n",
       "\n",
       "                             Observacion    Sentido Tipo Cobro Pasos  \n",
       "239998  Paso en infracción con Multa LPR  Provincia  Rec.Deuda   1.0  "
      ]
     },
     "execution_count": 42,
     "metadata": {},
     "output_type": "execute_result"
    }
   ],
   "source": [
    "data_ago_22.sample()"
   ]
  },
  {
   "cell_type": "code",
   "execution_count": 43,
   "metadata": {},
   "outputs": [
    {
     "data": {
      "text/html": [
       "<div>\n",
       "<style scoped>\n",
       "    .dataframe tbody tr th:only-of-type {\n",
       "        vertical-align: middle;\n",
       "    }\n",
       "\n",
       "    .dataframe tbody tr th {\n",
       "        vertical-align: top;\n",
       "    }\n",
       "\n",
       "    .dataframe thead th {\n",
       "        text-align: right;\n",
       "    }\n",
       "</style>\n",
       "<table border=\"1\" class=\"dataframe\">\n",
       "  <thead>\n",
       "    <tr style=\"text-align: right;\">\n",
       "      <th></th>\n",
       "      <th>Año de Fecha Operativa</th>\n",
       "      <th>Hora HH</th>\n",
       "      <th>Cat Cobrada</th>\n",
       "      <th>ID Peaje</th>\n",
       "      <th>Observacion</th>\n",
       "      <th>Sentido</th>\n",
       "      <th>Tipo Cobro</th>\n",
       "      <th>Pasos</th>\n",
       "    </tr>\n",
       "  </thead>\n",
       "  <tbody>\n",
       "    <tr>\n",
       "      <th>64394</th>\n",
       "      <td>8 de septiembre de 2022</td>\n",
       "      <td>12</td>\n",
       "      <td>Auto</td>\n",
       "      <td>AVE</td>\n",
       "      <td>Paso en infracción con Multa LPR</td>\n",
       "      <td>Provincia</td>\n",
       "      <td>Rec.Deuda</td>\n",
       "      <td>32.0</td>\n",
       "    </tr>\n",
       "  </tbody>\n",
       "</table>\n",
       "</div>"
      ],
      "text/plain": [
       "        Año de Fecha Operativa Hora HH Cat Cobrada ID Peaje  \\\n",
       "64394  8 de septiembre de 2022      12        Auto      AVE   \n",
       "\n",
       "                            Observacion    Sentido Tipo Cobro Pasos  \n",
       "64394  Paso en infracción con Multa LPR  Provincia  Rec.Deuda  32.0  "
      ]
     },
     "execution_count": 43,
     "metadata": {},
     "output_type": "execute_result"
    }
   ],
   "source": [
    "data_sep_22.sample()"
   ]
  },
  {
   "cell_type": "code",
   "execution_count": 44,
   "metadata": {},
   "outputs": [
    {
     "data": {
      "text/html": [
       "<div>\n",
       "<style scoped>\n",
       "    .dataframe tbody tr th:only-of-type {\n",
       "        vertical-align: middle;\n",
       "    }\n",
       "\n",
       "    .dataframe tbody tr th {\n",
       "        vertical-align: top;\n",
       "    }\n",
       "\n",
       "    .dataframe thead th {\n",
       "        text-align: right;\n",
       "    }\n",
       "</style>\n",
       "<table border=\"1\" class=\"dataframe\">\n",
       "  <thead>\n",
       "    <tr style=\"text-align: right;\">\n",
       "      <th></th>\n",
       "      <th>Mes, Día, Año de Fecha Operativa</th>\n",
       "      <th>Hora HH</th>\n",
       "      <th>Cat Cobrada</th>\n",
       "      <th>ID Peaje</th>\n",
       "      <th>Observacion</th>\n",
       "      <th>Sentido</th>\n",
       "      <th>Tipo Cobro</th>\n",
       "      <th>Pasos</th>\n",
       "      <th>Unnamed: 8</th>\n",
       "      <th>Unnamed: 9</th>\n",
       "    </tr>\n",
       "  </thead>\n",
       "  <tbody>\n",
       "    <tr>\n",
       "      <th>115322</th>\n",
       "      <td>14/10/2022</td>\n",
       "      <td>14</td>\n",
       "      <td>Moto</td>\n",
       "      <td>ILL</td>\n",
       "      <td>Efectivo</td>\n",
       "      <td>Centro</td>\n",
       "      <td>Efectivo</td>\n",
       "      <td>55.0</td>\n",
       "      <td>NaN</td>\n",
       "      <td>NaN</td>\n",
       "    </tr>\n",
       "  </tbody>\n",
       "</table>\n",
       "</div>"
      ],
      "text/plain": [
       "       Mes, Día, Año de Fecha Operativa Hora HH Cat Cobrada ID Peaje  \\\n",
       "115322                       14/10/2022      14        Moto      ILL   \n",
       "\n",
       "       Observacion Sentido Tipo Cobro Pasos  Unnamed: 8  Unnamed: 9  \n",
       "115322    Efectivo  Centro   Efectivo  55.0         NaN         NaN  "
      ]
     },
     "execution_count": 44,
     "metadata": {},
     "output_type": "execute_result"
    }
   ],
   "source": [
    "data_oct_22.sample()"
   ]
  },
  {
   "cell_type": "code",
   "execution_count": 45,
   "metadata": {},
   "outputs": [
    {
     "data": {
      "text/html": [
       "<div>\n",
       "<style scoped>\n",
       "    .dataframe tbody tr th:only-of-type {\n",
       "        vertical-align: middle;\n",
       "    }\n",
       "\n",
       "    .dataframe tbody tr th {\n",
       "        vertical-align: top;\n",
       "    }\n",
       "\n",
       "    .dataframe thead th {\n",
       "        text-align: right;\n",
       "    }\n",
       "</style>\n",
       "<table border=\"1\" class=\"dataframe\">\n",
       "  <thead>\n",
       "    <tr style=\"text-align: right;\">\n",
       "      <th></th>\n",
       "      <th>Mes, Día, Año de Fecha Operativa</th>\n",
       "      <th>Hora HH</th>\n",
       "      <th>Cat Cobrada</th>\n",
       "      <th>ID Peaje</th>\n",
       "      <th>Observacion</th>\n",
       "      <th>Sentido</th>\n",
       "      <th>Tipo Cobro</th>\n",
       "      <th>Pasos</th>\n",
       "      <th>Unnamed: 8</th>\n",
       "      <th>Unnamed: 9</th>\n",
       "    </tr>\n",
       "  </thead>\n",
       "  <tbody>\n",
       "    <tr>\n",
       "      <th>8489</th>\n",
       "      <td>1 de noviembre de 2022</td>\n",
       "      <td>21</td>\n",
       "      <td>Auto</td>\n",
       "      <td>ILP</td>\n",
       "      <td>Tag - PosPago OCR</td>\n",
       "      <td>Provincia</td>\n",
       "      <td>Tag</td>\n",
       "      <td>1.0</td>\n",
       "      <td>NaN</td>\n",
       "      <td>NaN</td>\n",
       "    </tr>\n",
       "  </tbody>\n",
       "</table>\n",
       "</div>"
      ],
      "text/plain": [
       "     Mes, Día, Año de Fecha Operativa Hora HH Cat Cobrada ID Peaje  \\\n",
       "8489           1 de noviembre de 2022      21        Auto      ILP   \n",
       "\n",
       "            Observacion    Sentido Tipo Cobro Pasos  Unnamed: 8  Unnamed: 9  \n",
       "8489  Tag - PosPago OCR  Provincia        Tag   1.0         NaN         NaN  "
      ]
     },
     "execution_count": 45,
     "metadata": {},
     "output_type": "execute_result"
    }
   ],
   "source": [
    "data_nov_22.sample()"
   ]
  },
  {
   "cell_type": "code",
   "execution_count": 46,
   "metadata": {},
   "outputs": [
    {
     "data": {
      "text/html": [
       "<div>\n",
       "<style scoped>\n",
       "    .dataframe tbody tr th:only-of-type {\n",
       "        vertical-align: middle;\n",
       "    }\n",
       "\n",
       "    .dataframe tbody tr th {\n",
       "        vertical-align: top;\n",
       "    }\n",
       "\n",
       "    .dataframe thead th {\n",
       "        text-align: right;\n",
       "    }\n",
       "</style>\n",
       "<table border=\"1\" class=\"dataframe\">\n",
       "  <thead>\n",
       "    <tr style=\"text-align: right;\">\n",
       "      <th></th>\n",
       "      <th>Mes, Día, Año de Fecha Operativa</th>\n",
       "      <th>Hora HH</th>\n",
       "      <th>Cat Cobrada</th>\n",
       "      <th>ID Peaje</th>\n",
       "      <th>Observacion</th>\n",
       "      <th>Sentido</th>\n",
       "      <th>Tipo Cobro</th>\n",
       "      <th>Pasos</th>\n",
       "      <th>Unnamed: 8</th>\n",
       "      <th>Unnamed: 9</th>\n",
       "    </tr>\n",
       "  </thead>\n",
       "  <tbody>\n",
       "    <tr>\n",
       "      <th>37444</th>\n",
       "      <td>5/12/2022</td>\n",
       "      <td>9</td>\n",
       "      <td>Pesados 4 Ejes</td>\n",
       "      <td>AVE</td>\n",
       "      <td>Tag - PosPago</td>\n",
       "      <td>Centro</td>\n",
       "      <td>Tag</td>\n",
       "      <td>3.0</td>\n",
       "      <td>NaN</td>\n",
       "      <td>NaN</td>\n",
       "    </tr>\n",
       "  </tbody>\n",
       "</table>\n",
       "</div>"
      ],
      "text/plain": [
       "      Mes, Día, Año de Fecha Operativa Hora HH     Cat Cobrada ID Peaje  \\\n",
       "37444                        5/12/2022       9  Pesados 4 Ejes      AVE   \n",
       "\n",
       "         Observacion Sentido Tipo Cobro Pasos  Unnamed: 8  Unnamed: 9  \n",
       "37444  Tag - PosPago  Centro        Tag   3.0         NaN         NaN  "
      ]
     },
     "execution_count": 46,
     "metadata": {},
     "output_type": "execute_result"
    }
   ],
   "source": [
    "data_dic_22.sample()"
   ]
  },
  {
   "cell_type": "code",
   "execution_count": 47,
   "metadata": {},
   "outputs": [],
   "source": [
    "data_oct_22.drop(['Unnamed: 8', 'Unnamed: 9'],axis=1, inplace=True)\n",
    "data_nov_22.drop(['Unnamed: 8', 'Unnamed: 9'],axis=1, inplace=True)\n",
    "data_dic_22.drop(['Unnamed: 8', 'Unnamed: 9'],axis=1, inplace=True)"
   ]
  },
  {
   "cell_type": "code",
   "execution_count": 48,
   "metadata": {},
   "outputs": [],
   "source": [
    "data_enfeb_22 = data_enfeb_22[['Año de Fecha Operativa',\t'Hora HH',\t'Cat Cobrada',\t'ID Peaje',\t'Observacion',\t'Sentido',\t'Tipo Cobro',\t'Pasos']]"
   ]
  },
  {
   "cell_type": "code",
   "execution_count": 49,
   "metadata": {},
   "outputs": [],
   "source": [
    "data_enfeb_22=data_enfeb_22.rename(columns={'Año de Fecha Operativa':'fecha', 'Hora HH': 'hora_fin', 'Cat Cobrada': 'tipo_vehiculo', 'ID Peaje': 'estacion',  'cantidad_pasos':'pasos', 'Observacion': 'observacion', 'Sentido': 'sentido', 'Tipo Cobro': 'forma_pago',  'Pasos':'pasos'})\n",
    "data_mar_22=data_mar_22.rename(columns={'Año de Fecha Operativa':'fecha', 'Hora HH': 'hora_fin', 'Cat Cobrada': 'tipo_vehiculo', 'ID Peaje': 'estacion',  'cantidad_pasos':'pasos', 'Observacion': 'observacion', 'Sentido': 'sentido', 'Tipo Cobro': 'forma_pago',  'Pasos':'pasos'})\n",
    "data_abril_22=data_abril_22.rename(columns={'Año de Fecha Operativa':'fecha', 'Hora HH': 'hora_fin', 'Cat Cobrada': 'tipo_vehiculo', 'ID Peaje': 'estacion',  'cantidad_pasos':'pasos', 'Observacion': 'observacion', 'Sentido': 'sentido', 'Tipo Cobro': 'forma_pago',  'Pasos':'pasos'})\n",
    "data_may_22=data_may_22.rename(columns={'Año de Fecha Operativa':'fecha', 'Hora HH': 'hora_fin', 'Cat Cobrada': 'tipo_vehiculo', 'ID Peaje': 'estacion',  'cantidad_pasos':'pasos', 'Observacion': 'observacion', 'Sentido': 'sentido', 'Tipo Cobro': 'forma_pago',  'Pasos':'pasos'})\n",
    "data_jun_22=data_jun_22.rename(columns={'Año de Fecha Operativa':'fecha', 'Hora HH': 'hora_fin', 'Cat Cobrada': 'tipo_vehiculo', 'ID Peaje': 'estacion',  'cantidad_pasos':'pasos', 'Observacion': 'observacion', 'Sentido': 'sentido', 'Tipo Cobro': 'forma_pago',  'Pasos':'pasos'})\n",
    "data_jul_22=data_jul_22.rename(columns={'Año de Fecha Operativa':'fecha', 'Hora HH': 'hora_fin', 'Cat Cobrada': 'tipo_vehiculo', 'ID Peaje': 'estacion',  'cantidad_pasos':'pasos', 'Observacion': 'observacion', 'Sentido': 'sentido', 'Tipo Cobro': 'forma_pago',  'Pasos':'pasos'})\n",
    "data_ago_22=data_ago_22.rename(columns={'Año de Fecha Operativa':'fecha', 'Hora HH': 'hora_fin', 'Cat Cobrada': 'tipo_vehiculo', 'ID Peaje': 'estacion',  'cantidad_pasos':'pasos', 'Observacion': 'observacion', 'Sentido': 'sentido', 'Tipo Cobro': 'forma_pago',  'Pasos':'pasos'})\n",
    "data_sep_22=data_sep_22.rename(columns={'Año de Fecha Operativa':'fecha', 'Hora HH': 'hora_fin', 'Cat Cobrada': 'tipo_vehiculo', 'ID Peaje': 'estacion',  'cantidad_pasos':'pasos', 'Observacion': 'observacion', 'Sentido': 'sentido', 'Tipo Cobro': 'forma_pago',  'Pasos':'pasos'})"
   ]
  },
  {
   "cell_type": "code",
   "execution_count": 50,
   "metadata": {},
   "outputs": [],
   "source": [
    " data_oct_22 = data_oct_22.rename(columns={'Mes, Día, Año de Fecha Operativa':'fecha', 'Hora HH': 'hora_fin', 'Cat Cobrada': 'tipo_vehiculo', 'ID Peaje': 'estacion',  'cantidad_pasos':'pasos', 'Observacion': 'observacion', 'Sentido': 'sentido', 'Tipo Cobro': 'forma_pago',  'Pasos':'pasos'})\n",
    " data_nov_22 = data_nov_22.rename(columns={'Mes, Día, Año de Fecha Operativa':'fecha', 'Hora HH': 'hora_fin', 'Cat Cobrada': 'tipo_vehiculo', 'ID Peaje': 'estacion',  'cantidad_pasos':'pasos', 'Observacion': 'observacion', 'Sentido': 'sentido', 'Tipo Cobro': 'forma_pago',  'Pasos':'pasos'})\n",
    " data_dic_22 = data_dic_22.rename(columns={'Mes, Día, Año de Fecha Operativa':'fecha', 'Hora HH': 'hora_fin', 'Cat Cobrada': 'tipo_vehiculo', 'ID Peaje': 'estacion',  'cantidad_pasos':'pasos', 'Observacion': 'observacion', 'Sentido': 'sentido', 'Tipo Cobro': 'forma_pago',  'Pasos':'pasos'})"
   ]
  },
  {
   "cell_type": "code",
   "execution_count": 51,
   "metadata": {},
   "outputs": [
    {
     "data": {
      "text/html": [
       "<div>\n",
       "<style scoped>\n",
       "    .dataframe tbody tr th:only-of-type {\n",
       "        vertical-align: middle;\n",
       "    }\n",
       "\n",
       "    .dataframe tbody tr th {\n",
       "        vertical-align: top;\n",
       "    }\n",
       "\n",
       "    .dataframe thead th {\n",
       "        text-align: right;\n",
       "    }\n",
       "</style>\n",
       "<table border=\"1\" class=\"dataframe\">\n",
       "  <thead>\n",
       "    <tr style=\"text-align: right;\">\n",
       "      <th></th>\n",
       "      <th>fecha</th>\n",
       "      <th>hora_fin</th>\n",
       "      <th>tipo_vehiculo</th>\n",
       "      <th>estacion</th>\n",
       "      <th>observacion</th>\n",
       "      <th>sentido</th>\n",
       "      <th>forma_pago</th>\n",
       "      <th>pasos</th>\n",
       "    </tr>\n",
       "  </thead>\n",
       "  <tbody>\n",
       "    <tr>\n",
       "      <th>49816</th>\n",
       "      <td>6/10/2022</td>\n",
       "      <td>17</td>\n",
       "      <td>Auto</td>\n",
       "      <td>RET</td>\n",
       "      <td>Tag - PosPago OCR</td>\n",
       "      <td>Provincia</td>\n",
       "      <td>Tag</td>\n",
       "      <td>12.0</td>\n",
       "    </tr>\n",
       "  </tbody>\n",
       "</table>\n",
       "</div>"
      ],
      "text/plain": [
       "           fecha hora_fin tipo_vehiculo estacion        observacion  \\\n",
       "49816  6/10/2022       17          Auto      RET  Tag - PosPago OCR   \n",
       "\n",
       "         sentido forma_pago pasos  \n",
       "49816  Provincia        Tag  12.0  "
      ]
     },
     "execution_count": 51,
     "metadata": {},
     "output_type": "execute_result"
    }
   ],
   "source": [
    "data_oct_22.sample()"
   ]
  },
  {
   "cell_type": "code",
   "execution_count": 52,
   "metadata": {},
   "outputs": [
    {
     "data": {
      "text/html": [
       "<div>\n",
       "<style scoped>\n",
       "    .dataframe tbody tr th:only-of-type {\n",
       "        vertical-align: middle;\n",
       "    }\n",
       "\n",
       "    .dataframe tbody tr th {\n",
       "        vertical-align: top;\n",
       "    }\n",
       "\n",
       "    .dataframe thead th {\n",
       "        text-align: right;\n",
       "    }\n",
       "</style>\n",
       "<table border=\"1\" class=\"dataframe\">\n",
       "  <thead>\n",
       "    <tr style=\"text-align: right;\">\n",
       "      <th></th>\n",
       "      <th>fecha</th>\n",
       "      <th>hora_fin</th>\n",
       "      <th>tipo_vehiculo</th>\n",
       "      <th>estacion</th>\n",
       "      <th>observacion</th>\n",
       "      <th>sentido</th>\n",
       "      <th>forma_pago</th>\n",
       "      <th>pasos</th>\n",
       "    </tr>\n",
       "  </thead>\n",
       "  <tbody>\n",
       "    <tr>\n",
       "      <th>242836</th>\n",
       "      <td>28 de noviembre de 2022</td>\n",
       "      <td>6</td>\n",
       "      <td>Auto</td>\n",
       "      <td>ILL</td>\n",
       "      <td>Efectivo x4</td>\n",
       "      <td>Provincia</td>\n",
       "      <td>Efectivo</td>\n",
       "      <td>1.0</td>\n",
       "    </tr>\n",
       "  </tbody>\n",
       "</table>\n",
       "</div>"
      ],
      "text/plain": [
       "                          fecha hora_fin tipo_vehiculo estacion  observacion  \\\n",
       "242836  28 de noviembre de 2022        6          Auto      ILL  Efectivo x4   \n",
       "\n",
       "          sentido forma_pago pasos  \n",
       "242836  Provincia   Efectivo   1.0  "
      ]
     },
     "execution_count": 52,
     "metadata": {},
     "output_type": "execute_result"
    }
   ],
   "source": [
    "data_nov_22.sample()"
   ]
  },
  {
   "cell_type": "code",
   "execution_count": 53,
   "metadata": {},
   "outputs": [
    {
     "data": {
      "text/html": [
       "<div>\n",
       "<style scoped>\n",
       "    .dataframe tbody tr th:only-of-type {\n",
       "        vertical-align: middle;\n",
       "    }\n",
       "\n",
       "    .dataframe tbody tr th {\n",
       "        vertical-align: top;\n",
       "    }\n",
       "\n",
       "    .dataframe thead th {\n",
       "        text-align: right;\n",
       "    }\n",
       "</style>\n",
       "<table border=\"1\" class=\"dataframe\">\n",
       "  <thead>\n",
       "    <tr style=\"text-align: right;\">\n",
       "      <th></th>\n",
       "      <th>fecha</th>\n",
       "      <th>hora_fin</th>\n",
       "      <th>tipo_vehiculo</th>\n",
       "      <th>estacion</th>\n",
       "      <th>observacion</th>\n",
       "      <th>sentido</th>\n",
       "      <th>forma_pago</th>\n",
       "      <th>pasos</th>\n",
       "    </tr>\n",
       "  </thead>\n",
       "  <tbody>\n",
       "    <tr>\n",
       "      <th>123866</th>\n",
       "      <td>15/12/2022</td>\n",
       "      <td>10</td>\n",
       "      <td>Pesados 2 Ejes</td>\n",
       "      <td>PB3</td>\n",
       "      <td>Tag - PosPago</td>\n",
       "      <td>Provincia</td>\n",
       "      <td>Tag</td>\n",
       "      <td>12.0</td>\n",
       "    </tr>\n",
       "  </tbody>\n",
       "</table>\n",
       "</div>"
      ],
      "text/plain": [
       "             fecha hora_fin   tipo_vehiculo estacion    observacion  \\\n",
       "123866  15/12/2022       10  Pesados 2 Ejes      PB3  Tag - PosPago   \n",
       "\n",
       "          sentido forma_pago pasos  \n",
       "123866  Provincia        Tag  12.0  "
      ]
     },
     "execution_count": 53,
     "metadata": {},
     "output_type": "execute_result"
    }
   ],
   "source": [
    "data_dic_22.sample()"
   ]
  },
  {
   "cell_type": "code",
   "execution_count": 54,
   "metadata": {},
   "outputs": [
    {
     "name": "stdout",
     "output_type": "stream",
     "text": [
      "<class 'pandas.core.frame.DataFrame'>\n",
      "RangeIndex: 476196 entries, 0 to 476195\n",
      "Data columns (total 8 columns):\n",
      " #   Column         Non-Null Count   Dtype \n",
      "---  ------         --------------   ----- \n",
      " 0   fecha          476196 non-null  object\n",
      " 1   hora_fin       476196 non-null  object\n",
      " 2   tipo_vehiculo  476196 non-null  object\n",
      " 3   estacion       476196 non-null  object\n",
      " 4   observacion    476196 non-null  object\n",
      " 5   sentido        476196 non-null  object\n",
      " 6   forma_pago     476196 non-null  object\n",
      " 7   pasos          476196 non-null  int64 \n",
      "dtypes: int64(1), object(7)\n",
      "memory usage: 29.1+ MB\n",
      "<class 'pandas.core.frame.DataFrame'>\n",
      "RangeIndex: 476196 entries, 0 to 476195\n",
      "Data columns (total 8 columns):\n",
      " #   Column         Non-Null Count   Dtype \n",
      "---  ------         --------------   ----- \n",
      " 0   fecha          476196 non-null  object\n",
      " 1   hora_fin       476196 non-null  object\n",
      " 2   tipo_vehiculo  476196 non-null  object\n",
      " 3   estacion       476196 non-null  object\n",
      " 4   observacion    476196 non-null  object\n",
      " 5   sentido        476196 non-null  object\n",
      " 6   forma_pago     476196 non-null  object\n",
      " 7   pasos          476196 non-null  int64 \n",
      "dtypes: int64(1), object(7)\n",
      "memory usage: 29.1+ MB\n"
     ]
    }
   ],
   "source": [
    "data_enfeb_22.info()\n",
    "data_enfeb_22 = data_enfeb_22[data_enfeb_22['fecha'] != \"Total general\"] #ok\n",
    "data_enfeb_22.info()"
   ]
  },
  {
   "cell_type": "code",
   "execution_count": 55,
   "metadata": {},
   "outputs": [
    {
     "name": "stdout",
     "output_type": "stream",
     "text": [
      "<class 'pandas.core.frame.DataFrame'>\n",
      "Index: 263187 entries, 0 to 263186\n",
      "Data columns (total 8 columns):\n",
      " #   Column         Non-Null Count   Dtype \n",
      "---  ------         --------------   ----- \n",
      " 0   fecha          263187 non-null  object\n",
      " 1   hora_fin       263187 non-null  object\n",
      " 2   tipo_vehiculo  263187 non-null  object\n",
      " 3   estacion       263187 non-null  object\n",
      " 4   observacion    263187 non-null  object\n",
      " 5   sentido        263187 non-null  object\n",
      " 6   forma_pago     263187 non-null  object\n",
      " 7   pasos          263187 non-null  int32 \n",
      "dtypes: int32(1), object(7)\n",
      "memory usage: 17.1+ MB\n"
     ]
    }
   ],
   "source": [
    "data_mar_22 = data_mar_22[data_mar_22['fecha'] != \"Total general\"] #ok\n",
    "data_mar_22['pasos'] = data_mar_22['pasos'].astype(int)\n",
    "data_mar_22.info()"
   ]
  },
  {
   "cell_type": "code",
   "execution_count": 56,
   "metadata": {},
   "outputs": [
    {
     "name": "stdout",
     "output_type": "stream",
     "text": [
      "<class 'pandas.core.frame.DataFrame'>\n",
      "Index: 252037 entries, 0 to 252036\n",
      "Data columns (total 8 columns):\n",
      " #   Column         Non-Null Count   Dtype \n",
      "---  ------         --------------   ----- \n",
      " 0   fecha          252037 non-null  object\n",
      " 1   hora_fin       252037 non-null  object\n",
      " 2   tipo_vehiculo  252037 non-null  object\n",
      " 3   estacion       252037 non-null  object\n",
      " 4   observacion    252037 non-null  object\n",
      " 5   sentido        252037 non-null  object\n",
      " 6   forma_pago     252037 non-null  object\n",
      " 7   pasos          252037 non-null  object\n",
      "dtypes: object(8)\n",
      "memory usage: 17.3+ MB\n",
      "<class 'pandas.core.frame.DataFrame'>\n",
      "Index: 252036 entries, 0 to 252035\n",
      "Data columns (total 8 columns):\n",
      " #   Column         Non-Null Count   Dtype \n",
      "---  ------         --------------   ----- \n",
      " 0   fecha          252036 non-null  object\n",
      " 1   hora_fin       252036 non-null  object\n",
      " 2   tipo_vehiculo  252036 non-null  object\n",
      " 3   estacion       252036 non-null  object\n",
      " 4   observacion    252036 non-null  object\n",
      " 5   sentido        252036 non-null  object\n",
      " 6   forma_pago     252036 non-null  object\n",
      " 7   pasos          252036 non-null  int32 \n",
      "dtypes: int32(1), object(7)\n",
      "memory usage: 16.3+ MB\n"
     ]
    }
   ],
   "source": [
    "data_abril_22.dropna(inplace = True)\n",
    "data_abril_22.info()\n",
    "data_abril_22.value_counts()\n",
    "data_abril_22 = data_abril_22[data_abril_22['fecha'] != \"Total general\"] #ok\n",
    "data_abril_22['pasos'] = data_abril_22['pasos'].astype(float)\n",
    "data_abril_22['pasos'] = data_abril_22['pasos'].astype(int)\n",
    "data_abril_22.info()"
   ]
  },
  {
   "cell_type": "code",
   "execution_count": 57,
   "metadata": {},
   "outputs": [
    {
     "name": "stdout",
     "output_type": "stream",
     "text": [
      "<class 'pandas.core.frame.DataFrame'>\n",
      "Index: 258791 entries, 0 to 258790\n",
      "Data columns (total 8 columns):\n",
      " #   Column         Non-Null Count   Dtype \n",
      "---  ------         --------------   ----- \n",
      " 0   fecha          258791 non-null  object\n",
      " 1   hora_fin       258791 non-null  object\n",
      " 2   tipo_vehiculo  258791 non-null  object\n",
      " 3   estacion       258791 non-null  object\n",
      " 4   observacion    258791 non-null  object\n",
      " 5   sentido        258791 non-null  object\n",
      " 6   forma_pago     258791 non-null  object\n",
      " 7   pasos          258791 non-null  int32 \n",
      "dtypes: int32(1), object(7)\n",
      "memory usage: 16.8+ MB\n"
     ]
    }
   ],
   "source": [
    "data_may_22 = data_may_22[data_may_22['fecha'] != \"Total general\"] #ok\n",
    "data_may_22['pasos'] = data_may_22['pasos'].astype(float)\n",
    "data_may_22['pasos'] = data_may_22['pasos'].astype(int)\n",
    "data_may_22.info()"
   ]
  },
  {
   "cell_type": "code",
   "execution_count": 58,
   "metadata": {},
   "outputs": [
    {
     "name": "stdout",
     "output_type": "stream",
     "text": [
      "<class 'pandas.core.frame.DataFrame'>\n",
      "Index: 251245 entries, 0 to 251244\n",
      "Data columns (total 8 columns):\n",
      " #   Column         Non-Null Count   Dtype \n",
      "---  ------         --------------   ----- \n",
      " 0   fecha          251245 non-null  object\n",
      " 1   hora_fin       251245 non-null  object\n",
      " 2   tipo_vehiculo  251245 non-null  object\n",
      " 3   estacion       251245 non-null  object\n",
      " 4   observacion    251245 non-null  object\n",
      " 5   sentido        251245 non-null  object\n",
      " 6   forma_pago     251245 non-null  object\n",
      " 7   pasos          251245 non-null  int32 \n",
      "dtypes: int32(1), object(7)\n",
      "memory usage: 16.3+ MB\n"
     ]
    }
   ],
   "source": [
    "data_jun_22.dropna(inplace = True)\n",
    "data_jun_22 = data_jun_22[data_jun_22['fecha'] != \"Total general\"] #ok\n",
    "data_jun_22['pasos'] = data_jun_22['pasos'].astype(float)\n",
    "data_jun_22['pasos'] = data_jun_22['pasos'].astype(int)\n",
    "data_jun_22.info()"
   ]
  },
  {
   "cell_type": "code",
   "execution_count": 59,
   "metadata": {},
   "outputs": [
    {
     "name": "stdout",
     "output_type": "stream",
     "text": [
      "<class 'pandas.core.frame.DataFrame'>\n",
      "Index: 251245 entries, 0 to 251244\n",
      "Data columns (total 8 columns):\n",
      " #   Column         Non-Null Count   Dtype \n",
      "---  ------         --------------   ----- \n",
      " 0   fecha          251245 non-null  object\n",
      " 1   hora_fin       251245 non-null  object\n",
      " 2   tipo_vehiculo  251245 non-null  object\n",
      " 3   estacion       251245 non-null  object\n",
      " 4   observacion    251245 non-null  object\n",
      " 5   sentido        251245 non-null  object\n",
      " 6   forma_pago     251245 non-null  object\n",
      " 7   pasos          251245 non-null  int32 \n",
      "dtypes: int32(1), object(7)\n",
      "memory usage: 16.3+ MB\n"
     ]
    }
   ],
   "source": [
    "data_jul_22.dropna(inplace = True)\n",
    "data_jul_22 = data_jun_22[data_jun_22['fecha'] != \"Total general\"] #ok\n",
    "data_jul_22['pasos'] = data_jul_22['pasos'].astype(float)\n",
    "data_jul_22['pasos'] = data_jul_22['pasos'].astype(int)\n",
    "data_jul_22.info()"
   ]
  },
  {
   "cell_type": "code",
   "execution_count": 60,
   "metadata": {},
   "outputs": [
    {
     "name": "stdout",
     "output_type": "stream",
     "text": [
      "<class 'pandas.core.frame.DataFrame'>\n",
      "Index: 266902 entries, 0 to 266901\n",
      "Data columns (total 8 columns):\n",
      " #   Column         Non-Null Count   Dtype \n",
      "---  ------         --------------   ----- \n",
      " 0   fecha          266902 non-null  object\n",
      " 1   hora_fin       266902 non-null  object\n",
      " 2   tipo_vehiculo  266902 non-null  object\n",
      " 3   estacion       266902 non-null  object\n",
      " 4   observacion    266902 non-null  object\n",
      " 5   sentido        266902 non-null  object\n",
      " 6   forma_pago     266902 non-null  object\n",
      " 7   pasos          266902 non-null  int32 \n",
      "dtypes: int32(1), object(7)\n",
      "memory usage: 17.3+ MB\n"
     ]
    }
   ],
   "source": [
    "data_ago_22.dropna(inplace = True)\n",
    "data_ago_22 = data_ago_22[data_ago_22['fecha'] != \"Total general\"] #ok\n",
    "data_ago_22['pasos'] = data_ago_22['pasos'].astype(float)\n",
    "data_ago_22['pasos'] = data_ago_22['pasos'].astype(int)\n",
    "data_ago_22.info()"
   ]
  },
  {
   "cell_type": "code",
   "execution_count": 61,
   "metadata": {},
   "outputs": [
    {
     "name": "stdout",
     "output_type": "stream",
     "text": [
      "<class 'pandas.core.frame.DataFrame'>\n",
      "Index: 264251 entries, 0 to 264250\n",
      "Data columns (total 8 columns):\n",
      " #   Column         Non-Null Count   Dtype \n",
      "---  ------         --------------   ----- \n",
      " 0   fecha          264251 non-null  object\n",
      " 1   hora_fin       264251 non-null  object\n",
      " 2   tipo_vehiculo  264251 non-null  object\n",
      " 3   estacion       264251 non-null  object\n",
      " 4   observacion    264251 non-null  object\n",
      " 5   sentido        264251 non-null  object\n",
      " 6   forma_pago     264251 non-null  object\n",
      " 7   pasos          264251 non-null  int32 \n",
      "dtypes: int32(1), object(7)\n",
      "memory usage: 17.1+ MB\n"
     ]
    }
   ],
   "source": [
    "data_sep_22.dropna(inplace = True)\n",
    "data_sep_22 = data_sep_22[data_sep_22['fecha'] != \"Total general\"] #ok\n",
    "data_sep_22['pasos'] = data_sep_22['pasos'].astype(float)\n",
    "data_sep_22['pasos'] = data_sep_22['pasos'].astype(int)\n",
    "data_sep_22.info()"
   ]
  },
  {
   "cell_type": "code",
   "execution_count": 62,
   "metadata": {},
   "outputs": [
    {
     "name": "stdout",
     "output_type": "stream",
     "text": [
      "<class 'pandas.core.frame.DataFrame'>\n",
      "Index: 268058 entries, 0 to 268057\n",
      "Data columns (total 8 columns):\n",
      " #   Column         Non-Null Count   Dtype \n",
      "---  ------         --------------   ----- \n",
      " 0   fecha          268058 non-null  object\n",
      " 1   hora_fin       268058 non-null  object\n",
      " 2   tipo_vehiculo  268058 non-null  object\n",
      " 3   estacion       268058 non-null  object\n",
      " 4   observacion    268058 non-null  object\n",
      " 5   sentido        268058 non-null  object\n",
      " 6   forma_pago     268058 non-null  object\n",
      " 7   pasos          268058 non-null  int32 \n",
      "dtypes: int32(1), object(7)\n",
      "memory usage: 17.4+ MB\n"
     ]
    }
   ],
   "source": [
    "data_oct_22.dropna(inplace = True)\n",
    "data_oct_22 = data_oct_22[data_oct_22['fecha'] != \"Total general\"] #ok\n",
    "data_oct_22['pasos'] = data_oct_22['pasos'].astype(float)\n",
    "data_oct_22['pasos'] = data_oct_22['pasos'].astype(int)\n",
    "data_oct_22.info()"
   ]
  },
  {
   "cell_type": "code",
   "execution_count": 63,
   "metadata": {},
   "outputs": [
    {
     "name": "stdout",
     "output_type": "stream",
     "text": [
      "<class 'pandas.core.frame.DataFrame'>\n",
      "Index: 269350 entries, 0 to 269349\n",
      "Data columns (total 8 columns):\n",
      " #   Column         Non-Null Count   Dtype \n",
      "---  ------         --------------   ----- \n",
      " 0   fecha          269350 non-null  object\n",
      " 1   hora_fin       269350 non-null  object\n",
      " 2   tipo_vehiculo  269350 non-null  object\n",
      " 3   estacion       269350 non-null  object\n",
      " 4   observacion    269350 non-null  object\n",
      " 5   sentido        269350 non-null  object\n",
      " 6   forma_pago     269350 non-null  object\n",
      " 7   pasos          269350 non-null  int32 \n",
      "dtypes: int32(1), object(7)\n",
      "memory usage: 17.5+ MB\n"
     ]
    }
   ],
   "source": [
    "data_nov_22.dropna(inplace = True)\n",
    "data_nov_22 = data_nov_22[data_nov_22['fecha'] != \"Total general\"] #ok\n",
    "data_nov_22['pasos'] = data_nov_22['pasos'].astype(float)\n",
    "data_nov_22['pasos'] = data_nov_22['pasos'].astype(int)\n",
    "data_nov_22.info()"
   ]
  },
  {
   "cell_type": "code",
   "execution_count": 64,
   "metadata": {},
   "outputs": [
    {
     "name": "stdout",
     "output_type": "stream",
     "text": [
      "<class 'pandas.core.frame.DataFrame'>\n",
      "Index: 264490 entries, 0 to 264489\n",
      "Data columns (total 8 columns):\n",
      " #   Column         Non-Null Count   Dtype \n",
      "---  ------         --------------   ----- \n",
      " 0   fecha          264490 non-null  object\n",
      " 1   hora_fin       264490 non-null  object\n",
      " 2   tipo_vehiculo  264490 non-null  object\n",
      " 3   estacion       264490 non-null  object\n",
      " 4   observacion    264490 non-null  object\n",
      " 5   sentido        264490 non-null  object\n",
      " 6   forma_pago     264490 non-null  object\n",
      " 7   pasos          264490 non-null  int32 \n",
      "dtypes: int32(1), object(7)\n",
      "memory usage: 17.2+ MB\n"
     ]
    }
   ],
   "source": [
    "data_dic_22.dropna(inplace = True)\n",
    "data_dic_22 = data_dic_22[data_dic_22['fecha'] != \"Total general\"] #ok\n",
    "data_dic_22['pasos'] = data_dic_22['pasos'].astype(float)\n",
    "data_dic_22['pasos'] = data_dic_22['pasos'].astype(int)\n",
    "data_dic_22.info()"
   ]
  },
  {
   "cell_type": "markdown",
   "metadata": {},
   "source": [
    "#### empezar a pasar las fechas a formato datetime y homogéneo"
   ]
  },
  {
   "cell_type": "code",
   "execution_count": 65,
   "metadata": {},
   "outputs": [
    {
     "data": {
      "text/html": [
       "<div>\n",
       "<style scoped>\n",
       "    .dataframe tbody tr th:only-of-type {\n",
       "        vertical-align: middle;\n",
       "    }\n",
       "\n",
       "    .dataframe tbody tr th {\n",
       "        vertical-align: top;\n",
       "    }\n",
       "\n",
       "    .dataframe thead th {\n",
       "        text-align: right;\n",
       "    }\n",
       "</style>\n",
       "<table border=\"1\" class=\"dataframe\">\n",
       "  <thead>\n",
       "    <tr style=\"text-align: right;\">\n",
       "      <th></th>\n",
       "      <th>fecha</th>\n",
       "      <th>hora_fin</th>\n",
       "      <th>tipo_vehiculo</th>\n",
       "      <th>estacion</th>\n",
       "      <th>observacion</th>\n",
       "      <th>sentido</th>\n",
       "      <th>forma_pago</th>\n",
       "      <th>pasos</th>\n",
       "    </tr>\n",
       "  </thead>\n",
       "  <tbody>\n",
       "    <tr>\n",
       "      <th>282038</th>\n",
       "      <td>2022-02-16</td>\n",
       "      <td>Auto</td>\n",
       "      <td>1</td>\n",
       "      <td>ILL</td>\n",
       "      <td>Tag - PosPago OCR</td>\n",
       "      <td>Provincia</td>\n",
       "      <td>Tag</td>\n",
       "      <td>64</td>\n",
       "    </tr>\n",
       "  </tbody>\n",
       "</table>\n",
       "</div>"
      ],
      "text/plain": [
       "            fecha hora_fin tipo_vehiculo estacion        observacion  \\\n",
       "282038 2022-02-16     Auto             1      ILL  Tag - PosPago OCR   \n",
       "\n",
       "          sentido forma_pago  pasos  \n",
       "282038  Provincia        Tag     64  "
      ]
     },
     "execution_count": 65,
     "metadata": {},
     "output_type": "execute_result"
    }
   ],
   "source": [
    "data_enfeb_22.sample()\n",
    "data_enfeb_22['fecha'] = pd.to_datetime(data_enfeb_22['fecha'])\n",
    "data_enfeb_22.sample()"
   ]
  },
  {
   "cell_type": "code",
   "execution_count": 66,
   "metadata": {},
   "outputs": [
    {
     "data": {
      "text/html": [
       "<div>\n",
       "<style scoped>\n",
       "    .dataframe tbody tr th:only-of-type {\n",
       "        vertical-align: middle;\n",
       "    }\n",
       "\n",
       "    .dataframe tbody tr th {\n",
       "        vertical-align: top;\n",
       "    }\n",
       "\n",
       "    .dataframe thead th {\n",
       "        text-align: right;\n",
       "    }\n",
       "</style>\n",
       "<table border=\"1\" class=\"dataframe\">\n",
       "  <thead>\n",
       "    <tr style=\"text-align: right;\">\n",
       "      <th></th>\n",
       "      <th>fecha</th>\n",
       "      <th>hora_fin</th>\n",
       "      <th>tipo_vehiculo</th>\n",
       "      <th>estacion</th>\n",
       "      <th>observacion</th>\n",
       "      <th>sentido</th>\n",
       "      <th>forma_pago</th>\n",
       "      <th>pasos</th>\n",
       "    </tr>\n",
       "  </thead>\n",
       "  <tbody>\n",
       "    <tr>\n",
       "      <th>79248</th>\n",
       "      <td>2022-10-03</td>\n",
       "      <td>11</td>\n",
       "      <td>Auto</td>\n",
       "      <td>ILP</td>\n",
       "      <td>Mercado Pago</td>\n",
       "      <td>Centro</td>\n",
       "      <td>Mercado Pago</td>\n",
       "      <td>5</td>\n",
       "    </tr>\n",
       "  </tbody>\n",
       "</table>\n",
       "</div>"
      ],
      "text/plain": [
       "           fecha hora_fin tipo_vehiculo estacion   observacion sentido  \\\n",
       "79248 2022-10-03       11          Auto      ILP  Mercado Pago  Centro   \n",
       "\n",
       "         forma_pago  pasos  \n",
       "79248  Mercado Pago      5  "
      ]
     },
     "execution_count": 66,
     "metadata": {},
     "output_type": "execute_result"
    }
   ],
   "source": [
    "data_mar_22.sample()\n",
    "data_mar_22['fecha'] = pd.to_datetime(data_mar_22['fecha'], format=\"mixed\")\n",
    "data_mar_22.sample()"
   ]
  },
  {
   "cell_type": "code",
   "execution_count": 67,
   "metadata": {},
   "outputs": [
    {
     "data": {
      "text/html": [
       "<div>\n",
       "<style scoped>\n",
       "    .dataframe tbody tr th:only-of-type {\n",
       "        vertical-align: middle;\n",
       "    }\n",
       "\n",
       "    .dataframe tbody tr th {\n",
       "        vertical-align: top;\n",
       "    }\n",
       "\n",
       "    .dataframe thead th {\n",
       "        text-align: right;\n",
       "    }\n",
       "</style>\n",
       "<table border=\"1\" class=\"dataframe\">\n",
       "  <thead>\n",
       "    <tr style=\"text-align: right;\">\n",
       "      <th></th>\n",
       "      <th>fecha</th>\n",
       "      <th>hora_fin</th>\n",
       "      <th>tipo_vehiculo</th>\n",
       "      <th>estacion</th>\n",
       "      <th>observacion</th>\n",
       "      <th>sentido</th>\n",
       "      <th>forma_pago</th>\n",
       "      <th>pasos</th>\n",
       "    </tr>\n",
       "  </thead>\n",
       "  <tbody>\n",
       "    <tr>\n",
       "      <th>43072</th>\n",
       "      <td>2022-06-04</td>\n",
       "      <td>8</td>\n",
       "      <td>Auto</td>\n",
       "      <td>AVE</td>\n",
       "      <td>Paso en Infraccion Multa Agente</td>\n",
       "      <td>Provincia</td>\n",
       "      <td>Rec.Deuda</td>\n",
       "      <td>1</td>\n",
       "    </tr>\n",
       "  </tbody>\n",
       "</table>\n",
       "</div>"
      ],
      "text/plain": [
       "           fecha hora_fin tipo_vehiculo estacion  \\\n",
       "43072 2022-06-04        8          Auto      AVE   \n",
       "\n",
       "                           observacion    sentido forma_pago  pasos  \n",
       "43072  Paso en Infraccion Multa Agente  Provincia  Rec.Deuda      1  "
      ]
     },
     "execution_count": 67,
     "metadata": {},
     "output_type": "execute_result"
    }
   ],
   "source": [
    "data_abril_22.sample()\n",
    "data_abril_22['fecha'] = pd.to_datetime(data_abril_22['fecha'], format=\"mixed\")\n",
    "data_abril_22.sample()"
   ]
  },
  {
   "cell_type": "code",
   "execution_count": 68,
   "metadata": {},
   "outputs": [
    {
     "data": {
      "text/html": [
       "<div>\n",
       "<style scoped>\n",
       "    .dataframe tbody tr th:only-of-type {\n",
       "        vertical-align: middle;\n",
       "    }\n",
       "\n",
       "    .dataframe tbody tr th {\n",
       "        vertical-align: top;\n",
       "    }\n",
       "\n",
       "    .dataframe thead th {\n",
       "        text-align: right;\n",
       "    }\n",
       "</style>\n",
       "<table border=\"1\" class=\"dataframe\">\n",
       "  <thead>\n",
       "    <tr style=\"text-align: right;\">\n",
       "      <th></th>\n",
       "      <th>fecha</th>\n",
       "      <th>hora_fin</th>\n",
       "      <th>tipo_vehiculo</th>\n",
       "      <th>estacion</th>\n",
       "      <th>observacion</th>\n",
       "      <th>sentido</th>\n",
       "      <th>forma_pago</th>\n",
       "      <th>pasos</th>\n",
       "    </tr>\n",
       "  </thead>\n",
       "  <tbody>\n",
       "    <tr>\n",
       "      <th>171981</th>\n",
       "      <td>2022-05-21</td>\n",
       "      <td>11</td>\n",
       "      <td>Auto</td>\n",
       "      <td>ILL</td>\n",
       "      <td>Paso en infracción con Multa LPR</td>\n",
       "      <td>Provincia</td>\n",
       "      <td>Rec.Deuda</td>\n",
       "      <td>9</td>\n",
       "    </tr>\n",
       "  </tbody>\n",
       "</table>\n",
       "</div>"
      ],
      "text/plain": [
       "            fecha hora_fin tipo_vehiculo estacion  \\\n",
       "171981 2022-05-21       11          Auto      ILL   \n",
       "\n",
       "                             observacion    sentido forma_pago  pasos  \n",
       "171981  Paso en infracción con Multa LPR  Provincia  Rec.Deuda      9  "
      ]
     },
     "execution_count": 68,
     "metadata": {},
     "output_type": "execute_result"
    }
   ],
   "source": [
    "data_may_22.sample()\n",
    "data_may_22['fecha'] = pd.to_datetime(data_may_22['fecha'], format=\"mixed\")\n",
    "data_may_22.sample()"
   ]
  },
  {
   "cell_type": "code",
   "execution_count": 69,
   "metadata": {},
   "outputs": [
    {
     "data": {
      "text/html": [
       "<div>\n",
       "<style scoped>\n",
       "    .dataframe tbody tr th:only-of-type {\n",
       "        vertical-align: middle;\n",
       "    }\n",
       "\n",
       "    .dataframe tbody tr th {\n",
       "        vertical-align: top;\n",
       "    }\n",
       "\n",
       "    .dataframe thead th {\n",
       "        text-align: right;\n",
       "    }\n",
       "</style>\n",
       "<table border=\"1\" class=\"dataframe\">\n",
       "  <thead>\n",
       "    <tr style=\"text-align: right;\">\n",
       "      <th></th>\n",
       "      <th>fecha</th>\n",
       "      <th>hora_fin</th>\n",
       "      <th>tipo_vehiculo</th>\n",
       "      <th>estacion</th>\n",
       "      <th>observacion</th>\n",
       "      <th>sentido</th>\n",
       "      <th>forma_pago</th>\n",
       "      <th>pasos</th>\n",
       "    </tr>\n",
       "  </thead>\n",
       "  <tbody>\n",
       "    <tr>\n",
       "      <th>16154</th>\n",
       "      <td>2022-02-06</td>\n",
       "      <td>18</td>\n",
       "      <td>Pesados 2 Ejes</td>\n",
       "      <td>ILP</td>\n",
       "      <td>Tag - PosPago OCR</td>\n",
       "      <td>Provincia</td>\n",
       "      <td>Tag</td>\n",
       "      <td>3</td>\n",
       "    </tr>\n",
       "  </tbody>\n",
       "</table>\n",
       "</div>"
      ],
      "text/plain": [
       "           fecha hora_fin   tipo_vehiculo estacion        observacion  \\\n",
       "16154 2022-02-06       18  Pesados 2 Ejes      ILP  Tag - PosPago OCR   \n",
       "\n",
       "         sentido forma_pago  pasos  \n",
       "16154  Provincia        Tag      3  "
      ]
     },
     "execution_count": 69,
     "metadata": {},
     "output_type": "execute_result"
    }
   ],
   "source": [
    "data_jul_22.sample()\n",
    "data_jul_22['fecha'] = pd.to_datetime(data_jul_22['fecha'], format=\"mixed\")\n",
    "data_jul_22.sample()"
   ]
  },
  {
   "cell_type": "code",
   "execution_count": 70,
   "metadata": {},
   "outputs": [
    {
     "data": {
      "text/html": [
       "<div>\n",
       "<style scoped>\n",
       "    .dataframe tbody tr th:only-of-type {\n",
       "        vertical-align: middle;\n",
       "    }\n",
       "\n",
       "    .dataframe tbody tr th {\n",
       "        vertical-align: top;\n",
       "    }\n",
       "\n",
       "    .dataframe thead th {\n",
       "        text-align: right;\n",
       "    }\n",
       "</style>\n",
       "<table border=\"1\" class=\"dataframe\">\n",
       "  <thead>\n",
       "    <tr style=\"text-align: right;\">\n",
       "      <th></th>\n",
       "      <th>fecha</th>\n",
       "      <th>hora_fin</th>\n",
       "      <th>tipo_vehiculo</th>\n",
       "      <th>estacion</th>\n",
       "      <th>observacion</th>\n",
       "      <th>sentido</th>\n",
       "      <th>forma_pago</th>\n",
       "      <th>pasos</th>\n",
       "    </tr>\n",
       "  </thead>\n",
       "  <tbody>\n",
       "    <tr>\n",
       "      <th>166418</th>\n",
       "      <td>2022-08-20</td>\n",
       "      <td>10</td>\n",
       "      <td>Pesados 2 Ejes</td>\n",
       "      <td>DEL</td>\n",
       "      <td>Exento - Reglamento</td>\n",
       "      <td>Provincia</td>\n",
       "      <td>Exento</td>\n",
       "      <td>9</td>\n",
       "    </tr>\n",
       "  </tbody>\n",
       "</table>\n",
       "</div>"
      ],
      "text/plain": [
       "            fecha hora_fin   tipo_vehiculo estacion          observacion  \\\n",
       "166418 2022-08-20       10  Pesados 2 Ejes      DEL  Exento - Reglamento   \n",
       "\n",
       "          sentido forma_pago  pasos  \n",
       "166418  Provincia     Exento      9  "
      ]
     },
     "execution_count": 70,
     "metadata": {},
     "output_type": "execute_result"
    }
   ],
   "source": [
    "data_ago_22.sample()\n",
    "data_ago_22['fecha'] = pd.to_datetime(data_ago_22['fecha'], format=\"mixed\")\n",
    "data_ago_22.sample()"
   ]
  },
  {
   "cell_type": "code",
   "execution_count": 71,
   "metadata": {},
   "outputs": [
    {
     "data": {
      "text/html": [
       "<div>\n",
       "<style scoped>\n",
       "    .dataframe tbody tr th:only-of-type {\n",
       "        vertical-align: middle;\n",
       "    }\n",
       "\n",
       "    .dataframe tbody tr th {\n",
       "        vertical-align: top;\n",
       "    }\n",
       "\n",
       "    .dataframe thead th {\n",
       "        text-align: right;\n",
       "    }\n",
       "</style>\n",
       "<table border=\"1\" class=\"dataframe\">\n",
       "  <thead>\n",
       "    <tr style=\"text-align: right;\">\n",
       "      <th></th>\n",
       "      <th>fecha</th>\n",
       "      <th>hora_fin</th>\n",
       "      <th>tipo_vehiculo</th>\n",
       "      <th>estacion</th>\n",
       "      <th>observacion</th>\n",
       "      <th>sentido</th>\n",
       "      <th>forma_pago</th>\n",
       "      <th>pasos</th>\n",
       "    </tr>\n",
       "  </thead>\n",
       "  <tbody>\n",
       "    <tr>\n",
       "      <th>93743</th>\n",
       "      <td>2022-12-10</td>\n",
       "      <td>8</td>\n",
       "      <td>Pesados 2 Ejes</td>\n",
       "      <td>ILP</td>\n",
       "      <td>Tag - PosPago OCR</td>\n",
       "      <td>Provincia</td>\n",
       "      <td>Tag</td>\n",
       "      <td>20</td>\n",
       "    </tr>\n",
       "  </tbody>\n",
       "</table>\n",
       "</div>"
      ],
      "text/plain": [
       "           fecha hora_fin   tipo_vehiculo estacion        observacion  \\\n",
       "93743 2022-12-10        8  Pesados 2 Ejes      ILP  Tag - PosPago OCR   \n",
       "\n",
       "         sentido forma_pago  pasos  \n",
       "93743  Provincia        Tag     20  "
      ]
     },
     "execution_count": 71,
     "metadata": {},
     "output_type": "execute_result"
    }
   ],
   "source": [
    "data_oct_22.sample()\n",
    "data_oct_22['fecha'] = pd.to_datetime(data_oct_22['fecha'], format=\"mixed\")\n",
    "data_oct_22.sample()"
   ]
  },
  {
   "cell_type": "code",
   "execution_count": 72,
   "metadata": {},
   "outputs": [
    {
     "data": {
      "text/html": [
       "<div>\n",
       "<style scoped>\n",
       "    .dataframe tbody tr th:only-of-type {\n",
       "        vertical-align: middle;\n",
       "    }\n",
       "\n",
       "    .dataframe tbody tr th {\n",
       "        vertical-align: top;\n",
       "    }\n",
       "\n",
       "    .dataframe thead th {\n",
       "        text-align: right;\n",
       "    }\n",
       "</style>\n",
       "<table border=\"1\" class=\"dataframe\">\n",
       "  <thead>\n",
       "    <tr style=\"text-align: right;\">\n",
       "      <th></th>\n",
       "      <th>fecha</th>\n",
       "      <th>hora_fin</th>\n",
       "      <th>tipo_vehiculo</th>\n",
       "      <th>estacion</th>\n",
       "      <th>observacion</th>\n",
       "      <th>sentido</th>\n",
       "      <th>forma_pago</th>\n",
       "      <th>pasos</th>\n",
       "    </tr>\n",
       "  </thead>\n",
       "  <tbody>\n",
       "    <tr>\n",
       "      <th>41931</th>\n",
       "      <td>2022-05-12</td>\n",
       "      <td>19</td>\n",
       "      <td>N/D</td>\n",
       "      <td>ILL</td>\n",
       "      <td>Violación - Normal</td>\n",
       "      <td>Provincia</td>\n",
       "      <td>Violación</td>\n",
       "      <td>104</td>\n",
       "    </tr>\n",
       "  </tbody>\n",
       "</table>\n",
       "</div>"
      ],
      "text/plain": [
       "           fecha hora_fin tipo_vehiculo estacion         observacion  \\\n",
       "41931 2022-05-12       19           N/D      ILL  Violación - Normal   \n",
       "\n",
       "         sentido forma_pago  pasos  \n",
       "41931  Provincia  Violación    104  "
      ]
     },
     "execution_count": 72,
     "metadata": {},
     "output_type": "execute_result"
    }
   ],
   "source": [
    "data_dic_22.sample()\n",
    "data_dic_22['fecha'] = pd.to_datetime(data_dic_22['fecha'], format=\"mixed\")\n",
    "data_dic_22.sample()"
   ]
  },
  {
   "cell_type": "code",
   "execution_count": 73,
   "metadata": {},
   "outputs": [
    {
     "data": {
      "text/html": [
       "<div>\n",
       "<style scoped>\n",
       "    .dataframe tbody tr th:only-of-type {\n",
       "        vertical-align: middle;\n",
       "    }\n",
       "\n",
       "    .dataframe tbody tr th {\n",
       "        vertical-align: top;\n",
       "    }\n",
       "\n",
       "    .dataframe thead th {\n",
       "        text-align: right;\n",
       "    }\n",
       "</style>\n",
       "<table border=\"1\" class=\"dataframe\">\n",
       "  <thead>\n",
       "    <tr style=\"text-align: right;\">\n",
       "      <th></th>\n",
       "      <th>fecha</th>\n",
       "      <th>hora_fin</th>\n",
       "      <th>tipo_vehiculo</th>\n",
       "      <th>estacion</th>\n",
       "      <th>observacion</th>\n",
       "      <th>sentido</th>\n",
       "      <th>forma_pago</th>\n",
       "      <th>pasos</th>\n",
       "    </tr>\n",
       "  </thead>\n",
       "  <tbody>\n",
       "    <tr>\n",
       "      <th>155697</th>\n",
       "      <td>18 de noviembre de 2022</td>\n",
       "      <td>2</td>\n",
       "      <td>Pesados 3 Ejes</td>\n",
       "      <td>DEC</td>\n",
       "      <td>Efectivo</td>\n",
       "      <td>Centro</td>\n",
       "      <td>Efectivo</td>\n",
       "      <td>2</td>\n",
       "    </tr>\n",
       "  </tbody>\n",
       "</table>\n",
       "</div>"
      ],
      "text/plain": [
       "                          fecha hora_fin   tipo_vehiculo estacion observacion  \\\n",
       "155697  18 de noviembre de 2022        2  Pesados 3 Ejes      DEC    Efectivo   \n",
       "\n",
       "       sentido forma_pago  pasos  \n",
       "155697  Centro   Efectivo      2  "
      ]
     },
     "execution_count": 73,
     "metadata": {},
     "output_type": "execute_result"
    }
   ],
   "source": [
    "data_nov_22.sample() #next three months have a very different format, so we need to treat them differently using Spanish conversion"
   ]
  },
  {
   "cell_type": "code",
   "execution_count": 74,
   "metadata": {},
   "outputs": [
    {
     "data": {
      "text/plain": [
       "'es_ES'"
      ]
     },
     "execution_count": 74,
     "metadata": {},
     "output_type": "execute_result"
    }
   ],
   "source": [
    "import locale\n",
    "locale.setlocale(locale.LC_TIME, \"es_ES\")\n"
   ]
  },
  {
   "cell_type": "code",
   "execution_count": 75,
   "metadata": {},
   "outputs": [],
   "source": [
    "data_jun_22['fecha'] = pd.to_datetime(data_sep_22['fecha'], format=\"%d de %B de %Y\")\n",
    "data_sep_22['fecha'] = pd.to_datetime(data_sep_22['fecha'], format=\"%d de %B de %Y\")\n",
    "data_nov_22['fecha'] = pd.to_datetime(data_nov_22['fecha'], format=\"%d de %B de %Y\")"
   ]
  },
  {
   "cell_type": "code",
   "execution_count": 76,
   "metadata": {},
   "outputs": [
    {
     "data": {
      "text/html": [
       "<div>\n",
       "<style scoped>\n",
       "    .dataframe tbody tr th:only-of-type {\n",
       "        vertical-align: middle;\n",
       "    }\n",
       "\n",
       "    .dataframe tbody tr th {\n",
       "        vertical-align: top;\n",
       "    }\n",
       "\n",
       "    .dataframe thead th {\n",
       "        text-align: right;\n",
       "    }\n",
       "</style>\n",
       "<table border=\"1\" class=\"dataframe\">\n",
       "  <thead>\n",
       "    <tr style=\"text-align: right;\">\n",
       "      <th></th>\n",
       "      <th>fecha</th>\n",
       "      <th>hora_fin</th>\n",
       "      <th>tipo_vehiculo</th>\n",
       "      <th>estacion</th>\n",
       "      <th>observacion</th>\n",
       "      <th>sentido</th>\n",
       "      <th>forma_pago</th>\n",
       "      <th>pasos</th>\n",
       "    </tr>\n",
       "  </thead>\n",
       "  <tbody>\n",
       "    <tr>\n",
       "      <th>0</th>\n",
       "      <td>2022-01-01</td>\n",
       "      <td>0</td>\n",
       "      <td>Auto</td>\n",
       "      <td>ALB</td>\n",
       "      <td>Mercado Pago</td>\n",
       "      <td>Provincia</td>\n",
       "      <td>Mercado Pago</td>\n",
       "      <td>8</td>\n",
       "    </tr>\n",
       "    <tr>\n",
       "      <th>1</th>\n",
       "      <td>2022-01-01</td>\n",
       "      <td>0</td>\n",
       "      <td>Auto</td>\n",
       "      <td>ALB</td>\n",
       "      <td>Mercado Pago OCR</td>\n",
       "      <td>Centro</td>\n",
       "      <td>Mercado Pago</td>\n",
       "      <td>4</td>\n",
       "    </tr>\n",
       "    <tr>\n",
       "      <th>2</th>\n",
       "      <td>2022-01-01</td>\n",
       "      <td>0</td>\n",
       "      <td>Auto</td>\n",
       "      <td>ALB</td>\n",
       "      <td>Mercado Pago OCR</td>\n",
       "      <td>Provincia</td>\n",
       "      <td>Mercado Pago</td>\n",
       "      <td>2</td>\n",
       "    </tr>\n",
       "    <tr>\n",
       "      <th>3</th>\n",
       "      <td>2022-01-01</td>\n",
       "      <td>0</td>\n",
       "      <td>Auto</td>\n",
       "      <td>ALB</td>\n",
       "      <td>Tag - PosPago</td>\n",
       "      <td>Provincia</td>\n",
       "      <td>Tag</td>\n",
       "      <td>65</td>\n",
       "    </tr>\n",
       "    <tr>\n",
       "      <th>4</th>\n",
       "      <td>2022-01-01</td>\n",
       "      <td>0</td>\n",
       "      <td>Auto</td>\n",
       "      <td>ALB</td>\n",
       "      <td>Tag - PosPago OCR</td>\n",
       "      <td>Centro</td>\n",
       "      <td>Tag</td>\n",
       "      <td>32</td>\n",
       "    </tr>\n",
       "    <tr>\n",
       "      <th>...</th>\n",
       "      <td>...</td>\n",
       "      <td>...</td>\n",
       "      <td>...</td>\n",
       "      <td>...</td>\n",
       "      <td>...</td>\n",
       "      <td>...</td>\n",
       "      <td>...</td>\n",
       "      <td>...</td>\n",
       "    </tr>\n",
       "    <tr>\n",
       "      <th>264485</th>\n",
       "      <td>2022-12-31</td>\n",
       "      <td>23</td>\n",
       "      <td>Pesados 2 Ejes</td>\n",
       "      <td>PB4</td>\n",
       "      <td>Tag - PosPago</td>\n",
       "      <td>Centro</td>\n",
       "      <td>Tag</td>\n",
       "      <td>2</td>\n",
       "    </tr>\n",
       "    <tr>\n",
       "      <th>264486</th>\n",
       "      <td>2022-12-31</td>\n",
       "      <td>23</td>\n",
       "      <td>Pesados 5 Ejes</td>\n",
       "      <td>AVE</td>\n",
       "      <td>Mercado Pago</td>\n",
       "      <td>Provincia</td>\n",
       "      <td>Mercado Pago</td>\n",
       "      <td>1</td>\n",
       "    </tr>\n",
       "    <tr>\n",
       "      <th>264487</th>\n",
       "      <td>2022-12-31</td>\n",
       "      <td>23</td>\n",
       "      <td>Pesados 5 Ejes</td>\n",
       "      <td>DEC</td>\n",
       "      <td>Tag - PosPago</td>\n",
       "      <td>Centro</td>\n",
       "      <td>Tag</td>\n",
       "      <td>1</td>\n",
       "    </tr>\n",
       "    <tr>\n",
       "      <th>264488</th>\n",
       "      <td>2022-12-31</td>\n",
       "      <td>23</td>\n",
       "      <td>Pesados 5 Ejes</td>\n",
       "      <td>ILP</td>\n",
       "      <td>Tag - PosPago</td>\n",
       "      <td>Provincia</td>\n",
       "      <td>Tag</td>\n",
       "      <td>3</td>\n",
       "    </tr>\n",
       "    <tr>\n",
       "      <th>264489</th>\n",
       "      <td>2022-12-31</td>\n",
       "      <td>23</td>\n",
       "      <td>Pesados 5 Ejes</td>\n",
       "      <td>PB1</td>\n",
       "      <td>Tag - PosPago</td>\n",
       "      <td>Provincia</td>\n",
       "      <td>Tag</td>\n",
       "      <td>3</td>\n",
       "    </tr>\n",
       "  </tbody>\n",
       "</table>\n",
       "<p>3085751 rows × 8 columns</p>\n",
       "</div>"
      ],
      "text/plain": [
       "            fecha hora_fin   tipo_vehiculo estacion        observacion  \\\n",
       "0      2022-01-01        0            Auto      ALB       Mercado Pago   \n",
       "1      2022-01-01        0            Auto      ALB   Mercado Pago OCR   \n",
       "2      2022-01-01        0            Auto      ALB   Mercado Pago OCR   \n",
       "3      2022-01-01        0            Auto      ALB      Tag - PosPago   \n",
       "4      2022-01-01        0            Auto      ALB  Tag - PosPago OCR   \n",
       "...           ...      ...             ...      ...                ...   \n",
       "264485 2022-12-31       23  Pesados 2 Ejes      PB4      Tag - PosPago   \n",
       "264486 2022-12-31       23  Pesados 5 Ejes      AVE       Mercado Pago   \n",
       "264487 2022-12-31       23  Pesados 5 Ejes      DEC      Tag - PosPago   \n",
       "264488 2022-12-31       23  Pesados 5 Ejes      ILP      Tag - PosPago   \n",
       "264489 2022-12-31       23  Pesados 5 Ejes      PB1      Tag - PosPago   \n",
       "\n",
       "          sentido    forma_pago pasos  \n",
       "0       Provincia  Mercado Pago     8  \n",
       "1          Centro  Mercado Pago     4  \n",
       "2       Provincia  Mercado Pago     2  \n",
       "3       Provincia           Tag    65  \n",
       "4          Centro           Tag    32  \n",
       "...           ...           ...   ...  \n",
       "264485     Centro           Tag     2  \n",
       "264486  Provincia  Mercado Pago     1  \n",
       "264487     Centro           Tag     1  \n",
       "264488  Provincia           Tag     3  \n",
       "264489  Provincia           Tag     3  \n",
       "\n",
       "[3085751 rows x 8 columns]"
      ]
     },
     "execution_count": 76,
     "metadata": {},
     "output_type": "execute_result"
    }
   ],
   "source": [
    "column_names = data_enfeb_22.columns\n",
    "data_2022 = pd.DataFrame(columns=column_names)\n",
    "data_2022 = pd.concat([data_2022,data_enfeb_22, data_mar_22,data_abril_22,data_may_22,data_jun_22,data_jul_22,data_ago_22,data_sep_22,data_oct_22, data_nov_22, data_dic_22], axis=0)\n",
    "data_2022"
   ]
  },
  {
   "cell_type": "code",
   "execution_count": 77,
   "metadata": {},
   "outputs": [],
   "source": [
    "data_2022_clean=data_2022.drop_duplicates()"
   ]
  },
  {
   "cell_type": "code",
   "execution_count": 78,
   "metadata": {},
   "outputs": [
    {
     "data": {
      "text/html": [
       "<div>\n",
       "<style scoped>\n",
       "    .dataframe tbody tr th:only-of-type {\n",
       "        vertical-align: middle;\n",
       "    }\n",
       "\n",
       "    .dataframe tbody tr th {\n",
       "        vertical-align: top;\n",
       "    }\n",
       "\n",
       "    .dataframe thead th {\n",
       "        text-align: right;\n",
       "    }\n",
       "</style>\n",
       "<table border=\"1\" class=\"dataframe\">\n",
       "  <thead>\n",
       "    <tr style=\"text-align: right;\">\n",
       "      <th></th>\n",
       "      <th>fecha</th>\n",
       "      <th>hora_fin</th>\n",
       "      <th>tipo_vehiculo</th>\n",
       "      <th>estacion</th>\n",
       "      <th>observacion</th>\n",
       "      <th>sentido</th>\n",
       "      <th>forma_pago</th>\n",
       "      <th>pasos</th>\n",
       "    </tr>\n",
       "  </thead>\n",
       "  <tbody>\n",
       "    <tr>\n",
       "      <th>0</th>\n",
       "      <td>2022-01-01</td>\n",
       "      <td>0</td>\n",
       "      <td>Auto</td>\n",
       "      <td>ALB</td>\n",
       "      <td>Mercado Pago</td>\n",
       "      <td>Provincia</td>\n",
       "      <td>Mercado Pago</td>\n",
       "      <td>8</td>\n",
       "    </tr>\n",
       "    <tr>\n",
       "      <th>1</th>\n",
       "      <td>2022-01-01</td>\n",
       "      <td>0</td>\n",
       "      <td>Auto</td>\n",
       "      <td>ALB</td>\n",
       "      <td>Mercado Pago OCR</td>\n",
       "      <td>Centro</td>\n",
       "      <td>Mercado Pago</td>\n",
       "      <td>4</td>\n",
       "    </tr>\n",
       "    <tr>\n",
       "      <th>2</th>\n",
       "      <td>2022-01-01</td>\n",
       "      <td>0</td>\n",
       "      <td>Auto</td>\n",
       "      <td>ALB</td>\n",
       "      <td>Mercado Pago OCR</td>\n",
       "      <td>Provincia</td>\n",
       "      <td>Mercado Pago</td>\n",
       "      <td>2</td>\n",
       "    </tr>\n",
       "    <tr>\n",
       "      <th>3</th>\n",
       "      <td>2022-01-01</td>\n",
       "      <td>0</td>\n",
       "      <td>Auto</td>\n",
       "      <td>ALB</td>\n",
       "      <td>Tag - PosPago</td>\n",
       "      <td>Provincia</td>\n",
       "      <td>Tag</td>\n",
       "      <td>65</td>\n",
       "    </tr>\n",
       "    <tr>\n",
       "      <th>4</th>\n",
       "      <td>2022-01-01</td>\n",
       "      <td>0</td>\n",
       "      <td>Auto</td>\n",
       "      <td>ALB</td>\n",
       "      <td>Tag - PosPago OCR</td>\n",
       "      <td>Centro</td>\n",
       "      <td>Tag</td>\n",
       "      <td>32</td>\n",
       "    </tr>\n",
       "    <tr>\n",
       "      <th>...</th>\n",
       "      <td>...</td>\n",
       "      <td>...</td>\n",
       "      <td>...</td>\n",
       "      <td>...</td>\n",
       "      <td>...</td>\n",
       "      <td>...</td>\n",
       "      <td>...</td>\n",
       "      <td>...</td>\n",
       "    </tr>\n",
       "    <tr>\n",
       "      <th>264485</th>\n",
       "      <td>2022-12-31</td>\n",
       "      <td>23</td>\n",
       "      <td>Pesados 2 Ejes</td>\n",
       "      <td>PB4</td>\n",
       "      <td>Tag - PosPago</td>\n",
       "      <td>Centro</td>\n",
       "      <td>Tag</td>\n",
       "      <td>2</td>\n",
       "    </tr>\n",
       "    <tr>\n",
       "      <th>264486</th>\n",
       "      <td>2022-12-31</td>\n",
       "      <td>23</td>\n",
       "      <td>Pesados 5 Ejes</td>\n",
       "      <td>AVE</td>\n",
       "      <td>Mercado Pago</td>\n",
       "      <td>Provincia</td>\n",
       "      <td>Mercado Pago</td>\n",
       "      <td>1</td>\n",
       "    </tr>\n",
       "    <tr>\n",
       "      <th>264487</th>\n",
       "      <td>2022-12-31</td>\n",
       "      <td>23</td>\n",
       "      <td>Pesados 5 Ejes</td>\n",
       "      <td>DEC</td>\n",
       "      <td>Tag - PosPago</td>\n",
       "      <td>Centro</td>\n",
       "      <td>Tag</td>\n",
       "      <td>1</td>\n",
       "    </tr>\n",
       "    <tr>\n",
       "      <th>264488</th>\n",
       "      <td>2022-12-31</td>\n",
       "      <td>23</td>\n",
       "      <td>Pesados 5 Ejes</td>\n",
       "      <td>ILP</td>\n",
       "      <td>Tag - PosPago</td>\n",
       "      <td>Provincia</td>\n",
       "      <td>Tag</td>\n",
       "      <td>3</td>\n",
       "    </tr>\n",
       "    <tr>\n",
       "      <th>264489</th>\n",
       "      <td>2022-12-31</td>\n",
       "      <td>23</td>\n",
       "      <td>Pesados 5 Ejes</td>\n",
       "      <td>PB1</td>\n",
       "      <td>Tag - PosPago</td>\n",
       "      <td>Provincia</td>\n",
       "      <td>Tag</td>\n",
       "      <td>3</td>\n",
       "    </tr>\n",
       "  </tbody>\n",
       "</table>\n",
       "<p>3039632 rows × 8 columns</p>\n",
       "</div>"
      ],
      "text/plain": [
       "            fecha hora_fin   tipo_vehiculo estacion        observacion  \\\n",
       "0      2022-01-01        0            Auto      ALB       Mercado Pago   \n",
       "1      2022-01-01        0            Auto      ALB   Mercado Pago OCR   \n",
       "2      2022-01-01        0            Auto      ALB   Mercado Pago OCR   \n",
       "3      2022-01-01        0            Auto      ALB      Tag - PosPago   \n",
       "4      2022-01-01        0            Auto      ALB  Tag - PosPago OCR   \n",
       "...           ...      ...             ...      ...                ...   \n",
       "264485 2022-12-31       23  Pesados 2 Ejes      PB4      Tag - PosPago   \n",
       "264486 2022-12-31       23  Pesados 5 Ejes      AVE       Mercado Pago   \n",
       "264487 2022-12-31       23  Pesados 5 Ejes      DEC      Tag - PosPago   \n",
       "264488 2022-12-31       23  Pesados 5 Ejes      ILP      Tag - PosPago   \n",
       "264489 2022-12-31       23  Pesados 5 Ejes      PB1      Tag - PosPago   \n",
       "\n",
       "          sentido    forma_pago pasos  \n",
       "0       Provincia  Mercado Pago     8  \n",
       "1          Centro  Mercado Pago     4  \n",
       "2       Provincia  Mercado Pago     2  \n",
       "3       Provincia           Tag    65  \n",
       "4          Centro           Tag    32  \n",
       "...           ...           ...   ...  \n",
       "264485     Centro           Tag     2  \n",
       "264486  Provincia  Mercado Pago     1  \n",
       "264487     Centro           Tag     1  \n",
       "264488  Provincia           Tag     3  \n",
       "264489  Provincia           Tag     3  \n",
       "\n",
       "[3039632 rows x 8 columns]"
      ]
     },
     "execution_count": 78,
     "metadata": {},
     "output_type": "execute_result"
    }
   ],
   "source": [
    "data_2022_clean"
   ]
  },
  {
   "cell_type": "code",
   "execution_count": 79,
   "metadata": {},
   "outputs": [
    {
     "name": "stdout",
     "output_type": "stream",
     "text": [
      "<class 'pandas.core.frame.DataFrame'>\n",
      "Index: 3039632 entries, 0 to 264489\n",
      "Data columns (total 8 columns):\n",
      " #   Column         Dtype         \n",
      "---  ------         -----         \n",
      " 0   fecha          datetime64[ns]\n",
      " 1   hora_fin       object        \n",
      " 2   tipo_vehiculo  object        \n",
      " 3   estacion       object        \n",
      " 4   observacion    object        \n",
      " 5   sentido        object        \n",
      " 6   forma_pago     object        \n",
      " 7   pasos          object        \n",
      "dtypes: datetime64[ns](1), object(7)\n",
      "memory usage: 208.7+ MB\n"
     ]
    }
   ],
   "source": [
    "data_2022_clean.info()"
   ]
  },
  {
   "cell_type": "markdown",
   "metadata": {},
   "source": [
    "### concatenate all dataframes! 2020-2021-2022"
   ]
  },
  {
   "cell_type": "code",
   "execution_count": 80,
   "metadata": {},
   "outputs": [
    {
     "data": {
      "text/html": [
       "<div>\n",
       "<style scoped>\n",
       "    .dataframe tbody tr th:only-of-type {\n",
       "        vertical-align: middle;\n",
       "    }\n",
       "\n",
       "    .dataframe tbody tr th {\n",
       "        vertical-align: top;\n",
       "    }\n",
       "\n",
       "    .dataframe thead th {\n",
       "        text-align: right;\n",
       "    }\n",
       "</style>\n",
       "<table border=\"1\" class=\"dataframe\">\n",
       "  <thead>\n",
       "    <tr style=\"text-align: right;\">\n",
       "      <th></th>\n",
       "      <th>año</th>\n",
       "      <th>fecha</th>\n",
       "      <th>mes</th>\n",
       "      <th>dia</th>\n",
       "      <th>dia_semana</th>\n",
       "      <th>hora_inicio</th>\n",
       "      <th>hora_fin</th>\n",
       "      <th>estacion</th>\n",
       "      <th>tipo_vehiculo</th>\n",
       "      <th>forma_pago</th>\n",
       "      <th>observacion</th>\n",
       "      <th>sentido</th>\n",
       "      <th>pasos</th>\n",
       "      <th>mes_num</th>\n",
       "    </tr>\n",
       "  </thead>\n",
       "  <tbody>\n",
       "    <tr>\n",
       "      <th>1342485</th>\n",
       "      <td>2020</td>\n",
       "      <td>2020-07-01</td>\n",
       "      <td>julio</td>\n",
       "      <td>Miércoles</td>\n",
       "      <td>1.0</td>\n",
       "      <td>19.0</td>\n",
       "      <td>20</td>\n",
       "      <td>DELLEPIANE LINIERSLEPIANE CENTRO</td>\n",
       "      <td>Pesados 3 Ejes</td>\n",
       "      <td>Tag</td>\n",
       "      <td>Tag - PosPago</td>\n",
       "      <td>Centro</td>\n",
       "      <td>6</td>\n",
       "      <td>NaN</td>\n",
       "    </tr>\n",
       "  </tbody>\n",
       "</table>\n",
       "</div>"
      ],
      "text/plain": [
       "          año      fecha    mes        dia  dia_semana  hora_inicio hora_fin  \\\n",
       "1342485  2020 2020-07-01  julio  Miércoles         1.0         19.0       20   \n",
       "\n",
       "                                 estacion   tipo_vehiculo forma_pago  \\\n",
       "1342485  DELLEPIANE LINIERSLEPIANE CENTRO  Pesados 3 Ejes        Tag   \n",
       "\n",
       "           observacion sentido pasos  mes_num  \n",
       "1342485  Tag - PosPago  Centro     6      NaN  "
      ]
     },
     "execution_count": 80,
     "metadata": {},
     "output_type": "execute_result"
    }
   ],
   "source": [
    "data.sample()"
   ]
  },
  {
   "cell_type": "code",
   "execution_count": 81,
   "metadata": {},
   "outputs": [
    {
     "data": {
      "text/html": [
       "<div>\n",
       "<style scoped>\n",
       "    .dataframe tbody tr th:only-of-type {\n",
       "        vertical-align: middle;\n",
       "    }\n",
       "\n",
       "    .dataframe tbody tr th {\n",
       "        vertical-align: top;\n",
       "    }\n",
       "\n",
       "    .dataframe thead th {\n",
       "        text-align: right;\n",
       "    }\n",
       "</style>\n",
       "<table border=\"1\" class=\"dataframe\">\n",
       "  <thead>\n",
       "    <tr style=\"text-align: right;\">\n",
       "      <th></th>\n",
       "      <th>fecha</th>\n",
       "      <th>hora_fin</th>\n",
       "      <th>tipo_vehiculo</th>\n",
       "      <th>estacion</th>\n",
       "      <th>observacion</th>\n",
       "      <th>sentido</th>\n",
       "      <th>forma_pago</th>\n",
       "      <th>pasos</th>\n",
       "    </tr>\n",
       "  </thead>\n",
       "  <tbody>\n",
       "    <tr>\n",
       "      <th>222782</th>\n",
       "      <td>2022-03-27</td>\n",
       "      <td>11</td>\n",
       "      <td>Pesados 5 Ejes</td>\n",
       "      <td>AVE</td>\n",
       "      <td>Tag - PosPago OCR</td>\n",
       "      <td>Provincia</td>\n",
       "      <td>Tag</td>\n",
       "      <td>2</td>\n",
       "    </tr>\n",
       "  </tbody>\n",
       "</table>\n",
       "</div>"
      ],
      "text/plain": [
       "            fecha hora_fin   tipo_vehiculo estacion        observacion  \\\n",
       "222782 2022-03-27       11  Pesados 5 Ejes      AVE  Tag - PosPago OCR   \n",
       "\n",
       "          sentido forma_pago pasos  \n",
       "222782  Provincia        Tag     2  "
      ]
     },
     "execution_count": 81,
     "metadata": {},
     "output_type": "execute_result"
    }
   ],
   "source": [
    "data_2022_clean.sample()"
   ]
  },
  {
   "cell_type": "code",
   "execution_count": 82,
   "metadata": {},
   "outputs": [],
   "source": [
    "data_20_21=data[['fecha', 'pasos', 'estacion', 'forma_pago']]\n",
    "data_2022_tojoin=data_2022_clean[['fecha', 'pasos', 'estacion', 'forma_pago']]"
   ]
  },
  {
   "cell_type": "code",
   "execution_count": 83,
   "metadata": {},
   "outputs": [
    {
     "name": "stderr",
     "output_type": "stream",
     "text": [
      "C:\\Users\\poutxinha\\AppData\\Local\\Temp\\ipykernel_3964\\983447753.py:1: SettingWithCopyWarning: \n",
      "A value is trying to be set on a copy of a slice from a DataFrame.\n",
      "Try using .loc[row_indexer,col_indexer] = value instead\n",
      "\n",
      "See the caveats in the documentation: https://pandas.pydata.org/pandas-docs/stable/user_guide/indexing.html#returning-a-view-versus-a-copy\n",
      "  data_20_21['estacion']=data_20_21['estacion'].replace('ILLIA', 'Illia')\n",
      "C:\\Users\\poutxinha\\AppData\\Local\\Temp\\ipykernel_3964\\983447753.py:2: SettingWithCopyWarning: \n",
      "A value is trying to be set on a copy of a slice from a DataFrame.\n",
      "Try using .loc[row_indexer,col_indexer] = value instead\n",
      "\n",
      "See the caveats in the documentation: https://pandas.pydata.org/pandas-docs/stable/user_guide/indexing.html#returning-a-view-versus-a-copy\n",
      "  data_20_21['estacion']=data_20_21['estacion'].replace('ILL', 'Illia')\n"
     ]
    }
   ],
   "source": [
    "data_20_21['estacion']=data_20_21['estacion'].replace('ILLIA', 'Illia')\n",
    "data_20_21['estacion']=data_20_21['estacion'].replace('ILL', 'Illia')"
   ]
  },
  {
   "cell_type": "code",
   "execution_count": 84,
   "metadata": {},
   "outputs": [],
   "source": [
    "mask = np.logical_and(data_20_21.estacion=='Illia', data_20_21.forma_pago == 'Efectivo')\n",
    "data_20_21 = data_20_21[mask]"
   ]
  },
  {
   "cell_type": "code",
   "execution_count": 85,
   "metadata": {},
   "outputs": [
    {
     "name": "stderr",
     "output_type": "stream",
     "text": [
      "C:\\Users\\poutxinha\\AppData\\Local\\Temp\\ipykernel_3964\\1866983183.py:1: SettingWithCopyWarning: \n",
      "A value is trying to be set on a copy of a slice from a DataFrame.\n",
      "Try using .loc[row_indexer,col_indexer] = value instead\n",
      "\n",
      "See the caveats in the documentation: https://pandas.pydata.org/pandas-docs/stable/user_guide/indexing.html#returning-a-view-versus-a-copy\n",
      "  data_2022_tojoin['estacion']=data_2022_tojoin['estacion'].replace('ILL', 'Illia')\n"
     ]
    }
   ],
   "source": [
    "data_2022_tojoin['estacion']=data_2022_tojoin['estacion'].replace('ILL', 'Illia')"
   ]
  },
  {
   "cell_type": "code",
   "execution_count": 86,
   "metadata": {},
   "outputs": [
    {
     "data": {
      "text/plain": [
       "forma_pago\n",
       "Tag                  1363272\n",
       "Mercado Pago          509139\n",
       "Violación             444086\n",
       "Rec.Deuda             300811\n",
       "Efectivo              264590\n",
       "Exento                112685\n",
       "Tarjeta Magnética      44527\n",
       "CPP                      522\n",
       "Name: count, dtype: int64"
      ]
     },
     "execution_count": 86,
     "metadata": {},
     "output_type": "execute_result"
    }
   ],
   "source": [
    "data_2022_tojoin.forma_pago.value_counts()"
   ]
  },
  {
   "cell_type": "code",
   "execution_count": 87,
   "metadata": {},
   "outputs": [],
   "source": [
    "mask = np.logical_and(data_2022_tojoin.estacion=='Illia', data_2022_tojoin.forma_pago == 'Efectivo')\n",
    "data_2022_tojoin = data_2022_tojoin[mask]"
   ]
  },
  {
   "cell_type": "code",
   "execution_count": 88,
   "metadata": {},
   "outputs": [
    {
     "data": {
      "text/html": [
       "<div>\n",
       "<style scoped>\n",
       "    .dataframe tbody tr th:only-of-type {\n",
       "        vertical-align: middle;\n",
       "    }\n",
       "\n",
       "    .dataframe tbody tr th {\n",
       "        vertical-align: top;\n",
       "    }\n",
       "\n",
       "    .dataframe thead th {\n",
       "        text-align: right;\n",
       "    }\n",
       "</style>\n",
       "<table border=\"1\" class=\"dataframe\">\n",
       "  <thead>\n",
       "    <tr style=\"text-align: right;\">\n",
       "      <th></th>\n",
       "      <th>fecha</th>\n",
       "      <th>pasos</th>\n",
       "      <th>estacion</th>\n",
       "      <th>forma_pago</th>\n",
       "    </tr>\n",
       "  </thead>\n",
       "  <tbody>\n",
       "    <tr>\n",
       "      <th>1653825</th>\n",
       "      <td>2021-09-08</td>\n",
       "      <td>12</td>\n",
       "      <td>Illia</td>\n",
       "      <td>Efectivo</td>\n",
       "    </tr>\n",
       "  </tbody>\n",
       "</table>\n",
       "</div>"
      ],
      "text/plain": [
       "             fecha pasos estacion forma_pago\n",
       "1653825 2021-09-08    12    Illia   Efectivo"
      ]
     },
     "execution_count": 88,
     "metadata": {},
     "output_type": "execute_result"
    }
   ],
   "source": [
    "data_20_21.sample()"
   ]
  },
  {
   "cell_type": "code",
   "execution_count": 89,
   "metadata": {},
   "outputs": [
    {
     "data": {
      "text/html": [
       "<div>\n",
       "<style scoped>\n",
       "    .dataframe tbody tr th:only-of-type {\n",
       "        vertical-align: middle;\n",
       "    }\n",
       "\n",
       "    .dataframe tbody tr th {\n",
       "        vertical-align: top;\n",
       "    }\n",
       "\n",
       "    .dataframe thead th {\n",
       "        text-align: right;\n",
       "    }\n",
       "</style>\n",
       "<table border=\"1\" class=\"dataframe\">\n",
       "  <thead>\n",
       "    <tr style=\"text-align: right;\">\n",
       "      <th></th>\n",
       "      <th>fecha</th>\n",
       "      <th>pasos</th>\n",
       "      <th>estacion</th>\n",
       "      <th>forma_pago</th>\n",
       "    </tr>\n",
       "  </thead>\n",
       "  <tbody>\n",
       "    <tr>\n",
       "      <th>32874</th>\n",
       "      <td>2022-04-03</td>\n",
       "      <td>15</td>\n",
       "      <td>Illia</td>\n",
       "      <td>Efectivo</td>\n",
       "    </tr>\n",
       "  </tbody>\n",
       "</table>\n",
       "</div>"
      ],
      "text/plain": [
       "           fecha pasos estacion forma_pago\n",
       "32874 2022-04-03    15    Illia   Efectivo"
      ]
     },
     "execution_count": 89,
     "metadata": {},
     "output_type": "execute_result"
    }
   ],
   "source": [
    "data_2022_tojoin.sample()"
   ]
  },
  {
   "cell_type": "code",
   "execution_count": 90,
   "metadata": {},
   "outputs": [
    {
     "data": {
      "text/html": [
       "<div>\n",
       "<style scoped>\n",
       "    .dataframe tbody tr th:only-of-type {\n",
       "        vertical-align: middle;\n",
       "    }\n",
       "\n",
       "    .dataframe tbody tr th {\n",
       "        vertical-align: top;\n",
       "    }\n",
       "\n",
       "    .dataframe thead th {\n",
       "        text-align: right;\n",
       "    }\n",
       "</style>\n",
       "<table border=\"1\" class=\"dataframe\">\n",
       "  <thead>\n",
       "    <tr style=\"text-align: right;\">\n",
       "      <th></th>\n",
       "      <th>fecha</th>\n",
       "      <th>pasos</th>\n",
       "      <th>estacion</th>\n",
       "      <th>forma_pago</th>\n",
       "    </tr>\n",
       "  </thead>\n",
       "  <tbody>\n",
       "    <tr>\n",
       "      <th>52</th>\n",
       "      <td>2020-01-01</td>\n",
       "      <td>326</td>\n",
       "      <td>Illia</td>\n",
       "      <td>Efectivo</td>\n",
       "    </tr>\n",
       "    <tr>\n",
       "      <th>53</th>\n",
       "      <td>2020-01-01</td>\n",
       "      <td>319</td>\n",
       "      <td>Illia</td>\n",
       "      <td>Efectivo</td>\n",
       "    </tr>\n",
       "    <tr>\n",
       "      <th>134</th>\n",
       "      <td>2020-01-01</td>\n",
       "      <td>199</td>\n",
       "      <td>Illia</td>\n",
       "      <td>Efectivo</td>\n",
       "    </tr>\n",
       "    <tr>\n",
       "      <th>135</th>\n",
       "      <td>2020-01-01</td>\n",
       "      <td>180</td>\n",
       "      <td>Illia</td>\n",
       "      <td>Efectivo</td>\n",
       "    </tr>\n",
       "    <tr>\n",
       "      <th>202</th>\n",
       "      <td>2020-01-01</td>\n",
       "      <td>114</td>\n",
       "      <td>Illia</td>\n",
       "      <td>Efectivo</td>\n",
       "    </tr>\n",
       "    <tr>\n",
       "      <th>...</th>\n",
       "      <td>...</td>\n",
       "      <td>...</td>\n",
       "      <td>...</td>\n",
       "      <td>...</td>\n",
       "    </tr>\n",
       "    <tr>\n",
       "      <th>263821</th>\n",
       "      <td>2022-12-31</td>\n",
       "      <td>9</td>\n",
       "      <td>Illia</td>\n",
       "      <td>Efectivo</td>\n",
       "    </tr>\n",
       "    <tr>\n",
       "      <th>263822</th>\n",
       "      <td>2022-12-31</td>\n",
       "      <td>12</td>\n",
       "      <td>Illia</td>\n",
       "      <td>Efectivo</td>\n",
       "    </tr>\n",
       "    <tr>\n",
       "      <th>263884</th>\n",
       "      <td>2022-12-31</td>\n",
       "      <td>2</td>\n",
       "      <td>Illia</td>\n",
       "      <td>Efectivo</td>\n",
       "    </tr>\n",
       "    <tr>\n",
       "      <th>263885</th>\n",
       "      <td>2022-12-31</td>\n",
       "      <td>1</td>\n",
       "      <td>Illia</td>\n",
       "      <td>Efectivo</td>\n",
       "    </tr>\n",
       "    <tr>\n",
       "      <th>263979</th>\n",
       "      <td>2022-12-31</td>\n",
       "      <td>1</td>\n",
       "      <td>Illia</td>\n",
       "      <td>Efectivo</td>\n",
       "    </tr>\n",
       "  </tbody>\n",
       "</table>\n",
       "<p>166451 rows × 4 columns</p>\n",
       "</div>"
      ],
      "text/plain": [
       "            fecha pasos estacion forma_pago\n",
       "52     2020-01-01   326    Illia   Efectivo\n",
       "53     2020-01-01   319    Illia   Efectivo\n",
       "134    2020-01-01   199    Illia   Efectivo\n",
       "135    2020-01-01   180    Illia   Efectivo\n",
       "202    2020-01-01   114    Illia   Efectivo\n",
       "...           ...   ...      ...        ...\n",
       "263821 2022-12-31     9    Illia   Efectivo\n",
       "263822 2022-12-31    12    Illia   Efectivo\n",
       "263884 2022-12-31     2    Illia   Efectivo\n",
       "263885 2022-12-31     1    Illia   Efectivo\n",
       "263979 2022-12-31     1    Illia   Efectivo\n",
       "\n",
       "[166451 rows x 4 columns]"
      ]
     },
     "execution_count": 90,
     "metadata": {},
     "output_type": "execute_result"
    }
   ],
   "source": [
    "column_names = data_20_21.columns\n",
    "data_2020_22 = pd.DataFrame(columns=column_names)\n",
    "data_2020_22 = pd.concat([data_20_21,data_2022_tojoin], axis=0)\n",
    "data_2020_22"
   ]
  },
  {
   "cell_type": "code",
   "execution_count": 91,
   "metadata": {},
   "outputs": [
    {
     "name": "stdout",
     "output_type": "stream",
     "text": [
      "<class 'pandas.core.frame.DataFrame'>\n",
      "Index: 166451 entries, 52 to 263979\n",
      "Data columns (total 4 columns):\n",
      " #   Column      Non-Null Count   Dtype         \n",
      "---  ------      --------------   -----         \n",
      " 0   fecha       166451 non-null  datetime64[ns]\n",
      " 1   pasos       166451 non-null  object        \n",
      " 2   estacion    166451 non-null  object        \n",
      " 3   forma_pago  166451 non-null  object        \n",
      "dtypes: datetime64[ns](1), object(3)\n",
      "memory usage: 6.3+ MB\n"
     ]
    }
   ],
   "source": [
    "data_2020_22.info()"
   ]
  },
  {
   "cell_type": "code",
   "execution_count": 92,
   "metadata": {},
   "outputs": [
    {
     "name": "stdout",
     "output_type": "stream",
     "text": [
      "<class 'pandas.core.frame.DataFrame'>\n",
      "Index: 166451 entries, 52 to 263979\n",
      "Data columns (total 4 columns):\n",
      " #   Column      Non-Null Count   Dtype         \n",
      "---  ------      --------------   -----         \n",
      " 0   fecha       166451 non-null  datetime64[ns]\n",
      " 1   pasos       166451 non-null  int32         \n",
      " 2   estacion    166451 non-null  object        \n",
      " 3   forma_pago  166451 non-null  object        \n",
      "dtypes: datetime64[ns](1), int32(1), object(2)\n",
      "memory usage: 5.7+ MB\n"
     ]
    }
   ],
   "source": [
    "data_2020_22['pasos'] = data_2020_22['pasos'].astype(float)\n",
    "data_2020_22['pasos'] = data_2020_22['pasos'].astype(int)\n",
    "data_2020_22.info()"
   ]
  },
  {
   "cell_type": "code",
   "execution_count": 93,
   "metadata": {},
   "outputs": [],
   "source": [
    "data_2020_22.drop(['estacion', 'forma_pago'],axis=1, inplace=True)"
   ]
  },
  {
   "cell_type": "code",
   "execution_count": 94,
   "metadata": {},
   "outputs": [
    {
     "name": "stdout",
     "output_type": "stream",
     "text": [
      "<class 'pandas.core.frame.DataFrame'>\n",
      "Index: 166451 entries, 52 to 263979\n",
      "Data columns (total 2 columns):\n",
      " #   Column  Non-Null Count   Dtype         \n",
      "---  ------  --------------   -----         \n",
      " 0   fecha   166451 non-null  datetime64[ns]\n",
      " 1   pasos   166451 non-null  int32         \n",
      "dtypes: datetime64[ns](1), int32(1)\n",
      "memory usage: 3.2 MB\n"
     ]
    }
   ],
   "source": [
    "data_2020_22.info()"
   ]
  },
  {
   "cell_type": "code",
   "execution_count": 95,
   "metadata": {
    "scrolled": true
   },
   "outputs": [
    {
     "name": "stdout",
     "output_type": "stream",
     "text": [
      "(1096, 1)\n"
     ]
    },
    {
     "data": {
      "text/html": [
       "<div>\n",
       "<style scoped>\n",
       "    .dataframe tbody tr th:only-of-type {\n",
       "        vertical-align: middle;\n",
       "    }\n",
       "\n",
       "    .dataframe tbody tr th {\n",
       "        vertical-align: top;\n",
       "    }\n",
       "\n",
       "    .dataframe thead th {\n",
       "        text-align: right;\n",
       "    }\n",
       "</style>\n",
       "<table border=\"1\" class=\"dataframe\">\n",
       "  <thead>\n",
       "    <tr style=\"text-align: right;\">\n",
       "      <th></th>\n",
       "      <th>pasos</th>\n",
       "    </tr>\n",
       "    <tr>\n",
       "      <th>fecha</th>\n",
       "      <th></th>\n",
       "    </tr>\n",
       "  </thead>\n",
       "  <tbody>\n",
       "    <tr>\n",
       "      <th>2020-01-01</th>\n",
       "      <td>21395</td>\n",
       "    </tr>\n",
       "    <tr>\n",
       "      <th>2020-01-02</th>\n",
       "      <td>33722</td>\n",
       "    </tr>\n",
       "    <tr>\n",
       "      <th>2020-01-03</th>\n",
       "      <td>37067</td>\n",
       "    </tr>\n",
       "    <tr>\n",
       "      <th>2020-01-04</th>\n",
       "      <td>30627</td>\n",
       "    </tr>\n",
       "    <tr>\n",
       "      <th>2020-01-05</th>\n",
       "      <td>27812</td>\n",
       "    </tr>\n",
       "  </tbody>\n",
       "</table>\n",
       "</div>"
      ],
      "text/plain": [
       "            pasos\n",
       "fecha            \n",
       "2020-01-01  21395\n",
       "2020-01-02  33722\n",
       "2020-01-03  37067\n",
       "2020-01-04  30627\n",
       "2020-01-05  27812"
      ]
     },
     "execution_count": 95,
     "metadata": {},
     "output_type": "execute_result"
    }
   ],
   "source": [
    "daily = data_2020_22.resample('D', on = 'fecha').sum()#we set the data to daily frequence\n",
    "print(daily.shape)\n",
    "daily.head()"
   ]
  },
  {
   "cell_type": "code",
   "execution_count": 96,
   "metadata": {},
   "outputs": [
    {
     "data": {
      "image/png": "[encoded data removed]",
      "text/plain": [
       "<Figure size 1500x600 with 1 Axes>"
      ]
     },
     "metadata": {},
     "output_type": "display_data"
    }
   ],
   "source": [
    "plt.figure(figsize = (15,6))\n",
    "plt.plot(daily.index, daily.pasos)\n",
    "plt.xlim(datetime.date(2020,1,1), datetime.date(2023,1,1))\n",
    "plt.xlabel('Tiempo')\n",
    "plt.ylabel('N coches/dia')\n",
    "plt.show()"
   ]
  },
  {
   "cell_type": "code",
   "execution_count": 97,
   "metadata": {},
   "outputs": [],
   "source": [
    "#weekly frequence"
   ]
  },
  {
   "cell_type": "code",
   "execution_count": 98,
   "metadata": {},
   "outputs": [
    {
     "name": "stdout",
     "output_type": "stream",
     "text": [
      "(157, 1)\n"
     ]
    },
    {
     "data": {
      "text/html": [
       "<div>\n",
       "<style scoped>\n",
       "    .dataframe tbody tr th:only-of-type {\n",
       "        vertical-align: middle;\n",
       "    }\n",
       "\n",
       "    .dataframe tbody tr th {\n",
       "        vertical-align: top;\n",
       "    }\n",
       "\n",
       "    .dataframe thead th {\n",
       "        text-align: right;\n",
       "    }\n",
       "</style>\n",
       "<table border=\"1\" class=\"dataframe\">\n",
       "  <thead>\n",
       "    <tr style=\"text-align: right;\">\n",
       "      <th></th>\n",
       "      <th>pasos</th>\n",
       "    </tr>\n",
       "    <tr>\n",
       "      <th>fecha</th>\n",
       "      <th></th>\n",
       "    </tr>\n",
       "  </thead>\n",
       "  <tbody>\n",
       "    <tr>\n",
       "      <th>2022-12-04</th>\n",
       "      <td>67691</td>\n",
       "    </tr>\n",
       "    <tr>\n",
       "      <th>2022-12-11</th>\n",
       "      <td>54194</td>\n",
       "    </tr>\n",
       "    <tr>\n",
       "      <th>2022-12-18</th>\n",
       "      <td>91098</td>\n",
       "    </tr>\n",
       "    <tr>\n",
       "      <th>2022-12-25</th>\n",
       "      <td>80292</td>\n",
       "    </tr>\n",
       "    <tr>\n",
       "      <th>2023-01-01</th>\n",
       "      <td>75254</td>\n",
       "    </tr>\n",
       "  </tbody>\n",
       "</table>\n",
       "</div>"
      ],
      "text/plain": [
       "            pasos\n",
       "fecha            \n",
       "2022-12-04  67691\n",
       "2022-12-11  54194\n",
       "2022-12-18  91098\n",
       "2022-12-25  80292\n",
       "2023-01-01  75254"
      ]
     },
     "execution_count": 98,
     "metadata": {},
     "output_type": "execute_result"
    }
   ],
   "source": [
    "weekly = data_2020_22.resample('W', on = 'fecha').sum()\n",
    "print(weekly.shape)\n",
    "weekly.tail()"
   ]
  },
  {
   "cell_type": "code",
   "execution_count": 99,
   "metadata": {},
   "outputs": [
    {
     "data": {
      "image/png": "[encoded data removed]",
      "text/plain": [
       "<Figure size 1500x600 with 1 Axes>"
      ]
     },
     "metadata": {},
     "output_type": "display_data"
    }
   ],
   "source": [
    "plt.figure(figsize = (15,6))\n",
    "plt.plot(daily.index, daily.pasos, label = 'Daily')\n",
    "plt.plot(weekly.index, weekly.pasos, label = 'Weekly')\n",
    "plt.legend()\n",
    "plt.xlabel('Tiempo')\n",
    "plt.ylabel('N de coches')\n",
    "plt.show()"
   ]
  },
  {
   "cell_type": "code",
   "execution_count": 100,
   "metadata": {},
   "outputs": [],
   "source": [
    "#!pip install prophet"
   ]
  },
  {
   "cell_type": "code",
   "execution_count": 101,
   "metadata": {},
   "outputs": [],
   "source": [
    "daily_avg = daily.rolling(10, win_type='triang', center=True).mean()\n",
    "weekly_avg = weekly.rolling(2, win_type='triang', center=True).mean()"
   ]
  },
  {
   "cell_type": "code",
   "execution_count": 102,
   "metadata": {},
   "outputs": [
    {
     "data": {
      "image/png": "[encoded data removed]",
      "text/plain": [
       "<Figure size 1500x600 with 1 Axes>"
      ]
     },
     "metadata": {},
     "output_type": "display_data"
    }
   ],
   "source": [
    "plt.figure(figsize = (15,6))\n",
    "plt.plot(daily_avg.index, daily_avg.pasos, label = 'Daily Average')\n",
    "plt.xlabel('Tiempo')\n",
    "plt.ylabel('N Coches')\n",
    "plt.show()\n",
    "#we can see that a period in 2020 has no data, Covid-19 maybe? registrations did not took place or no vehicles passed due to confination\n",
    "#also, for some reason there is no data registered around July-August 2022\n",
    "#there are also some peaks in september 2021-2022 (2020 was Covid-19 age). Are they maybe related to outliers?"
   ]
  },
  {
   "cell_type": "code",
   "execution_count": 103,
   "metadata": {},
   "outputs": [],
   "source": [
    "from prophet import Prophet\n",
    "import cmdstanpy"
   ]
  },
  {
   "cell_type": "code",
   "execution_count": 104,
   "metadata": {},
   "outputs": [
    {
     "data": {
      "text/html": [
       "<div>\n",
       "<style scoped>\n",
       "    .dataframe tbody tr th:only-of-type {\n",
       "        vertical-align: middle;\n",
       "    }\n",
       "\n",
       "    .dataframe tbody tr th {\n",
       "        vertical-align: top;\n",
       "    }\n",
       "\n",
       "    .dataframe thead th {\n",
       "        text-align: right;\n",
       "    }\n",
       "</style>\n",
       "<table border=\"1\" class=\"dataframe\">\n",
       "  <thead>\n",
       "    <tr style=\"text-align: right;\">\n",
       "      <th></th>\n",
       "      <th>pasos</th>\n",
       "    </tr>\n",
       "    <tr>\n",
       "      <th>fecha</th>\n",
       "      <th></th>\n",
       "    </tr>\n",
       "  </thead>\n",
       "  <tbody>\n",
       "    <tr>\n",
       "      <th>2020-01-01</th>\n",
       "      <td>21395</td>\n",
       "    </tr>\n",
       "    <tr>\n",
       "      <th>2020-01-02</th>\n",
       "      <td>33722</td>\n",
       "    </tr>\n",
       "    <tr>\n",
       "      <th>2020-01-03</th>\n",
       "      <td>37067</td>\n",
       "    </tr>\n",
       "    <tr>\n",
       "      <th>2020-01-04</th>\n",
       "      <td>30627</td>\n",
       "    </tr>\n",
       "    <tr>\n",
       "      <th>2020-01-05</th>\n",
       "      <td>27812</td>\n",
       "    </tr>\n",
       "    <tr>\n",
       "      <th>...</th>\n",
       "      <td>...</td>\n",
       "    </tr>\n",
       "    <tr>\n",
       "      <th>2022-12-27</th>\n",
       "      <td>13496</td>\n",
       "    </tr>\n",
       "    <tr>\n",
       "      <th>2022-12-28</th>\n",
       "      <td>13512</td>\n",
       "    </tr>\n",
       "    <tr>\n",
       "      <th>2022-12-29</th>\n",
       "      <td>14426</td>\n",
       "    </tr>\n",
       "    <tr>\n",
       "      <th>2022-12-30</th>\n",
       "      <td>13888</td>\n",
       "    </tr>\n",
       "    <tr>\n",
       "      <th>2022-12-31</th>\n",
       "      <td>6889</td>\n",
       "    </tr>\n",
       "  </tbody>\n",
       "</table>\n",
       "<p>1096 rows × 1 columns</p>\n",
       "</div>"
      ],
      "text/plain": [
       "            pasos\n",
       "fecha            \n",
       "2020-01-01  21395\n",
       "2020-01-02  33722\n",
       "2020-01-03  37067\n",
       "2020-01-04  30627\n",
       "2020-01-05  27812\n",
       "...           ...\n",
       "2022-12-27  13496\n",
       "2022-12-28  13512\n",
       "2022-12-29  14426\n",
       "2022-12-30  13888\n",
       "2022-12-31   6889\n",
       "\n",
       "[1096 rows x 1 columns]"
      ]
     },
     "execution_count": 104,
     "metadata": {},
     "output_type": "execute_result"
    }
   ],
   "source": [
    "daily"
   ]
  },
  {
   "cell_type": "code",
   "execution_count": 105,
   "metadata": {},
   "outputs": [
    {
     "data": {
      "text/html": [
       "<div>\n",
       "<style scoped>\n",
       "    .dataframe tbody tr th:only-of-type {\n",
       "        vertical-align: middle;\n",
       "    }\n",
       "\n",
       "    .dataframe tbody tr th {\n",
       "        vertical-align: top;\n",
       "    }\n",
       "\n",
       "    .dataframe thead th {\n",
       "        text-align: right;\n",
       "    }\n",
       "</style>\n",
       "<table border=\"1\" class=\"dataframe\">\n",
       "  <thead>\n",
       "    <tr style=\"text-align: right;\">\n",
       "      <th></th>\n",
       "      <th>ds</th>\n",
       "      <th>y</th>\n",
       "    </tr>\n",
       "  </thead>\n",
       "  <tbody>\n",
       "    <tr>\n",
       "      <th>0</th>\n",
       "      <td>2020-01-01</td>\n",
       "      <td>21395</td>\n",
       "    </tr>\n",
       "    <tr>\n",
       "      <th>1</th>\n",
       "      <td>2020-01-02</td>\n",
       "      <td>33722</td>\n",
       "    </tr>\n",
       "    <tr>\n",
       "      <th>2</th>\n",
       "      <td>2020-01-03</td>\n",
       "      <td>37067</td>\n",
       "    </tr>\n",
       "    <tr>\n",
       "      <th>3</th>\n",
       "      <td>2020-01-04</td>\n",
       "      <td>30627</td>\n",
       "    </tr>\n",
       "    <tr>\n",
       "      <th>4</th>\n",
       "      <td>2020-01-05</td>\n",
       "      <td>27812</td>\n",
       "    </tr>\n",
       "    <tr>\n",
       "      <th>...</th>\n",
       "      <td>...</td>\n",
       "      <td>...</td>\n",
       "    </tr>\n",
       "    <tr>\n",
       "      <th>1091</th>\n",
       "      <td>2022-12-27</td>\n",
       "      <td>13496</td>\n",
       "    </tr>\n",
       "    <tr>\n",
       "      <th>1092</th>\n",
       "      <td>2022-12-28</td>\n",
       "      <td>13512</td>\n",
       "    </tr>\n",
       "    <tr>\n",
       "      <th>1093</th>\n",
       "      <td>2022-12-29</td>\n",
       "      <td>14426</td>\n",
       "    </tr>\n",
       "    <tr>\n",
       "      <th>1094</th>\n",
       "      <td>2022-12-30</td>\n",
       "      <td>13888</td>\n",
       "    </tr>\n",
       "    <tr>\n",
       "      <th>1095</th>\n",
       "      <td>2022-12-31</td>\n",
       "      <td>6889</td>\n",
       "    </tr>\n",
       "  </tbody>\n",
       "</table>\n",
       "<p>1096 rows × 2 columns</p>\n",
       "</div>"
      ],
      "text/plain": [
       "             ds      y\n",
       "0    2020-01-01  21395\n",
       "1    2020-01-02  33722\n",
       "2    2020-01-03  37067\n",
       "3    2020-01-04  30627\n",
       "4    2020-01-05  27812\n",
       "...         ...    ...\n",
       "1091 2022-12-27  13496\n",
       "1092 2022-12-28  13512\n",
       "1093 2022-12-29  14426\n",
       "1094 2022-12-30  13888\n",
       "1095 2022-12-31   6889\n",
       "\n",
       "[1096 rows x 2 columns]"
      ]
     },
     "execution_count": 105,
     "metadata": {},
     "output_type": "execute_result"
    }
   ],
   "source": [
    "dailydf_2020_22 = daily.reset_index()\n",
    "dailydf_2020_22.rename(columns = {'fecha':'ds', 'pasos':'y'}, inplace = True)\n",
    "dailydf_2020_22"
   ]
  },
  {
   "cell_type": "code",
   "execution_count": 106,
   "metadata": {},
   "outputs": [
    {
     "name": "stderr",
     "output_type": "stream",
     "text": [
      "16:17:24 - cmdstanpy - INFO - Chain [1] start processing\n",
      "16:17:24 - cmdstanpy - INFO - Chain [1] done processing\n"
     ]
    },
    {
     "data": {
      "text/plain": [
       "<prophet.forecaster.Prophet at 0x2e3943a7ed0>"
      ]
     },
     "execution_count": 106,
     "metadata": {},
     "output_type": "execute_result"
    }
   ],
   "source": [
    "m = Prophet()\n",
    "m.fit(dailydf_2020_22)"
   ]
  },
  {
   "cell_type": "code",
   "execution_count": 107,
   "metadata": {},
   "outputs": [
    {
     "data": {
      "text/html": [
       "<div>\n",
       "<style scoped>\n",
       "    .dataframe tbody tr th:only-of-type {\n",
       "        vertical-align: middle;\n",
       "    }\n",
       "\n",
       "    .dataframe tbody tr th {\n",
       "        vertical-align: top;\n",
       "    }\n",
       "\n",
       "    .dataframe thead th {\n",
       "        text-align: right;\n",
       "    }\n",
       "</style>\n",
       "<table border=\"1\" class=\"dataframe\">\n",
       "  <thead>\n",
       "    <tr style=\"text-align: right;\">\n",
       "      <th></th>\n",
       "      <th>ds</th>\n",
       "    </tr>\n",
       "  </thead>\n",
       "  <tbody>\n",
       "    <tr>\n",
       "      <th>1456</th>\n",
       "      <td>2023-12-27</td>\n",
       "    </tr>\n",
       "    <tr>\n",
       "      <th>1457</th>\n",
       "      <td>2023-12-28</td>\n",
       "    </tr>\n",
       "    <tr>\n",
       "      <th>1458</th>\n",
       "      <td>2023-12-29</td>\n",
       "    </tr>\n",
       "    <tr>\n",
       "      <th>1459</th>\n",
       "      <td>2023-12-30</td>\n",
       "    </tr>\n",
       "    <tr>\n",
       "      <th>1460</th>\n",
       "      <td>2023-12-31</td>\n",
       "    </tr>\n",
       "  </tbody>\n",
       "</table>\n",
       "</div>"
      ],
      "text/plain": [
       "             ds\n",
       "1456 2023-12-27\n",
       "1457 2023-12-28\n",
       "1458 2023-12-29\n",
       "1459 2023-12-30\n",
       "1460 2023-12-31"
      ]
     },
     "execution_count": 107,
     "metadata": {},
     "output_type": "execute_result"
    }
   ],
   "source": [
    "future = m.make_future_dataframe(periods=365) #we create the predictions based on our data (2020-2022) -->2023\n",
    "future.tail()"
   ]
  },
  {
   "cell_type": "code",
   "execution_count": 108,
   "metadata": {},
   "outputs": [
    {
     "data": {
      "image/png": "[encoded data removed]",
      "text/plain": [
       "<Figure size 1000x600 with 1 Axes>"
      ]
     },
     "metadata": {},
     "output_type": "display_data"
    }
   ],
   "source": [
    "forecast = m.predict(future)\n",
    "fig1 = m.plot(forecast)\n",
    "#we can see many outliers and 0 values as predicted in the previous figure"
   ]
  },
  {
   "cell_type": "code",
   "execution_count": 109,
   "metadata": {},
   "outputs": [
    {
     "data": {
      "image/png": "[encoded data removed]",
      "text/plain": [
       "<Figure size 900x900 with 3 Axes>"
      ]
     },
     "metadata": {},
     "output_type": "display_data"
    }
   ],
   "source": [
    "fig2 = m.plot_components(forecast)"
   ]
  },
  {
   "cell_type": "code",
   "execution_count": 110,
   "metadata": {},
   "outputs": [],
   "source": [
    "#weekdays: Saturday and Sunday usually the number ofvehicless passing decreases (makes sense as many people uses car for work\n",
    "#, specially paying tolls. If car is for personal use on weekends and tolls can be avoided, this makes sense)\n",
    "#usually the vehicless passing increases in september.\n",
    "#the trend also makes sense because there is a huge peak at the beginning of the analysis (2019). Then it decreases because of \n",
    "#Covid-19 and then it increases again but being stabilised (slightly increasing) with a confidence interval similar in both\n",
    "#positive and negative signs."
   ]
  }
 ],
 "metadata": {
  "kernelspec": {
   "display_name": "Python 3 (ipykernel)",
   "language": "python",
   "name": "python3"
  },
  "language_info": {
   "codemirror_mode": {
    "name": "ipython",
    "version": 3
   },
   "file_extension": ".py",
   "mimetype": "text/x-python",
   "name": "python",
   "nbconvert_exporter": "python",
   "pygments_lexer": "ipython3",
   "version": "3.11.5"
  }
 },
 "nbformat": 4,
 "nbformat_minor": 2
}
