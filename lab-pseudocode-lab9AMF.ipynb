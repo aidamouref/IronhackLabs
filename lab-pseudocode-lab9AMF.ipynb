{
 "cells": [
  {
   "cell_type": "markdown",
   "metadata": {},
   "source": [
    "# PSEUDOCODE\n",
    "\n",
    "(Please dont kill me)"
   ]
  },
  {
   "cell_type": "markdown",
   "metadata": {},
   "source": [
    "In this lab, you will work to find any solution(hopefully the easiest) to complete this exercises. \n",
    "\n",
    "The second 1 is a BONUS\n",
    "\n",
    "Any further question please ask me or Sandra"
   ]
  },
  {
   "cell_type": "markdown",
   "metadata": {},
   "source": [
    "## EXERCISE 1: RANDOM GUESS OF A NUMBER\n",
    "\n",
    "The user must give you the start and final number. Your code must be developed to select a random number between this 2. If your selection is too high/low you must give a hint to the user: The number is too high/low. Finally, when the user selects the correct number you must return a \"Congratulations etc\" and the number of guesses needed to find the number. \n",
    "\n",
    "IF YOU TRY IT AND YOU FIND THE NUMBER FIRST GUESS, PLEASE SEND A SCREENSHOT VIA SLACK `(MANDATORY)`"
   ]
  },
  {
   "cell_type": "code",
   "execution_count": 43,
   "metadata": {
    "tags": []
   },
   "outputs": [
    {
     "name": "stdin",
     "output_type": "stream",
     "text": [
      "give me an initial number: 7\n",
      "give me a final number: 9\n"
     ]
    },
    {
     "name": "stdout",
     "output_type": "stream",
     "text": [
      "8\n"
     ]
    },
    {
     "name": "stdin",
     "output_type": "stream",
     "text": [
      "choose a number: 8\n"
     ]
    },
    {
     "name": "stdout",
     "output_type": "stream",
     "text": [
      "Congratulations!! you guessed the correct number:8\n"
     ]
    }
   ],
   "source": [
    "import random\n",
    "initial=int(input(\"give me an initial number:\")) \n",
    "final=int(input(\"give me a final number:\"))\n",
    "numero=random.randint(initial,final)\n",
    "print(numero)\n",
    "choice=int(input(\"choose a number:\"))\n",
    "\n",
    "while True:\n",
    "    if choice!=numero and choice>final or choice<initial:\n",
    "        print(\"The number is too low/high\")\n",
    "        choice=int(input(\"choose a number:\"))\n",
    "    elif choice!=numero and choice in range(initial, final+1):\n",
    "        print(\"nope!try again:\")\n",
    "        choice=int(input(\"choose a number:\"))\n",
    "    else:\n",
    "        print(f\"Congratulations!! you guessed the correct number:{numero}\")\n",
    "        break"
   ]
  },
  {
   "cell_type": "markdown",
   "metadata": {},
   "source": [
    "## EXERCISE 2 (OPTIONAL): LET'S DEVELOP R-P-S"
   ]
  },
  {
   "cell_type": "markdown",
   "metadata": {},
   "source": [
    "Let's develop the code used in class: The R-P-S (Example below)\n",
    "The main problem with this code is that whoever wins a round, wins the match: The user must select the number of rounds needed to win the match. Enjoy!"
   ]
  },
  {
   "cell_type": "code",
   "execution_count": 58,
   "metadata": {},
   "outputs": [],
   "source": [
    "def rps(): \n",
    "    import random\n",
    "    opciones=[\"tijera\", \"piedra\", \"papel\"]\n",
    "    \n",
    "    user=input(\"Un dos tres, piedra papel tijera un dos tres YA: \").lower()\n",
    "    cpu=random.choice(opciones)\n",
    "\n",
    "    while True:\n",
    "        if user in opciones: \n",
    "            break\n",
    "        else: \n",
    "            user=input(\"ESO NO VALE. Dime otra cosa: \")\n",
    "    print(f\"Tú has elegido {user} y la máquina ha elegido {cpu}\")\n",
    "    if (user==\"tijera\" and cpu==\"papel\") or (user==\"papel\" and cpu==\"piedra\") or (user==\"piedra\" and cpu==\"tijera\"):\n",
    "        print(\"Has ganado!!\")\n",
    "        return \"Ganador\"\n",
    "    elif user==cpu:\n",
    "        print(\"Empate!\")\n",
    "        return \"Empate\"\n",
    "\n",
    "    else: \n",
    "        print(\"Has perdido!\")\n",
    "        return \"Perdedor\"\n"
   ]
  },
  {
   "cell_type": "code",
   "execution_count": 60,
   "metadata": {
    "tags": []
   },
   "outputs": [
    {
     "name": "stdin",
     "output_type": "stream",
     "text": [
      "Un dos tres, piedra papel tijera un dos tres YA:  piedra\n"
     ]
    },
    {
     "name": "stdout",
     "output_type": "stream",
     "text": [
      "Tú has elegido piedra y la máquina ha elegido papel\n",
      "Has perdido!\n"
     ]
    },
    {
     "data": {
      "text/plain": [
       "'Perdedor'"
      ]
     },
     "execution_count": 60,
     "metadata": {},
     "output_type": "execute_result"
    }
   ],
   "source": [
    "rps()\n"
   ]
  },
  {
   "cell_type": "code",
   "execution_count": null,
   "metadata": {},
   "outputs": [
    {
     "name": "stdin",
     "output_type": "stream",
     "text": [
      "please select the number of rounds: 3\n",
      "Un dos tres, piedra papel tijera un dos tres YA:  piedra\n"
     ]
    },
    {
     "name": "stdout",
     "output_type": "stream",
     "text": [
      "Tú has elegido piedra y la máquina ha elegido tijera\n",
      "Has ganado!!\n"
     ]
    },
    {
     "name": "stdin",
     "output_type": "stream",
     "text": [
      "Un dos tres, piedra papel tijera un dos tres YA:  papel\n"
     ]
    },
    {
     "name": "stdout",
     "output_type": "stream",
     "text": [
      "Tú has elegido papel y la máquina ha elegido tijera\n",
      "Has perdido!\n"
     ]
    },
    {
     "name": "stdin",
     "output_type": "stream",
     "text": [
      "Un dos tres, piedra papel tijera un dos tres YA:  tijera\n"
     ]
    },
    {
     "name": "stdout",
     "output_type": "stream",
     "text": [
      "Tú has elegido tijera y la máquina ha elegido piedra\n",
      "Has perdido!\n"
     ]
    }
   ],
   "source": [
    "rounds=int(input(\"please select the number of rounds:\"))\n",
    "      \n",
    "d=0\n",
    "while True:\n",
    "    if d<rounds:\n",
    "        rps() \n",
    "    d+=1"
   ]
  },
  {
   "cell_type": "code",
   "execution_count": null,
   "metadata": {},
   "outputs": [],
   "source": []
  }
 ],
 "metadata": {
  "kernelspec": {
   "display_name": "Python 3 (ipykernel)",
   "language": "python",
   "name": "python3"
  },
  "language_info": {
   "codemirror_mode": {
    "name": "ipython",
    "version": 3
   },
   "file_extension": ".py",
   "mimetype": "text/x-python",
   "name": "python",
   "nbconvert_exporter": "python",
   "pygments_lexer": "ipython3",
   "version": "3.11.5"
  }
 },
 "nbformat": 4,
 "nbformat_minor": 4
}
